{
 "cells": [
  {
   "cell_type": "code",
   "execution_count": 1,
   "metadata": {},
   "outputs": [],
   "source": [
    "import os\n",
    "if os.getcwd() == '/home/user/code':\n",
    "    os.chdir('/home/user/code/nlp2024_ClefTask4SOTA')"
   ]
  },
  {
   "cell_type": "code",
   "execution_count": 2,
   "metadata": {},
   "outputs": [
    {
     "name": "stderr",
     "output_type": "stream",
     "text": [
      "100%|██████████████████████████████████████████████| 1/1 [00:08<00:00,  8.68s/it]\n"
     ]
    }
   ],
   "source": [
    "from src.dataset import PATH\n",
    "from src.experiment_runner import Experiment, run\n",
    "from src.models import OllamaModel\n",
    "\n",
    "from src.prompt_templates import few_shot_template_initial\n",
    "\n",
    "from src.content_extraction import naive_doctaet\n",
    "\n",
    "def extract_doctaet(model, prompt_template, tex):\n",
    "    return model.generate(prompt_template(naive_doctaet(tex)))\n",
    "\n",
    "\n",
    "llama3_8b = OllamaModel(\"llama3:8b\")\n",
    "exp = Experiment(llama3_8b, few_shot_template_initial, extract_doctaet, \"llama3_8b_fewshot_initial\")\n",
    "\n",
    "\n",
    "df = run(exp, PATH.VAL, 1)"
   ]
  },
  {
   "cell_type": "code",
   "execution_count": 3,
   "metadata": {},
   "outputs": [
    {
     "data": {
      "text/html": [
       "<div>\n",
       "<style scoped>\n",
       "    .dataframe tbody tr th:only-of-type {\n",
       "        vertical-align: middle;\n",
       "    }\n",
       "\n",
       "    .dataframe tbody tr th {\n",
       "        vertical-align: top;\n",
       "    }\n",
       "\n",
       "    .dataframe thead th {\n",
       "        text-align: right;\n",
       "    }\n",
       "</style>\n",
       "<table border=\"1\" class=\"dataframe\">\n",
       "  <thead>\n",
       "    <tr style=\"text-align: right;\">\n",
       "      <th></th>\n",
       "      <th>run</th>\n",
       "      <th>f</th>\n",
       "      <th>annotation</th>\n",
       "      <th>ground_truth</th>\n",
       "    </tr>\n",
       "  </thead>\n",
       "  <tbody>\n",
       "    <tr>\n",
       "      <th>0</th>\n",
       "      <td>VAL_llama3_8b_fewshot_initial-20240604-063556</td>\n",
       "      <td>1503.05062</td>\n",
       "      <td>Based on the provided text, I can extract the ...</td>\n",
       "      <td>unanswerable\\n</td>\n",
       "    </tr>\n",
       "  </tbody>\n",
       "</table>\n",
       "</div>"
      ],
      "text/plain": [
       "                                             run           f  \\\n",
       "0  VAL_llama3_8b_fewshot_initial-20240604-063556  1503.05062   \n",
       "\n",
       "                                          annotation    ground_truth  \n",
       "0  Based on the provided text, I can extract the ...  unanswerable\\n  "
      ]
     },
     "execution_count": 3,
     "metadata": {},
     "output_type": "execute_result"
    }
   ],
   "source": [
    "df"
   ]
  }
 ],
 "metadata": {
  "kernelspec": {
   "display_name": "Python 3 (ipykernel)",
   "language": "python",
   "name": "python3"
  },
  "language_info": {
   "codemirror_mode": {
    "name": "ipython",
    "version": 3
   },
   "file_extension": ".py",
   "mimetype": "text/x-python",
   "name": "python",
   "nbconvert_exporter": "python",
   "pygments_lexer": "ipython3",
   "version": "3.10.14"
  }
 },
 "nbformat": 4,
 "nbformat_minor": 2
}
