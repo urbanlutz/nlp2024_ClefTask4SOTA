{
 "cells": [
  {
   "cell_type": "code",
   "execution_count": 4,
   "metadata": {},
   "outputs": [
    {
     "name": "stdout",
     "output_type": "stream",
     "text": [
      "The autoreload extension is already loaded. To reload it, use:\n",
      "  %reload_ext autoreload\n"
     ]
    }
   ],
   "source": [
    "import os\n",
    "if os.getcwd() == '/home/user/code':\n",
    "    os.chdir('/home/user/code/nlp2024_ClefTask4SOTA')\n",
    "\n",
    "%load_ext autoreload\n",
    "%autoreload 2"
   ]
  },
  {
   "cell_type": "code",
   "execution_count": 5,
   "metadata": {},
   "outputs": [
    {
     "name": "stderr",
     "output_type": "stream",
     "text": [
      "100%|██████████████████████████████████████████████| 5/5 [00:21<00:00,  4.31s/it]"
     ]
    },
    {
     "name": "stdout",
     "output_type": "stream",
     "text": [
      "Expecting value: line 2 column 125 (char 126)\n"
     ]
    },
    {
     "name": "stderr",
     "output_type": "stream",
     "text": [
      "\n"
     ]
    }
   ],
   "source": [
    "from src.dataset import PATH\n",
    "from src.experiment_runner import Experiment, run\n",
    "from src.models import OllamaModel\n",
    "\n",
    "from src.prompt_templates import few_shot_template_initial\n",
    "\n",
    "from src.content_extraction import naive_doctaet, parse_response\n",
    "\n",
    "def extract_doctaet(model, prompt_template, tex):\n",
    "    response = model.generate(prompt_template(naive_doctaet(tex)))\n",
    "    return parse_response(response)\n",
    "\n",
    "\n",
    "llama3_8b = OllamaModel(\"llama3:8b\")\n",
    "exp = Experiment(llama3_8b, few_shot_template_initial, extract_doctaet, \"llama3_8b_fewshot_initial\")\n",
    "\n",
    "\n",
    "df = run(exp, PATH.VAL, 5)"
   ]
  },
  {
   "cell_type": "code",
   "execution_count": 8,
   "metadata": {},
   "outputs": [
    {
     "data": {
      "text/plain": [
       "\"[{'LEADERBOARD': {'Task': 'Summarization', 'Dataset': 'arXiv', 'Metric': 'Rouge scores', 'Score': 'Our models strongly outperform both extractive and abstractive baselines, suggesting the effectiveness of unifying section segmentation with summarization.'}}, {'LEADERBOARD': {'Task': 'Summarization', 'Dataset': 'PubMed', 'Metric': 'Rouge scores', 'Score': 'Our model consistently outperforms other variants across all lengths and evaluation metrics.'}}, {'LEADERBOARD': {'Task': 'Summarization', 'Dataset': 'Lecture Transcripts', 'Metric': 'Precision, Recall, F-scores, Rouge scores', 'Score': 'The Lo-join- model consistently outperforms the model trained from scratch regardless of different segmentation labels.'}}]\""
      ]
     },
     "execution_count": 8,
     "metadata": {},
     "output_type": "execute_result"
    }
   ],
   "source": [
    "df[\"annotation\"][2]"
   ]
  }
 ],
 "metadata": {
  "kernelspec": {
   "display_name": "Python 3 (ipykernel)",
   "language": "python",
   "name": "python3"
  },
  "language_info": {
   "codemirror_mode": {
    "name": "ipython",
    "version": 3
   },
   "file_extension": ".py",
   "mimetype": "text/x-python",
   "name": "python",
   "nbconvert_exporter": "python",
   "pygments_lexer": "ipython3",
   "version": "3.10.14"
  }
 },
 "nbformat": 4,
 "nbformat_minor": 2
}
