{
 "cells": [
  {
   "cell_type": "code",
   "execution_count": 4,
   "metadata": {},
   "outputs": [],
   "source": [
    "import os\n",
    "if os.getcwd() == '/home/user/code':\n",
    "    os.chdir('/home/user/code/nlp2024_ClefTask4SOTA')\n",
    "\n",
    "%load_ext autoreload\n",
    "%autoreload 2"
   ]
  },
  {
   "cell_type": "code",
   "execution_count": 9,
   "metadata": {},
   "outputs": [],
   "source": [
    "from src.models import OllamaModel\n",
    "llama3_70b = OllamaModel(\"llama3:70b\")"
   ]
  },
  {
   "cell_type": "code",
   "execution_count": 10,
   "metadata": {},
   "outputs": [
    {
     "data": {
      "text/plain": [
       "'[\\n  {\\n    \"name\": \"John\",\\n    \"age\": 30,\\n    \" occupation\": \"Developer\"\\n  },\\n  {\\n    \"name\": \"Jane\",\\n    \"age\": 25,\\n    \"occupation\": \"Designer\"\\n  },\\n  {\\n    \"name\": \"Bob\",\\n    \"age\": 40,\\n    \"occupation\": \"Manager\"\\n  }\\n]\\n```\\nThis JSON array contains three objects, each with three properties: `name`, `age`, and `occupation`. The entire array is enclosed in square brackets `[]`, and each object is separated by a comma `,`.\\n\\nHere are some key things to note about this JSON array:\\n\\n* Each object is enclosed in curly braces `{}`.\\n* Each property is represented as a key-value pair, with the key being a string (e.g. `\"name\"`) and the value being a string, number, or other valid JSON data type.\\n* The objects are separated by commas `,`.\\n* The entire array is enclosed in square brackets `[]'"
      ]
     },
     "execution_count": 10,
     "metadata": {},
     "output_type": "execute_result"
    }
   ],
   "source": [
    "llama3_70b.generate(\"generate a valid json array\")"
   ]
  },
  {
   "cell_type": "code",
   "execution_count": 11,
   "metadata": {},
   "outputs": [
    {
     "name": "stderr",
     "output_type": "stream",
     "text": [
      "  0%|                                                      | 0/5 [00:00<?, ?it/s]"
     ]
    },
    {
     "name": "stderr",
     "output_type": "stream",
     "text": [
      "100%|██████████████████████████████████████████████| 5/5 [00:21<00:00,  4.23s/it]\n"
     ]
    }
   ],
   "source": [
    "from src.dataset import PATH\n",
    "from src.experiment_runner import Experiment, run\n",
    "from src.models import OllamaModel\n",
    "\n",
    "from src.prompt_templates import few_shot_template_initial\n",
    "\n",
    "from src.content_extraction import naive_doctaet\n",
    "\n",
    "def extract_doctaet(model, prompt_template, tex):\n",
    "    return model.generate(prompt_template(naive_doctaet(tex)))\n",
    "\n",
    "\n",
    "llama3_8b = OllamaModel(\"llama3:8b\")\n",
    "exp = Experiment(llama3_8b, few_shot_template_initial, extract_doctaet, \"llama3_8b_fewshot_initial\")\n",
    "\n",
    "\n",
    "df = run(exp, PATH.VAL, 5)"
   ]
  },
  {
   "cell_type": "code",
   "execution_count": 1,
   "metadata": {},
   "outputs": [
    {
     "data": {
      "text/plain": [
       "\"[{'LEADERBOARD': {'Task': 'Mathematics problems', 'Dataset': 'GSM8k Robust', 'Metric': 'Accuracy', 'Score': 'slight decrease in performance'}}, {'LEADERBOARD': {'Task': 'Mathematics problems', 'Dataset': 'KMath', 'Metric': 'Accuracy', 'Score': 'surpasses closed-Source LLMs including ChatGPT and GPT4'}}, {'LEADERBOARD': {'Task': 'Mathematics problems', 'Dataset': 'CMath Distractor', 'Metric': 'Accuracy', 'Score': 'drops drastically as the number of distractors increases'}}, {'LEADERBOARD': {'Task': 'Mathematics problems', 'Dataset': 'CMath', 'Metric': 'Accuracy', 'Score': 'success (accuracy exceeding 60%)'}}]\""
      ]
     },
     "execution_count": 1,
     "metadata": {},
     "output_type": "execute_result"
    }
   ],
   "source": [
    "output = '[\\n    {\"Task\": \"Mathematics problems\", \"Dataset\": \"CMath\", \"Metric\": \"Accuracy\", \"Score\": \"success (accuracy exceeding 60\\\\%)\"},\\n    {\"Task\": \"Mathematics problems\", \"Dataset\": \"KMath\", \"Metric\": \"Accuracy\", \"Score\": \"surpasses closed-Source LLMs including ChatGPT and GPT4\"},\\n    {\"Task\": \"Mathematics problems\", \"Dataset\": \"GSM8k Robust\", \"Metric\": \"Accuracy\", \"Score\": \"slight decrease in performance\"},\\n    {\"Task\": \"Mathematics problems\", \"Dataset\": \"CMath Distractor\", \"Metric\": \"Accuracy\", \"Score\": \"drops drastically as the number of distractors increases\"}\\n]'\n",
    "from src.models import OllamaModel\n",
    "llama3_8b = OllamaModel(\"llama3:8b\")\n",
    "\n",
    "llama3_8b.parse_response(output)\n",
    "\n"
   ]
  }
 ],
 "metadata": {
  "kernelspec": {
   "display_name": "Python 3 (ipykernel)",
   "language": "python",
   "name": "python3"
  },
  "language_info": {
   "codemirror_mode": {
    "name": "ipython",
    "version": 3
   },
   "file_extension": ".py",
   "mimetype": "text/x-python",
   "name": "python",
   "nbconvert_exporter": "python",
   "pygments_lexer": "ipython3",
   "version": "3.12.2"
  }
 },
 "nbformat": 4,
 "nbformat_minor": 2
}
