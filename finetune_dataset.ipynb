{
 "cells": [
  {
   "cell_type": "code",
   "execution_count": 1,
   "metadata": {},
   "outputs": [],
   "source": [
    "import os\n",
    "if os.getcwd() == '/home/user/code':\n",
    "    os.chdir('/home/user/code/nlp2024_ClefTask4SOTA')\n",
    "\n",
    "%load_ext autoreload\n",
    "%autoreload 2"
   ]
  },
  {
   "cell_type": "markdown",
   "metadata": {},
   "source": [
    "# Dataset creation"
   ]
  },
  {
   "cell_type": "code",
   "execution_count": 2,
   "metadata": {},
   "outputs": [],
   "source": [
    "from src.dataset import TDMSDataset, PATH\n",
    "\n",
    "dataset = TDMSDataset(PATH.TRAIN)"
   ]
  },
  {
   "cell_type": "code",
   "execution_count": 3,
   "metadata": {},
   "outputs": [],
   "source": [
    "from src.content_extraction import naive_doctaet\n",
    "\n",
    "doctaets = []\n",
    "for i in range(len(dataset)):\n",
    "    f, tex, jsn = dataset[i]\n",
    "    doctaet = naive_doctaet(tex)\n",
    "    doctaets.append({\"f\": f, \"doctaet\": doctaet, \"annotation\": jsn})\n"
   ]
  },
  {
   "cell_type": "code",
   "execution_count": 4,
   "metadata": {},
   "outputs": [
    {
     "data": {
      "text/html": [
       "<div>\n",
       "<style scoped>\n",
       "    .dataframe tbody tr th:only-of-type {\n",
       "        vertical-align: middle;\n",
       "    }\n",
       "\n",
       "    .dataframe tbody tr th {\n",
       "        vertical-align: top;\n",
       "    }\n",
       "\n",
       "    .dataframe thead th {\n",
       "        text-align: right;\n",
       "    }\n",
       "</style>\n",
       "<table border=\"1\" class=\"dataframe\">\n",
       "  <thead>\n",
       "    <tr style=\"text-align: right;\">\n",
       "      <th></th>\n",
       "      <th>f</th>\n",
       "      <th>doctaet</th>\n",
       "      <th>annotation</th>\n",
       "    </tr>\n",
       "  </thead>\n",
       "  <tbody>\n",
       "    <tr>\n",
       "      <th>0</th>\n",
       "      <td>0704.1707</td>\n",
       "      <td>title\\nA Cut-free Sequent Calculus for\\\\  Bi-I...</td>\n",
       "      <td>unanswerable\\n</td>\n",
       "    </tr>\n",
       "    <tr>\n",
       "      <th>1</th>\n",
       "      <td>0704.2295</td>\n",
       "      <td>title\\nUsing Image Attributes for Human Identi...</td>\n",
       "      <td>unanswerable\\n</td>\n",
       "    </tr>\n",
       "    <tr>\n",
       "      <th>2</th>\n",
       "      <td>0704.3238</td>\n",
       "      <td>title\\nAlternative axiomatics and complexity o...</td>\n",
       "      <td>unanswerable\\n</td>\n",
       "    </tr>\n",
       "    <tr>\n",
       "      <th>3</th>\n",
       "      <td>0705.0599</td>\n",
       "      <td>title\\nNodeTrix: Hybrid Representation for Ana...</td>\n",
       "      <td>unanswerable\\n</td>\n",
       "    </tr>\n",
       "    <tr>\n",
       "      <th>4</th>\n",
       "      <td>0705.0742</td>\n",
       "      <td>title\\nMIMO detection employing Markov Chain M...</td>\n",
       "      <td>unanswerable\\n</td>\n",
       "    </tr>\n",
       "    <tr>\n",
       "      <th>...</th>\n",
       "      <td>...</td>\n",
       "      <td>...</td>\n",
       "      <td>...</td>\n",
       "    </tr>\n",
       "    <tr>\n",
       "      <th>12283</th>\n",
       "      <td>2312.02139v1</td>\n",
       "      <td>table\\n[t]\\n\\caption{FID performance compariso...</td>\n",
       "      <td>[{'LEADERBOARD': {'Task': 'Image Generation', ...</td>\n",
       "    </tr>\n",
       "    <tr>\n",
       "      <th>12284</th>\n",
       "      <td>2312.02185v1</td>\n",
       "      <td>title\\nVirtual Fusion with Contrastive Learnin...</td>\n",
       "      <td>[{'LEADERBOARD': {'Task': 'Human Activity Reco...</td>\n",
       "    </tr>\n",
       "    <tr>\n",
       "      <th>12285</th>\n",
       "      <td>2312.03288v1</td>\n",
       "      <td>title\\nSTEP CATFormer: Spatial-Temporal Effect...</td>\n",
       "      <td>[{'LEADERBOARD': {'Task': 'Skeleton Based Acti...</td>\n",
       "    </tr>\n",
       "    <tr>\n",
       "      <th>12286</th>\n",
       "      <td>2312.03430v1</td>\n",
       "      <td>title\\nShareCMP: Polarization-Aware RGB-P Sema...</td>\n",
       "      <td>[{'LEADERBOARD': {'Task': 'Semantic Segmentati...</td>\n",
       "    </tr>\n",
       "    <tr>\n",
       "      <th>12287</th>\n",
       "      <td>2312.03701v1</td>\n",
       "      <td>table\\n[t]\\n\\caption{\\textbf{Image generation ...</td>\n",
       "      <td>[{'LEADERBOARD': {'Task': 'Image Generation', ...</td>\n",
       "    </tr>\n",
       "  </tbody>\n",
       "</table>\n",
       "<p>12288 rows × 3 columns</p>\n",
       "</div>"
      ],
      "text/plain": [
       "                  f                                            doctaet  \\\n",
       "0         0704.1707  title\\nA Cut-free Sequent Calculus for\\\\  Bi-I...   \n",
       "1         0704.2295  title\\nUsing Image Attributes for Human Identi...   \n",
       "2         0704.3238  title\\nAlternative axiomatics and complexity o...   \n",
       "3         0705.0599  title\\nNodeTrix: Hybrid Representation for Ana...   \n",
       "4         0705.0742  title\\nMIMO detection employing Markov Chain M...   \n",
       "...             ...                                                ...   \n",
       "12283  2312.02139v1  table\\n[t]\\n\\caption{FID performance compariso...   \n",
       "12284  2312.02185v1  title\\nVirtual Fusion with Contrastive Learnin...   \n",
       "12285  2312.03288v1  title\\nSTEP CATFormer: Spatial-Temporal Effect...   \n",
       "12286  2312.03430v1  title\\nShareCMP: Polarization-Aware RGB-P Sema...   \n",
       "12287  2312.03701v1  table\\n[t]\\n\\caption{\\textbf{Image generation ...   \n",
       "\n",
       "                                              annotation  \n",
       "0                                         unanswerable\\n  \n",
       "1                                         unanswerable\\n  \n",
       "2                                         unanswerable\\n  \n",
       "3                                         unanswerable\\n  \n",
       "4                                         unanswerable\\n  \n",
       "...                                                  ...  \n",
       "12283  [{'LEADERBOARD': {'Task': 'Image Generation', ...  \n",
       "12284  [{'LEADERBOARD': {'Task': 'Human Activity Reco...  \n",
       "12285  [{'LEADERBOARD': {'Task': 'Skeleton Based Acti...  \n",
       "12286  [{'LEADERBOARD': {'Task': 'Semantic Segmentati...  \n",
       "12287  [{'LEADERBOARD': {'Task': 'Image Generation', ...  \n",
       "\n",
       "[12288 rows x 3 columns]"
      ]
     },
     "execution_count": 4,
     "metadata": {},
     "output_type": "execute_result"
    }
   ],
   "source": [
    "import pandas as pd\n",
    "\n",
    "df = pd.DataFrame(doctaets)\n",
    "\n",
    "\n",
    "df"
   ]
  },
  {
   "cell_type": "code",
   "execution_count": 5,
   "metadata": {},
   "outputs": [],
   "source": [
    "# from huggingface_hub import login\n",
    "\n",
    "# login()"
   ]
  },
  {
   "cell_type": "code",
   "execution_count": 6,
   "metadata": {},
   "outputs": [
    {
     "name": "stderr",
     "output_type": "stream",
     "text": [
      "Special tokens have been added in the vocabulary, make sure the associated word embeddings are fine-tuned or trained.\n"
     ]
    },
    {
     "data": {
      "text/plain": [
       "290"
      ]
     },
     "execution_count": 6,
     "metadata": {},
     "output_type": "execute_result"
    }
   ],
   "source": [
    "# cut doctaets\n",
    "\n",
    "from transformers import AutoTokenizer\n",
    "from src.prompt_templates import few_shot_template_initial\n",
    "\n",
    "model = \"meta-llama/Meta-Llama-3-8B\"\n",
    "tokenizer = AutoTokenizer.from_pretrained(model)\n",
    "\n",
    "context_len = 8192\n",
    "prompt_len = len(tokenizer(few_shot_template_initial(\"\"))[\"input_ids\"])\n",
    "\n",
    "\n",
    "prompt_len"
   ]
  },
  {
   "cell_type": "code",
   "execution_count": 7,
   "metadata": {},
   "outputs": [
    {
     "data": {
      "text/plain": [
       "23256"
      ]
     },
     "execution_count": 7,
     "metadata": {},
     "output_type": "execute_result"
    }
   ],
   "source": [
    "allowed_len = context_len - prompt_len - 150 # Buffer\n",
    "allowed_len\n",
    "\n",
    "# assumption: 3 chars per token average\n",
    "num_chars_allowed = allowed_len * 3\n",
    "num_chars_allowed"
   ]
  },
  {
   "cell_type": "code",
   "execution_count": 8,
   "metadata": {},
   "outputs": [],
   "source": [
    "from src.content_extraction import naive_doctaet\n",
    "\n",
    "prompt_template = few_shot_template_initial\n",
    "\n",
    "data = []\n",
    "for i in range(len(dataset)):\n",
    "\n",
    "    f, tex, jsn = dataset[i]\n",
    "    doctaet = naive_doctaet(tex)\n",
    "    doctaet_cut = doctaet[:min(len(doctaet), num_chars_allowed)]\n",
    "    result = {\n",
    "        \"prompt\": prompt_template(doctaet_cut),\n",
    "        \"annotation\": str(jsn)\n",
    "    }\n",
    "    data.append(result)\n"
   ]
  },
  {
   "cell_type": "code",
   "execution_count": 9,
   "metadata": {},
   "outputs": [],
   "source": [
    "import pandas as pd\n",
    "\n",
    "df = pd.DataFrame(data)"
   ]
  },
  {
   "cell_type": "code",
   "execution_count": 10,
   "metadata": {},
   "outputs": [],
   "source": [
    "df.to_feather(\"finetune_dataset_few_shot_initial.feather\")"
   ]
  },
  {
   "cell_type": "code",
   "execution_count": null,
   "metadata": {},
   "outputs": [],
   "source": []
  }
 ],
 "metadata": {
  "kernelspec": {
   "display_name": "Python 3",
   "language": "python",
   "name": "python3"
  },
  "language_info": {
   "codemirror_mode": {
    "name": "ipython",
    "version": 3
   },
   "file_extension": ".py",
   "mimetype": "text/x-python",
   "name": "python",
   "nbconvert_exporter": "python",
   "pygments_lexer": "ipython3",
   "version": "3.12.2"
  }
 },
 "nbformat": 4,
 "nbformat_minor": 2
}
