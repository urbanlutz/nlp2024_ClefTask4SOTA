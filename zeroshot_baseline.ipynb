{
 "cells": [
  {
   "cell_type": "code",
   "execution_count": 5,
   "metadata": {},
   "outputs": [
    {
     "data": {
      "text/plain": [
       "{'status': 'success'}"
      ]
     },
     "execution_count": 5,
     "metadata": {},
     "output_type": "execute_result"
    }
   ],
   "source": [
    "import ollama\n",
    "\n",
    "\n",
    "model = \"llama3:8b\"\n",
    "\n",
    "ollama.pull(model)"
   ]
  },
  {
   "cell_type": "code",
   "execution_count": 6,
   "metadata": {},
   "outputs": [
    {
     "data": {
      "text/plain": [
       "{'model': 'llama3:8b',\n",
       " 'created_at': '2024-05-18T09:36:04.1690664Z',\n",
       " 'response': \"You want to test me, huh? Well, I'm ready! My answer is... TEST!\",\n",
       " 'done': True,\n",
       " 'context': [128006,\n",
       "  882,\n",
       "  128007,\n",
       "  198,\n",
       "  198,\n",
       "  9399,\n",
       "  220,\n",
       "  1,\n",
       "  2323,\n",
       "  1,\n",
       "  128009,\n",
       "  128006,\n",
       "  78191,\n",
       "  128007,\n",
       "  198,\n",
       "  198,\n",
       "  2675,\n",
       "  1390,\n",
       "  311,\n",
       "  1296,\n",
       "  757,\n",
       "  11,\n",
       "  57843,\n",
       "  30,\n",
       "  8489,\n",
       "  11,\n",
       "  358,\n",
       "  6,\n",
       "  76,\n",
       "  5644,\n",
       "  0,\n",
       "  3092,\n",
       "  4320,\n",
       "  374,\n",
       "  1131,\n",
       "  13916,\n",
       "  0,\n",
       "  128009],\n",
       " 'total_duration': 49124619500,\n",
       " 'load_duration': 14799307200,\n",
       " 'prompt_eval_count': 15,\n",
       " 'prompt_eval_duration': 10801722000,\n",
       " 'eval_count': 21,\n",
       " 'eval_duration': 23507062000}"
      ]
     },
     "execution_count": 6,
     "metadata": {},
     "output_type": "execute_result"
    }
   ],
   "source": [
    "ollama.generate(model=model, prompt=\"answer \\\"Test\\\"\")"
   ]
  },
  {
   "cell_type": "code",
   "execution_count": null,
   "metadata": {},
   "outputs": [],
   "source": [
    "# TODO: load Testset"
   ]
  },
  {
   "cell_type": "code",
   "execution_count": null,
   "metadata": {},
   "outputs": [],
   "source": [
    "# TODO: Define Prompt function"
   ]
  },
  {
   "cell_type": "code",
   "execution_count": null,
   "metadata": {},
   "outputs": [],
   "source": [
    "# TODO: generate responses in appropriate format"
   ]
  },
  {
   "cell_type": "code",
   "execution_count": null,
   "metadata": {},
   "outputs": [],
   "source": [
    "# TODO: Trigger evaluation"
   ]
  }
 ],
 "metadata": {
  "kernelspec": {
   "display_name": "Python 3",
   "language": "python",
   "name": "python3"
  },
  "language_info": {
   "codemirror_mode": {
    "name": "ipython",
    "version": 3
   },
   "file_extension": ".py",
   "mimetype": "text/x-python",
   "name": "python",
   "nbconvert_exporter": "python",
   "pygments_lexer": "ipython3",
   "version": "3.12.2"
  }
 },
 "nbformat": 4,
 "nbformat_minor": 2
}
