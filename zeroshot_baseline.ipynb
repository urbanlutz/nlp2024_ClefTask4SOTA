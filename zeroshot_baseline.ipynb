{
 "cells": [
  {
   "cell_type": "code",
   "execution_count": 208,
   "metadata": {},
   "outputs": [],
   "source": [
    "import os\n",
    "if os.getcwd() == '/home/user/code':\n",
    "    os.chdir('/home/user/code/nlp2024_ClefTask4SOTA')"
   ]
  },
  {
   "cell_type": "code",
   "execution_count": 209,
   "metadata": {},
   "outputs": [],
   "source": [
    "from TexSoup import TexSoup\n",
    "\n",
    "def section_split(tex):\n",
    "    \"\"\"returns: List of tuples (section_name, section_text)\"\"\"\n",
    "    soup = TexSoup(tex)\n",
    "\n",
    "    doc_text = tex\n",
    "\n",
    "    sections = []\n",
    "\n",
    "    sections.append((\"title\", soup.title.contents[0])) if soup.title else None\n",
    "    sections.append((\"abstract\", soup.abstract.contents[0])) if soup.abstract else None\n",
    "    sections.append((\"tables\", \"\\n\".join([str(node) for node in soup.find_all(\"table\")]))) if soup.find_all(\"table\") else None\n",
    "\n",
    "\n",
    "    # extract latex sections and corresponding text\n",
    "    prev_section = \"pre\"\n",
    "\n",
    "    for node in soup.find_all(\"section\"):\n",
    "        section_text, doc_text = doc_text.split(str(node), 1)\n",
    "        sections.append((prev_section, section_text))\n",
    "        prev_section = node.contents[0]\n",
    "    sections.append((prev_section, doc_text))\n",
    "    return sections"
   ]
  },
  {
   "cell_type": "code",
   "execution_count": 210,
   "metadata": {},
   "outputs": [],
   "source": [
    "# TODO: Define Prompt function\n",
    "import ollama\n",
    "\n",
    "def contains_qradruple(tex):\n",
    "    return f\"Decide if if the following text mentions a result on a benchmark leaderboard, including the task, dataset, metric and the score. \\\n",
    "    Ignore the content of the text, only output yes, if it contains a leaderboard mention or no, if no such information is included. \\n \\\n",
    "    Text: \\n {tex} \\n \\\n",
    "    Answer with yes or no only without providing any other text. \"\n",
    "\n",
    "def pass_to_ollama(prompt, model):\n",
    "    try:\n",
    "        res = ollama.generate(model=model, prompt=prompt)\n",
    "        return res[\"response\"]\n",
    "    except:\n",
    "        return \"\"\n",
    "\n",
    "def section_wise_detection(tex, llama_fn):\n",
    "    answers = []\n",
    "    try:\n",
    "        sections = section_split(tex)\n",
    "    except:\n",
    "        sections = [(\"full\", tex)] # in the case the structure cannot be parsed:\n",
    "    print(f\"{len(sections)} sections\")\n",
    "    for section_name, section_text in sections:\n",
    "        answers.append(str(llama_fn(contains_qradruple(section_text))).lower())\n",
    "\n",
    "    return any([answer == 'yes' for answer in answers])\n",
    "\n"
   ]
  },
  {
   "cell_type": "code",
   "execution_count": 215,
   "metadata": {
    "scrolled": true
   },
   "outputs": [
    {
     "ename": "ImportError",
     "evalue": "cannot import name 'write_annotation_file' from 'dataset' (/home/user/code/nlp2024_ClefTask4SOTA/dataset.py)",
     "output_type": "error",
     "traceback": [
      "\u001b[0;31m---------------------------------------------------------------------------\u001b[0m",
      "\u001b[0;31mImportError\u001b[0m                               Traceback (most recent call last)",
      "Cell \u001b[0;32mIn[215], line 3\u001b[0m\n\u001b[1;32m      1\u001b[0m \u001b[38;5;66;03m# run on train data to evaluate method\u001b[39;00m\n\u001b[1;32m      2\u001b[0m \u001b[38;5;28;01mfrom\u001b[39;00m \u001b[38;5;21;01mtqdm\u001b[39;00m \u001b[38;5;28;01mimport\u001b[39;00m tqdm\n\u001b[0;32m----> 3\u001b[0m \u001b[38;5;28;01mfrom\u001b[39;00m \u001b[38;5;21;01mdataset\u001b[39;00m \u001b[38;5;28;01mimport\u001b[39;00m BinaryTDMSDataset, PATH, write_annotation_file\n\u001b[1;32m      4\u001b[0m \u001b[38;5;28;01mfrom\u001b[39;00m \u001b[38;5;21;01mdatetime\u001b[39;00m \u001b[38;5;28;01mimport\u001b[39;00m datetime\n\u001b[1;32m      7\u001b[0m train_dataset \u001b[38;5;241m=\u001b[39m BinaryTDMSDataset(PATH\u001b[38;5;241m.\u001b[39mTRAIN)\n",
      "\u001b[0;31mImportError\u001b[0m: cannot import name 'write_annotation_file' from 'dataset' (/home/user/code/nlp2024_ClefTask4SOTA/dataset.py)"
     ]
    }
   ],
   "source": [
    "# run on train data to evaluate method\n",
    "from tqdm import tqdm\n",
    "from dataset import BinaryTDMSDataset, PATH, write_annotation_file\n",
    "from datetime import datetime\n",
    "\n",
    "\n",
    "train_dataset = BinaryTDMSDataset(PATH.TRAIN)\n",
    "model = \"llama3:8b\"\n",
    "\n",
    "run_id = f\"baseline-{model.replace(':', '')}-{datetime.now().strftime('%m%d%Y-%H%M%S')}\"\n",
    "llama3_fn = lambda prompt: pass_to_ollama(prompt, model)\n",
    "\n",
    "results = []\n",
    "# for i in tqdm(range(len(train_dataset))):\n",
    "for i in tqdm(range(1)):\n",
    "    f, tex, ground_truth = train_dataset.__getitem__(i)\n",
    "    pred = section_wise_detection(tex, llama3_fn)\n",
    "    write_annotation_file(run_id, f, pred)\n",
    "    # print(f\"{f}: {pred} ({ground_truth})\")\n",
    "    results.append((f, ground_truth, pred))\n",
    "\n",
    "\n",
    "import pandas as pd\n",
    "\n",
    "df = pd.DataFrame(results)\n",
    "df.columns = [\"file\", \"ground_truth\", \"pred\"]\n",
    "\n",
    "df.to_feather(f\"results/zs_train_{execution_start}.feather\")\n"
   ]
  },
  {
   "cell_type": "markdown",
   "metadata": {},
   "source": [
    "# Evaluation"
   ]
  },
  {
   "cell_type": "code",
   "execution_count": null,
   "metadata": {},
   "outputs": [],
   "source": [
    "# pct of success\n",
    "\n",
    "df[\"success\"] =df[\"ground_truth\"]==df[\"pred\"]\n",
    "len(df[df[\"success\"]]) / len(df)\n",
    "\n",
    "# .76"
   ]
  },
  {
   "cell_type": "code",
   "execution_count": null,
   "metadata": {},
   "outputs": [],
   "source": [
    "# confusion matrix\n",
    "import matplotlib.pyplot as plt\n",
    "from sklearn.metrics import confusion_matrix, ConfusionMatrixDisplay\n",
    "\n",
    "cm = confusion_matrix(df[\"ground_truth\"], df[\"pred\"])\n",
    "disp = ConfusionMatrixDisplay(confusion_matrix=cm)\n",
    "disp.plot()\n",
    "plt.show()"
   ]
  },
  {
   "cell_type": "code",
   "execution_count": null,
   "metadata": {},
   "outputs": [],
   "source": [
    "# random trial\n",
    "import random\n",
    "\n",
    "num_true = len(df[df[\"ground_truth\"]])\n",
    "num_tot = len(df)\n",
    "pct_true = num_true / num_tot\n",
    "\n",
    "\n",
    "df[\"random\"] = random.uniform(0, 1)\n",
    "df[\"random_success\"] = df[\"ground_truth\"] == (df[\"random\"] <= pct_true)\n",
    "len(df[df[\"random_success\"]]) / len(df)\n",
    "\n",
    "# duh..\n",
    "# .634 (random with distribution), .758 (baseline llama)\n",
    "# codalab: .53 (llama 2 baseline), .83 (top score)"
   ]
  },
  {
   "cell_type": "code",
   "execution_count": null,
   "metadata": {},
   "outputs": [],
   "source": [
    "# TODO: Test set evalutation\n",
    "\n",
    "from src.dataset import BinaryTDMSDataset, PATH\n",
    "\n",
    "test_dataset = BinaryTDMSDataset(PATH.TEST)\n",
    "\n",
    "def get_index(folder):\n",
    "    return [i for i, t, j in test_dataset.all_paths].index(folder)\n",
    "\n",
    "i, tex, jsn = test_dataset.__getitem__(get_index(\"0706.0014\"))\n"
   ]
  }
 ],
 "metadata": {
  "kernelspec": {
   "display_name": "Python 3 (ipykernel)",
   "language": "python",
   "name": "python3"
  },
  "language_info": {
   "codemirror_mode": {
    "name": "ipython",
    "version": 3
   },
   "file_extension": ".py",
   "mimetype": "text/x-python",
   "name": "python",
   "nbconvert_exporter": "python",
   "pygments_lexer": "ipython3",
   "version": "3.10.14"
  }
 },
 "nbformat": 4,
 "nbformat_minor": 4
}
