{
 "cells": [
  {
   "cell_type": "code",
   "execution_count": 1,
   "metadata": {},
   "outputs": [],
   "source": [
    "import os\n",
    "if os.getcwd() == '/home/user/code':\n",
    "    os.chdir('/home/user/code/nlp2024_ClefTask4SOTA')"
   ]
  },
  {
   "cell_type": "code",
   "execution_count": 7,
   "metadata": {},
   "outputs": [],
   "source": []
  },
  {
   "cell_type": "code",
   "execution_count": 121,
   "metadata": {},
   "outputs": [],
   "source": []
  },
  {
   "cell_type": "code",
   "execution_count": 140,
   "metadata": {},
   "outputs": [],
   "source": [
    "from TexSoup import TexSoup\n",
    "\n",
    "def split_into_sections(tex):\n",
    "    \"\"\"returns: List of tuples (section_name, section_text)\"\"\"\n",
    "    soup = TexSoup(tex)\n",
    "\n",
    "    doc_text = tex\n",
    "\n",
    "    sections = []\n",
    "\n",
    "    sections.append((\"title\", soup.title.contents[0])) if soup.title else None\n",
    "    sections.append((\"abstract\", soup.abstract.contents[0])) if soup.abstract else None\n",
    "    sections.append((\"tables\", \"\\n\".join([str(node) for node in soup.find_all(\"table\")]))) if soup.find_all(\"table\") else None\n",
    "\n",
    "\n",
    "    # extract latex sections and text\n",
    "    prev_section = \"pre\"\n",
    "\n",
    "    for node in soup.find_all(\"section\"):\n",
    "        section_text, doc_text = doc_text.split(str(node), 1)\n",
    "        sections.append((prev_section, section_text))\n",
    "        prev_section = node.contents[0]\n",
    "    sections.append((prev_section, doc_text))\n",
    "    return sections"
   ]
  },
  {
   "cell_type": "code",
   "execution_count": 148,
   "metadata": {},
   "outputs": [],
   "source": [
    "# TODO: Define Prompt function\n",
    "import ollama\n",
    "\n",
    "model = \"llama3:8b\"\n",
    "\n",
    "def contains_qradruple(tex):\n",
    "    return f\"Decide if if the following text mentions a result on a benchmark leaderboard, including the task, dataset, metric and the score. \\\n",
    "    Ignore the content of the text, only output yes, if it contains a leaderboard mention or no, if no such information is included. \\n \\\n",
    "    Text: \\n {tex} \\n \\\n",
    "    Answer with yes or no only without providing any other text. \"\n",
    "\n",
    "def zs(prompt):\n",
    "    res = ollama.generate(model=model, prompt=prompt)\n",
    "    context_len = len(res[\"context\"])\n",
    "    # print(f\"context lenght: {context_len}\")\n",
    "    return res[\"response\"]\n",
    "\n"
   ]
  },
  {
   "cell_type": "code",
   "execution_count": 165,
   "metadata": {},
   "outputs": [],
   "source": [
    "def section_wise_detection(tex):\n",
    "    answers = []\n",
    "    try:\n",
    "        sections = split_into_sections(tex)\n",
    "    except:\n",
    "        sections = [(\"full\", tex)] # in the case the structure cannot be parsed:\n",
    "    print(f\"{len(sections)} sections\")\n",
    "    for section_name, section_text in sections:\n",
    "        answers.append(str(zs(contains_qradruple(section_text))).lower())\n",
    "\n",
    "    return any([answer == 'yes' for answer in answers])\n",
    "\n",
    "   "
   ]
  },
  {
   "cell_type": "code",
   "execution_count": 172,
   "metadata": {},
   "outputs": [
    {
     "name": "stdout",
     "output_type": "stream",
     "text": [
      "10 sections\n",
      "context lenght: 102\n",
      "context lenght: 336\n",
      "context lenght: 1203\n",
      "context lenght: 687\n",
      "context lenght: 1450\n",
      "context lenght: 1530\n",
      "context lenght: 1139\n",
      "context lenght: 2145\n",
      "context lenght: 180\n",
      "context lenght: 178\n",
      "13 sections\n",
      "context lenght: 93\n",
      "context lenght: 174\n",
      "context lenght: 1971\n",
      "context lenght: 691\n",
      "context lenght: 306\n",
      "context lenght: 1721\n",
      "context lenght: 3255\n",
      "context lenght: 1238\n",
      "context lenght: 2165\n",
      "context lenght: 2905\n",
      "context lenght: 886\n",
      "context lenght: 271\n",
      "context lenght: 414\n",
      "1 sections\n",
      "context lenght: 25778\n"
     ]
    }
   ],
   "source": [
    "# run on train data to evaluate method\n",
    "\n",
    "from dataset import BinaryTDMSDataset, PATH\n",
    "\n",
    "from datetime import datetime\n",
    "\n",
    "\n",
    "\n",
    "execution_start = datetime.now().strftime(\"%m%d%Y-%H%M%S\")\n",
    "\n",
    "train_dataset = BinaryTDMSDataset(PATH.TRAIN)\n",
    "\n",
    "\n",
    "results = []\n",
    "for i in range(len(train_dataset)):\n",
    "    f, tex, ground_truth = train_dataset.__getitem__(i)\n",
    "    pred = section_wise_detection(tex)\n",
    "    print(f\"{f}: {pred} ({ground_truth})\")\n",
    "    results.append((f, ground_truth, pred))\n",
    "\n",
    "import pandas as pd\n",
    "\n",
    "df = pd.DataFrame(results)\n",
    "df.columns = [\"file\", \"ground_truth\", \"pred\"]\n",
    "\n",
    "df.to_feather(f\"results/zs_train_{execution_start}.feather\")\n"
   ]
  },
  {
   "cell_type": "code",
   "execution_count": null,
   "metadata": {},
   "outputs": [],
   "source": [
    "# TODO: metrics\n",
    "\n"
   ]
  },
  {
   "cell_type": "code",
   "execution_count": null,
   "metadata": {},
   "outputs": [],
   "source": [
    "# TODO: Test set evalutation\n",
    "\n",
    "from dataset import BinaryTDMSDataset, PATH\n",
    "\n",
    "test_dataset = BinaryTDMSDataset(PATH.TEST)\n",
    "\n",
    "def get_index(folder):\n",
    "    return [i for i, t, j in test_dataset.all_paths].index(folder)\n",
    "\n",
    "i, tex, jsn = test_dataset.__getitem__(get_index(\"0706.0014\"))\n"
   ]
  }
 ],
 "metadata": {
  "kernelspec": {
   "display_name": "Python 3 (ipykernel)",
   "language": "python",
   "name": "python3"
  },
  "language_info": {
   "codemirror_mode": {
    "name": "ipython",
    "version": 3
   },
   "file_extension": ".py",
   "mimetype": "text/x-python",
   "name": "python",
   "nbconvert_exporter": "python",
   "pygments_lexer": "ipython3",
   "version": "3.10.14"
  }
 },
 "nbformat": 4,
 "nbformat_minor": 2
}
