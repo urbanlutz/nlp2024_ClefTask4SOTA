{
 "cells": [
  {
   "cell_type": "code",
   "execution_count": 2,
   "metadata": {},
   "outputs": [],
   "source": [
    "import os\n",
    "if os.getcwd() == '/home/user/code':\n",
    "    os.chdir('/home/user/code/nlp2024_ClefTask4SOTA')\n",
    "\n",
    "%load_ext autoreload\n",
    "%autoreload 2"
   ]
  },
  {
   "cell_type": "code",
   "execution_count": 2,
   "metadata": {},
   "outputs": [],
   "source": [
    "from src.dataset import TDMSDataset, PATH\n",
    "\n",
    "dataset = TDMSDataset(PATH.TRAIN)"
   ]
  },
  {
   "cell_type": "markdown",
   "metadata": {},
   "source": [
    "# Where can a doctaet be extracted?"
   ]
  },
  {
   "cell_type": "code",
   "execution_count": 3,
   "metadata": {},
   "outputs": [],
   "source": [
    "from src.content_extraction import all_sections\n",
    "\n",
    "results = []\n",
    "for i in range(len(dataset)):\n",
    "    f, tex, jsn = dataset[i]\n",
    "    sections = all_sections(tex)\n",
    "    results.append({\"f\": f, \"sections\": sections})"
   ]
  },
  {
   "cell_type": "code",
   "execution_count": 4,
   "metadata": {},
   "outputs": [],
   "source": [
    "import pandas as pd\n",
    "\n",
    "df = pd.DataFrame(results)"
   ]
  },
  {
   "cell_type": "code",
   "execution_count": 7,
   "metadata": {},
   "outputs": [
    {
     "data": {
      "text/plain": [
       "False"
      ]
     },
     "execution_count": 7,
     "metadata": {},
     "output_type": "execute_result"
    }
   ],
   "source": [
    "sections = df[\"sections\"][0]\n",
    "prop = [\"Bla\", \"Test\"]\n"
   ]
  },
  {
   "cell_type": "code",
   "execution_count": 8,
   "metadata": {},
   "outputs": [],
   "source": [
    "\n",
    "def has_prop(sections, prop):\n",
    "    sections = dict(sections)\n",
    "    return prop in sections.keys()\n",
    "\n",
    "def any_section_experiment_result(sections):\n",
    "    return any([\"experiment\" in k.lower() or \"result\" in k.lower() for k, _ in sections])\n",
    "\n",
    "df[\"has_title\"] = df[\"sections\"].apply(lambda c: has_prop(c, \"title\"))\n",
    "df[\"has_abstract\"] = df[\"sections\"].apply(lambda c: has_prop(c, \"abstract\"))\n",
    "df[\"has_table\"] = df[\"sections\"].apply(lambda c: has_prop(c, \"table\"))\n",
    "df[\"has_results_experiments\"] = df[\"sections\"].apply(lambda c: any_section_experiment_result(c))"
   ]
  },
  {
   "cell_type": "code",
   "execution_count": 20,
   "metadata": {},
   "outputs": [
    {
     "data": {
      "text/html": [
       "<div>\n",
       "<style scoped>\n",
       "    .dataframe tbody tr th:only-of-type {\n",
       "        vertical-align: middle;\n",
       "    }\n",
       "\n",
       "    .dataframe tbody tr th {\n",
       "        vertical-align: top;\n",
       "    }\n",
       "\n",
       "    .dataframe thead th {\n",
       "        text-align: right;\n",
       "    }\n",
       "</style>\n",
       "<table border=\"1\" class=\"dataframe\">\n",
       "  <thead>\n",
       "    <tr style=\"text-align: right;\">\n",
       "      <th></th>\n",
       "      <th>f</th>\n",
       "      <th>sections</th>\n",
       "      <th>has_title</th>\n",
       "      <th>has_abstract</th>\n",
       "      <th>has_table</th>\n",
       "      <th>no_doctaet</th>\n",
       "    </tr>\n",
       "    <tr>\n",
       "      <th>has_results_experiments</th>\n",
       "      <th></th>\n",
       "      <th></th>\n",
       "      <th></th>\n",
       "      <th></th>\n",
       "      <th></th>\n",
       "      <th></th>\n",
       "    </tr>\n",
       "  </thead>\n",
       "  <tbody>\n",
       "    <tr>\n",
       "      <th>False</th>\n",
       "      <td>4691</td>\n",
       "      <td>4691</td>\n",
       "      <td>4691</td>\n",
       "      <td>4691</td>\n",
       "      <td>4691</td>\n",
       "      <td>4691</td>\n",
       "    </tr>\n",
       "    <tr>\n",
       "      <th>True</th>\n",
       "      <td>7597</td>\n",
       "      <td>7597</td>\n",
       "      <td>7597</td>\n",
       "      <td>7597</td>\n",
       "      <td>7597</td>\n",
       "      <td>7597</td>\n",
       "    </tr>\n",
       "  </tbody>\n",
       "</table>\n",
       "</div>"
      ],
      "text/plain": [
       "                            f  sections  has_title  has_abstract  has_table  \\\n",
       "has_results_experiments                                                       \n",
       "False                    4691      4691       4691          4691       4691   \n",
       "True                     7597      7597       7597          7597       7597   \n",
       "\n",
       "                         no_doctaet  \n",
       "has_results_experiments              \n",
       "False                          4691  \n",
       "True                           7597  "
      ]
     },
     "execution_count": 20,
     "metadata": {},
     "output_type": "execute_result"
    }
   ],
   "source": [
    "df.groupby(\"has_results_experiments\").count()\n",
    "# 4691 have no results / experiment, 7597 have"
   ]
  },
  {
   "cell_type": "code",
   "execution_count": 16,
   "metadata": {},
   "outputs": [],
   "source": [
    "df[\"no_doctaet\"] = df.apply(lambda row: not any([row[\"has_title\"], row[\"has_abstract\"], row[\"has_table\"], row[\"has_results_experiments\"]]), axis=1)"
   ]
  },
  {
   "cell_type": "code",
   "execution_count": 19,
   "metadata": {},
   "outputs": [
    {
     "data": {
      "text/html": [
       "<div>\n",
       "<style scoped>\n",
       "    .dataframe tbody tr th:only-of-type {\n",
       "        vertical-align: middle;\n",
       "    }\n",
       "\n",
       "    .dataframe tbody tr th {\n",
       "        vertical-align: top;\n",
       "    }\n",
       "\n",
       "    .dataframe thead th {\n",
       "        text-align: right;\n",
       "    }\n",
       "</style>\n",
       "<table border=\"1\" class=\"dataframe\">\n",
       "  <thead>\n",
       "    <tr style=\"text-align: right;\">\n",
       "      <th></th>\n",
       "      <th>f</th>\n",
       "      <th>sections</th>\n",
       "      <th>has_title</th>\n",
       "      <th>has_abstract</th>\n",
       "      <th>has_table</th>\n",
       "      <th>has_results_experiments</th>\n",
       "    </tr>\n",
       "    <tr>\n",
       "      <th>no_doctaet</th>\n",
       "      <th></th>\n",
       "      <th></th>\n",
       "      <th></th>\n",
       "      <th></th>\n",
       "      <th></th>\n",
       "      <th></th>\n",
       "    </tr>\n",
       "  </thead>\n",
       "  <tbody>\n",
       "    <tr>\n",
       "      <th>False</th>\n",
       "      <td>10929</td>\n",
       "      <td>10929</td>\n",
       "      <td>10929</td>\n",
       "      <td>10929</td>\n",
       "      <td>10929</td>\n",
       "      <td>10929</td>\n",
       "    </tr>\n",
       "    <tr>\n",
       "      <th>True</th>\n",
       "      <td>1359</td>\n",
       "      <td>1359</td>\n",
       "      <td>1359</td>\n",
       "      <td>1359</td>\n",
       "      <td>1359</td>\n",
       "      <td>1359</td>\n",
       "    </tr>\n",
       "  </tbody>\n",
       "</table>\n",
       "</div>"
      ],
      "text/plain": [
       "                f  sections  has_title  has_abstract  has_table  \\\n",
       "no_doctaet                                                        \n",
       "False       10929     10929      10929         10929      10929   \n",
       "True         1359      1359       1359          1359       1359   \n",
       "\n",
       "            has_results_experiments  \n",
       "no_doctaet                           \n",
       "False                         10929  \n",
       "True                           1359  "
      ]
     },
     "execution_count": 19,
     "metadata": {},
     "output_type": "execute_result"
    }
   ],
   "source": [
    "df.groupby(\"no_doctaet\").count()\n",
    "\n",
    "# 10929 contain any doctaet info, 1359 contain none at all"
   ]
  },
  {
   "cell_type": "markdown",
   "metadata": {},
   "source": [
    "# Naive Doctaet"
   ]
  },
  {
   "cell_type": "code",
   "execution_count": 4,
   "metadata": {},
   "outputs": [],
   "source": [
    "from src.content_extraction import naive_doctaet\n",
    "\n",
    "doctaets = []\n",
    "for i in range(len(dataset)):\n",
    "    f, tex, jsn = dataset[i]\n",
    "    doctaet = naive_doctaet(tex)\n",
    "    doctaets.append({\"f\": f, \"doctaet\": doctaet})"
   ]
  },
  {
   "cell_type": "code",
   "execution_count": 5,
   "metadata": {},
   "outputs": [
    {
     "data": {
      "text/plain": [
       "<Axes: ylabel='Density'>"
      ]
     },
     "execution_count": 5,
     "metadata": {},
     "output_type": "execute_result"
    },
    {
     "data": {
      "image/png": "[encoded data removed]",
      "text/plain": [
       "<Figure size 640x480 with 1 Axes>"
      ]
     },
     "metadata": {},
     "output_type": "display_data"
    }
   ],
   "source": [
    "import pandas as pd\n",
    "df = pd.DataFrame(doctaets)\n",
    "df[\"len\"] = df[\"doctaet\"].str.len()\n",
    "df = df.sort_values(\"len\", ascending=False)\n",
    "df.plot(kind=\"kde\")\n"
   ]
  },
  {
   "cell_type": "markdown",
   "metadata": {},
   "source": [
    "# How many tokens are necessary for DocTAET?"
   ]
  },
  {
   "cell_type": "code",
   "execution_count": 9,
   "metadata": {},
   "outputs": [
    {
     "name": "stderr",
     "output_type": "stream",
     "text": [
      "Special tokens have been added in the vocabulary, make sure the associated word embeddings are fine-tuned or trained.\n"
     ]
    }
   ],
   "source": [
    "from transformers import AutoModelForCausalLM, AutoTokenizer\n",
    "model = \"meta-llama/Meta-Llama-3-8B\"\n",
    "tokenizer = AutoTokenizer.from_pretrained(model)"
   ]
  },
  {
   "cell_type": "code",
   "execution_count": 18,
   "metadata": {},
   "outputs": [],
   "source": [
    "\n",
    "def token_len(text):\n",
    "    return len(tokenizer(text)[\"input_ids\"])\n",
    "\n",
    "df[\"token_len\"] = df[\"doctaet\"].apply(token_len)\n"
   ]
  },
  {
   "cell_type": "code",
   "execution_count": 22,
   "metadata": {},
   "outputs": [
    {
     "data": {
      "text/plain": [
       "<Axes: >"
      ]
     },
     "execution_count": 22,
     "metadata": {},
     "output_type": "execute_result"
    },
    {
     "data": {
      "image/png": "[encoded data removed]",
      "text/plain": [
       "<Figure size 640x480 with 1 Axes>"
      ]
     },
     "metadata": {},
     "output_type": "display_data"
    }
   ],
   "source": [
    "df[\"token_len\"].hist(bins=50)"
   ]
  },
  {
   "cell_type": "code",
   "execution_count": 28,
   "metadata": {},
   "outputs": [
    {
     "data": {
      "text/html": [
       "<div>\n",
       "<style scoped>\n",
       "    .dataframe tbody tr th:only-of-type {\n",
       "        vertical-align: middle;\n",
       "    }\n",
       "\n",
       "    .dataframe tbody tr th {\n",
       "        vertical-align: top;\n",
       "    }\n",
       "\n",
       "    .dataframe thead th {\n",
       "        text-align: right;\n",
       "    }\n",
       "</style>\n",
       "<table border=\"1\" class=\"dataframe\">\n",
       "  <thead>\n",
       "    <tr style=\"text-align: right;\">\n",
       "      <th></th>\n",
       "      <th>f</th>\n",
       "      <th>doctaet</th>\n",
       "      <th>len</th>\n",
       "      <th>token_len</th>\n",
       "    </tr>\n",
       "    <tr>\n",
       "      <th>gt_8192</th>\n",
       "      <th></th>\n",
       "      <th></th>\n",
       "      <th></th>\n",
       "      <th></th>\n",
       "    </tr>\n",
       "  </thead>\n",
       "  <tbody>\n",
       "    <tr>\n",
       "      <th>False</th>\n",
       "      <td>9920</td>\n",
       "      <td>9920</td>\n",
       "      <td>9920</td>\n",
       "      <td>9920</td>\n",
       "    </tr>\n",
       "    <tr>\n",
       "      <th>True</th>\n",
       "      <td>2368</td>\n",
       "      <td>2368</td>\n",
       "      <td>2368</td>\n",
       "      <td>2368</td>\n",
       "    </tr>\n",
       "  </tbody>\n",
       "</table>\n",
       "</div>"
      ],
      "text/plain": [
       "            f  doctaet   len  token_len\n",
       "gt_8192                                \n",
       "False    9920     9920  9920       9920\n",
       "True     2368     2368  2368       2368"
      ]
     },
     "execution_count": 28,
     "metadata": {},
     "output_type": "execute_result"
    }
   ],
   "source": [
    "df[\"gt_8192\"] = df[\"token_len\"] > 8192\n",
    "df.groupby(\"gt_8192\").count()"
   ]
  }
 ],
 "metadata": {
  "kernelspec": {
   "display_name": "Python 3 (ipykernel)",
   "language": "python",
   "name": "python3"
  },
  "language_info": {
   "codemirror_mode": {
    "name": "ipython",
    "version": 3
   },
   "file_extension": ".py",
   "mimetype": "text/x-python",
   "name": "python",
   "nbconvert_exporter": "python",
   "pygments_lexer": "ipython3",
   "version": "3.12.2"
  }
 },
 "nbformat": 4,
 "nbformat_minor": 2
}
