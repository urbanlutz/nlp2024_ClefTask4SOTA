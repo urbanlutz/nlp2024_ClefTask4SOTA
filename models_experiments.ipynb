{
 "cells": [
  {
   "cell_type": "code",
   "execution_count": 2,
   "metadata": {},
   "outputs": [
    {
     "name": "stderr",
     "output_type": "stream",
     "text": [
      "2024-06-14 13:38:41.581114: I tensorflow/core/platform/cpu_feature_guard.cc:210] This TensorFlow binary is optimized to use available CPU instructions in performance-critical operations.\n",
      "To enable the following instructions: AVX2 AVX512F FMA, in other operations, rebuild TensorFlow with the appropriate compiler flags.\n"
     ]
    }
   ],
   "source": [
    "import os\n",
    "if os.getcwd() == '/home/user/code':\n",
    "    os.chdir('/home/user/code/nlp2024_ClefTask4SOTA')\n",
    "\n",
    "%load_ext autoreload\n",
    "%autoreload 2\n",
    "\n",
    "import transformers\n",
    "transformers.set_seed(17)\n"
   ]
  },
  {
   "cell_type": "markdown",
   "metadata": {},
   "source": [
    "# What should be the max length of the model?\n",
    "\n",
    "Approach: Tokenize the longest annotation in the dataset, this is the max lenght."
   ]
  },
  {
   "cell_type": "code",
   "execution_count": null,
   "metadata": {},
   "outputs": [],
   "source": [
    "from src.dataset import TDMSDataset, PATH\n",
    "\n",
    "\n",
    "# load all annotations:\n",
    "dataset = TDMSDataset(PATH.TRAIN)\n",
    "\n",
    "annotations = []\n",
    "for i in range(len(dataset)):\n",
    "    f, tex, jsn = dataset[i]\n",
    "    annotations.append(str(jsn))\n"
   ]
  },
  {
   "cell_type": "code",
   "execution_count": null,
   "metadata": {},
   "outputs": [],
   "source": [
    "import pandas as pd\n",
    "\n",
    "\n",
    "df = pd.DataFrame(annotations)\n",
    "df.columns = [\"annotation\"]\n",
    "df"
   ]
  },
  {
   "cell_type": "code",
   "execution_count": null,
   "metadata": {},
   "outputs": [],
   "source": [
    "df[\"str_len\"] = df.apply(lambda row: len(row[\"annotation\"]), axis=1)\n",
    "\n",
    "# top 10 longest annotations by string lenght:\n",
    "df_t10 = df.sort_values(by=\"str_len\", ascending=False)[:10]\n",
    "df_t10"
   ]
  },
  {
   "cell_type": "code",
   "execution_count": null,
   "metadata": {},
   "outputs": [],
   "source": [
    "# ignoring the outlier of 56561 chars and all below 20k chars as candidates for longest annotation\n",
    "\n",
    "df_longest = df_t10[1:6]\n",
    "df_longest\n"
   ]
  },
  {
   "cell_type": "code",
   "execution_count": null,
   "metadata": {},
   "outputs": [],
   "source": [
    "# is the longest annotation character wise also the longest annotation token wise?\n",
    "from transformers import AutoModelForCausalLM, AutoTokenizer\n",
    "\n",
    "tokenizer = AutoTokenizer.from_pretrained(\"mistralai/Mistral-7B-Instruct-v0.3\")\n",
    "\n",
    "df_longest[\"token_len\"] = df_longest.apply(lambda row: len(tokenizer(row[\"annotation\"])[\"input_ids\"]), axis=1)\n",
    "df_longest[\"token_len\"].max()\n",
    "\n",
    "# longest = 9878 tokens => Max len should be 10k tokens"
   ]
  },
  {
   "cell_type": "code",
   "execution_count": null,
   "metadata": {},
   "outputs": [],
   "source": [
    "# Sanity check: Other Tokenizers (llama)\n",
    "\n",
    "from transformers import AutoModelForCausalLM, AutoTokenizer\n",
    "\n",
    "tokenizer = AutoTokenizer.from_pretrained(\"meta-llama/Meta-Llama-3-8B\")\n",
    "\n",
    "df_longest[\"token_len\"] = df_longest.apply(lambda row: len(tokenizer(row[\"annotation\"])[\"input_ids\"]), axis=1)\n",
    "df_longest[\"token_len\"].max()\n",
    "\n",
    "# longest = 8670 tokens => Max len should be 8700 tokens"
   ]
  },
  {
   "cell_type": "code",
   "execution_count": null,
   "metadata": {},
   "outputs": [],
   "source": []
  },
  {
   "cell_type": "code",
   "execution_count": null,
   "metadata": {},
   "outputs": [],
   "source": [
    "# Sanity check: Other Tokenizers (gemma)\n",
    "\n",
    "from transformers import AutoModelForCausalLM, AutoTokenizer\n",
    "\n",
    "tokenizer = AutoTokenizer.from_pretrained(\"google/gemma-7b\")\n",
    "\n",
    "df_longest[\"token_len\"] = df_longest.apply(lambda row: len(tokenizer(row[\"annotation\"])[\"input_ids\"]), axis=1)\n",
    "df_longest[\"token_len\"].max()\n",
    "\n",
    "# longest = 8898 tokens => Max len should be 9k tokens"
   ]
  },
  {
   "cell_type": "code",
   "execution_count": 8,
   "metadata": {},
   "outputs": [],
   "source": []
  },
  {
   "cell_type": "markdown",
   "metadata": {},
   "source": [
    "# Model Experiments"
   ]
  },
  {
   "cell_type": "code",
   "execution_count": 1,
   "metadata": {},
   "outputs": [
    {
     "ename": "ModuleNotFoundError",
     "evalue": "No module named 'src'",
     "output_type": "error",
     "traceback": [
      "\u001b[0;31m---------------------------------------------------------------------------\u001b[0m",
      "\u001b[0;31mModuleNotFoundError\u001b[0m                       Traceback (most recent call last)",
      "Cell \u001b[0;32mIn[1], line 1\u001b[0m\n\u001b[0;32m----> 1\u001b[0m \u001b[38;5;28;01mfrom\u001b[39;00m \u001b[38;5;21;01msrc\u001b[39;00m\u001b[38;5;21;01m.\u001b[39;00m\u001b[38;5;21;01mexperiment_runner\u001b[39;00m \u001b[38;5;28;01mimport\u001b[39;00m Experiment, run\n\u001b[1;32m      2\u001b[0m \u001b[38;5;28;01mfrom\u001b[39;00m \u001b[38;5;21;01msrc\u001b[39;00m\u001b[38;5;21;01m.\u001b[39;00m\u001b[38;5;21;01mdataset\u001b[39;00m \u001b[38;5;28;01mimport\u001b[39;00m PATH\n\u001b[1;32m      3\u001b[0m \u001b[38;5;28;01mfrom\u001b[39;00m \u001b[38;5;21;01msrc\u001b[39;00m\u001b[38;5;21;01m.\u001b[39;00m\u001b[38;5;21;01mprompt_templates\u001b[39;00m \u001b[38;5;28;01mimport\u001b[39;00m simple_zs, simple_fs\n",
      "\u001b[0;31mModuleNotFoundError\u001b[0m: No module named 'src'"
     ]
    }
   ],
   "source": [
    "from src.experiment_runner import Experiment, run\n",
    "from src.dataset import PATH\n",
    "from src.prompt_templates import simple_zs,simple_fs_v2, simple_fs_v3,simple_fs_v4a, simple_fs_v4b, simple_fs_v5, simple_zs_v5, simple_fs, few_shot_template_initial\n",
    "from src.content_extraction import naive_doctaet, format\n",
    "from src.models import Model, OllamaModel, ARCHITECTURE\n",
    "import torch\n",
    "from itertools import product\n",
    "torch.backends.cuda.enable_mem_efficient_sdp(False)\n",
    "torch.backends.cuda.enable_flash_sdp(False)\n",
    "\n",
    "\n",
    "all_models = [\n",
    "    ARCHITECTURE.MISTRAL_7b,\n",
    "    ARCHITECTURE.CODESTRAL,\n",
    "    ARCHITECTURE.MISTRAL_7b_IT,\n",
    "    ARCHITECTURE.GEMMA_7b,\n",
    "    ARCHITECTURE.GEMMA_2b,\n",
    "    ARCHITECTURE.LLAMA_8b,\n",
    "    ARCHITECTURE.CMD_RPLUS,\n",
    "    ARCHITECTURE.LLAMA_8b_IT,\n",
    "    ARCHITECTURE.LLAMA_70b,\n",
    "    ARCHITECTURE.MIXTRAL_22B,\n",
    "    ARCHITECTURE.MIXTRAL_7B,\n",
    "    ARCHITECTURE.MIXTRAL_7B_IT,\n",
    "    ARCHITECTURE.MIXTRAL_22B_IT,\n",
    "]\n",
    "\n",
    "smallish_models = [\n",
    "    ARCHITECTURE.MISTRAL_7b,\n",
    "    ARCHITECTURE.MISTRAL_7b_IT,\n",
    "    ARCHITECTURE.GEMMA_7b,\n",
    "    ARCHITECTURE.GEMMA_2b,\n",
    "    ARCHITECTURE.LLAMA_8b,\n",
    "    ARCHITECTURE.LLAMA_8b_IT,\n",
    "    ARCHITECTURE.MIXTRAL_7B,\n",
    "    ARCHITECTURE.MIXTRAL_7B_IT,\n",
    "]\n",
    "\n",
    "larger_models = [\n",
    "    ARCHITECTURE.CODESTRAL,\n",
    "    ARCHITECTURE.CMD_RPLUS,\n",
    "    ARCHITECTURE.LLAMA_70b,\n",
    "    ARCHITECTURE.MIXTRAL_22B,\n",
    "    ARCHITECTURE.MIXTRAL_22B_IT,\n",
    "]\n",
    "\n",
    "instruct_models = [\n",
    "    ARCHITECTURE.MISTRAL_7b_IT,\n",
    "    ARCHITECTURE.LLAMA_8b_IT,\n",
    "    ARCHITECTURE.MIXTRAL_7B_IT,\n",
    "    ARCHITECTURE.MIXTRAL_22B_IT,\n",
    "]\n",
    "\n",
    "models = smallish_models\n",
    "\n",
    "prompts = [\n",
    "    # few_shot_template_initial,\n",
    "    simple_fs_v5,\n",
    "    simple_zs_v5,\n",
    "]\n",
    "\n",
    "# Summarization & Postprocessing are static\n",
    "exps = [Experiment(model, prompt, naive_doctaet) for model, prompt in product(models, prompts)]\n",
    "print(f\"running {len(exps)} experiments\")\n",
    "\n",
    "\n",
    "for exp in exps:\n",
    "    try:\n",
    "        _ = run(exp, PATH.VAL, post_proc=format)\n",
    "    except:\n",
    "        print(f\"Experiment {exp} failed\")  \n"
   ]
  },
  {
   "cell_type": "code",
   "execution_count": 7,
   "metadata": {},
   "outputs": [
    {
     "name": "stdout",
     "output_type": "stream",
     "text": [
      "__module__\n",
      "__module__: 'str' object has no attribute 'ollama'\n",
      "MISTRAL_7b\n",
      "{'status': 'success'}\n",
      "CODESTRAL\n",
      "{'status': 'success'}\n",
      "MISTRAL_7b_IT\n",
      "{'status': 'success'}\n",
      "GEMMA_7b\n",
      "{'status': 'success'}\n",
      "GEMMA_2b\n",
      "{'status': 'success'}\n",
      "LLAMA_8b\n",
      "{'status': 'success'}\n",
      "CMD_RPLUS\n"
     ]
    }
   ],
   "source": [
    "from src.models import ARCHITECTURE\n",
    "import ollama\n",
    "\n",
    "for k, arch in ARCHITECTURE.__dict__.items():\n",
    "    try:\n",
    "        print(k)\n",
    "        res = ollama.pull(arch.ollama)\n",
    "        print(res)\n",
    "    except Exception as e:\n",
    "        print(f\"{k}: {e}\")"
   ]
  },
  {
   "cell_type": "code",
   "execution_count": null,
   "metadata": {},
   "outputs": [],
   "source": [
    "ARCHITECTURE.__id"
   ]
  }
 ],
 "metadata": {
  "kernelspec": {
   "display_name": "Python 3 (ipykernel)",
   "language": "python",
   "name": "python3"
  },
  "language_info": {
   "codemirror_mode": {
    "name": "ipython",
    "version": 3
   },
   "file_extension": ".py",
   "mimetype": "text/x-python",
   "name": "python",
   "nbconvert_exporter": "python",
   "pygments_lexer": "ipython3",
   "version": "3.10.14"
  }
 },
 "nbformat": 4,
 "nbformat_minor": 2
}
