{
 "cells": [
  {
   "cell_type": "markdown",
   "metadata": {},
   "source": [
    "Task Website: https://sites.google.com/view/simpletext-sota/home\n",
    "Competition: https://codalab.lisn.upsaclay.fr/competitions/16616\n",
    "\n",
    "Dataset: https://github.com/jd-coderepos/sota/tree/master\n",
    "\n"
   ]
  },
  {
   "cell_type": "code",
   "execution_count": null,
   "metadata": {},
   "outputs": [],
   "source": []
  },
  {
   "cell_type": "code",
   "execution_count": 4,
   "metadata": {},
   "outputs": [
    {
     "name": "stdout",
     "output_type": "stream",
     "text": [
      "E: Could not open lock file /var/lib/dpkg/lock-frontend - open (13: Permission denied)\n",
      "E: Unable to acquire the dpkg frontend lock (/var/lib/dpkg/lock-frontend), are you root?\n",
      "Requirement already satisfied: python-magic in /home/user/.venv/lib/python3.10/site-packages (0.4.27)\n",
      "Requirement already satisfied: chardet in /home/user/.venv/lib/python3.10/site-packages (5.2.0)\n",
      "\u001b[33mDEPRECATION: bert-score 0.3.11 has a non-standard dependency specifier transformers>=3.0.0numpy. pip 24.1 will enforce this behaviour change. A possible replacement is to upgrade to a newer version of bert-score or contact the author to suggest that they release a version with a conforming dependency specifiers. Discussion can be found at https://github.com/pypa/pip/issues/12063\u001b[0m\u001b[33m\n",
      "\u001b[0m"
     ]
    }
   ],
   "source": [
    "!apt-get install libmagic-dev\n",
    "!pip install python-magic chardet"
   ]
  },
  {
   "cell_type": "code",
   "execution_count": 61,
   "metadata": {},
   "outputs": [],
   "source": [
    "\n",
    "import glob\n",
    "import os\n",
    "import json\n",
    "# import magic\n",
    "# import chardet\n",
    "TRAIN_PATH = \"sota/dataset/train\"\n",
    "\n",
    "\n",
    "def path_join(*args):\n",
    "    return os.path.join(*args).replace('\\\\', '/') \n",
    "\n",
    "def find(extension, *args):\n",
    "    p = path_join(*args)\n",
    "    res = list(filter(lambda x: x.endswith(extension), os.listdir(p)))\n",
    "    if res:\n",
    "        return path_join(p, res[0])\n",
    "    else:\n",
    "        return None\n",
    "\n",
    "all_paths = [(find(\"tex\", TRAIN_PATH, p), find(\"json\", TRAIN_PATH, p)) for p in os.listdir(TRAIN_PATH)]\n",
    "\n",
    "# https://github.com/Kabongosalomon/task-dataset-metric-nli-extraction/blob/c7b9a6812b0f945717c0cd2832547c57a0aa4ce5/pdf_to_txt/doc2json/utils/latex_util.py#L54\n",
    "# def read_file(path):\n",
    "#     try:\n",
    "#         with open(path) as f:\n",
    "#             cntnt = f.read()\n",
    "#     except UnicodeDecodeError:\n",
    "#         blob = open(path, 'rb').read()\n",
    "#         m = magic.Magic(mime_encoding=True)\n",
    "#         encoding = m.from_buffer(blob)\n",
    "#         try:\n",
    "#             cntnt = blob.decode(encoding)\n",
    "#         except (UnicodeDecodeError, LookupError) as e:\n",
    "#             encoding = chardet.detect(blob)['encoding']\n",
    "#             if encoding:\n",
    "#                 try:\n",
    "#                     cntnt = blob.decode(encoding, errors='replace')\n",
    "#                 except:\n",
    "#                     return ''\n",
    "#             else:\n",
    "#                 return ''\n",
    "#     return cntnt\n",
    "\n",
    "def read(i):\n",
    "    # print(i)\n",
    "    try:\n",
    "        tex_path, jsn_path = all_paths[i]\n",
    "    except Exception as ex:\n",
    "        print(i)\n",
    "        raise ex\n",
    "    # tex = read_file(tex_path)\n",
    "    # jsn = read_file(jsn_path)\n",
    "    try:\n",
    "        with open(tex_path) as f:\n",
    "            tex = f.read()\n",
    "\n",
    "        try:\n",
    "            with open(jsn_path) as f:\n",
    "                jsn = json.load(f)\n",
    "        except:\n",
    "            with open(jsn_path) as f:\n",
    "                jsn = f.read()\n",
    "        return tex, jsn\n",
    "    except:\n",
    "        return None, None\n",
    "\n",
    "\n",
    "\n",
    "n = len(all_paths)\n",
    "data = []\n",
    "for t, j in [read(i) for i in range(n)]:\n",
    "    if j and j != 'unanswerable\\n':\n",
    "        data.append((t, j))\n",
    "\n",
    "\n",
    "\n",
    "# len(list(filter(lambda t, j: j and j != 'unanswerable\\n', )))\n",
    "\n",
    "# all_paths[10088]\n",
    "\n",
    "# find(\"tex\", \"sota/dataset/train/2312.03701v1\", )"
   ]
  },
  {
   "cell_type": "code",
   "execution_count": 64,
   "metadata": {},
   "outputs": [
    {
     "data": {
      "text/plain": [
       "\"[{'LEADERBOARD': {'Task': 'Thoracic Disease Classification', 'Dataset': 'ChestX-ray14', 'Metric': 'AUROC', 'Score': '78.33'}}]\\n\""
      ]
     },
     "execution_count": 64,
     "metadata": {},
     "output_type": "execute_result"
    }
   ],
   "source": [
    "data[0][1]"
   ]
  }
 ],
 "metadata": {
  "kernelspec": {
   "display_name": "Python 3 (ipykernel)",
   "language": "python",
   "name": "python3"
  },
  "language_info": {
   "codemirror_mode": {
    "name": "ipython",
    "version": 3
   },
   "file_extension": ".py",
   "mimetype": "text/x-python",
   "name": "python",
   "nbconvert_exporter": "python",
   "pygments_lexer": "ipython3",
   "version": "3.10.14"
  }
 },
 "nbformat": 4,
 "nbformat_minor": 2
}
