{
 "cells": [
  {
   "cell_type": "code",
   "execution_count": 1,
   "metadata": {},
   "outputs": [],
   "source": [
    "import os\n",
    "if os.getcwd() == '/home/user/code':\n",
    "    os.chdir('/home/user/code/nlp2024_ClefTask4SOTA')"
   ]
  },
  {
   "cell_type": "code",
   "execution_count": 2,
   "metadata": {},
   "outputs": [],
   "source": [
    "from TexSoup import TexSoup\n",
    "import re\n",
    "\n",
    "def find_sections(tex):\n",
    "    return [match.group(1) for match in re.finditer(\"\\\\\\section\\{(.*)\\}\", tex)]\n",
    "\n",
    "\n",
    "def extract_content(node, name):\n",
    "    if node:\n",
    "        return ((name, node.contents[0]))\n",
    "\n",
    "\n",
    "def section_split(tex):\n",
    "    \"\"\"returns: List of tuples (section_name, section_text)\"\"\"\n",
    "    doc_text = tex\n",
    "    sections = []\n",
    "    # parsing with TexSoup\n",
    "    # TODO: get rid of this and use regex only (brittle)\n",
    "    try:\n",
    "        soup = TexSoup(tex, tolerance=1)\n",
    "        if title:=extract_content(soup.title, \"title\"):\n",
    "            sections.append(title)\n",
    "        if abstract:=extract_content(soup.abstract, \"abstract\"):\n",
    "            sections.append(abstract)\n",
    "        sections.append((\"tables\", \"\\n\".join([str(node) for node in soup.find_all(\"table\")]))) if soup.find_all(\"table\") else None\n",
    "    except:\n",
    "        pass # could not parse tex\n",
    "\n",
    "    # extract latex sections and corresponding text\n",
    "    prev_section = \"pre\"\n",
    "\n",
    "    for section in find_sections(tex):\n",
    "        section_text, doc_text = doc_text.split(f\"\\\\section{{{section}}}\", 1)\n",
    "        sections.append((prev_section, section_text))\n",
    "        prev_section = section\n",
    "    sections.append((prev_section, doc_text))\n",
    "    return sections\n",
    "    # except:\n",
    "    #     return ((\"full\", tex))\n",
    "    \n"
   ]
  },
  {
   "cell_type": "code",
   "execution_count": 3,
   "metadata": {},
   "outputs": [],
   "source": [
    "import ollama\n",
    "def pass_to_ollama(prompt, model):\n",
    "    try:\n",
    "        res = ollama.generate(model=model, prompt=prompt, options={\"temperature\": 0})\n",
    "        return res[\"response\"]\n",
    "    except Exception as ex:\n",
    "        print(ex)\n",
    "        return f\"ollama error: {ex}\""
   ]
  },
  {
   "cell_type": "code",
   "execution_count": null,
   "metadata": {},
   "outputs": [
    {
     "name": "stderr",
     "output_type": "stream",
     "text": [
      "  0%|                                                                                                  | 0/100 [00:00<?, ?it/s]"
     ]
    }
   ],
   "source": [
    "import json\n",
    "import tqdm\n",
    "from tqdm import tqdm\n",
    "from src.dataset import TDMSDataset, PATH, UNANSWERABLE, LogResult\n",
    "from datetime import datetime\n",
    "\n",
    "\n",
    "def extract_tdms(tex):\n",
    "    return f'If the text reports benchmark leaderboard results, extract the reported Tasks, Datasets, Metrics and corresponding Scores.\\\n",
    "     \\n \\\n",
    "    Text: \\n {tex} \\n \\\n",
    "    Return the tasks, datasets, metrics and scores as reported in the text in a JSON array, \\\n",
    "    for example [{{\"Task\": \"example Task 1\", \"Dataset\": \"example Dataset 1\", \"Metric\": example metric 1\", \"Score\": \"score\"}}, {{\"Task\": \"example Task 1\",\"Dataset\": \"example Dataset 2\", \"Metric\": example metric 2\", \"Score\": \"score\"}}] and provide the JSON Array only. \\n \\\n",
    "    Do not include precision information in the reported score. \\\n",
    "    Entries: '\n",
    "\n",
    "def convert_tdms_to_tuple(model_output_parsed):\n",
    "    tuples = []\n",
    "    for item in model_output_parsed:\n",
    "        try:\n",
    "            t = ((item[\"Task\"], item[\"Dataset\"],item[\"Metric\"],item[\"Score\"]))\n",
    "            tuples.append(t)\n",
    "        except:\n",
    "            # parse error, ignore instance\n",
    "            pass\n",
    "    return tuples\n",
    "\n",
    "def format_tdms(tuples):\n",
    "    \"\"\"make unique, format as string\"\"\"\n",
    "    unique = set(tuples)\n",
    "    dicts = [{\"LEADERBOARD\": {\n",
    "        \"Task\": t,\n",
    "        \"Dataset\":d,\n",
    "        \"Metric\":m,\n",
    "        \"Score\":s\n",
    "    }} for t,d,m,s in unique]\n",
    "    return str(dicts)\n",
    "\n",
    "\n",
    "\n",
    "# Run on validation data\n",
    "valid_dataset = TDMSDataset(PATH.VAL)\n",
    "model = \"llama3:70b\"\n",
    "\n",
    "run_id = f\"baseline-tdms-valid_{model.replace(':', '_')}-{datetime.now().strftime('%m%d%Y-%H%M%S')}\"\n",
    "llama3_fn = lambda prompt: pass_to_ollama(prompt, model)\n",
    "\n",
    "\n",
    "logger = LogResult(run_id, do_write=True)\n",
    "indexes = len(valid_dataset)\n",
    "\n",
    "for i in tqdm(range(indexes)):\n",
    "    f, tex, ground_truth = valid_dataset.__getitem__(i)\n",
    "    found_tdms = []\n",
    "    sections = section_split(str(tex))\n",
    "    for section_name, section_text in sections:\n",
    "        response = llama3_fn(extract_tdms(section_text))\n",
    "\n",
    "        try:\n",
    "            response = json.loads(response)\n",
    "            parsed = convert_tdms_to_tuple(response)\n",
    "            found_tdms= [*found_tdms, *parsed]\n",
    "        except:\n",
    "            pass # no tuples found in section\n",
    "\n",
    "    # print(found_tdms)\n",
    "    if not found_tdms:\n",
    "        annotation = UNANSWERABLE # found_tdms are empty -> unanswerable\n",
    "    else:\n",
    "        # dedupe and format\n",
    "        annotation = format_tdms(found_tdms)\n",
    "    # log\n",
    "    logger.log(f, annotation)\n",
    "\n",
    "df = logger.save()\n",
    "\n",
    "\n",
    "df"
   ]
  },
  {
   "cell_type": "code",
   "execution_count": 5,
   "metadata": {},
   "outputs": [],
   "source": [
    "tex"
   ]
  },
  {
   "cell_type": "code",
   "execution_count": null,
   "metadata": {},
   "outputs": [],
   "source": [
    "parsed"
   ]
  },
  {
   "cell_type": "code",
   "execution_count": null,
   "metadata": {},
   "outputs": [],
   "source": [
    "import pandas as pd\n",
    "df_ground_truth = pd.DataFrame([{\"f\":f, \"ground_truth\":gt} for f, _, gt in [valid_dataset.__getitem__(i) for i in range(indexes)]])\n",
    "df_ground_truth"
   ]
  },
  {
   "cell_type": "code",
   "execution_count": null,
   "metadata": {},
   "outputs": [],
   "source": [
    "response"
   ]
  },
  {
   "cell_type": "code",
   "execution_count": null,
   "metadata": {},
   "outputs": [],
   "source": [
    "for i in range(10):\n",
    "    i, tex, jsn = valid_dataset.__getitem__(i)\n",
    "    print(jsn)"
   ]
  },
  {
   "cell_type": "code",
   "execution_count": null,
   "metadata": {},
   "outputs": [],
   "source": [
    "set([(r[\"Task\"], r[\"Dataset\"],r[\"Metric\"],r[\"Score\"]) for r in result])"
   ]
  },
  {
   "cell_type": "code",
   "execution_count": null,
   "metadata": {},
   "outputs": [],
   "source": [
    "ground_truth"
   ]
  },
  {
   "cell_type": "markdown",
   "metadata": {},
   "source": [
    "# Evaluation"
   ]
  },
  {
   "cell_type": "code",
   "execution_count": null,
   "metadata": {},
   "outputs": [],
   "source": [
    "# pct of success\n",
    "\n",
    "df[\"success\"] =df[\"ground_truth\"]==df[\"pred\"]\n",
    "len(df[df[\"success\"]]) / len(df)\n",
    "\n",
    "# .76"
   ]
  },
  {
   "cell_type": "code",
   "execution_count": null,
   "metadata": {},
   "outputs": [],
   "source": [
    "# confusion matrix\n",
    "import matplotlib.pyplot as plt\n",
    "from sklearn.metrics import confusion_matrix, ConfusionMatrixDisplay\n",
    "\n",
    "cm = confusion_matrix(df[\"ground_truth\"], df[\"pred\"])\n",
    "disp = ConfusionMatrixDisplay(confusion_matrix=cm)\n",
    "disp.plot()\n",
    "plt.show()"
   ]
  },
  {
   "cell_type": "code",
   "execution_count": null,
   "metadata": {},
   "outputs": [],
   "source": [
    "# random trial\n",
    "import random\n",
    "\n",
    "num_true = len(df[df[\"ground_truth\"]])\n",
    "num_tot = len(df)\n",
    "pct_true = num_true / num_tot\n",
    "\n",
    "\n",
    "df[\"random\"] = random.uniform(0, 1)\n",
    "df[\"random_success\"] = df[\"ground_truth\"] == (df[\"random\"] <= pct_true)\n",
    "len(df[df[\"random_success\"]]) / len(df)\n",
    "\n",
    "# duh..\n",
    "# .634 (random with distribution), .758 (baseline llama)\n",
    "# codalab: .53 (llama 2 baseline), .83 (top score)"
   ]
  },
  {
   "cell_type": "markdown",
   "metadata": {},
   "source": [
    "# Run on Test"
   ]
  },
  {
   "cell_type": "code",
   "execution_count": null,
   "metadata": {},
   "outputs": [],
   "source": [
    "# run on train data to evaluate method\n",
    "from tqdm import tqdm\n",
    "import pandas as pd\n",
    "from src.dataset import BinaryTDMSDataset, PATH, write_annotation_file, UNANSWERABLE\n",
    "from datetime import datetime\n",
    "\n",
    "\n",
    "test_dataset = BinaryTDMSDataset(PATH.TEST)\n",
    "model = \"llama3:70b\"\n",
    "\n",
    "run_id = f\"baseline-test_{model.replace(':', '_')}-{datetime.now().strftime('%m%d%Y-%H%M%S')}\"\n",
    "llama3_fn = lambda prompt: pass_to_ollama(prompt, model)\n",
    "\n",
    "results = []\n",
    "for i in tqdm(range(len(test_dataset))):\n",
    "# for i in tqdm(range(1)):\n",
    "    f, tex, _ = test_dataset.__getitem__(i)\n",
    "    pred = section_wise_detection(tex, llama3_fn)\n",
    "    write_annotation_file(run_id, f, UNANSWERABLE if not pred else \"Something was found\")\n",
    "    # print(f\"{f}: {pred} ({ground_truth})\")\n",
    "    results.append((f, pred))\n",
    "\n",
    "\n",
    "df = pd.DataFrame(results)\n",
    "df.columns = [\"file\", \"pred\"]\n",
    "df.to_feather(f\"results/{run_id}/df.feather\")"
   ]
  },
  {
   "cell_type": "code",
   "execution_count": null,
   "metadata": {},
   "outputs": [],
   "source": [
    "# # TODO: Test set evalutation\n",
    "\n",
    "# from src.dataset import BinaryTDMSDataset, PATH\n",
    "\n",
    "# test_dataset = BinaryTDMSDataset(PATH.TEST)\n",
    "\n",
    "# def get_index(folder):\n",
    "#     return [i for i, t, j in test_dataset.all_paths].index(folder)\n",
    "\n",
    "# i, tex, jsn = test_dataset.__getitem__(get_index(\"0706.0014\"))\n"
   ]
  },
  {
   "cell_type": "code",
   "execution_count": null,
   "metadata": {},
   "outputs": [],
   "source": [
    "res_path = \"first_baseline_70b.feather\"\n",
    "\n",
    "import pandas as pd\n",
    "\n",
    "df = pd.read_feather(res_path)\n",
    "\n"
   ]
  },
  {
   "cell_type": "code",
   "execution_count": null,
   "metadata": {},
   "outputs": [],
   "source": [
    "len(df)"
   ]
  },
  {
   "cell_type": "code",
   "execution_count": null,
   "metadata": {},
   "outputs": [],
   "source": [
    "len(df[df[\"pred\"]])"
   ]
  }
 ],
 "metadata": {
  "kernelspec": {
   "display_name": "Python 3 (ipykernel)",
   "language": "python",
   "name": "python3"
  }
 },
 "nbformat": 4,
 "nbformat_minor": 4
}
