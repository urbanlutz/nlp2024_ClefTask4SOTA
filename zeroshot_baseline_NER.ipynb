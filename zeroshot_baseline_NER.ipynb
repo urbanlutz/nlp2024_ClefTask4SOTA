{
 "cells": [
  {
   "cell_type": "code",
   "execution_count": 10,
   "metadata": {},
   "outputs": [],
   "source": [
    "import os\n",
    "if os.getcwd() == '/home/user/code':\n",
    "    os.chdir('/home/user/code/nlp2024_ClefTask4SOTA')"
   ]
  },
  {
   "cell_type": "code",
   "execution_count": 11,
   "metadata": {},
   "outputs": [],
   "source": [
    "from TexSoup import TexSoup\n",
    "\n",
    "def section_split(tex):\n",
    "    \"\"\"returns: List of tuples (section_name, section_text)\"\"\"\n",
    "    try:\n",
    "        soup = TexSoup(tex)\n",
    "\n",
    "        doc_text = tex\n",
    "\n",
    "        sections = []\n",
    "\n",
    "        sections.append((\"title\", soup.title.contents[0])) if soup.title else None\n",
    "        sections.append((\"abstract\", soup.abstract.contents[0])) if soup.abstract else None\n",
    "        sections.append((\"tables\", \"\\n\".join([str(node) for node in soup.find_all(\"table\")]))) if soup.find_all(\"table\") else None\n",
    "\n",
    "\n",
    "        # extract latex sections and corresponding text\n",
    "        prev_section = \"pre\"\n",
    "\n",
    "        for node in soup.find_all(\"section\"):\n",
    "            section_text, doc_text = doc_text.split(str(node), 1)\n",
    "            sections.append((prev_section, section_text))\n",
    "            prev_section = node.contents[0]\n",
    "        sections.append((prev_section, doc_text))\n",
    "        return sections\n",
    "    except:\n",
    "        return {\"full\": tex}\n",
    "    \n"
   ]
  },
  {
   "cell_type": "code",
   "execution_count": 12,
   "metadata": {},
   "outputs": [],
   "source": [
    "import ollama\n",
    "def pass_to_ollama(prompt, model):\n",
    "    try:\n",
    "        res = ollama.generate(model=model, prompt=prompt, options={\"temperature\": 0})\n",
    "        return res[\"response\"]\n",
    "    except Exception as ex:\n",
    "        print(ex)\n",
    "        return f\"ollama error: {ex}\""
   ]
  },
  {
   "cell_type": "code",
   "execution_count": 13,
   "metadata": {},
   "outputs": [
    {
     "ename": "ImportError",
     "evalue": "cannot import name 'LogResult' from 'src.dataset' (/home/user/code/nlp2024_ClefTask4SOTA/src/dataset.py)",
     "output_type": "error",
     "traceback": [
      "\u001b[0;31m---------------------------------------------------------------------------\u001b[0m",
      "\u001b[0;31mImportError\u001b[0m                               Traceback (most recent call last)",
      "Cell \u001b[0;32mIn[13], line 4\u001b[0m\n\u001b[1;32m      2\u001b[0m \u001b[38;5;28;01mimport\u001b[39;00m \u001b[38;5;21;01mtqdm\u001b[39;00m\n\u001b[1;32m      3\u001b[0m \u001b[38;5;28;01mfrom\u001b[39;00m \u001b[38;5;21;01mtqdm\u001b[39;00m \u001b[38;5;28;01mimport\u001b[39;00m tqdm\n\u001b[0;32m----> 4\u001b[0m \u001b[38;5;28;01mfrom\u001b[39;00m \u001b[38;5;21;01msrc\u001b[39;00m\u001b[38;5;21;01m.\u001b[39;00m\u001b[38;5;21;01mdataset\u001b[39;00m \u001b[38;5;28;01mimport\u001b[39;00m TDMSDataset, PATH, UNANSWERABLE, LogResult\n\u001b[1;32m      5\u001b[0m \u001b[38;5;28;01mfrom\u001b[39;00m \u001b[38;5;21;01mdatetime\u001b[39;00m \u001b[38;5;28;01mimport\u001b[39;00m datetime\n\u001b[1;32m      8\u001b[0m \u001b[38;5;28;01mdef\u001b[39;00m \u001b[38;5;21mextract_tdms\u001b[39m(tex):\n",
      "\u001b[0;31mImportError\u001b[0m: cannot import name 'LogResult' from 'src.dataset' (/home/user/code/nlp2024_ClefTask4SOTA/src/dataset.py)"
     ]
    }
   ],
   "source": [
    "import json\n",
    "import tqdm\n",
    "from tqdm import tqdm\n",
    "from src.dataset import TDMSDataset, PATH, UNANSWERABLE, LogResult\n",
    "from datetime import datetime\n",
    "\n",
    "\n",
    "def extract_tdms(tex):\n",
    "    return f'If the text reports benchmark leaderboard results, extract the reported Tasks, Datasets, Metrics and corresponding Scores.\\\n",
    "     \\n \\\n",
    "    Text: \\n {tex} \\n \\\n",
    "    Return the tasks, datasets, metrics and scores as reported in the text in a JSON array, \\\n",
    "    for example [{{\"Task\": \"example Task 1\", \"Dataset\": \"example Dataset 1\", \"Metric\": example metric 1\", \"Score\": \"score\"}}, {{\"Task\": \"example Task 1\",\"Dataset\": \"example Dataset 2\", \"Metric\": example metric 2\", \"Score\": \"score\"}}] and provide the JSON Array only. \\n \\\n",
    "    Do not include precision information in the reported score. \\\n",
    "    Entries: '\n",
    "\n",
    "def convert_tdms_to_tuple(model_output_parsed):\n",
    "    tuples = []\n",
    "    for item in l:\n",
    "        try:\n",
    "            t = ((item[\"Task\"], item[\"Dataset\"],item[\"Metric\"],item[\"Score\"]))\n",
    "            tuples.append(t)\n",
    "        except:\n",
    "            # parse error, ignore instance\n",
    "            pass\n",
    "\n",
    "def format_tdms(tuples):\n",
    "    \"\"\"make unique, format as string\"\"\"\n",
    "    unique = set(tuples)\n",
    "    dicts = [{\"LEADERBOARD\": {\n",
    "        \"Task\": t,\n",
    "        \"Dataset\":d,\n",
    "        \"Metric\":m,\n",
    "        \"Score\":s\n",
    "    }} for t,d,m,s in unique]\n",
    "    return str(dicts)\n",
    "\n",
    "\n",
    "\n",
    "# Run on validation data\n",
    "\n",
    "train_dataset = TDMSDataset(PATH.VAL)\n",
    "model = \"llama3:70b\"\n",
    "\n",
    "run_id = f\"baseline-tdms-valid_{model.replace(':', '_')}-{datetime.now().strftime('%m%d%Y-%H%M%S')}\"\n",
    "llama3_fn = lambda prompt: pass_to_ollama(prompt, model)\n",
    "\n",
    "\n",
    "logger = LogResult(run_id)\n",
    "indexes = 1\n",
    "\n",
    "for i in tqdm(range(indexes)):\n",
    "    f, tex, ground_truth = train_dataset.__getitem__(100)\n",
    "    found_tdms = []\n",
    "    sections = section_split(tex)\n",
    "    for section_name, section_text in sections:\n",
    "        response = llama3_fn(extract_tdms(section_text))\n",
    "\n",
    "        try:\n",
    "            response = json.loads(response)\n",
    "            parsed = convert_tdms_to_tuple(response)\n",
    "            found_tdms= [*found_tdms, *parsed]\n",
    "        except:\n",
    "            pass # no tuples found in section\n",
    "\n",
    "    # flatten across sections\n",
    "    results = [section_tdms for section in found_tdms for section_tdms in section]\n",
    "    if not results:\n",
    "        annotation = UNANSWERABLE # results are empty -> unanswerable\n",
    "    else:\n",
    "        # dedupe and format\n",
    "        results = format_tdms(results, do_write=False)\n",
    "    # log\n",
    "    logger.log(f, results)\n",
    "\n",
    "df = logger.save()\n",
    "\n",
    "\n",
    "df"
   ]
  },
  {
   "cell_type": "code",
   "execution_count": null,
   "metadata": {},
   "outputs": [
    {
     "ename": "",
     "evalue": "",
     "output_type": "error",
     "traceback": [
      "\u001b[1;31mnotebook controller is DISPOSED. \n",
      "\u001b[1;31mView Jupyter <a href='command:jupyter.viewOutput'>log</a> for further details."
     ]
    },
    {
     "ename": "",
     "evalue": "",
     "output_type": "error",
     "traceback": [
      "\u001b[1;31mnotebook controller is DISPOSED. \n",
      "\u001b[1;31mView Jupyter <a href='command:jupyter.viewOutput'>log</a> for further details."
     ]
    },
    {
     "ename": "",
     "evalue": "",
     "output_type": "error",
     "traceback": [
      "\u001b[1;31mnotebook controller is DISPOSED. \n",
      "\u001b[1;31mView Jupyter <a href='command:jupyter.viewOutput'>log</a> for further details."
     ]
    }
   ],
   "source": [
    "results\n",
    "\n"
   ]
  },
  {
   "cell_type": "code",
   "execution_count": null,
   "metadata": {},
   "outputs": [
    {
     "ename": "",
     "evalue": "",
     "output_type": "error",
     "traceback": [
      "\u001b[1;31mnotebook controller is DISPOSED. \n",
      "\u001b[1;31mView Jupyter <a href='command:jupyter.viewOutput'>log</a> for further details."
     ]
    },
    {
     "ename": "",
     "evalue": "",
     "output_type": "error",
     "traceback": [
      "\u001b[1;31mnotebook controller is DISPOSED. \n",
      "\u001b[1;31mView Jupyter <a href='command:jupyter.viewOutput'>log</a> for further details."
     ]
    }
   ],
   "source": [
    "set([(r[\"Task\"], r[\"Dataset\"],r[\"Metric\"],r[\"Score\"]) for r in result])"
   ]
  },
  {
   "cell_type": "code",
   "execution_count": null,
   "metadata": {},
   "outputs": [
    {
     "ename": "",
     "evalue": "",
     "output_type": "error",
     "traceback": [
      "\u001b[1;31mnotebook controller is DISPOSED. \n",
      "\u001b[1;31mView Jupyter <a href='command:jupyter.viewOutput'>log</a> for further details."
     ]
    },
    {
     "ename": "",
     "evalue": "",
     "output_type": "error",
     "traceback": [
      "\u001b[1;31mnotebook controller is DISPOSED. \n",
      "\u001b[1;31mView Jupyter <a href='command:jupyter.viewOutput'>log</a> for further details."
     ]
    }
   ],
   "source": [
    "ground_truth"
   ]
  },
  {
   "cell_type": "markdown",
   "metadata": {},
   "source": [
    "# Evaluation"
   ]
  },
  {
   "cell_type": "code",
   "execution_count": null,
   "metadata": {},
   "outputs": [
    {
     "ename": "",
     "evalue": "",
     "output_type": "error",
     "traceback": [
      "\u001b[1;31mnotebook controller is DISPOSED. \n",
      "\u001b[1;31mView Jupyter <a href='command:jupyter.viewOutput'>log</a> for further details."
     ]
    },
    {
     "ename": "",
     "evalue": "",
     "output_type": "error",
     "traceback": [
      "\u001b[1;31mnotebook controller is DISPOSED. \n",
      "\u001b[1;31mView Jupyter <a href='command:jupyter.viewOutput'>log</a> for further details."
     ]
    }
   ],
   "source": [
    "# pct of success\n",
    "\n",
    "df[\"success\"] =df[\"ground_truth\"]==df[\"pred\"]\n",
    "len(df[df[\"success\"]]) / len(df)\n",
    "\n",
    "# .76"
   ]
  },
  {
   "cell_type": "code",
   "execution_count": null,
   "metadata": {},
   "outputs": [
    {
     "ename": "",
     "evalue": "",
     "output_type": "error",
     "traceback": [
      "\u001b[1;31mnotebook controller is DISPOSED. \n",
      "\u001b[1;31mView Jupyter <a href='command:jupyter.viewOutput'>log</a> for further details."
     ]
    },
    {
     "ename": "",
     "evalue": "",
     "output_type": "error",
     "traceback": [
      "\u001b[1;31mnotebook controller is DISPOSED. \n",
      "\u001b[1;31mView Jupyter <a href='command:jupyter.viewOutput'>log</a> for further details."
     ]
    }
   ],
   "source": [
    "# confusion matrix\n",
    "import matplotlib.pyplot as plt\n",
    "from sklearn.metrics import confusion_matrix, ConfusionMatrixDisplay\n",
    "\n",
    "cm = confusion_matrix(df[\"ground_truth\"], df[\"pred\"])\n",
    "disp = ConfusionMatrixDisplay(confusion_matrix=cm)\n",
    "disp.plot()\n",
    "plt.show()"
   ]
  },
  {
   "cell_type": "code",
   "execution_count": null,
   "metadata": {},
   "outputs": [
    {
     "ename": "",
     "evalue": "",
     "output_type": "error",
     "traceback": [
      "\u001b[1;31mnotebook controller is DISPOSED. \n",
      "\u001b[1;31mView Jupyter <a href='command:jupyter.viewOutput'>log</a> for further details."
     ]
    },
    {
     "ename": "",
     "evalue": "",
     "output_type": "error",
     "traceback": [
      "\u001b[1;31mnotebook controller is DISPOSED. \n",
      "\u001b[1;31mView Jupyter <a href='command:jupyter.viewOutput'>log</a> for further details."
     ]
    }
   ],
   "source": [
    "# random trial\n",
    "import random\n",
    "\n",
    "num_true = len(df[df[\"ground_truth\"]])\n",
    "num_tot = len(df)\n",
    "pct_true = num_true / num_tot\n",
    "\n",
    "\n",
    "df[\"random\"] = random.uniform(0, 1)\n",
    "df[\"random_success\"] = df[\"ground_truth\"] == (df[\"random\"] <= pct_true)\n",
    "len(df[df[\"random_success\"]]) / len(df)\n",
    "\n",
    "# duh..\n",
    "# .634 (random with distribution), .758 (baseline llama)\n",
    "# codalab: .53 (llama 2 baseline), .83 (top score)"
   ]
  },
  {
   "cell_type": "markdown",
   "metadata": {},
   "source": [
    "# Run on Test"
   ]
  },
  {
   "cell_type": "code",
   "execution_count": null,
   "metadata": {},
   "outputs": [
    {
     "ename": "",
     "evalue": "",
     "output_type": "error",
     "traceback": [
      "\u001b[1;31mnotebook controller is DISPOSED. \n",
      "\u001b[1;31mView Jupyter <a href='command:jupyter.viewOutput'>log</a> for further details."
     ]
    },
    {
     "ename": "",
     "evalue": "",
     "output_type": "error",
     "traceback": [
      "\u001b[1;31mnotebook controller is DISPOSED. \n",
      "\u001b[1;31mView Jupyter <a href='command:jupyter.viewOutput'>log</a> for further details."
     ]
    }
   ],
   "source": [
    "# run on train data to evaluate method\n",
    "from tqdm import tqdm\n",
    "import pandas as pd\n",
    "from src.dataset import BinaryTDMSDataset, PATH, write_annotation_file, UNANSWERABLE\n",
    "from datetime import datetime\n",
    "\n",
    "\n",
    "test_dataset = BinaryTDMSDataset(PATH.TEST)\n",
    "model = \"llama3:70b\"\n",
    "\n",
    "run_id = f\"baseline-test_{model.replace(':', '_')}-{datetime.now().strftime('%m%d%Y-%H%M%S')}\"\n",
    "llama3_fn = lambda prompt: pass_to_ollama(prompt, model)\n",
    "\n",
    "results = []\n",
    "for i in tqdm(range(len(test_dataset))):\n",
    "# for i in tqdm(range(1)):\n",
    "    f, tex, _ = test_dataset.__getitem__(i)\n",
    "    pred = section_wise_detection(tex, llama3_fn)\n",
    "    write_annotation_file(run_id, f, UNANSWERABLE if not pred else \"Something was found\")\n",
    "    # print(f\"{f}: {pred} ({ground_truth})\")\n",
    "    results.append((f, pred))\n",
    "\n",
    "\n",
    "df = pd.DataFrame(results)\n",
    "df.columns = [\"file\", \"pred\"]\n",
    "df.to_feather(f\"results/{run_id}/df.feather\")"
   ]
  },
  {
   "cell_type": "code",
   "execution_count": null,
   "metadata": {},
   "outputs": [
    {
     "ename": "",
     "evalue": "",
     "output_type": "error",
     "traceback": [
      "\u001b[1;31mnotebook controller is DISPOSED. \n",
      "\u001b[1;31mView Jupyter <a href='command:jupyter.viewOutput'>log</a> for further details."
     ]
    },
    {
     "ename": "",
     "evalue": "",
     "output_type": "error",
     "traceback": [
      "\u001b[1;31mnotebook controller is DISPOSED. \n",
      "\u001b[1;31mView Jupyter <a href='command:jupyter.viewOutput'>log</a> for further details."
     ]
    }
   ],
   "source": [
    "# # TODO: Test set evalutation\n",
    "\n",
    "# from src.dataset import BinaryTDMSDataset, PATH\n",
    "\n",
    "# test_dataset = BinaryTDMSDataset(PATH.TEST)\n",
    "\n",
    "# def get_index(folder):\n",
    "#     return [i for i, t, j in test_dataset.all_paths].index(folder)\n",
    "\n",
    "# i, tex, jsn = test_dataset.__getitem__(get_index(\"0706.0014\"))\n"
   ]
  },
  {
   "cell_type": "code",
   "execution_count": null,
   "metadata": {},
   "outputs": [
    {
     "ename": "",
     "evalue": "",
     "output_type": "error",
     "traceback": [
      "\u001b[1;31mnotebook controller is DISPOSED. \n",
      "\u001b[1;31mView Jupyter <a href='command:jupyter.viewOutput'>log</a> for further details."
     ]
    },
    {
     "ename": "",
     "evalue": "",
     "output_type": "error",
     "traceback": [
      "\u001b[1;31mnotebook controller is DISPOSED. \n",
      "\u001b[1;31mView Jupyter <a href='command:jupyter.viewOutput'>log</a> for further details."
     ]
    }
   ],
   "source": [
    "res_path = \"first_baseline_70b.feather\"\n",
    "\n",
    "import pandas as pd\n",
    "\n",
    "df = pd.read_feather(res_path)\n",
    "\n"
   ]
  },
  {
   "cell_type": "code",
   "execution_count": null,
   "metadata": {},
   "outputs": [
    {
     "ename": "",
     "evalue": "",
     "output_type": "error",
     "traceback": [
      "\u001b[1;31mnotebook controller is DISPOSED. \n",
      "\u001b[1;31mView Jupyter <a href='command:jupyter.viewOutput'>log</a> for further details."
     ]
    },
    {
     "ename": "",
     "evalue": "",
     "output_type": "error",
     "traceback": [
      "\u001b[1;31mnotebook controller is DISPOSED. \n",
      "\u001b[1;31mView Jupyter <a href='command:jupyter.viewOutput'>log</a> for further details."
     ]
    }
   ],
   "source": [
    "len(df)"
   ]
  },
  {
   "cell_type": "code",
   "execution_count": null,
   "metadata": {},
   "outputs": [
    {
     "ename": "",
     "evalue": "",
     "output_type": "error",
     "traceback": [
      "\u001b[1;31mnotebook controller is DISPOSED. \n",
      "\u001b[1;31mView Jupyter <a href='command:jupyter.viewOutput'>log</a> for further details."
     ]
    },
    {
     "ename": "",
     "evalue": "",
     "output_type": "error",
     "traceback": [
      "\u001b[1;31mnotebook controller is DISPOSED. \n",
      "\u001b[1;31mView Jupyter <a href='command:jupyter.viewOutput'>log</a> for further details."
     ]
    }
   ],
   "source": [
    "len(df[df[\"pred\"]])"
   ]
  }
 ],
 "metadata": {
  "kernelspec": {
   "display_name": "Python 3 (ipykernel)",
   "language": "python",
   "name": "python3"
  },
  "language_info": {
   "codemirror_mode": {
    "name": "ipython",
    "version": 3
   },
   "file_extension": ".py",
   "mimetype": "text/x-python",
   "name": "python",
   "nbconvert_exporter": "python",
   "pygments_lexer": "ipython3",
   "version": "3.10.14"
  }
 },
 "nbformat": 4,
 "nbformat_minor": 4
}
