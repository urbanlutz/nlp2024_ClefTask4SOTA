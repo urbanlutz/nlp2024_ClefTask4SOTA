{
 "cells": [
  {
   "cell_type": "code",
   "execution_count": 1,
   "metadata": {},
   "outputs": [],
   "source": [
    "import os\n",
    "if os.getcwd() == '/home/user/code':\n",
    "    os.chdir('/home/user/code/nlp2024_ClefTask4SOTA')"
   ]
  },
  {
   "cell_type": "code",
   "execution_count": 2,
   "metadata": {},
   "outputs": [],
   "source": [
    "# Load a specific run\n",
    "run_id = \"baseline-tdms-valid_llama3_70b-05202024-224045\"\n",
    "\n",
    "path = f\"results/{run_id}/df.feather\"\n",
    "\n",
    "import pandas as pd\n",
    "df = pd.read_feather(path)\n"
   ]
  },
  {
   "cell_type": "code",
   "execution_count": 3,
   "metadata": {},
   "outputs": [],
   "source": [
    "# Load ground truth\n",
    "from src.dataset import TDMSDataset, PATH, UNANSWERABLE, LogResult\n",
    "valid_dataset = TDMSDataset(PATH.VAL)\n",
    "df_ground_truth = pd.DataFrame([{\"f\":f, \"ground_truth\":gt} for f, _, gt in [valid_dataset.__getitem__(i) for i in range(len(df))]])\n",
    "df = df_ground_truth.merge(df, on=\"f\")"
   ]
  },
  {
   "cell_type": "code",
   "execution_count": 4,
   "metadata": {},
   "outputs": [
    {
     "name": "stderr",
     "output_type": "stream",
     "text": [
      "2024-05-21 08:37:35.219016: I tensorflow/core/platform/cpu_feature_guard.cc:210] This TensorFlow binary is optimized to use available CPU instructions in performance-critical operations.\n",
      "To enable the following instructions: AVX2 AVX512F FMA, in other operations, rebuild TensorFlow with the appropriate compiler flags.\n",
      "/home/user/.venv/lib/python3.10/site-packages/fuzzywuzzy/fuzz.py:11: UserWarning: Using slow pure-python SequenceMatcher. Install python-Levenshtein to remove this warning\n",
      "  warnings.warn('Using slow pure-python SequenceMatcher. Install python-Levenshtein to remove this warning')\n"
     ]
    }
   ],
   "source": [
    "# evaluate\n",
    "from scoring_program.evaluation import Metrics\n",
    "\n",
    "results = Metrics.evaluate_property_wise_json_based(\n",
    "    label_list=list(df[\"ground_truth\"]), prediction_list=list(df[\"annotation\"])\n",
    ")\n",
    "\n",
    "results.update(\n",
    "    Metrics.evaluate_rouge(label_list=list(df[\"ground_truth\"]), prediction_list=list(df[\"annotation\"]))\n",
    ")\n",
    "pd.DataFrame([results]).T"
   ]
  }
 ],
 "metadata": {
  "kernelspec": {
   "display_name": "Python 3 (ipykernel)",
   "language": "python",
   "name": "python3"
  },
  "language_info": {
   "codemirror_mode": {
    "name": "ipython",
    "version": 3
   },
   "file_extension": ".py",
   "mimetype": "text/x-python",
   "name": "python",
   "nbconvert_exporter": "python",
   "pygments_lexer": "ipython3",
   "version": "3.10.14"
  }
 },
 "nbformat": 4,
 "nbformat_minor": 2
}
