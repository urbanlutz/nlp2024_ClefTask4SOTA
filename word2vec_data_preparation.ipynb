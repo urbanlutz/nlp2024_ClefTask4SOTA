{
 "cells": [
  {
   "cell_type": "markdown",
   "source": [
    "# Data preparation\n",
    "\n",
    "Go through every .tex file\n",
    "* Extract clean section names\n",
    "\n",
    "Put data in a pandas dataframe that we can easily use for Word2Vec latter"
   ],
   "metadata": {
    "collapsed": false
   },
   "id": "367336b54ab88526"
  },
  {
   "cell_type": "code",
   "execution_count": 13,
   "id": "564e5be8",
   "metadata": {
    "ExecuteTime": {
     "end_time": "2024-06-04T12:04:04.003425Z",
     "start_time": "2024-06-04T12:04:03.994551Z"
    }
   },
   "outputs": [],
   "source": [
    "import os\n",
    "import re\n",
    "import pandas as pd\n",
    "\n",
    "# Function to parse LaTeX files and extract section titles\n",
    "def parse_latex_files(directory):\n",
    "    data = []\n",
    "    section_regex = r'\\\\(?:sub)*section\\*?\\{([^\\}]+)\\}|\\\\begin\\{abstract\\}'\n",
    "\n",
    "    # Walk through the directory\n",
    "    for root, dirs, files in os.walk(directory):\n",
    "        for file in files:\n",
    "            if file.endswith(\".tex\"):\n",
    "                file_path = os.path.join(root, file)\n",
    "                try:\n",
    "                    with open(file_path, 'r', encoding='utf-8') as f:\n",
    "                        content = f.read()\n",
    "                        content = re.sub(r'\\n', ' ', content)  # Replace newlines with spaces\n",
    "                        titles = re.findall(section_regex, content)\n",
    "                        for title in titles:\n",
    "                            if title == 'abstract':\n",
    "                                title = 'Abstract'  # Normalize the abstract title\n",
    "                            data.append({'file': file, 'section_title': title})\n",
    "                except UnicodeDecodeError:\n",
    "                    # Some texts are in french and fail with utf-8 due to special characters\n",
    "                    # Try reading with 'latin-1' encoding if utf-8 fails\n",
    "                    try:\n",
    "                        with open(file_path, 'r', encoding='latin-1') as f:\n",
    "                            content = f.read()\n",
    "                            content = re.sub(r'\\n', ' ', content)  # Replace newlines with spaces\n",
    "                            titles = re.findall(section_regex, content)\n",
    "                            for title in titles:\n",
    "                                if title == 'abstract':\n",
    "                                    title = 'Abstract'  # Normalize the abstract title\n",
    "                                data.append({'file': file, 'section_title': title})\n",
    "                    except Exception as e:\n",
    "                        print(f\"Failed to read file {file} with error: {e}\")\n",
    "    return pd.DataFrame(data)\n"
   ]
  },
  {
   "cell_type": "markdown",
   "source": [
    "Let's correctly set the directory to the dataset"
   ],
   "metadata": {
    "collapsed": false
   },
   "id": "950a116d0bad86bd"
  },
  {
   "cell_type": "code",
   "execution_count": 15,
   "outputs": [
    {
     "name": "stdout",
     "output_type": "stream",
     "text": [
      "/Users/christophzweifel/Downloads/Word2Vec\n"
     ]
    }
   ],
   "source": [
    "# Current working dir\n",
    "print(os.getcwd())"
   ],
   "metadata": {
    "collapsed": false,
    "ExecuteTime": {
     "end_time": "2024-06-04T12:06:54.899679Z",
     "start_time": "2024-06-04T12:06:54.887830Z"
    }
   },
   "id": "52d18226805b4e25"
  },
  {
   "cell_type": "markdown",
   "source": [
    "Do the actual extraction"
   ],
   "metadata": {
    "collapsed": false
   },
   "id": "ea1e3589a62a8b87"
  },
  {
   "cell_type": "code",
   "execution_count": 16,
   "id": "7641876f",
   "metadata": {
    "ExecuteTime": {
     "end_time": "2024-06-04T12:07:02.516139Z",
     "start_time": "2024-06-04T12:06:57.846449Z"
    }
   },
   "outputs": [
    {
     "data": {
      "text/plain": "                    file                                 section_title\n0       1905.00526v2.tex                                              \n1       1905.00526v2.tex                                  Introduction\n2       1905.00526v2.tex                                  Related Work\n3       1905.00526v2.tex                 Radar Region Proposal Network\n4       1905.00526v2.tex                    Perspective Transformation\n...                  ...                                           ...\n205630     1209.0359.tex                      Communicating  Processes\n205631     1209.0359.tex             Recursive Communicating Processes\n205632     1209.0359.tex  Topologies with Decidable State Reachability\n205633     1209.0359.tex          Eager \\qcp and the Mutex Restriction\n205634     1209.0359.tex                                    Conclusion\n\n[205635 rows x 2 columns]",
      "text/html": "<div>\n<style scoped>\n    .dataframe tbody tr th:only-of-type {\n        vertical-align: middle;\n    }\n\n    .dataframe tbody tr th {\n        vertical-align: top;\n    }\n\n    .dataframe thead th {\n        text-align: right;\n    }\n</style>\n<table border=\"1\" class=\"dataframe\">\n  <thead>\n    <tr style=\"text-align: right;\">\n      <th></th>\n      <th>file</th>\n      <th>section_title</th>\n    </tr>\n  </thead>\n  <tbody>\n    <tr>\n      <th>0</th>\n      <td>1905.00526v2.tex</td>\n      <td></td>\n    </tr>\n    <tr>\n      <th>1</th>\n      <td>1905.00526v2.tex</td>\n      <td>Introduction</td>\n    </tr>\n    <tr>\n      <th>2</th>\n      <td>1905.00526v2.tex</td>\n      <td>Related Work</td>\n    </tr>\n    <tr>\n      <th>3</th>\n      <td>1905.00526v2.tex</td>\n      <td>Radar Region Proposal Network</td>\n    </tr>\n    <tr>\n      <th>4</th>\n      <td>1905.00526v2.tex</td>\n      <td>Perspective Transformation</td>\n    </tr>\n    <tr>\n      <th>...</th>\n      <td>...</td>\n      <td>...</td>\n    </tr>\n    <tr>\n      <th>205630</th>\n      <td>1209.0359.tex</td>\n      <td>Communicating  Processes</td>\n    </tr>\n    <tr>\n      <th>205631</th>\n      <td>1209.0359.tex</td>\n      <td>Recursive Communicating Processes</td>\n    </tr>\n    <tr>\n      <th>205632</th>\n      <td>1209.0359.tex</td>\n      <td>Topologies with Decidable State Reachability</td>\n    </tr>\n    <tr>\n      <th>205633</th>\n      <td>1209.0359.tex</td>\n      <td>Eager \\qcp and the Mutex Restriction</td>\n    </tr>\n    <tr>\n      <th>205634</th>\n      <td>1209.0359.tex</td>\n      <td>Conclusion</td>\n    </tr>\n  </tbody>\n</table>\n<p>205635 rows × 2 columns</p>\n</div>"
     },
     "execution_count": 16,
     "metadata": {},
     "output_type": "execute_result"
    }
   ],
   "source": [
    "# Parse the LaTeX files in the extracted directory\n",
    "latex_data = parse_latex_files('/Users/christophzweifel/Downloads/Word2Vec/dataset/train')\n",
    "latex_data"
   ]
  },
  {
   "cell_type": "markdown",
   "source": [
    "And save it in a .csv file (intermediary result)"
   ],
   "metadata": {
    "collapsed": false
   },
   "id": "4d934a5005c50592"
  },
  {
   "cell_type": "code",
   "execution_count": 17,
   "id": "0649c81a",
   "metadata": {
    "ExecuteTime": {
     "end_time": "2024-06-04T12:07:05.405621Z",
     "start_time": "2024-06-04T12:07:05.234783Z"
    }
   },
   "outputs": [
    {
     "name": "stdout",
     "output_type": "stream",
     "text": [
      "Data saved to CSV at section_titles.csv\n"
     ]
    }
   ],
   "source": [
    "# Path for the CSV file\n",
    "csv_path = 'section_titles.csv'  # Update this path to where you want to save the CSV\n",
    "\n",
    "# Save the dataframe to a CSV file\n",
    "latex_data.to_csv(csv_path, index=False)\n",
    "\n",
    "print(f\"Data saved to CSV at {csv_path}\")"
   ]
  }
 ],
 "metadata": {
  "kernelspec": {
   "display_name": "Python 3 (ipykernel)",
   "language": "python",
   "name": "python3"
  },
  "language_info": {
   "codemirror_mode": {
    "name": "ipython",
    "version": 3
   },
   "file_extension": ".py",
   "mimetype": "text/x-python",
   "name": "python",
   "nbconvert_exporter": "python",
   "pygments_lexer": "ipython3",
   "version": "3.11.5"
  }
 },
 "nbformat": 4,
 "nbformat_minor": 5
}
