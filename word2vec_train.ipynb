{
 "cells": [
  {
   "cell_type": "markdown",
   "id": "JgXPRi7t_1-a",
   "metadata": {
    "id": "JgXPRi7t_1-a"
   },
   "source": [
    "**Idea**\n",
    "Dataset contains 1401 research papers. Each paper has its own structure and some are written in English and French. The structure of most scientific research papers follows: abstract, introduction, ..., related work, results, conclusion.\n",
    "\n",
    "Use df or .csv to create a word2vec model with all section names. Thus, we can use word similarity for further tests.\n"
   ]
  },
  {
   "cell_type": "code",
   "execution_count": null,
   "id": "cordless-gnome",
   "metadata": {
    "id": "cordless-gnome"
   },
   "outputs": [],
   "source": [
    "# !pip install gensim\n",
    "# !pip install python-Levenshtein"
   ]
  },
  {
   "cell_type": "code",
   "execution_count": 1,
   "id": "ysCbB-x8RC_t",
   "metadata": {
    "ExecuteTime": {
     "end_time": "2024-06-04T12:09:50.202995Z",
     "start_time": "2024-06-04T12:09:50.199904Z"
    },
    "colab": {
     "base_uri": "https://localhost:8080/"
    },
    "executionInfo": {
     "elapsed": 2926,
     "status": "ok",
     "timestamp": 1717338663483,
     "user": {
      "displayName": "Waqar Ashiq",
      "userId": "05066807676686284766"
     },
     "user_tz": -300
    },
    "id": "ysCbB-x8RC_t",
    "outputId": "ff399275-b319-4ea9-e04a-657bbb987ba4"
   },
   "outputs": [],
   "source": [
    "# Currently not necessary\n",
    "#from google.colab import drive\n",
    "#drive.mount('/content/drive')"
   ]
  },
  {
   "cell_type": "code",
   "execution_count": 2,
   "id": "conceptual-transcription",
   "metadata": {
    "ExecuteTime": {
     "end_time": "2024-06-04T12:09:53.802293Z",
     "start_time": "2024-06-04T12:09:51.870086Z"
    },
    "executionInfo": {
     "elapsed": 4345,
     "status": "ok",
     "timestamp": 1717338669590,
     "user": {
      "displayName": "Waqar Ashiq",
      "userId": "05066807676686284766"
     },
     "user_tz": -300
    },
    "id": "conceptual-transcription"
   },
   "outputs": [
    {
     "name": "stderr",
     "output_type": "stream",
     "text": [
      "/Users/christophzweifel/Library/Python/3.9/lib/python/site-packages/urllib3/__init__.py:34: NotOpenSSLWarning: urllib3 v2.0 only supports OpenSSL 1.1.1+, currently the 'ssl' module is compiled with 'LibreSSL 2.8.3'. See: https://github.com/urllib3/urllib3/issues/3020\n",
      "  warnings.warn(\n"
     ]
    }
   ],
   "source": [
    "import gensim\n",
    "import pandas as pd"
   ]
  },
  {
   "cell_type": "markdown",
   "id": "still-saver",
   "metadata": {
    "id": "still-saver"
   },
   "source": [
    "### Reading and Exploring the Dataset\n",
    "The train dataset we are using here are 1401 research papers. The data is stored as a LaTeX file and should be read using pandas dataframe. See here for data [preparation](Data Preparation Code.ipynb)\n",
    "\n",
    "Link to the Dataset: https://github.com/jd-coderepos/sota/tree/master/dataset/train"
   ]
  },
  {
   "cell_type": "code",
   "execution_count": 3,
   "id": "residential-people",
   "metadata": {
    "ExecuteTime": {
     "end_time": "2024-06-04T12:12:59.278779Z",
     "start_time": "2024-06-04T12:12:59.174237Z"
    },
    "colab": {
     "base_uri": "https://localhost:8080/",
     "height": 423
    },
    "executionInfo": {
     "elapsed": 789,
     "status": "ok",
     "timestamp": 1717338672851,
     "user": {
      "displayName": "Waqar Ashiq",
      "userId": "05066807676686284766"
     },
     "user_tz": -300
    },
    "id": "residential-people",
    "outputId": "3ab2c960-6d5f-415c-882b-a0a9dff23fd5"
   },
   "outputs": [
    {
     "name": "stdout",
     "output_type": "stream",
     "text": [
      "/Users/christophzweifel/Downloads/Word2Vec\n"
     ]
    },
    {
     "data": {
      "text/html": [
       "<div>\n",
       "<style scoped>\n",
       "    .dataframe tbody tr th:only-of-type {\n",
       "        vertical-align: middle;\n",
       "    }\n",
       "\n",
       "    .dataframe tbody tr th {\n",
       "        vertical-align: top;\n",
       "    }\n",
       "\n",
       "    .dataframe thead th {\n",
       "        text-align: right;\n",
       "    }\n",
       "</style>\n",
       "<table border=\"1\" class=\"dataframe\">\n",
       "  <thead>\n",
       "    <tr style=\"text-align: right;\">\n",
       "      <th></th>\n",
       "      <th>file</th>\n",
       "      <th>section_title</th>\n",
       "    </tr>\n",
       "  </thead>\n",
       "  <tbody>\n",
       "    <tr>\n",
       "      <th>0</th>\n",
       "      <td>1905.00526v2.tex</td>\n",
       "      <td>NaN</td>\n",
       "    </tr>\n",
       "    <tr>\n",
       "      <th>1</th>\n",
       "      <td>1905.00526v2.tex</td>\n",
       "      <td>Introduction</td>\n",
       "    </tr>\n",
       "    <tr>\n",
       "      <th>2</th>\n",
       "      <td>1905.00526v2.tex</td>\n",
       "      <td>Related Work</td>\n",
       "    </tr>\n",
       "    <tr>\n",
       "      <th>3</th>\n",
       "      <td>1905.00526v2.tex</td>\n",
       "      <td>Radar Region Proposal Network</td>\n",
       "    </tr>\n",
       "    <tr>\n",
       "      <th>4</th>\n",
       "      <td>1905.00526v2.tex</td>\n",
       "      <td>Perspective Transformation</td>\n",
       "    </tr>\n",
       "    <tr>\n",
       "      <th>...</th>\n",
       "      <td>...</td>\n",
       "      <td>...</td>\n",
       "    </tr>\n",
       "    <tr>\n",
       "      <th>205630</th>\n",
       "      <td>1209.0359.tex</td>\n",
       "      <td>Communicating  Processes</td>\n",
       "    </tr>\n",
       "    <tr>\n",
       "      <th>205631</th>\n",
       "      <td>1209.0359.tex</td>\n",
       "      <td>Recursive Communicating Processes</td>\n",
       "    </tr>\n",
       "    <tr>\n",
       "      <th>205632</th>\n",
       "      <td>1209.0359.tex</td>\n",
       "      <td>Topologies with Decidable State Reachability</td>\n",
       "    </tr>\n",
       "    <tr>\n",
       "      <th>205633</th>\n",
       "      <td>1209.0359.tex</td>\n",
       "      <td>Eager \\qcp and the Mutex Restriction</td>\n",
       "    </tr>\n",
       "    <tr>\n",
       "      <th>205634</th>\n",
       "      <td>1209.0359.tex</td>\n",
       "      <td>Conclusion</td>\n",
       "    </tr>\n",
       "  </tbody>\n",
       "</table>\n",
       "<p>205635 rows × 2 columns</p>\n",
       "</div>"
      ],
      "text/plain": [
       "                    file                                 section_title\n",
       "0       1905.00526v2.tex                                           NaN\n",
       "1       1905.00526v2.tex                                  Introduction\n",
       "2       1905.00526v2.tex                                  Related Work\n",
       "3       1905.00526v2.tex                 Radar Region Proposal Network\n",
       "4       1905.00526v2.tex                    Perspective Transformation\n",
       "...                  ...                                           ...\n",
       "205630     1209.0359.tex                      Communicating  Processes\n",
       "205631     1209.0359.tex             Recursive Communicating Processes\n",
       "205632     1209.0359.tex  Topologies with Decidable State Reachability\n",
       "205633     1209.0359.tex          Eager \\qcp and the Mutex Restriction\n",
       "205634     1209.0359.tex                                    Conclusion\n",
       "\n",
       "[205635 rows x 2 columns]"
      ]
     },
     "execution_count": 3,
     "metadata": {},
     "output_type": "execute_result"
    }
   ],
   "source": [
    "import os\n",
    "\n",
    "# Current working dir\n",
    "print(os.getcwd())\n",
    "\n",
    "pathToDatasetFiles = \"/Users/christophzweifel/Downloads/Word2Vec/section_titles.csv\"\n",
    "df = pd.read_csv(pathToDatasetFiles)\n",
    "df"
   ]
  },
  {
   "cell_type": "markdown",
   "id": "EDRImQa__uzD",
   "metadata": {
    "id": "EDRImQa__uzD"
   },
   "source": [
    "The 1401 research paper contain X number of section names:"
   ]
  },
  {
   "cell_type": "code",
   "execution_count": 10,
   "id": "parliamentary-relations",
   "metadata": {
    "ExecuteTime": {
     "end_time": "2024-06-04T12:15:30.194698Z",
     "start_time": "2024-06-04T12:15:30.183024Z"
    },
    "colab": {
     "base_uri": "https://localhost:8080/"
    },
    "executionInfo": {
     "elapsed": 607,
     "status": "ok",
     "timestamp": 1717338677353,
     "user": {
      "displayName": "Waqar Ashiq",
      "userId": "05066807676686284766"
     },
     "user_tz": -300
    },
    "id": "parliamentary-relations",
    "outputId": "f2964f08-6a43-4d62-ac0d-d0b30473ab09"
   },
   "outputs": [
    {
     "data": {
      "text/plain": [
       "(205635, 2)"
      ]
     },
     "execution_count": 10,
     "metadata": {},
     "output_type": "execute_result"
    }
   ],
   "source": [
    "df.shape"
   ]
  },
  {
   "cell_type": "markdown",
   "id": "acc091c64e7352c1",
   "metadata": {
    "collapsed": false
   },
   "source": [
    "Number of unique section names in all research papers:"
   ]
  },
  {
   "cell_type": "code",
   "execution_count": 11,
   "id": "As55v4n1SAxb",
   "metadata": {
    "ExecuteTime": {
     "end_time": "2024-06-04T12:15:32.991333Z",
     "start_time": "2024-06-04T12:15:32.982816Z"
    },
    "colab": {
     "base_uri": "https://localhost:8080/"
    },
    "executionInfo": {
     "elapsed": 7,
     "status": "ok",
     "timestamp": 1717338678775,
     "user": {
      "displayName": "Waqar Ashiq",
      "userId": "05066807676686284766"
     },
     "user_tz": -300
    },
    "id": "As55v4n1SAxb",
    "outputId": "443f377f-816f-4175-e14d-734f4bd92694"
   },
   "outputs": [
    {
     "name": "stdout",
     "output_type": "stream",
     "text": [
      "12056\n"
     ]
    }
   ],
   "source": [
    "# Get the count of unique values in section_title\n",
    "unique_count = df['file'].nunique()\n",
    "\n",
    "print(unique_count)"
   ]
  },
  {
   "cell_type": "markdown",
   "id": "sensitive-peoples",
   "metadata": {
    "id": "sensitive-peoples"
   },
   "source": [
    "### Simple Preprocessing & Tokenization\n",
    "\n",
    "\n",
    "1.   We apply various processing like converting all the words to lower case, trimming spaces, removing punctuations. *TODO* Add reference to lab session in data science or nlp\n",
    "\n",
    "2.   Additionally, we can also remove stop words like 'and', 'or', 'is', 'the', 'a', 'an' and convert words to their root forms like 'running' to 'run'. *TODO* Add reference to lecture and lab session about tokenization\n",
    "\n",
    "3.   (LaTex formatting can be stripped by regex expression, latex2text or Pandoc. For our use case, a simple regex expression seemed most effective to extract section names)\n",
    "\n"
   ]
  },
  {
   "cell_type": "code",
   "execution_count": 20,
   "id": "informational-power",
   "metadata": {
    "ExecuteTime": {
     "end_time": "2024-06-04T12:20:45.973Z",
     "start_time": "2024-06-04T12:20:45.265304Z"
    },
    "executionInfo": {
     "elapsed": 618,
     "status": "ok",
     "timestamp": 1717338681333,
     "user": {
      "displayName": "Waqar Ashiq",
      "userId": "05066807676686284766"
     },
     "user_tz": -300
    },
    "id": "informational-power"
   },
   "outputs": [],
   "source": [
    "# First, ensure all section titles are treated as strings (this also converts NaNs to the string 'nan')\n",
    "df['section_title'] = df['section_title'].astype(str)\n",
    "\n",
    "# Apply gensim's simple_preprocess to each section title\n",
    "text = df['section_title'].apply(gensim.utils.simple_preprocess)\n",
    "\n",
    "# review_text = df.section_title.apply(gensim.utils.simple_preprocess)"
   ]
  },
  {
   "cell_type": "code",
   "execution_count": 21,
   "id": "chief-postage",
   "metadata": {
    "ExecuteTime": {
     "end_time": "2024-06-04T12:20:47.809852Z",
     "start_time": "2024-06-04T12:20:47.802106Z"
    },
    "colab": {
     "base_uri": "https://localhost:8080/"
    },
    "executionInfo": {
     "elapsed": 606,
     "status": "ok",
     "timestamp": 1717338683448,
     "user": {
      "displayName": "Waqar Ashiq",
      "userId": "05066807676686284766"
     },
     "user_tz": -300
    },
    "id": "chief-postage",
    "outputId": "286443f3-4bf7-44c2-a777-abf547ea648c"
   },
   "outputs": [
    {
     "data": {
      "text/plain": [
       "['related', 'work']"
      ]
     },
     "execution_count": 21,
     "metadata": {},
     "output_type": "execute_result"
    }
   ],
   "source": [
    "text.loc[2]"
   ]
  },
  {
   "cell_type": "code",
   "execution_count": 22,
   "id": "helpful-navigation",
   "metadata": {
    "ExecuteTime": {
     "end_time": "2024-06-04T12:20:50.334061Z",
     "start_time": "2024-06-04T12:20:50.325241Z"
    },
    "colab": {
     "base_uri": "https://localhost:8080/",
     "height": 35
    },
    "executionInfo": {
     "elapsed": 5,
     "status": "ok",
     "timestamp": 1717338684593,
     "user": {
      "displayName": "Waqar Ashiq",
      "userId": "05066807676686284766"
     },
     "user_tz": -300
    },
    "id": "helpful-navigation",
    "outputId": "e7a007ce-1289-4f8b-b641-b6a4469a8826"
   },
   "outputs": [
    {
     "data": {
      "text/plain": [
       "'Perspective Transformation'"
      ]
     },
     "execution_count": 22,
     "metadata": {},
     "output_type": "execute_result"
    }
   ],
   "source": [
    "df.section_title.loc[4]"
   ]
  },
  {
   "cell_type": "code",
   "execution_count": 25,
   "id": "eH1FLDNGXPaR",
   "metadata": {
    "ExecuteTime": {
     "end_time": "2024-06-04T12:22:29.915139Z",
     "start_time": "2024-06-04T12:22:29.881484Z"
    },
    "colab": {
     "base_uri": "https://localhost:8080/"
    },
    "executionInfo": {
     "elapsed": 15,
     "status": "ok",
     "timestamp": 1717338772642,
     "user": {
      "displayName": "Waqar Ashiq",
      "userId": "05066807676686284766"
     },
     "user_tz": -300
    },
    "id": "eH1FLDNGXPaR",
    "outputId": "8ce66823-b414-4c3b-8d76-b2970b78b79d"
   },
   "outputs": [
    {
     "name": "stdout",
     "output_type": "stream",
     "text": [
      "Occurrences of 'représentation': 1\n",
      "Occurrences of 'work': 6181\n"
     ]
    }
   ],
   "source": [
    "# Check how often \"représentation\" appears in the dataset\n",
    "word_occurrences = df['section_title'].apply(lambda x: 'Représentation' in x).sum()\n",
    "print(f\"Occurrences of 'représentation': {word_occurrences}\")\n",
    "\n",
    "# Check how often \"Fazit\" appears in the dataset\n",
    "word_occurrences = df['section_title'].apply(lambda x: 'work' in x).sum()\n",
    "print(f\"Occurrences of 'work': {word_occurrences}\")"
   ]
  },
  {
   "cell_type": "markdown",
   "id": "civic-links",
   "metadata": {
    "id": "civic-links"
   },
   "source": [
    "#### Initialize the model"
   ]
  },
  {
   "cell_type": "code",
   "execution_count": 26,
   "id": "determined-disclosure",
   "metadata": {
    "ExecuteTime": {
     "end_time": "2024-06-04T12:23:08.554547Z",
     "start_time": "2024-06-04T12:23:08.543709Z"
    },
    "executionInfo": {
     "elapsed": 405,
     "status": "ok",
     "timestamp": 1717338776016,
     "user": {
      "displayName": "Waqar Ashiq",
      "userId": "05066807676686284766"
     },
     "user_tz": -300
    },
    "id": "determined-disclosure"
   },
   "outputs": [],
   "source": [
    "model = gensim.models.Word2Vec(\n",
    "    window=10,\n",
    "    min_count=1,\n",
    "    workers=1,\n",
    ")\n"
   ]
  },
  {
   "cell_type": "markdown",
   "id": "olympic-manner",
   "metadata": {
    "id": "olympic-manner"
   },
   "source": [
    "#### Build Vocabulary"
   ]
  },
  {
   "cell_type": "code",
   "execution_count": 27,
   "id": "juvenile-dubai",
   "metadata": {
    "ExecuteTime": {
     "end_time": "2024-06-04T12:23:12.654503Z",
     "start_time": "2024-06-04T12:23:12.378521Z"
    },
    "executionInfo": {
     "elapsed": 365,
     "status": "ok",
     "timestamp": 1717338780622,
     "user": {
      "displayName": "Waqar Ashiq",
      "userId": "05066807676686284766"
     },
     "user_tz": -300
    },
    "id": "juvenile-dubai"
   },
   "outputs": [],
   "source": [
    "model.build_vocab(text, progress_per=1000)"
   ]
  },
  {
   "cell_type": "markdown",
   "id": "pharmaceutical-adoption",
   "metadata": {
    "id": "pharmaceutical-adoption"
   },
   "source": [
    "#### Train the Word2Vec Model"
   ]
  },
  {
   "cell_type": "code",
   "execution_count": 28,
   "id": "adopted-kentucky",
   "metadata": {
    "ExecuteTime": {
     "end_time": "2024-06-04T12:23:29.174767Z",
     "start_time": "2024-06-04T12:23:26.225178Z"
    },
    "colab": {
     "base_uri": "https://localhost:8080/"
    },
    "executionInfo": {
     "elapsed": 1177,
     "status": "ok",
     "timestamp": 1717338783548,
     "user": {
      "displayName": "Waqar Ashiq",
      "userId": "05066807676686284766"
     },
     "user_tz": -300
    },
    "id": "adopted-kentucky",
    "outputId": "dece3048-1730-454f-fd84-0791a0b06bc9"
   },
   "outputs": [
    {
     "data": {
      "text/plain": [
       "(2270426, 2854570)"
      ]
     },
     "execution_count": 28,
     "metadata": {},
     "output_type": "execute_result"
    }
   ],
   "source": [
    "model.train(text, total_examples=model.corpus_count, epochs=model.epochs)"
   ]
  },
  {
   "cell_type": "markdown",
   "id": "brave-bullet",
   "metadata": {
    "id": "brave-bullet"
   },
   "source": [
    "### Save the Model\n",
    "\n",
    "Save the model so that it can be reused in other applications"
   ]
  },
  {
   "cell_type": "code",
   "execution_count": 29,
   "id": "following-pizza",
   "metadata": {
    "ExecuteTime": {
     "end_time": "2024-06-04T12:24:05.226104Z",
     "start_time": "2024-06-04T12:24:05.204995Z"
    },
    "executionInfo": {
     "elapsed": 387,
     "status": "ok",
     "timestamp": 1717338786084,
     "user": {
      "displayName": "Waqar Ashiq",
      "userId": "05066807676686284766"
     },
     "user_tz": -300
    },
    "id": "following-pizza"
   },
   "outputs": [],
   "source": [
    "model.save(\"/Users/christophzweifel/Downloads/Word2Vec/word2vec-similarSectionNames.model\")"
   ]
  },
  {
   "cell_type": "markdown",
   "id": "creative-convert",
   "metadata": {
    "id": "creative-convert"
   },
   "source": [
    "### Finding Similar Words and Similarity between words\n",
    "https://radimrehurek.com/gensim/models/word2vec.html"
   ]
  },
  {
   "cell_type": "code",
   "execution_count": 30,
   "id": "legislative-bearing",
   "metadata": {
    "ExecuteTime": {
     "end_time": "2024-06-04T12:24:10.059700Z",
     "start_time": "2024-06-04T12:24:09.972683Z"
    },
    "colab": {
     "base_uri": "https://localhost:8080/"
    },
    "executionInfo": {
     "elapsed": 387,
     "status": "ok",
     "timestamp": 1717338788380,
     "user": {
      "displayName": "Waqar Ashiq",
      "userId": "05066807676686284766"
     },
     "user_tz": -300
    },
    "id": "legislative-bearing",
    "outputId": "55ef82d9-4e45-4a39-f21d-6b6124fb5a4e"
   },
   "outputs": [
    {
     "data": {
      "text/plain": [
       "[('operational', 0.9686930775642395),\n",
       " ('triangle', 0.9658939242362976),\n",
       " ('rounding', 0.9642549157142639),\n",
       " ('witness', 0.9615827202796936),\n",
       " ('closure', 0.9609056115150452),\n",
       " ('observational', 0.9600898623466492),\n",
       " ('prefix', 0.9591124057769775),\n",
       " ('rijndael', 0.9586595892906189),\n",
       " ('minimal', 0.9584744572639465),\n",
       " ('multiway', 0.9582595229148865)]"
      ]
     },
     "execution_count": 30,
     "metadata": {},
     "output_type": "execute_result"
    }
   ],
   "source": [
    "model.wv.most_similar(\"abstract\")"
   ]
  },
  {
   "cell_type": "code",
   "execution_count": 31,
   "id": "GZmu6HGDEg9E",
   "metadata": {
    "ExecuteTime": {
     "end_time": "2024-06-04T12:24:12.351466Z",
     "start_time": "2024-06-04T12:24:12.252334Z"
    },
    "colab": {
     "base_uri": "https://localhost:8080/"
    },
    "executionInfo": {
     "elapsed": 5,
     "status": "ok",
     "timestamp": 1717338790058,
     "user": {
      "displayName": "Waqar Ashiq",
      "userId": "05066807676686284766"
     },
     "user_tz": -300
    },
    "id": "GZmu6HGDEg9E",
    "outputId": "06346237-6311-4ae0-a856-09f6a153ff64"
   },
   "outputs": [
    {
     "data": {
      "text/plain": [
       "[('cifar', 0.9203596711158752),\n",
       " ('imagenet', 0.9065940976142883),\n",
       " ('benchmarks', 0.8723424673080444),\n",
       " ('lt', 0.8722990155220032),\n",
       " ('experiment', 0.8678033351898193),\n",
       " ('svhn', 0.8663187623023987),\n",
       " ('hotpotqa', 0.857439398765564),\n",
       " ('cityscapes', 0.854036271572113),\n",
       " ('evaluations', 0.8525301814079285),\n",
       " ('cub', 0.8517221212387085)]"
      ]
     },
     "execution_count": 31,
     "metadata": {},
     "output_type": "execute_result"
    }
   ],
   "source": [
    "model.wv.most_similar(\"experiments\")"
   ]
  },
  {
   "cell_type": "code",
   "execution_count": 32,
   "id": "gRVanlZyEmJV",
   "metadata": {
    "ExecuteTime": {
     "end_time": "2024-06-04T12:24:21.094014Z",
     "start_time": "2024-06-04T12:24:21.000893Z"
    },
    "colab": {
     "base_uri": "https://localhost:8080/"
    },
    "executionInfo": {
     "elapsed": 370,
     "status": "ok",
     "timestamp": 1717338792052,
     "user": {
      "displayName": "Waqar Ashiq",
      "userId": "05066807676686284766"
     },
     "user_tz": -300
    },
    "id": "gRVanlZyEmJV",
    "outputId": "0d2ddb6c-952b-4805-bba7-1d3eadf3a455"
   },
   "outputs": [
    {
     "data": {
      "text/plain": [
       "[('evaluations', 0.834568440914154),\n",
       " ('cifar', 0.8315017223358154),\n",
       " ('examples', 0.830646812915802),\n",
       " ('experiments', 0.8299868106842041),\n",
       " ('voc', 0.826363205909729),\n",
       " ('imagenet', 0.8127244114875793),\n",
       " ('wikiann', 0.8075611591339111),\n",
       " ('benchmarks', 0.8020544648170471),\n",
       " ('hotpotqa', 0.7987909913063049),\n",
       " ('crowdhuman', 0.7971668839454651)]"
      ]
     },
     "execution_count": 32,
     "metadata": {},
     "output_type": "execute_result"
    }
   ],
   "source": [
    "model.wv.most_similar(\"results\")"
   ]
  },
  {
   "cell_type": "code",
   "execution_count": 35,
   "id": "AhrgUVNIUEtr",
   "metadata": {
    "ExecuteTime": {
     "end_time": "2024-06-04T13:30:52.806358Z",
     "start_time": "2024-06-04T13:30:52.795911Z"
    },
    "colab": {
     "base_uri": "https://localhost:8080/"
    },
    "executionInfo": {
     "elapsed": 13,
     "status": "ok",
     "timestamp": 1717338835840,
     "user": {
      "displayName": "Waqar Ashiq",
      "userId": "05066807676686284766"
     },
     "user_tz": -300
    },
    "id": "AhrgUVNIUEtr",
    "outputId": "b1078efa-d49d-4ba0-ed03-29f56d0eecb9"
   },
   "outputs": [
    {
     "data": {
      "text/plain": [
       "['experiments', 'and', 'results']"
      ]
     },
     "execution_count": 35,
     "metadata": {},
     "output_type": "execute_result"
    }
   ],
   "source": [
    "text.loc[7]"
   ]
  },
  {
   "cell_type": "code",
   "execution_count": 38,
   "id": "plhU3UeuYTsC",
   "metadata": {
    "ExecuteTime": {
     "end_time": "2024-06-04T13:31:05.486714Z",
     "start_time": "2024-06-04T13:31:05.355993Z"
    },
    "colab": {
     "base_uri": "https://localhost:8080/"
    },
    "executionInfo": {
     "elapsed": 5,
     "status": "ok",
     "timestamp": 1717339013549,
     "user": {
      "displayName": "Waqar Ashiq",
      "userId": "05066807676686284766"
     },
     "user_tz": -300
    },
    "id": "plhU3UeuYTsC",
    "outputId": "f8324c77-bac3-4e59-d36a-374b97524bf7"
   },
   "outputs": [
    {
     "data": {
      "text/plain": [
       "[('toolkit', 0.9210864305496216),\n",
       " ('experimentieren', 0.9210857152938843),\n",
       " ('deepmind', 0.9186710119247437),\n",
       " ('logiciels', 0.9178512692451477),\n",
       " ('battery', 0.9174641966819763),\n",
       " ('psc', 0.9170849919319153),\n",
       " ('workload', 0.9167493581771851),\n",
       " ('imagined', 0.9166383147239685),\n",
       " ('sectioning', 0.9164373874664307),\n",
       " ('dd', 0.9161875247955322)]"
      ]
     },
     "execution_count": 38,
     "metadata": {},
     "output_type": "execute_result"
    }
   ],
   "source": [
    "model.wv.most_similar(\"représentation\")"
   ]
  },
  {
   "cell_type": "code",
   "execution_count": 39,
   "id": "described-smile",
   "metadata": {
    "ExecuteTime": {
     "end_time": "2024-06-04T13:31:07.858631Z",
     "start_time": "2024-06-04T13:31:07.854162Z"
    },
    "colab": {
     "base_uri": "https://localhost:8080/"
    },
    "executionInfo": {
     "elapsed": 412,
     "status": "ok",
     "timestamp": 1717338896817,
     "user": {
      "displayName": "Waqar Ashiq",
      "userId": "05066807676686284766"
     },
     "user_tz": -300
    },
    "id": "described-smile",
    "outputId": "da4f833b-25ad-4416-a09b-5aec780a6aa0"
   },
   "outputs": [
    {
     "data": {
      "text/plain": [
       "0.78969204"
      ]
     },
     "execution_count": 39,
     "metadata": {},
     "output_type": "execute_result"
    }
   ],
   "source": [
    "model.wv.similarity(w1=\"abstract\", w2=\"introduction\")"
   ]
  },
  {
   "cell_type": "code",
   "execution_count": 40,
   "id": "9ZnBRuYZTu98",
   "metadata": {
    "ExecuteTime": {
     "end_time": "2024-06-04T13:31:09.100154Z",
     "start_time": "2024-06-04T13:31:09.096231Z"
    },
    "colab": {
     "base_uri": "https://localhost:8080/"
    },
    "executionInfo": {
     "elapsed": 10,
     "status": "ok",
     "timestamp": 1717338898488,
     "user": {
      "displayName": "Waqar Ashiq",
      "userId": "05066807676686284766"
     },
     "user_tz": -300
    },
    "id": "9ZnBRuYZTu98",
    "outputId": "30676b66-a61e-4188-ffa3-a310fef0ae90"
   },
   "outputs": [
    {
     "data": {
      "text/plain": [
       "0.84020174"
      ]
     },
     "execution_count": 40,
     "metadata": {},
     "output_type": "execute_result"
    }
   ],
   "source": [
    "model.wv.similarity(w1=\"abstract\", w2=\"mémoire\")"
   ]
  },
  {
   "cell_type": "code",
   "execution_count": 41,
   "id": "f52fdcfad0f96299",
   "metadata": {
    "ExecuteTime": {
     "end_time": "2024-06-04T13:42:35.072877Z",
     "start_time": "2024-06-04T13:42:35.069610Z"
    },
    "collapsed": false
   },
   "outputs": [
    {
     "data": {
      "text/plain": [
       "0.8085111"
      ]
     },
     "execution_count": 41,
     "metadata": {},
     "output_type": "execute_result"
    }
   ],
   "source": [
    "model.wv.similarity(w1=\"conclusion\", w2=\"summary\")"
   ]
  },
  {
   "cell_type": "markdown",
   "id": "2ceff9be9a762059",
   "metadata": {
    "collapsed": false
   },
   "source": []
  }
 ],
 "metadata": {
  "colab": {
   "provenance": []
  },
  "kernelspec": {
   "display_name": "Python 3 (ipykernel)",
   "language": "python",
   "name": "python3"
  },
  "language_info": {
   "codemirror_mode": {
    "name": "ipython",
    "version": 3
   },
   "file_extension": ".py",
   "mimetype": "text/x-python",
   "name": "python",
   "nbconvert_exporter": "python",
   "pygments_lexer": "ipython3",
   "version": "3.12.2"
  }
 },
 "nbformat": 4,
 "nbformat_minor": 5
}
