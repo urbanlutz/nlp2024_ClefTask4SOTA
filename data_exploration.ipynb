{
 "cells": [
  {
   "cell_type": "markdown",
   "metadata": {},
   "source": [
    "Task Website: https://sites.google.com/view/simpletext-sota/home\n",
    "Competition: https://codalab.lisn.upsaclay.fr/competitions/16616\n",
    "\n",
    "Dataset: https://github.com/jd-coderepos/sota/tree/master\n",
    "\n"
   ]
  },
  {
   "cell_type": "code",
   "execution_count": 1,
   "metadata": {},
   "outputs": [],
   "source": [
    "NOT_FOUND = \"unanswerable\\n\"\n",
    "TRAIN_PATH = \"./data/train\""
   ]
  },
  {
   "cell_type": "code",
   "execution_count": 2,
   "metadata": {},
   "outputs": [],
   "source": [
    "\n",
    "import os\n",
    "import json\n",
    "\n",
    "TRAIN_PATH = \"./data/train\"\n",
    "\n",
    "\n",
    "def path_join(*args):\n",
    "    return os.path.join(*args).replace('\\\\', '/') \n",
    "\n",
    "def find(extension, *args):\n",
    "    p = path_join(*args)\n",
    "    res = list(filter(lambda x: x.endswith(extension), os.listdir(p)))\n",
    "    if res:\n",
    "        return path_join(p, res[0])\n",
    "    else:\n",
    "        return None\n",
    "\n",
    "all_paths = [(p, find(\"tex\", TRAIN_PATH, p), find(\"json\", TRAIN_PATH, p)) for p in os.listdir(TRAIN_PATH)]\n",
    "\n",
    "def read(i):\n",
    "    # print(i)\n",
    "    tex = None\n",
    "    jsn = None\n",
    "    try:\n",
    "        i, tex_path, jsn_path = all_paths[i]\n",
    "    except Exception as ex:\n",
    "        print(i)\n",
    "        raise ex\n",
    "    try:\n",
    "        with open(tex_path) as f:\n",
    "            tex = f.read()\n",
    "\n",
    "        try:\n",
    "            with open(jsn_path) as f:\n",
    "                jsn = json.load(f)\n",
    "                print(\"loaded json\")\n",
    "        except:\n",
    "            with open(jsn_path) as f:\n",
    "                jsn = f.read()\n",
    "                jsn = eval(jsn)\n",
    "        return i, tex, jsn\n",
    "    except:\n",
    "        return i, tex, jsn"
   ]
  },
  {
   "cell_type": "code",
   "execution_count": 3,
   "metadata": {},
   "outputs": [],
   "source": [
    "import pandas as pd\n",
    "\n",
    "n = len(all_paths)\n",
    "data = []\n",
    "for i, t, j in [read(i) for i in range(n)]:\n",
    "    # if j and j != 'unanswerable\\n':\n",
    "    data.append((i, t, j))\n",
    "\n"
   ]
  },
  {
   "cell_type": "code",
   "execution_count": 4,
   "metadata": {},
   "outputs": [
    {
     "data": {
      "text/html": [
       "<div>\n",
       "<style scoped>\n",
       "    .dataframe tbody tr th:only-of-type {\n",
       "        vertical-align: middle;\n",
       "    }\n",
       "\n",
       "    .dataframe tbody tr th {\n",
       "        vertical-align: top;\n",
       "    }\n",
       "\n",
       "    .dataframe thead th {\n",
       "        text-align: right;\n",
       "    }\n",
       "</style>\n",
       "<table border=\"1\" class=\"dataframe\">\n",
       "  <thead>\n",
       "    <tr style=\"text-align: right;\">\n",
       "      <th></th>\n",
       "      <th>id</th>\n",
       "      <th>tex</th>\n",
       "      <th>jsn</th>\n",
       "    </tr>\n",
       "  </thead>\n",
       "  <tbody>\n",
       "    <tr>\n",
       "      <th>0</th>\n",
       "      <td>0704.1707</td>\n",
       "      <td>\\documentclass{llncs}\\n\\usepackage{url}\\n\\usep...</td>\n",
       "      <td>unanswerable\\n</td>\n",
       "    </tr>\n",
       "    <tr>\n",
       "      <th>1</th>\n",
       "      <td>0704.2295</td>\n",
       "      <td>\\documentclass{llncs}\\n\\usepackage{graphicx}\\n...</td>\n",
       "      <td>unanswerable\\n</td>\n",
       "    </tr>\n",
       "    <tr>\n",
       "      <th>2</th>\n",
       "      <td>0704.3238</td>\n",
       "      <td>\\documentclass{article} \\n\\RequirePackage{amsf...</td>\n",
       "      <td>unanswerable\\n</td>\n",
       "    </tr>\n",
       "    <tr>\n",
       "      <th>3</th>\n",
       "      <td>0705.0599</td>\n",
       "      <td>\\n\\documentclass[a4paper]{article}\\n\\n\\n\\usepa...</td>\n",
       "      <td>unanswerable\\n</td>\n",
       "    </tr>\n",
       "    <tr>\n",
       "      <th>4</th>\n",
       "      <td>0705.0742</td>\n",
       "      <td>\\documentclass[pre,12pt,aps]{revtex4}\\n\\usepac...</td>\n",
       "      <td>unanswerable\\n</td>\n",
       "    </tr>\n",
       "    <tr>\n",
       "      <th>...</th>\n",
       "      <td>...</td>\n",
       "      <td>...</td>\n",
       "      <td>...</td>\n",
       "    </tr>\n",
       "    <tr>\n",
       "      <th>12283</th>\n",
       "      <td>2312.02139v1</td>\n",
       "      <td>\\section{Results}\\n\\label{sec:results}\\n\\n\\sub...</td>\n",
       "      <td>[{'LEADERBOARD': {'Task': 'Image Generation', ...</td>\n",
       "    </tr>\n",
       "    <tr>\n",
       "      <th>12284</th>\n",
       "      <td>2312.02185v1</td>\n",
       "      <td>\\documentclass[conference]{IEEEtran}\\n\\IEEEove...</td>\n",
       "      <td>[{'LEADERBOARD': {'Task': 'Human Activity Reco...</td>\n",
       "    </tr>\n",
       "    <tr>\n",
       "      <th>12285</th>\n",
       "      <td>2312.03288v1</td>\n",
       "      <td>\\documentclass{bmvc2k}\\n\\usepackage{times}\\n\\u...</td>\n",
       "      <td>[{'LEADERBOARD': {'Task': 'Skeleton Based Acti...</td>\n",
       "    </tr>\n",
       "    <tr>\n",
       "      <th>12286</th>\n",
       "      <td>2312.03430v1</td>\n",
       "      <td>\\n\\n\\documentclass[10pt,twocolumn,letterpaper]...</td>\n",
       "      <td>[{'LEADERBOARD': {'Task': 'Semantic Segmentati...</td>\n",
       "    </tr>\n",
       "    <tr>\n",
       "      <th>12287</th>\n",
       "      <td>2312.03701v1</td>\n",
       "      <td>\\n\\begin{figure*}[t]\\n\\begin{center}\\n\\include...</td>\n",
       "      <td>[{'LEADERBOARD': {'Task': 'Image Generation', ...</td>\n",
       "    </tr>\n",
       "  </tbody>\n",
       "</table>\n",
       "<p>12288 rows × 3 columns</p>\n",
       "</div>"
      ],
      "text/plain": [
       "                 id                                                tex  \\\n",
       "0         0704.1707  \\documentclass{llncs}\\n\\usepackage{url}\\n\\usep...   \n",
       "1         0704.2295  \\documentclass{llncs}\\n\\usepackage{graphicx}\\n...   \n",
       "2         0704.3238  \\documentclass{article} \\n\\RequirePackage{amsf...   \n",
       "3         0705.0599  \\n\\documentclass[a4paper]{article}\\n\\n\\n\\usepa...   \n",
       "4         0705.0742  \\documentclass[pre,12pt,aps]{revtex4}\\n\\usepac...   \n",
       "...             ...                                                ...   \n",
       "12283  2312.02139v1  \\section{Results}\\n\\label{sec:results}\\n\\n\\sub...   \n",
       "12284  2312.02185v1  \\documentclass[conference]{IEEEtran}\\n\\IEEEove...   \n",
       "12285  2312.03288v1  \\documentclass{bmvc2k}\\n\\usepackage{times}\\n\\u...   \n",
       "12286  2312.03430v1  \\n\\n\\documentclass[10pt,twocolumn,letterpaper]...   \n",
       "12287  2312.03701v1  \\n\\begin{figure*}[t]\\n\\begin{center}\\n\\include...   \n",
       "\n",
       "                                                     jsn  \n",
       "0                                         unanswerable\\n  \n",
       "1                                         unanswerable\\n  \n",
       "2                                         unanswerable\\n  \n",
       "3                                         unanswerable\\n  \n",
       "4                                         unanswerable\\n  \n",
       "...                                                  ...  \n",
       "12283  [{'LEADERBOARD': {'Task': 'Image Generation', ...  \n",
       "12284  [{'LEADERBOARD': {'Task': 'Human Activity Reco...  \n",
       "12285  [{'LEADERBOARD': {'Task': 'Skeleton Based Acti...  \n",
       "12286  [{'LEADERBOARD': {'Task': 'Semantic Segmentati...  \n",
       "12287  [{'LEADERBOARD': {'Task': 'Image Generation', ...  \n",
       "\n",
       "[12288 rows x 3 columns]"
      ]
     },
     "execution_count": 4,
     "metadata": {},
     "output_type": "execute_result"
    }
   ],
   "source": [
    "df_raw = pd.DataFrame(data)\n",
    "df_raw = df_raw.rename({0: \"id\", 1: \"tex\", 2: \"jsn\"}, axis=1)\n",
    "df_raw"
   ]
  },
  {
   "cell_type": "code",
   "execution_count": 5,
   "metadata": {},
   "outputs": [
    {
     "name": "stdout",
     "output_type": "stream",
     "text": [
      "12288\n",
      "12288\n"
     ]
    }
   ],
   "source": [
    "# is \"id\" unique?\n",
    "\n",
    "total_ids = len(df_raw[\"id\"])\n",
    "nonduplicate_ids = len(df_raw[\"id\"].drop_duplicates())\n",
    "print(total_ids)\n",
    "print(nonduplicate_ids)\n",
    "# -> yes"
   ]
  },
  {
   "cell_type": "markdown",
   "metadata": {},
   "source": [
    "# How many are Null / Unanswerable?"
   ]
  },
  {
   "cell_type": "code",
   "execution_count": 6,
   "metadata": {},
   "outputs": [
    {
     "name": "stdout",
     "output_type": "stream",
     "text": [
      "total len: 12288\n",
      "None: 882\n",
      "Unanswerable: 4204\n"
     ]
    }
   ],
   "source": [
    "df = df_raw\n",
    "\n",
    "\n",
    "df[\"isUnanswerable\"] = df[\"jsn\"] == NOT_FOUND\n",
    "df[\"isNone\"] = df[\"jsn\"].isnull()\n",
    "\n",
    "print(f\"total len: {len(df)}\")\n",
    "print(f\"None: {len(df[df['isNone']])}\")\n",
    "print(f\"Unanswerable: {len(df[df['isUnanswerable']])}\")\n",
    "\n"
   ]
  },
  {
   "cell_type": "markdown",
   "metadata": {},
   "source": [
    "# Leaderboard details"
   ]
  },
  {
   "cell_type": "code",
   "execution_count": 7,
   "metadata": {},
   "outputs": [
    {
     "name": "stdout",
     "output_type": "stream",
     "text": [
      "= 0: 5086\n",
      "> 0: 7202\n",
      "> 5: 2647\n",
      "> 10: 1169\n",
      "> 40: 103\n",
      "> 100: 11\n",
      "> 200: 0\n"
     ]
    }
   ],
   "source": [
    "df[\"numLeaderboards\"] = df[\"jsn\"].apply(lambda c: len(c) if c and c != NOT_FOUND else 0)\n",
    "df[\"hasLeaderboards\"] = df[\"numLeaderboards\"] > 0\n",
    "\n",
    "print(f\"= 0: {len(df[df['numLeaderboards'] == 0])}\")\n",
    "print(f\"> 0: {len(df[df['numLeaderboards'] > 0])}\")\n",
    "print(f\"> 5: {len(df[df['numLeaderboards'] > 5])}\")\n",
    "print(f\"> 10: {len(df[df['numLeaderboards'] > 10])}\")\n",
    "print(f\"> 40: {len(df[df['numLeaderboards'] > 40])}\")\n",
    "print(f\"> 100: {len(df[df['numLeaderboards'] > 100])}\")\n",
    "print(f\"> 200: {len(df[df['numLeaderboards'] > 200])}\")\n",
    "\n",
    "df_lt40 = df[df[\"numLeaderboards\"] < 40]"
   ]
  },
  {
   "cell_type": "code",
   "execution_count": 8,
   "metadata": {},
   "outputs": [
    {
     "data": {
      "text/plain": [
       "0.7061927242432657"
      ]
     },
     "execution_count": 8,
     "metadata": {},
     "output_type": "execute_result"
    }
   ],
   "source": [
    "pct_hasLeaderboard =  len(df[df[\"hasLeaderboards\"] == False]) / len(df[df[\"hasLeaderboards\"] == True])\n",
    "pct_hasLeaderboard"
   ]
  },
  {
   "cell_type": "code",
   "execution_count": 9,
   "metadata": {},
   "outputs": [
    {
     "data": {
      "text/plain": [
       "<seaborn.axisgrid.FacetGrid at 0x17f21e729c0>"
      ]
     },
     "execution_count": 9,
     "metadata": {},
     "output_type": "execute_result"
    },
    {
     "data": {
      "image/png": "[encoded data removed]",
      "text/plain": [
       "<Figure size 500x500 with 1 Axes>"
      ]
     },
     "metadata": {},
     "output_type": "display_data"
    }
   ],
   "source": [
    "import seaborn as sns\n",
    "\n",
    "sns.displot(df_lt40[\"numLeaderboards\"], kind=\"ecdf\")"
   ]
  },
  {
   "cell_type": "code",
   "execution_count": 10,
   "metadata": {},
   "outputs": [
    {
     "data": {
      "text/plain": [
       "<Axes: xlabel='numLeaderboards', ylabel='Count'>"
      ]
     },
     "execution_count": 10,
     "metadata": {},
     "output_type": "execute_result"
    },
    {
     "data": {
      "image/png": "[encoded data removed]",
      "text/plain": [
       "<Figure size 640x480 with 1 Axes>"
      ]
     },
     "metadata": {},
     "output_type": "display_data"
    }
   ],
   "source": [
    "sns.histplot(df_lt40[\"numLeaderboards\"], bins=40)"
   ]
  },
  {
   "cell_type": "code",
   "execution_count": 11,
   "metadata": {},
   "outputs": [
    {
     "data": {
      "text/html": [
       "<div>\n",
       "<style scoped>\n",
       "    .dataframe tbody tr th:only-of-type {\n",
       "        vertical-align: middle;\n",
       "    }\n",
       "\n",
       "    .dataframe tbody tr th {\n",
       "        vertical-align: top;\n",
       "    }\n",
       "\n",
       "    .dataframe thead th {\n",
       "        text-align: right;\n",
       "    }\n",
       "</style>\n",
       "<table border=\"1\" class=\"dataframe\">\n",
       "  <thead>\n",
       "    <tr style=\"text-align: right;\">\n",
       "      <th></th>\n",
       "      <th>id</th>\n",
       "      <th>jsn</th>\n",
       "      <th>Task</th>\n",
       "      <th>Dataset</th>\n",
       "      <th>Metric</th>\n",
       "      <th>Score</th>\n",
       "    </tr>\n",
       "  </thead>\n",
       "  <tbody>\n",
       "    <tr>\n",
       "      <th>67</th>\n",
       "      <td>0710.3742v1</td>\n",
       "      <td>{'Task': 'Change Point Detection', 'Dataset': ...</td>\n",
       "      <td>Change Point Detection</td>\n",
       "      <td>TSSB</td>\n",
       "      <td>Relative Change Point Distance</td>\n",
       "      <td>0.20066</td>\n",
       "    </tr>\n",
       "    <tr>\n",
       "      <th>67</th>\n",
       "      <td>0710.3742v1</td>\n",
       "      <td>{'Task': 'Change Point Detection', 'Dataset': ...</td>\n",
       "      <td>Change Point Detection</td>\n",
       "      <td>TSSB</td>\n",
       "      <td>Covering</td>\n",
       "      <td>0.4488</td>\n",
       "    </tr>\n",
       "    <tr>\n",
       "      <th>177</th>\n",
       "      <td>0806.3286v2</td>\n",
       "      <td>{'Task': 'Causal Inference', 'Dataset': 'Jobs'...</td>\n",
       "      <td>Causal Inference</td>\n",
       "      <td>Jobs</td>\n",
       "      <td>Average Treatment Effect on the Treated Error</td>\n",
       "      <td>0.08</td>\n",
       "    </tr>\n",
       "    <tr>\n",
       "      <th>1215</th>\n",
       "      <td>1202.2745v1</td>\n",
       "      <td>{'Task': 'Image Classification', 'Dataset': 'C...</td>\n",
       "      <td>Image Classification</td>\n",
       "      <td>CIFAR-10</td>\n",
       "      <td>Percentage correct</td>\n",
       "      <td>88.8</td>\n",
       "    </tr>\n",
       "    <tr>\n",
       "      <th>1215</th>\n",
       "      <td>1202.2745v1</td>\n",
       "      <td>{'Task': 'Image Classification', 'Dataset': 'M...</td>\n",
       "      <td>Image Classification</td>\n",
       "      <td>MNIST</td>\n",
       "      <td>Percentage error</td>\n",
       "      <td>0.23</td>\n",
       "    </tr>\n",
       "    <tr>\n",
       "      <th>...</th>\n",
       "      <td>...</td>\n",
       "      <td>...</td>\n",
       "      <td>...</td>\n",
       "      <td>...</td>\n",
       "      <td>...</td>\n",
       "      <td>...</td>\n",
       "    </tr>\n",
       "    <tr>\n",
       "      <th>12286</th>\n",
       "      <td>2312.03430v1</td>\n",
       "      <td>{'Task': 'Semantic Segmentation', 'Dataset': '...</td>\n",
       "      <td>Semantic Segmentation</td>\n",
       "      <td>UPLight</td>\n",
       "      <td>mIoU</td>\n",
       "      <td>92.45</td>\n",
       "    </tr>\n",
       "    <tr>\n",
       "      <th>12286</th>\n",
       "      <td>2312.03430v1</td>\n",
       "      <td>{'Task': 'Semantic Segmentation', 'Dataset': '...</td>\n",
       "      <td>Semantic Segmentation</td>\n",
       "      <td>MCubeS (P)</td>\n",
       "      <td>mIoU</td>\n",
       "      <td>50.99</td>\n",
       "    </tr>\n",
       "    <tr>\n",
       "      <th>12286</th>\n",
       "      <td>2312.03430v1</td>\n",
       "      <td>{'Task': 'Semantic Segmentation', 'Dataset': '...</td>\n",
       "      <td>Semantic Segmentation</td>\n",
       "      <td>MCubeS (P)</td>\n",
       "      <td>mIoU</td>\n",
       "      <td>50.55</td>\n",
       "    </tr>\n",
       "    <tr>\n",
       "      <th>12286</th>\n",
       "      <td>2312.03430v1</td>\n",
       "      <td>{'Task': 'Semantic Segmentation', 'Dataset': '...</td>\n",
       "      <td>Semantic Segmentation</td>\n",
       "      <td>MCubeS (P)</td>\n",
       "      <td>mIoU</td>\n",
       "      <td>50.34</td>\n",
       "    </tr>\n",
       "    <tr>\n",
       "      <th>12287</th>\n",
       "      <td>2312.03701v1</td>\n",
       "      <td>{'Task': 'Image Generation', 'Dataset': 'Image...</td>\n",
       "      <td>Image Generation</td>\n",
       "      <td>ImageNet 256x256</td>\n",
       "      <td>FID</td>\n",
       "      <td>3.49</td>\n",
       "    </tr>\n",
       "  </tbody>\n",
       "</table>\n",
       "<p>48920 rows × 6 columns</p>\n",
       "</div>"
      ],
      "text/plain": [
       "                 id                                                jsn  \\\n",
       "67      0710.3742v1  {'Task': 'Change Point Detection', 'Dataset': ...   \n",
       "67      0710.3742v1  {'Task': 'Change Point Detection', 'Dataset': ...   \n",
       "177     0806.3286v2  {'Task': 'Causal Inference', 'Dataset': 'Jobs'...   \n",
       "1215    1202.2745v1  {'Task': 'Image Classification', 'Dataset': 'C...   \n",
       "1215    1202.2745v1  {'Task': 'Image Classification', 'Dataset': 'M...   \n",
       "...             ...                                                ...   \n",
       "12286  2312.03430v1  {'Task': 'Semantic Segmentation', 'Dataset': '...   \n",
       "12286  2312.03430v1  {'Task': 'Semantic Segmentation', 'Dataset': '...   \n",
       "12286  2312.03430v1  {'Task': 'Semantic Segmentation', 'Dataset': '...   \n",
       "12286  2312.03430v1  {'Task': 'Semantic Segmentation', 'Dataset': '...   \n",
       "12287  2312.03701v1  {'Task': 'Image Generation', 'Dataset': 'Image...   \n",
       "\n",
       "                         Task           Dataset  \\\n",
       "67     Change Point Detection              TSSB   \n",
       "67     Change Point Detection              TSSB   \n",
       "177          Causal Inference              Jobs   \n",
       "1215     Image Classification          CIFAR-10   \n",
       "1215     Image Classification             MNIST   \n",
       "...                       ...               ...   \n",
       "12286   Semantic Segmentation           UPLight   \n",
       "12286   Semantic Segmentation        MCubeS (P)   \n",
       "12286   Semantic Segmentation        MCubeS (P)   \n",
       "12286   Semantic Segmentation        MCubeS (P)   \n",
       "12287        Image Generation  ImageNet 256x256   \n",
       "\n",
       "                                              Metric    Score  \n",
       "67                    Relative Change Point Distance  0.20066  \n",
       "67                                          Covering   0.4488  \n",
       "177    Average Treatment Effect on the Treated Error     0.08  \n",
       "1215                              Percentage correct     88.8  \n",
       "1215                                Percentage error     0.23  \n",
       "...                                              ...      ...  \n",
       "12286                                           mIoU    92.45  \n",
       "12286                                           mIoU    50.99  \n",
       "12286                                           mIoU    50.55  \n",
       "12286                                           mIoU    50.34  \n",
       "12287                                            FID     3.49  \n",
       "\n",
       "[48920 rows x 6 columns]"
      ]
     },
     "execution_count": 11,
     "metadata": {},
     "output_type": "execute_result"
    }
   ],
   "source": [
    "# Split dataframes into paper & leaderboard entries\n",
    "\n",
    "df_entries = df[[\"id\", \"jsn\"]]\n",
    "\n",
    "df_entries = df_entries.explode(\"jsn\")\n",
    "\n",
    "df_entries[\"jsn\"] = df_entries[\"jsn\"].apply(lambda c: None if not c or c == NOT_FOUND else c[\"LEADERBOARD\"])\n",
    "df_entries = df_entries.dropna()\n",
    "\n",
    "df_entries = pd.concat([df_entries, df_entries[\"jsn\"].apply(pd.Series)], axis=1)\n",
    "df_entries"
   ]
  },
  {
   "cell_type": "code",
   "execution_count": 12,
   "metadata": {},
   "outputs": [
    {
     "name": "stdout",
     "output_type": "stream",
     "text": [
      "1213\n"
     ]
    },
    {
     "data": {
      "text/plain": [
       "Task\n",
       "Image Classification                         2188\n",
       "Atari Games                                  1243\n",
       "Object Detection                              946\n",
       "Video Retrieval                               932\n",
       "Semi-Supervised Video Object Segmentation     887\n",
       "Link Prediction                               875\n",
       "Semantic Segmentation                         856\n",
       "Node Classification                           840\n",
       "3D Human Pose Estimation                      830\n",
       "Question Answering                            676\n",
       "Image Super-Resolution                        594\n",
       "Person Re-Identification                      525\n",
       "Neural Architecture Search                    488\n",
       "Image Generation                              476\n",
       "Video Super-Resolution                        462\n",
       "Node Property Prediction                      446\n",
       "Monocular Depth Estimation                    439\n",
       "Anomaly Detection                             409\n",
       "Few-Shot Semantic Segmentation                382\n",
       "Image Clustering                              371\n",
       "Name: id, dtype: int64"
      ]
     },
     "execution_count": 12,
     "metadata": {},
     "output_type": "execute_result"
    }
   ],
   "source": [
    "# Tasks\n",
    "tasks = df_entries.groupby(\"Task\").count()[\"id\"].sort_values(ascending=False)\n",
    "print(len(tasks))\n",
    "\n",
    "# Top 20\n",
    "tasks[:20]"
   ]
  },
  {
   "cell_type": "code",
   "execution_count": 13,
   "metadata": {},
   "outputs": [
    {
     "name": "stdout",
     "output_type": "stream",
     "text": [
      "4454\n"
     ]
    },
    {
     "data": {
      "text/plain": [
       "Dataset\n",
       "ImageNet                                      1540\n",
       "COCO test-dev                                  766\n",
       "Human3.6M                                      578\n",
       "CIFAR-10                                       561\n",
       "COCO minival                                   298\n",
       "YouTube-VOS 2018                               295\n",
       "CIFAR-100                                      238\n",
       "MSR-VTT-1kA                                    228\n",
       "FB15k-237                                      225\n",
       "MSU Super-Resolution for Video Compression     225\n",
       "DAVIS 2017 (val)                               222\n",
       "ChEBI-20                                       220\n",
       "DAVIS 2016                                     206\n",
       "WN18RR                                         198\n",
       "3DPW                                           189\n",
       "Kinetics-400                                   188\n",
       "MPI-INF-3DHP                                   178\n",
       "Market-1501                                    176\n",
       "COCO                                           176\n",
       "ogbn-arxiv                                     165\n",
       "Name: id, dtype: int64"
      ]
     },
     "execution_count": 13,
     "metadata": {},
     "output_type": "execute_result"
    }
   ],
   "source": [
    "# Dataset\n",
    "dataset = df_entries.groupby(\"Dataset\").count()[\"id\"].sort_values(ascending=False)\n",
    "print(len(dataset))\n",
    "\n",
    "# Top 20\n",
    "dataset[:20]"
   ]
  },
  {
   "cell_type": "code",
   "execution_count": 14,
   "metadata": {},
   "outputs": [
    {
     "name": "stdout",
     "output_type": "stream",
     "text": [
      "2669\n"
     ]
    },
    {
     "data": {
      "text/plain": [
       "Metric\n",
       "Accuracy              3545\n",
       "Score                 1300\n",
       "F1                    1257\n",
       "PSNR                  1077\n",
       "mAP                    787\n",
       "mIoU                   778\n",
       "SSIM                   750\n",
       "Top 1 Accuracy         741\n",
       "Number of params       684\n",
       "FID                    574\n",
       "AP                     519\n",
       "Mean IoU               518\n",
       "MAE                    493\n",
       "1:1 Accuracy           457\n",
       "AUC                    409\n",
       "Top-1 Accuracy         388\n",
       "Percentage correct     335\n",
       "Rank-1                 312\n",
       "Accuracy (%)           305\n",
       "MRR                    296\n",
       "Name: id, dtype: int64"
      ]
     },
     "execution_count": 14,
     "metadata": {},
     "output_type": "execute_result"
    }
   ],
   "source": [
    "# Metric\n",
    "metric = df_entries.groupby(\"Metric\").count()[\"id\"].sort_values(ascending=False)\n",
    "print(len(metric))\n",
    "\n",
    "# Top 20\n",
    "metric[:20]"
   ]
  },
  {
   "cell_type": "markdown",
   "metadata": {},
   "source": [
    "# Which entries can be found in the text?"
   ]
  },
  {
   "cell_type": "code",
   "execution_count": 15,
   "metadata": {},
   "outputs": [],
   "source": [
    "def is_in_tex(item, tex):\n",
    "    return item in tex"
   ]
  },
  {
   "cell_type": "code",
   "execution_count": 16,
   "metadata": {},
   "outputs": [],
   "source": [
    "df_combined = df_entries.merge(df[[\"id\", \"tex\"]],on=\"id\")\n",
    "df_combined[\"Task_found\"] = df_combined.apply(lambda row: row[\"Task\"] in row[\"tex\"], axis=1)\n",
    "df_combined[\"Dataset_found\"] = df_combined.apply(lambda row: row[\"Dataset\"] in row[\"tex\"], axis=1)\n",
    "df_combined[\"Metric_found\"] = df_combined.apply(lambda row: row[\"Metric\"] in row[\"tex\"], axis=1)"
   ]
  },
  {
   "cell_type": "code",
   "execution_count": 17,
   "metadata": {},
   "outputs": [
    {
     "name": "stdout",
     "output_type": "stream",
     "text": [
      "total TDMS: 48920\n",
      "Task found: 18380 -> 0.3757154538021259\n",
      "Dataset found: 22869 -> 0.467477514309076\n",
      "Metric found: 18264 -> 0.3733442354865086\n"
     ]
    }
   ],
   "source": [
    "tot = len(df_combined)\n",
    "t_found = len(df_combined[df_combined['Task_found']])\n",
    "ds_found = len(df_combined[df_combined['Dataset_found']])\n",
    "metric_found = len(df_combined[df_combined['Metric_found']])\n",
    "print(f\"total TDMS: {len(df_combined)}\")\n",
    "print(f\"Task found: {t_found} -> {t_found/tot}\")\n",
    "print(f\"Dataset found: {ds_found} -> {ds_found/tot}\")\n",
    "print(f\"Metric found: {metric_found} -> {metric_found/tot}\")"
   ]
  },
  {
   "cell_type": "code",
   "execution_count": 18,
   "metadata": {},
   "outputs": [
    {
     "data": {
      "text/html": [
       "<div>\n",
       "<style scoped>\n",
       "    .dataframe tbody tr th:only-of-type {\n",
       "        vertical-align: middle;\n",
       "    }\n",
       "\n",
       "    .dataframe tbody tr th {\n",
       "        vertical-align: top;\n",
       "    }\n",
       "\n",
       "    .dataframe thead th {\n",
       "        text-align: right;\n",
       "    }\n",
       "</style>\n",
       "<table border=\"1\" class=\"dataframe\">\n",
       "  <thead>\n",
       "    <tr style=\"text-align: right;\">\n",
       "      <th></th>\n",
       "      <th>id</th>\n",
       "      <th>jsn</th>\n",
       "      <th>Task</th>\n",
       "      <th>Dataset</th>\n",
       "      <th>Metric</th>\n",
       "      <th>Score</th>\n",
       "      <th>tex</th>\n",
       "      <th>Task_found</th>\n",
       "      <th>Dataset_found</th>\n",
       "      <th>Metric_found</th>\n",
       "    </tr>\n",
       "  </thead>\n",
       "  <tbody>\n",
       "    <tr>\n",
       "      <th>0</th>\n",
       "      <td>0710.3742v1</td>\n",
       "      <td>{'Task': 'Change Point Detection', 'Dataset': ...</td>\n",
       "      <td>Change Point Detection</td>\n",
       "      <td>TSSB</td>\n",
       "      <td>Relative Change Point Distance</td>\n",
       "      <td>0.20066</td>\n",
       "      <td>\\documentclass[]{article}\\n\\usepackage{proceed...</td>\n",
       "      <td>False</td>\n",
       "      <td>False</td>\n",
       "      <td>False</td>\n",
       "    </tr>\n",
       "    <tr>\n",
       "      <th>1</th>\n",
       "      <td>0710.3742v1</td>\n",
       "      <td>{'Task': 'Change Point Detection', 'Dataset': ...</td>\n",
       "      <td>Change Point Detection</td>\n",
       "      <td>TSSB</td>\n",
       "      <td>Covering</td>\n",
       "      <td>0.4488</td>\n",
       "      <td>\\documentclass[]{article}\\n\\usepackage{proceed...</td>\n",
       "      <td>False</td>\n",
       "      <td>False</td>\n",
       "      <td>False</td>\n",
       "    </tr>\n",
       "    <tr>\n",
       "      <th>2</th>\n",
       "      <td>0806.3286v2</td>\n",
       "      <td>{'Task': 'Causal Inference', 'Dataset': 'Jobs'...</td>\n",
       "      <td>Causal Inference</td>\n",
       "      <td>Jobs</td>\n",
       "      <td>Average Treatment Effect on the Treated Error</td>\n",
       "      <td>0.08</td>\n",
       "      <td>\\n\\documentclass[aoas,nameyear,dvips]{arximspd...</td>\n",
       "      <td>False</td>\n",
       "      <td>False</td>\n",
       "      <td>False</td>\n",
       "    </tr>\n",
       "    <tr>\n",
       "      <th>3</th>\n",
       "      <td>1202.2745v1</td>\n",
       "      <td>{'Task': 'Image Classification', 'Dataset': 'C...</td>\n",
       "      <td>Image Classification</td>\n",
       "      <td>CIFAR-10</td>\n",
       "      <td>Percentage correct</td>\n",
       "      <td>88.8</td>\n",
       "      <td>\\documentclass[a4paper]{article}\\n\\usepackage{...</td>\n",
       "      <td>True</td>\n",
       "      <td>False</td>\n",
       "      <td>False</td>\n",
       "    </tr>\n",
       "    <tr>\n",
       "      <th>4</th>\n",
       "      <td>1202.2745v1</td>\n",
       "      <td>{'Task': 'Image Classification', 'Dataset': 'M...</td>\n",
       "      <td>Image Classification</td>\n",
       "      <td>MNIST</td>\n",
       "      <td>Percentage error</td>\n",
       "      <td>0.23</td>\n",
       "      <td>\\documentclass[a4paper]{article}\\n\\usepackage{...</td>\n",
       "      <td>True</td>\n",
       "      <td>True</td>\n",
       "      <td>False</td>\n",
       "    </tr>\n",
       "    <tr>\n",
       "      <th>...</th>\n",
       "      <td>...</td>\n",
       "      <td>...</td>\n",
       "      <td>...</td>\n",
       "      <td>...</td>\n",
       "      <td>...</td>\n",
       "      <td>...</td>\n",
       "      <td>...</td>\n",
       "      <td>...</td>\n",
       "      <td>...</td>\n",
       "      <td>...</td>\n",
       "    </tr>\n",
       "    <tr>\n",
       "      <th>48915</th>\n",
       "      <td>2312.03430v1</td>\n",
       "      <td>{'Task': 'Semantic Segmentation', 'Dataset': '...</td>\n",
       "      <td>Semantic Segmentation</td>\n",
       "      <td>UPLight</td>\n",
       "      <td>mIoU</td>\n",
       "      <td>92.45</td>\n",
       "      <td>\\n\\n\\documentclass[10pt,twocolumn,letterpaper]...</td>\n",
       "      <td>True</td>\n",
       "      <td>True</td>\n",
       "      <td>True</td>\n",
       "    </tr>\n",
       "    <tr>\n",
       "      <th>48916</th>\n",
       "      <td>2312.03430v1</td>\n",
       "      <td>{'Task': 'Semantic Segmentation', 'Dataset': '...</td>\n",
       "      <td>Semantic Segmentation</td>\n",
       "      <td>MCubeS (P)</td>\n",
       "      <td>mIoU</td>\n",
       "      <td>50.99</td>\n",
       "      <td>\\n\\n\\documentclass[10pt,twocolumn,letterpaper]...</td>\n",
       "      <td>True</td>\n",
       "      <td>False</td>\n",
       "      <td>True</td>\n",
       "    </tr>\n",
       "    <tr>\n",
       "      <th>48917</th>\n",
       "      <td>2312.03430v1</td>\n",
       "      <td>{'Task': 'Semantic Segmentation', 'Dataset': '...</td>\n",
       "      <td>Semantic Segmentation</td>\n",
       "      <td>MCubeS (P)</td>\n",
       "      <td>mIoU</td>\n",
       "      <td>50.55</td>\n",
       "      <td>\\n\\n\\documentclass[10pt,twocolumn,letterpaper]...</td>\n",
       "      <td>True</td>\n",
       "      <td>False</td>\n",
       "      <td>True</td>\n",
       "    </tr>\n",
       "    <tr>\n",
       "      <th>48918</th>\n",
       "      <td>2312.03430v1</td>\n",
       "      <td>{'Task': 'Semantic Segmentation', 'Dataset': '...</td>\n",
       "      <td>Semantic Segmentation</td>\n",
       "      <td>MCubeS (P)</td>\n",
       "      <td>mIoU</td>\n",
       "      <td>50.34</td>\n",
       "      <td>\\n\\n\\documentclass[10pt,twocolumn,letterpaper]...</td>\n",
       "      <td>True</td>\n",
       "      <td>False</td>\n",
       "      <td>True</td>\n",
       "    </tr>\n",
       "    <tr>\n",
       "      <th>48919</th>\n",
       "      <td>2312.03701v1</td>\n",
       "      <td>{'Task': 'Image Generation', 'Dataset': 'Image...</td>\n",
       "      <td>Image Generation</td>\n",
       "      <td>ImageNet 256x256</td>\n",
       "      <td>FID</td>\n",
       "      <td>3.49</td>\n",
       "      <td>\\n\\begin{figure*}[t]\\n\\begin{center}\\n\\include...</td>\n",
       "      <td>False</td>\n",
       "      <td>False</td>\n",
       "      <td>True</td>\n",
       "    </tr>\n",
       "  </tbody>\n",
       "</table>\n",
       "<p>48920 rows × 10 columns</p>\n",
       "</div>"
      ],
      "text/plain": [
       "                 id                                                jsn  \\\n",
       "0       0710.3742v1  {'Task': 'Change Point Detection', 'Dataset': ...   \n",
       "1       0710.3742v1  {'Task': 'Change Point Detection', 'Dataset': ...   \n",
       "2       0806.3286v2  {'Task': 'Causal Inference', 'Dataset': 'Jobs'...   \n",
       "3       1202.2745v1  {'Task': 'Image Classification', 'Dataset': 'C...   \n",
       "4       1202.2745v1  {'Task': 'Image Classification', 'Dataset': 'M...   \n",
       "...             ...                                                ...   \n",
       "48915  2312.03430v1  {'Task': 'Semantic Segmentation', 'Dataset': '...   \n",
       "48916  2312.03430v1  {'Task': 'Semantic Segmentation', 'Dataset': '...   \n",
       "48917  2312.03430v1  {'Task': 'Semantic Segmentation', 'Dataset': '...   \n",
       "48918  2312.03430v1  {'Task': 'Semantic Segmentation', 'Dataset': '...   \n",
       "48919  2312.03701v1  {'Task': 'Image Generation', 'Dataset': 'Image...   \n",
       "\n",
       "                         Task           Dataset  \\\n",
       "0      Change Point Detection              TSSB   \n",
       "1      Change Point Detection              TSSB   \n",
       "2            Causal Inference              Jobs   \n",
       "3        Image Classification          CIFAR-10   \n",
       "4        Image Classification             MNIST   \n",
       "...                       ...               ...   \n",
       "48915   Semantic Segmentation           UPLight   \n",
       "48916   Semantic Segmentation        MCubeS (P)   \n",
       "48917   Semantic Segmentation        MCubeS (P)   \n",
       "48918   Semantic Segmentation        MCubeS (P)   \n",
       "48919        Image Generation  ImageNet 256x256   \n",
       "\n",
       "                                              Metric    Score  \\\n",
       "0                     Relative Change Point Distance  0.20066   \n",
       "1                                           Covering   0.4488   \n",
       "2      Average Treatment Effect on the Treated Error     0.08   \n",
       "3                                 Percentage correct     88.8   \n",
       "4                                   Percentage error     0.23   \n",
       "...                                              ...      ...   \n",
       "48915                                           mIoU    92.45   \n",
       "48916                                           mIoU    50.99   \n",
       "48917                                           mIoU    50.55   \n",
       "48918                                           mIoU    50.34   \n",
       "48919                                            FID     3.49   \n",
       "\n",
       "                                                     tex  Task_found  \\\n",
       "0      \\documentclass[]{article}\\n\\usepackage{proceed...       False   \n",
       "1      \\documentclass[]{article}\\n\\usepackage{proceed...       False   \n",
       "2      \\n\\documentclass[aoas,nameyear,dvips]{arximspd...       False   \n",
       "3      \\documentclass[a4paper]{article}\\n\\usepackage{...        True   \n",
       "4      \\documentclass[a4paper]{article}\\n\\usepackage{...        True   \n",
       "...                                                  ...         ...   \n",
       "48915  \\n\\n\\documentclass[10pt,twocolumn,letterpaper]...        True   \n",
       "48916  \\n\\n\\documentclass[10pt,twocolumn,letterpaper]...        True   \n",
       "48917  \\n\\n\\documentclass[10pt,twocolumn,letterpaper]...        True   \n",
       "48918  \\n\\n\\documentclass[10pt,twocolumn,letterpaper]...        True   \n",
       "48919  \\n\\begin{figure*}[t]\\n\\begin{center}\\n\\include...       False   \n",
       "\n",
       "       Dataset_found  Metric_found  \n",
       "0              False         False  \n",
       "1              False         False  \n",
       "2              False         False  \n",
       "3              False         False  \n",
       "4               True         False  \n",
       "...              ...           ...  \n",
       "48915           True          True  \n",
       "48916          False          True  \n",
       "48917          False          True  \n",
       "48918          False          True  \n",
       "48919          False          True  \n",
       "\n",
       "[48920 rows x 10 columns]"
      ]
     },
     "execution_count": 18,
     "metadata": {},
     "output_type": "execute_result"
    }
   ],
   "source": [
    "df_combined"
   ]
  },
  {
   "cell_type": "code",
   "execution_count": null,
   "metadata": {},
   "outputs": [],
   "source": []
  }
 ],
 "metadata": {
  "kernelspec": {
   "display_name": "Python 3 (ipykernel)",
   "language": "python",
   "name": "python3"
  },
  "language_info": {
   "codemirror_mode": {
    "name": "ipython",
    "version": 3
   },
   "file_extension": ".py",
   "mimetype": "text/x-python",
   "name": "python",
   "nbconvert_exporter": "python",
   "pygments_lexer": "ipython3",
   "version": "3.12.2"
  }
 },
 "nbformat": 4,
 "nbformat_minor": 2
}
