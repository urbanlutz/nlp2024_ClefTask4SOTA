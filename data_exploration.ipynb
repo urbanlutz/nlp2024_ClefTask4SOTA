{
 "cells": [
  {
   "cell_type": "markdown",
   "metadata": {},
   "source": [
    "Task Website: https://sites.google.com/view/simpletext-sota/home\n",
    "Competition: https://codalab.lisn.upsaclay.fr/competitions/16616\n",
    "\n",
    "Dataset: https://github.com/jd-coderepos/sota/tree/master\n",
    "\n"
   ]
  },
  {
   "cell_type": "code",
   "execution_count": null,
   "metadata": {},
   "outputs": [],
   "source": []
  },
  {
   "cell_type": "code",
   "execution_count": 93,
   "metadata": {},
   "outputs": [
    {
     "name": "stdout",
     "output_type": "stream",
     "text": [
      "The autoreload extension is already loaded. To reload it, use:\n",
      "  %reload_ext autoreload\n"
     ]
    }
   ],
   "source": [
    "import os\n",
    "if os.getcwd() == '/home/user/code':\n",
    "    os.chdir('/home/user/code/nlp2024_ClefTask4SOTA')\n",
    "\n",
    "\n",
    "%load_ext autoreload\n",
    "%autoreload 2"
   ]
  },
  {
   "cell_type": "markdown",
   "metadata": {},
   "source": [
    "# Read all Splits"
   ]
  },
  {
   "cell_type": "code",
   "execution_count": 94,
   "metadata": {},
   "outputs": [],
   "source": [
    "NOT_FOUND = \"unanswerable\\n\"\n",
    "TRAIN_PATH = \"./data/train\""
   ]
  },
  {
   "cell_type": "code",
   "execution_count": 95,
   "metadata": {},
   "outputs": [],
   "source": [
    "\n",
    "import os\n",
    "import json\n",
    "\n",
    "TRAIN_PATH = \"./data/train\"\n",
    "VAL_PATH = \"./data/validation\"\n",
    "TEST_PHASE1_PATH = \"./data/test1-few-shot-papers\"\n",
    "TEST_PATH = \"./data/test2-zero-shot-papers\"\n",
    "\n",
    "\n",
    "def path_join(*args):\n",
    "    return os.path.join(*args).replace('\\\\', '/') \n",
    "\n",
    "def find(extension, *args):\n",
    "    p = path_join(*args)\n",
    "    res = list(filter(lambda x: x.endswith(extension), os.listdir(p)))\n",
    "    if res:\n",
    "        return path_join(p, res[0])\n",
    "    else:\n",
    "        return None\n",
    "\n",
    "\n",
    "def get_num_files(path):\n",
    "    return len([(p, find(\"tex\", path, p), find(\"json\", path, p)) for p in os.listdir(path)])\n",
    "\n",
    "def get(path):\n",
    "    return [(p, find(\"tex\", path, p), find(\"json\", path, p)) for p in os.listdir(path)]"
   ]
  },
  {
   "cell_type": "code",
   "execution_count": 96,
   "metadata": {},
   "outputs": [],
   "source": [
    "import pandas as pd\n",
    "\n",
    "r = [\n",
    "    {\n",
    "        \"split\": \"train\",\n",
    "        \"volume\": get_num_files(TRAIN_PATH)\n",
    "    },\n",
    "    {\n",
    "        \"split\": \"validation\",\n",
    "        \"volume\": get_num_files(VAL_PATH)\n",
    "    },\n",
    "    {\n",
    "        \"split\": \"test few shot phase\",\n",
    "        \"volume\": get_num_files(TEST_PHASE1_PATH)\n",
    "    },\n",
    "    {\n",
    "        \"split\": \"test zero shot phase\",\n",
    "        \"volume\": get_num_files(TEST_PATH)\n",
    "    },\n",
    "]\n",
    "\n",
    "df = pd.DataFrame(r)"
   ]
  },
  {
   "cell_type": "code",
   "execution_count": null,
   "metadata": {},
   "outputs": [],
   "source": []
  },
  {
   "cell_type": "code",
   "execution_count": 97,
   "metadata": {},
   "outputs": [
    {
     "name": "stdout",
     "output_type": "stream",
     "text": [
      "\\begin{tabular}{lr}\n",
      "\\toprule\n",
      "               split &  volume \\\\\n",
      "\\midrule\n",
      "               train &   12288 \\\\\n",
      "          validation &     100 \\\\\n",
      " test few shot phase &    1401 \\\\\n",
      "test zero shot phase &     789 \\\\\n",
      "\\bottomrule\n",
      "\\end{tabular}\n",
      "\n"
     ]
    }
   ],
   "source": [
    "print(df.to_latex(index=False))"
   ]
  },
  {
   "cell_type": "markdown",
   "metadata": {},
   "source": [
    "# Training Data analysis"
   ]
  },
  {
   "cell_type": "code",
   "execution_count": 98,
   "metadata": {},
   "outputs": [],
   "source": [
    "import pandas as pd\n",
    "\n",
    "all_paths = get(TRAIN_PATH)\n",
    "\n",
    "def read(i):\n",
    "    # print(i)\n",
    "    tex = None\n",
    "    jsn = None\n",
    "    try:\n",
    "        i, tex_path, jsn_path = all_paths[i]\n",
    "    except Exception as ex:\n",
    "        print(i)\n",
    "        raise ex\n",
    "    tex, jsn = None, None\n",
    "\n",
    "    try:\n",
    "        with open(tex_path) as f:\n",
    "            tex = f.read()\n",
    "    except: # tex not read\n",
    "        pass\n",
    "    \n",
    "    if jsn_path:\n",
    "        with open(jsn_path, encoding=\"utf-8\") as f:\n",
    "            jsn = f.read()\n",
    "            try:\n",
    "                jsn = eval(jsn)\n",
    "            except:\n",
    "                pass #\"unanswerable\" is not a dict, no eval possible/necessary\n",
    "    \n",
    "    return i, tex, jsn\n",
    "\n",
    "\n",
    "n = len(all_paths)\n",
    "data = []\n",
    "for i, t, j in [read(i) for i in range(n)]:\n",
    "    # if j and j != 'unanswerable\\n':\n",
    "    data.append((i, t, j))\n",
    "\n"
   ]
  },
  {
   "cell_type": "code",
   "execution_count": null,
   "metadata": {},
   "outputs": [],
   "source": []
  },
  {
   "cell_type": "code",
   "execution_count": 99,
   "metadata": {},
   "outputs": [
    {
     "data": {
      "text/html": [
       "<div>\n",
       "<style scoped>\n",
       "    .dataframe tbody tr th:only-of-type {\n",
       "        vertical-align: middle;\n",
       "    }\n",
       "\n",
       "    .dataframe tbody tr th {\n",
       "        vertical-align: top;\n",
       "    }\n",
       "\n",
       "    .dataframe thead th {\n",
       "        text-align: right;\n",
       "    }\n",
       "</style>\n",
       "<table border=\"1\" class=\"dataframe\">\n",
       "  <thead>\n",
       "    <tr style=\"text-align: right;\">\n",
       "      <th></th>\n",
       "      <th>id</th>\n",
       "      <th>tex</th>\n",
       "      <th>jsn</th>\n",
       "    </tr>\n",
       "  </thead>\n",
       "  <tbody>\n",
       "    <tr>\n",
       "      <th>0</th>\n",
       "      <td>2205.07139v1</td>\n",
       "      <td>\\documentclass[runningheads]{llncs}\\n\\usepacka...</td>\n",
       "      <td>[{'LEADERBOARD': {'Task': 'Thoracic Disease Cl...</td>\n",
       "    </tr>\n",
       "    <tr>\n",
       "      <th>1</th>\n",
       "      <td>1908.04531v2</td>\n",
       "      <td>\\documentclass{article}\\n\\n\\n\\usepackage{arxiv...</td>\n",
       "      <td>[{'LEADERBOARD': {'Task': 'Hate Speech Detecti...</td>\n",
       "    </tr>\n",
       "    <tr>\n",
       "      <th>2</th>\n",
       "      <td>1007.3769</td>\n",
       "      <td>\\documentclass{LMCS}\\n\\n\\mathcode`:=\"003A  \\ma...</td>\n",
       "      <td>unanswerable\\n</td>\n",
       "    </tr>\n",
       "    <tr>\n",
       "      <th>3</th>\n",
       "      <td>1408.5825</td>\n",
       "      <td>\\n\\n\\n\\n\\n\\documentclass[10pt,draftcls,onecolu...</td>\n",
       "      <td>unanswerable\\n</td>\n",
       "    </tr>\n",
       "    <tr>\n",
       "      <th>4</th>\n",
       "      <td>2104.08663v2</td>\n",
       "      <td>\\pdfoutput=1\\n\\n\\n\\documentclass[11pt]{article...</td>\n",
       "      <td>unanswerable\\n</td>\n",
       "    </tr>\n",
       "    <tr>\n",
       "      <th>...</th>\n",
       "      <td>...</td>\n",
       "      <td>...</td>\n",
       "      <td>...</td>\n",
       "    </tr>\n",
       "    <tr>\n",
       "      <th>12283</th>\n",
       "      <td>0907.0649</td>\n",
       "      <td>\\n\\n\\documentclass[twoside]{article}\\n\\usepack...</td>\n",
       "      <td>unanswerable\\n</td>\n",
       "    </tr>\n",
       "    <tr>\n",
       "      <th>12284</th>\n",
       "      <td>2207.07922v1</td>\n",
       "      <td>\\n\\n\\documentclass[runningheads]{llncs}\\n\\usep...</td>\n",
       "      <td>[{'LEADERBOARD': {'Task': 'Semi-Supervised Vid...</td>\n",
       "    </tr>\n",
       "    <tr>\n",
       "      <th>12285</th>\n",
       "      <td>2204.14047v2</td>\n",
       "      <td>\\documentclass[sigconf]{acmart}\\n\\n\\usepackage...</td>\n",
       "      <td>[{'LEADERBOARD': {'Task': 'Video Quality Asses...</td>\n",
       "    </tr>\n",
       "    <tr>\n",
       "      <th>12286</th>\n",
       "      <td>1611.06067v1</td>\n",
       "      <td>\\def\\year{2017}\\relax\\n\\documentclass[letterpa...</td>\n",
       "      <td>[{'LEADERBOARD': {'Task': 'Skeleton Based Acti...</td>\n",
       "    </tr>\n",
       "    <tr>\n",
       "      <th>12287</th>\n",
       "      <td>1903.11059v2</td>\n",
       "      <td>\\documentclass[10pt,twocolumn,letterpaper]{art...</td>\n",
       "      <td>[{'LEADERBOARD': {'Task': 'Neural Architecture...</td>\n",
       "    </tr>\n",
       "  </tbody>\n",
       "</table>\n",
       "<p>12288 rows × 3 columns</p>\n",
       "</div>"
      ],
      "text/plain": [
       "                 id                                                tex  \\\n",
       "0      2205.07139v1  \\documentclass[runningheads]{llncs}\\n\\usepacka...   \n",
       "1      1908.04531v2  \\documentclass{article}\\n\\n\\n\\usepackage{arxiv...   \n",
       "2         1007.3769  \\documentclass{LMCS}\\n\\n\\mathcode`:=\"003A  \\ma...   \n",
       "3         1408.5825  \\n\\n\\n\\n\\n\\documentclass[10pt,draftcls,onecolu...   \n",
       "4      2104.08663v2  \\pdfoutput=1\\n\\n\\n\\documentclass[11pt]{article...   \n",
       "...             ...                                                ...   \n",
       "12283     0907.0649  \\n\\n\\documentclass[twoside]{article}\\n\\usepack...   \n",
       "12284  2207.07922v1  \\n\\n\\documentclass[runningheads]{llncs}\\n\\usep...   \n",
       "12285  2204.14047v2  \\documentclass[sigconf]{acmart}\\n\\n\\usepackage...   \n",
       "12286  1611.06067v1  \\def\\year{2017}\\relax\\n\\documentclass[letterpa...   \n",
       "12287  1903.11059v2  \\documentclass[10pt,twocolumn,letterpaper]{art...   \n",
       "\n",
       "                                                     jsn  \n",
       "0      [{'LEADERBOARD': {'Task': 'Thoracic Disease Cl...  \n",
       "1      [{'LEADERBOARD': {'Task': 'Hate Speech Detecti...  \n",
       "2                                         unanswerable\\n  \n",
       "3                                         unanswerable\\n  \n",
       "4                                         unanswerable\\n  \n",
       "...                                                  ...  \n",
       "12283                                     unanswerable\\n  \n",
       "12284  [{'LEADERBOARD': {'Task': 'Semi-Supervised Vid...  \n",
       "12285  [{'LEADERBOARD': {'Task': 'Video Quality Asses...  \n",
       "12286  [{'LEADERBOARD': {'Task': 'Skeleton Based Acti...  \n",
       "12287  [{'LEADERBOARD': {'Task': 'Neural Architecture...  \n",
       "\n",
       "[12288 rows x 3 columns]"
      ]
     },
     "execution_count": 99,
     "metadata": {},
     "output_type": "execute_result"
    }
   ],
   "source": [
    "df_raw = pd.DataFrame(data)\n",
    "df_raw = df_raw.rename({0: \"id\", 1: \"tex\", 2: \"jsn\"}, axis=1)\n",
    "df_raw\n"
   ]
  },
  {
   "cell_type": "code",
   "execution_count": null,
   "metadata": {},
   "outputs": [],
   "source": []
  },
  {
   "cell_type": "markdown",
   "metadata": {},
   "source": [
    "## how many are parsable?"
   ]
  },
  {
   "cell_type": "code",
   "execution_count": 100,
   "metadata": {},
   "outputs": [],
   "source": [
    "from TexSoup import TexSoup\n",
    "\n",
    "def is_parsable(t):\n",
    "    try:\n",
    "        soup = TexSoup(t)\n",
    "        return True\n",
    "    except:\n",
    "        return False\n",
    "    \n",
    "# parsable = df_raw[\"tex\"][:1000].apply(is_parsable)"
   ]
  },
  {
   "cell_type": "code",
   "execution_count": 101,
   "metadata": {},
   "outputs": [],
   "source": [
    "# parsable"
   ]
  },
  {
   "cell_type": "markdown",
   "metadata": {},
   "source": [
    "## Is ID unique?"
   ]
  },
  {
   "cell_type": "code",
   "execution_count": 102,
   "metadata": {},
   "outputs": [
    {
     "name": "stdout",
     "output_type": "stream",
     "text": [
      "12288\n",
      "12288\n"
     ]
    }
   ],
   "source": [
    "# is \"id\" unique?\n",
    "\n",
    "total_ids = len(df_raw[\"id\"])\n",
    "nonduplicate_ids = len(df_raw[\"id\"].drop_duplicates())\n",
    "print(total_ids)\n",
    "print(nonduplicate_ids)\n",
    "# -> yes"
   ]
  },
  {
   "cell_type": "markdown",
   "metadata": {},
   "source": [
    "# Tex Files"
   ]
  },
  {
   "cell_type": "code",
   "execution_count": 103,
   "metadata": {},
   "outputs": [],
   "source": [
    "# how long are the tex?\n",
    "\n",
    "df_raw[\"tex_len\"] = df_raw[\"tex\"].str.len()"
   ]
  },
  {
   "cell_type": "code",
   "execution_count": 104,
   "metadata": {},
   "outputs": [
    {
     "data": {
      "text/plain": [
       "id                                              2210.05974v3\n",
       "tex        \\documentclass{article}\\n\\usepackage[utf8]{inp...\n",
       "jsn        [{'LEADERBOARD': {'Task': 'Click-Through Rate ...\n",
       "tex_len                                            4539917.0\n",
       "Name: 9878, dtype: object"
      ]
     },
     "execution_count": 104,
     "metadata": {},
     "output_type": "execute_result"
    }
   ],
   "source": [
    "# longest doc\n",
    "df_raw.loc[df_raw[\"tex_len\"].idxmax()]"
   ]
  },
  {
   "cell_type": "code",
   "execution_count": 105,
   "metadata": {},
   "outputs": [],
   "source": [
    "tex = df_raw.loc[df_raw[\"tex_len\"].idxmax()][\"tex\"]"
   ]
  },
  {
   "cell_type": "code",
   "execution_count": 106,
   "metadata": {},
   "outputs": [
    {
     "data": {
      "text/html": [
       "<div>\n",
       "<style scoped>\n",
       "    .dataframe tbody tr th:only-of-type {\n",
       "        vertical-align: middle;\n",
       "    }\n",
       "\n",
       "    .dataframe tbody tr th {\n",
       "        vertical-align: top;\n",
       "    }\n",
       "\n",
       "    .dataframe thead th {\n",
       "        text-align: right;\n",
       "    }\n",
       "</style>\n",
       "<table border=\"1\" class=\"dataframe\">\n",
       "  <thead>\n",
       "    <tr style=\"text-align: right;\">\n",
       "      <th></th>\n",
       "      <th>id</th>\n",
       "      <th>tex</th>\n",
       "      <th>jsn</th>\n",
       "      <th>tex_len</th>\n",
       "      <th>pgfpicture</th>\n",
       "    </tr>\n",
       "  </thead>\n",
       "  <tbody>\n",
       "    <tr>\n",
       "      <th>9878</th>\n",
       "      <td>2210.05974v3</td>\n",
       "      <td>\\documentclass{article}\\n\\usepackage[utf8]{inp...</td>\n",
       "      <td>[{'LEADERBOARD': {'Task': 'Click-Through Rate ...</td>\n",
       "      <td>4539917.0</td>\n",
       "      <td>True</td>\n",
       "    </tr>\n",
       "    <tr>\n",
       "      <th>10430</th>\n",
       "      <td>1906.12269v1</td>\n",
       "      <td>\\documentclass[sigconf]{acmart}\\n\\usepackage{x...</td>\n",
       "      <td>[{'LEADERBOARD': {'Task': 'Node Classification...</td>\n",
       "      <td>2454516.0</td>\n",
       "      <td>True</td>\n",
       "    </tr>\n",
       "    <tr>\n",
       "      <th>10457</th>\n",
       "      <td>1911.05485v6</td>\n",
       "      <td>\\documentclass{article}\\n\\n\\PassOptionsToPacka...</td>\n",
       "      <td>[{'LEADERBOARD': {'Task': 'Node Classification...</td>\n",
       "      <td>2018664.0</td>\n",
       "      <td>True</td>\n",
       "    </tr>\n",
       "    <tr>\n",
       "      <th>1702</th>\n",
       "      <td>1911.05485v5</td>\n",
       "      <td>\\documentclass{article}\\n\\n\\PassOptionsToPacka...</td>\n",
       "      <td>unanswerable\\n</td>\n",
       "      <td>2018656.0</td>\n",
       "      <td>True</td>\n",
       "    </tr>\n",
       "    <tr>\n",
       "      <th>5024</th>\n",
       "      <td>1510.06516</td>\n",
       "      <td>\\documentclass[letterpaper,10pt,conference,two...</td>\n",
       "      <td>unanswerable\\n</td>\n",
       "      <td>885157.0</td>\n",
       "      <td>True</td>\n",
       "    </tr>\n",
       "    <tr>\n",
       "      <th>3017</th>\n",
       "      <td>2310.16248v2</td>\n",
       "      <td>\\pdfoutput=1\\n\\n\\documentclass[11pt]{article}\\...</td>\n",
       "      <td>[{'LEADERBOARD': {'Task': 'Language Identifica...</td>\n",
       "      <td>839134.0</td>\n",
       "      <td>False</td>\n",
       "    </tr>\n",
       "    <tr>\n",
       "      <th>12277</th>\n",
       "      <td>1406.6281</td>\n",
       "      <td>\\n\\documentclass[journal,transmag]{IEEEtran}\\n...</td>\n",
       "      <td>unanswerable\\n</td>\n",
       "      <td>828241.0</td>\n",
       "      <td>False</td>\n",
       "    </tr>\n",
       "    <tr>\n",
       "      <th>7322</th>\n",
       "      <td>1803.06815v3</td>\n",
       "      <td>\\n\\n\\documentclass[runningheads]{llncs}\\n\\usep...</td>\n",
       "      <td>[{'LEADERBOARD': {'Task': 'Semantic Segmentati...</td>\n",
       "      <td>736871.0</td>\n",
       "      <td>False</td>\n",
       "    </tr>\n",
       "    <tr>\n",
       "      <th>6602</th>\n",
       "      <td>1911.10927v1</td>\n",
       "      <td>\\documentclass[10pt,twocolumn,letterpaper]{art...</td>\n",
       "      <td>[{'LEADERBOARD': {'Task': 'Video Super-Resolut...</td>\n",
       "      <td>716000.0</td>\n",
       "      <td>False</td>\n",
       "    </tr>\n",
       "    <tr>\n",
       "      <th>735</th>\n",
       "      <td>1810.05997v6</td>\n",
       "      <td>\\documentclass{article} \\usepackage{iclr2019_c...</td>\n",
       "      <td>[{'LEADERBOARD': {'Task': 'Node Classification...</td>\n",
       "      <td>674777.0</td>\n",
       "      <td>True</td>\n",
       "    </tr>\n",
       "  </tbody>\n",
       "</table>\n",
       "</div>"
      ],
      "text/plain": [
       "                 id                                                tex  \\\n",
       "9878   2210.05974v3  \\documentclass{article}\\n\\usepackage[utf8]{inp...   \n",
       "10430  1906.12269v1  \\documentclass[sigconf]{acmart}\\n\\usepackage{x...   \n",
       "10457  1911.05485v6  \\documentclass{article}\\n\\n\\PassOptionsToPacka...   \n",
       "1702   1911.05485v5  \\documentclass{article}\\n\\n\\PassOptionsToPacka...   \n",
       "5024     1510.06516  \\documentclass[letterpaper,10pt,conference,two...   \n",
       "3017   2310.16248v2  \\pdfoutput=1\\n\\n\\documentclass[11pt]{article}\\...   \n",
       "12277     1406.6281  \\n\\documentclass[journal,transmag]{IEEEtran}\\n...   \n",
       "7322   1803.06815v3  \\n\\n\\documentclass[runningheads]{llncs}\\n\\usep...   \n",
       "6602   1911.10927v1  \\documentclass[10pt,twocolumn,letterpaper]{art...   \n",
       "735    1810.05997v6  \\documentclass{article} \\usepackage{iclr2019_c...   \n",
       "\n",
       "                                                     jsn    tex_len  \\\n",
       "9878   [{'LEADERBOARD': {'Task': 'Click-Through Rate ...  4539917.0   \n",
       "10430  [{'LEADERBOARD': {'Task': 'Node Classification...  2454516.0   \n",
       "10457  [{'LEADERBOARD': {'Task': 'Node Classification...  2018664.0   \n",
       "1702                                      unanswerable\\n  2018656.0   \n",
       "5024                                      unanswerable\\n   885157.0   \n",
       "3017   [{'LEADERBOARD': {'Task': 'Language Identifica...   839134.0   \n",
       "12277                                     unanswerable\\n   828241.0   \n",
       "7322   [{'LEADERBOARD': {'Task': 'Semantic Segmentati...   736871.0   \n",
       "6602   [{'LEADERBOARD': {'Task': 'Video Super-Resolut...   716000.0   \n",
       "735    [{'LEADERBOARD': {'Task': 'Node Classification...   674777.0   \n",
       "\n",
       "       pgfpicture  \n",
       "9878         True  \n",
       "10430        True  \n",
       "10457        True  \n",
       "1702         True  \n",
       "5024         True  \n",
       "3017        False  \n",
       "12277       False  \n",
       "7322        False  \n",
       "6602        False  \n",
       "735          True  "
      ]
     },
     "execution_count": 106,
     "metadata": {},
     "output_type": "execute_result"
    }
   ],
   "source": [
    "# top 10 longest docs\n",
    "df_t10 = df_raw.loc[df_raw[\"tex_len\"].nlargest(10).index]\n",
    "\n",
    "\n",
    "# are they pgfpictures in there?\n",
    "df_t10[\"pgfpicture\"] = df_t10[\"tex\"].str.contains(\"pgfpicture\")\n",
    "\n",
    "df_t10"
   ]
  },
  {
   "cell_type": "code",
   "execution_count": 125,
   "metadata": {},
   "outputs": [
    {
     "data": {
      "text/plain": [
       "137.0"
      ]
     },
     "execution_count": 125,
     "metadata": {},
     "output_type": "execute_result"
    }
   ],
   "source": [
    "df_raw[\"tex_len\"].min()"
   ]
  },
  {
   "cell_type": "code",
   "execution_count": 126,
   "metadata": {},
   "outputs": [
    {
     "data": {
      "text/plain": [
       "id                                                      2301.05124v1\n",
       "tex                Introduction\\n\\n\\n\\n\\n\\n\\n\\n\\n\\n\\n\\n\\n\\n\\n\\n\\n...\n",
       "jsn                [{'LEADERBOARD': {'Task': 'Object Detection', ...\n",
       "tex_len                                                        137.0\n",
       "isUnanswerable                                                 False\n",
       "isNone                                                         False\n",
       "numLeaderboards                                                   12\n",
       "hasLeaderboards                                                 True\n",
       "Name: 10103, dtype: object"
      ]
     },
     "execution_count": 126,
     "metadata": {},
     "output_type": "execute_result"
    }
   ],
   "source": [
    "df_raw.loc[df_raw[\"tex_len\"].idxmin()]"
   ]
  },
  {
   "cell_type": "markdown",
   "metadata": {},
   "source": [
    "## remove pgfpicture"
   ]
  },
  {
   "cell_type": "code",
   "execution_count": 107,
   "metadata": {},
   "outputs": [],
   "source": [
    "from src.content_extraction import _find_begin_end\n",
    "\n",
    "\n",
    "def remove_pgfpictures(tex):\n",
    "    pgfpictures = _find_begin_end(tex, \"pgfpicture\")\n",
    "    for _, pgfpicture in pgfpictures:\n",
    "        tex = tex.replace(pgfpicture, \"\")\n",
    "    return tex"
   ]
  },
  {
   "cell_type": "code",
   "execution_count": 108,
   "metadata": {},
   "outputs": [],
   "source": [
    "df = df_raw.copy()\n",
    "df[\"tex\"] = df[\"tex\"].apply(remove_pgfpictures)\n",
    "df[\"tex_len_clean\"] = df[\"tex\"].str.len()"
   ]
  },
  {
   "cell_type": "code",
   "execution_count": 109,
   "metadata": {},
   "outputs": [
    {
     "data": {
      "text/plain": [
       "0        25291.0\n",
       "1        51286.0\n",
       "2        73104.0\n",
       "3        36681.0\n",
       "4        87071.0\n",
       "          ...   \n",
       "12283    35442.0\n",
       "12284    44277.0\n",
       "12285    49320.0\n",
       "12286    43106.0\n",
       "12287    62331.0\n",
       "Name: tex_len_clean, Length: 12288, dtype: float64"
      ]
     },
     "execution_count": 109,
     "metadata": {},
     "output_type": "execute_result"
    }
   ],
   "source": [
    "df[\"tex_len_clean\"]"
   ]
  },
  {
   "cell_type": "code",
   "execution_count": 110,
   "metadata": {},
   "outputs": [
    {
     "data": {
      "text/plain": [
       "839134.0"
      ]
     },
     "execution_count": 110,
     "metadata": {},
     "output_type": "execute_result"
    }
   ],
   "source": [
    "df[\"tex_len_clean\"].max()"
   ]
  },
  {
   "cell_type": "code",
   "execution_count": 111,
   "metadata": {},
   "outputs": [
    {
     "data": {
      "text/plain": [
       "count     11920.000000\n",
       "mean      46241.425503\n",
       "std       30938.414346\n",
       "min         137.000000\n",
       "25%       29077.000000\n",
       "50%       42629.000000\n",
       "75%       56679.000000\n",
       "max      839134.000000\n",
       "Name: tex_len_clean, dtype: float64"
      ]
     },
     "execution_count": 111,
     "metadata": {},
     "output_type": "execute_result"
    }
   ],
   "source": [
    "df[\"tex_len_clean\"].describe()"
   ]
  },
  {
   "cell_type": "code",
   "execution_count": 112,
   "metadata": {},
   "outputs": [
    {
     "data": {
      "image/png": "[encoded data removed]",
      "text/plain": [
       "<Figure size 640x480 with 1 Axes>"
      ]
     },
     "metadata": {},
     "output_type": "display_data"
    }
   ],
   "source": [
    "import seaborn as sns\n",
    "import matplotlib.pyplot as plt\n",
    "\n",
    "ax = sns.histplot(df[\"tex_len_clean\"], bins = 50, log_scale=True)\n",
    "\n",
    "# plt.yscale(\"log\")\n",
    "# plt.xscale(\"log\")\n",
    "ax.set(xlabel='Document Length (log)', ylabel='Count (log)')\n",
    "\n",
    "plt.savefig(\"imgs/doc_len_hist.png\")\n"
   ]
  },
  {
   "cell_type": "markdown",
   "metadata": {},
   "source": [
    "# JSON Files"
   ]
  },
  {
   "cell_type": "markdown",
   "metadata": {},
   "source": [
    "## How many are Null / Unanswerable?"
   ]
  },
  {
   "cell_type": "code",
   "execution_count": 113,
   "metadata": {},
   "outputs": [
    {
     "name": "stdout",
     "output_type": "stream",
     "text": [
      "total len: 12288\n",
      "None: 0\n",
      "Unanswerable: 4352\n"
     ]
    }
   ],
   "source": [
    "df = df_raw\n",
    "NOT_FOUND = \"unanswerable\\n\"\n",
    "\n",
    "df[\"isUnanswerable\"] = df[\"jsn\"] == NOT_FOUND\n",
    "df[\"isNone\"] = df[\"jsn\"].isnull()\n",
    "\n",
    "print(f\"total len: {len(df)}\")\n",
    "print(f\"None: {len(df[df['isNone']])}\")\n",
    "print(f\"Unanswerable: {len(df[df['isUnanswerable']])}\")\n",
    "# print(f\"Does not start with [: {len(df[~df['jsn'].astype(str).str.startswith(\"[\")])}\")\n",
    "\n"
   ]
  },
  {
   "cell_type": "markdown",
   "metadata": {},
   "source": [
    "# Leaderboard details"
   ]
  },
  {
   "cell_type": "code",
   "execution_count": 114,
   "metadata": {},
   "outputs": [
    {
     "name": "stdout",
     "output_type": "stream",
     "text": [
      "= 0: 4352\n",
      "> 0: 7936\n",
      "> 5: 2912\n",
      "> 10: 1297\n",
      "> 40: 122\n",
      "> 100: 17\n",
      "> 200: 1\n"
     ]
    }
   ],
   "source": [
    "df[\"numLeaderboards\"] = df[\"jsn\"].apply(lambda c: len(c) if c and c != NOT_FOUND else 0)\n",
    "df[\"hasLeaderboards\"] = df[\"numLeaderboards\"] > 0\n",
    "\n",
    "print(f\"= 0: {len(df[df['numLeaderboards'] == 0])}\")\n",
    "print(f\"> 0: {len(df[df['numLeaderboards'] > 0])}\")\n",
    "print(f\"> 5: {len(df[df['numLeaderboards'] > 5])}\")\n",
    "print(f\"> 10: {len(df[df['numLeaderboards'] > 10])}\")\n",
    "print(f\"> 40: {len(df[df['numLeaderboards'] > 40])}\")\n",
    "print(f\"> 100: {len(df[df['numLeaderboards'] > 100])}\")\n",
    "print(f\"> 200: {len(df[df['numLeaderboards'] > 200])}\")\n",
    "\n",
    "df_lt40 = df[df[\"numLeaderboards\"] < 40]"
   ]
  },
  {
   "cell_type": "code",
   "execution_count": 115,
   "metadata": {},
   "outputs": [
    {
     "data": {
      "image/png": "[encoded data removed]",
      "text/plain": [
       "<Figure size 640x480 with 1 Axes>"
      ]
     },
     "metadata": {},
     "output_type": "display_data"
    }
   ],
   "source": [
    "import seaborn as sns\n",
    "import matplotlib.pyplot as plt\n",
    "\n",
    "ax = sns.histplot(df[df[\"numLeaderboards\"]<40][\"numLeaderboards\"], bins = 50, log_scale=False)\n",
    "# ax = sns.histplot(df[\"numLeaderboards\"], bins = 50, log_scale=False)\n",
    "\n",
    "ax.set(xlabel='Number of TDMS Quadruples', ylabel='Count')\n",
    "\n",
    "plt.savefig(\"imgs/annotation_len_hist.png\")"
   ]
  },
  {
   "cell_type": "code",
   "execution_count": 116,
   "metadata": {},
   "outputs": [
    {
     "data": {
      "text/plain": [
       "0.6458333333333334"
      ]
     },
     "execution_count": 116,
     "metadata": {},
     "output_type": "execute_result"
    }
   ],
   "source": [
    "# pct_hasLeaderboard =  len(df[df[\"hasLeaderboards\"] == False]) / len(df[df[\"hasLeaderboards\"] == True])\n",
    "pct_hasLeaderboard =  len(df[df[\"hasLeaderboards\"]]) / len(df)\n",
    "pct_hasLeaderboard"
   ]
  },
  {
   "cell_type": "code",
   "execution_count": 117,
   "metadata": {},
   "outputs": [
    {
     "data": {
      "text/plain": [
       "<seaborn.axisgrid.FacetGrid at 0x7f5dec2d8070>"
      ]
     },
     "execution_count": 117,
     "metadata": {},
     "output_type": "execute_result"
    },
    {
     "data": {
      "image/png": "[encoded data removed]",
      "text/plain": [
       "<Figure size 500x500 with 1 Axes>"
      ]
     },
     "metadata": {},
     "output_type": "display_data"
    }
   ],
   "source": [
    "import seaborn as sns\n",
    "\n",
    "ax = sns.displot(df[\"numLeaderboards\"], kind=\"ecdf\")\n",
    "ax.set(xlim=(0, 40))"
   ]
  },
  {
   "cell_type": "code",
   "execution_count": 118,
   "metadata": {},
   "outputs": [
    {
     "data": {
      "text/plain": [
       "[(0.0, 40.0)]"
      ]
     },
     "execution_count": 118,
     "metadata": {},
     "output_type": "execute_result"
    },
    {
     "data": {
      "image/png": "[encoded data removed]",
      "text/plain": [
       "<Figure size 640x480 with 1 Axes>"
      ]
     },
     "metadata": {},
     "output_type": "display_data"
    }
   ],
   "source": [
    "ax = sns.histplot(df[\"numLeaderboards\"], bins=max(df[\"numLeaderboards\"]))\n",
    "ax.set(xlim=(0, 40))"
   ]
  },
  {
   "cell_type": "code",
   "execution_count": 119,
   "metadata": {},
   "outputs": [
    {
     "data": {
      "text/plain": [
       "id                                                      2210.07606v1\n",
       "tex                \\documentclass{article}\\n\\n\\n\\n\\n\\n\\usepackage...\n",
       "jsn                [{'LEADERBOARD': {'Task': 'Node Classification...\n",
       "tex_len                                                     180536.0\n",
       "isUnanswerable                                                 False\n",
       "isNone                                                         False\n",
       "numLeaderboards                                                  356\n",
       "hasLeaderboards                                                 True\n",
       "Name: 4701, dtype: object"
      ]
     },
     "execution_count": 119,
     "metadata": {},
     "output_type": "execute_result"
    }
   ],
   "source": [
    "df.loc[df[\"numLeaderboards\"].idxmax()]"
   ]
  },
  {
   "cell_type": "code",
   "execution_count": 120,
   "metadata": {},
   "outputs": [
    {
     "name": "stderr",
     "output_type": "stream",
     "text": [
      "Exception ignored in: <bound method IPythonKernel._clean_thread_parent_frames of <ipykernel.ipkernel.IPythonKernel object at 0x7f624eea79a0>>\n",
      "Traceback (most recent call last):\n",
      "  File \"/home/user/.venv/lib/python3.10/site-packages/ipykernel/ipkernel.py\", line 775, in _clean_thread_parent_frames\n",
      "    def _clean_thread_parent_frames(\n",
      "KeyboardInterrupt: \n"
     ]
    },
    {
     "data": {
      "text/html": [
       "<div>\n",
       "<style scoped>\n",
       "    .dataframe tbody tr th:only-of-type {\n",
       "        vertical-align: middle;\n",
       "    }\n",
       "\n",
       "    .dataframe tbody tr th {\n",
       "        vertical-align: top;\n",
       "    }\n",
       "\n",
       "    .dataframe thead th {\n",
       "        text-align: right;\n",
       "    }\n",
       "</style>\n",
       "<table border=\"1\" class=\"dataframe\">\n",
       "  <thead>\n",
       "    <tr style=\"text-align: right;\">\n",
       "      <th></th>\n",
       "      <th>id</th>\n",
       "      <th>jsn</th>\n",
       "      <th>Task</th>\n",
       "      <th>Dataset</th>\n",
       "      <th>Metric</th>\n",
       "      <th>Score</th>\n",
       "    </tr>\n",
       "  </thead>\n",
       "  <tbody>\n",
       "    <tr>\n",
       "      <th>0</th>\n",
       "      <td>2205.07139v1</td>\n",
       "      <td>{'Task': 'Thoracic Disease Classification', 'D...</td>\n",
       "      <td>Thoracic Disease Classification</td>\n",
       "      <td>ChestX-ray14</td>\n",
       "      <td>AUROC</td>\n",
       "      <td>78.33</td>\n",
       "    </tr>\n",
       "    <tr>\n",
       "      <th>1</th>\n",
       "      <td>1908.04531v2</td>\n",
       "      <td>{'Task': 'Hate Speech Detection', 'Dataset': '...</td>\n",
       "      <td>Hate Speech Detection</td>\n",
       "      <td>DKhate</td>\n",
       "      <td>F1</td>\n",
       "      <td>0.70</td>\n",
       "    </tr>\n",
       "    <tr>\n",
       "      <th>5</th>\n",
       "      <td>1911.04127v1</td>\n",
       "      <td>{'Task': 'Temporal Action Localization', 'Data...</td>\n",
       "      <td>Temporal Action Localization</td>\n",
       "      <td>FineAction</td>\n",
       "      <td>mAP</td>\n",
       "      <td>6.75</td>\n",
       "    </tr>\n",
       "    <tr>\n",
       "      <th>5</th>\n",
       "      <td>1911.04127v1</td>\n",
       "      <td>{'Task': 'Temporal Action Localization', 'Data...</td>\n",
       "      <td>Temporal Action Localization</td>\n",
       "      <td>FineAction</td>\n",
       "      <td>mAP IOU@0.5</td>\n",
       "      <td>10.65</td>\n",
       "    </tr>\n",
       "    <tr>\n",
       "      <th>5</th>\n",
       "      <td>1911.04127v1</td>\n",
       "      <td>{'Task': 'Temporal Action Localization', 'Data...</td>\n",
       "      <td>Temporal Action Localization</td>\n",
       "      <td>FineAction</td>\n",
       "      <td>mAP IOU@0.75</td>\n",
       "      <td>6.43</td>\n",
       "    </tr>\n",
       "    <tr>\n",
       "      <th>...</th>\n",
       "      <td>...</td>\n",
       "      <td>...</td>\n",
       "      <td>...</td>\n",
       "      <td>...</td>\n",
       "      <td>...</td>\n",
       "      <td>...</td>\n",
       "    </tr>\n",
       "    <tr>\n",
       "      <th>12287</th>\n",
       "      <td>1903.11059v2</td>\n",
       "      <td>{'Task': 'Neural Architecture Search', 'Datase...</td>\n",
       "      <td>Neural Architecture Search</td>\n",
       "      <td>ImageNet</td>\n",
       "      <td>Accuracy</td>\n",
       "      <td>75.5</td>\n",
       "    </tr>\n",
       "    <tr>\n",
       "      <th>12287</th>\n",
       "      <td>1903.11059v2</td>\n",
       "      <td>{'Task': 'Neural Architecture Search', 'Datase...</td>\n",
       "      <td>Neural Architecture Search</td>\n",
       "      <td>ImageNet</td>\n",
       "      <td>Params</td>\n",
       "      <td>5.4M</td>\n",
       "    </tr>\n",
       "    <tr>\n",
       "      <th>12287</th>\n",
       "      <td>1903.11059v2</td>\n",
       "      <td>{'Task': 'Neural Architecture Search', 'Datase...</td>\n",
       "      <td>Neural Architecture Search</td>\n",
       "      <td>CIFAR-10</td>\n",
       "      <td>Top-1 Error Rate</td>\n",
       "      <td>2.82%</td>\n",
       "    </tr>\n",
       "    <tr>\n",
       "      <th>12287</th>\n",
       "      <td>1903.11059v2</td>\n",
       "      <td>{'Task': 'Neural Architecture Search', 'Datase...</td>\n",
       "      <td>Neural Architecture Search</td>\n",
       "      <td>CIFAR-10</td>\n",
       "      <td>Search Time (GPU days)</td>\n",
       "      <td>224</td>\n",
       "    </tr>\n",
       "    <tr>\n",
       "      <th>12287</th>\n",
       "      <td>1903.11059v2</td>\n",
       "      <td>{'Task': 'Neural Architecture Search', 'Datase...</td>\n",
       "      <td>Neural Architecture Search</td>\n",
       "      <td>CIFAR-10 Image Classification</td>\n",
       "      <td>Params</td>\n",
       "      <td>3.59M</td>\n",
       "    </tr>\n",
       "  </tbody>\n",
       "</table>\n",
       "<p>54972 rows × 6 columns</p>\n",
       "</div>"
      ],
      "text/plain": [
       "                 id                                                jsn  \\\n",
       "0      2205.07139v1  {'Task': 'Thoracic Disease Classification', 'D...   \n",
       "1      1908.04531v2  {'Task': 'Hate Speech Detection', 'Dataset': '...   \n",
       "5      1911.04127v1  {'Task': 'Temporal Action Localization', 'Data...   \n",
       "5      1911.04127v1  {'Task': 'Temporal Action Localization', 'Data...   \n",
       "5      1911.04127v1  {'Task': 'Temporal Action Localization', 'Data...   \n",
       "...             ...                                                ...   \n",
       "12287  1903.11059v2  {'Task': 'Neural Architecture Search', 'Datase...   \n",
       "12287  1903.11059v2  {'Task': 'Neural Architecture Search', 'Datase...   \n",
       "12287  1903.11059v2  {'Task': 'Neural Architecture Search', 'Datase...   \n",
       "12287  1903.11059v2  {'Task': 'Neural Architecture Search', 'Datase...   \n",
       "12287  1903.11059v2  {'Task': 'Neural Architecture Search', 'Datase...   \n",
       "\n",
       "                                  Task                        Dataset  \\\n",
       "0      Thoracic Disease Classification                   ChestX-ray14   \n",
       "1                Hate Speech Detection                         DKhate   \n",
       "5         Temporal Action Localization                     FineAction   \n",
       "5         Temporal Action Localization                     FineAction   \n",
       "5         Temporal Action Localization                     FineAction   \n",
       "...                                ...                            ...   \n",
       "12287       Neural Architecture Search                       ImageNet   \n",
       "12287       Neural Architecture Search                       ImageNet   \n",
       "12287       Neural Architecture Search                       CIFAR-10   \n",
       "12287       Neural Architecture Search                       CIFAR-10   \n",
       "12287       Neural Architecture Search  CIFAR-10 Image Classification   \n",
       "\n",
       "                       Metric  Score  \n",
       "0                       AUROC  78.33  \n",
       "1                          F1   0.70  \n",
       "5                         mAP   6.75  \n",
       "5                 mAP IOU@0.5  10.65  \n",
       "5                mAP IOU@0.75   6.43  \n",
       "...                       ...    ...  \n",
       "12287                Accuracy   75.5  \n",
       "12287                  Params   5.4M  \n",
       "12287        Top-1 Error Rate  2.82%  \n",
       "12287  Search Time (GPU days)    224  \n",
       "12287                  Params  3.59M  \n",
       "\n",
       "[54972 rows x 6 columns]"
      ]
     },
     "execution_count": 120,
     "metadata": {},
     "output_type": "execute_result"
    }
   ],
   "source": [
    "# Split dataframes into paper & leaderboard entries\n",
    "\n",
    "df_entries = df[[\"id\", \"jsn\"]]\n",
    "\n",
    "df_entries = df_entries.explode(\"jsn\")\n",
    "\n",
    "df_entries[\"jsn\"] = df_entries[\"jsn\"].apply(lambda c: None if not c or c == NOT_FOUND else c[\"LEADERBOARD\"])\n",
    "df_entries = df_entries.dropna()\n",
    "\n",
    "df_entries = pd.concat([df_entries, df_entries[\"jsn\"].apply(pd.Series)], axis=1)\n",
    "df_entries"
   ]
  },
  {
   "cell_type": "code",
   "execution_count": null,
   "metadata": {},
   "outputs": [
    {
     "name": "stdout",
     "output_type": "stream",
     "text": [
      "1372\n"
     ]
    },
    {
     "data": {
      "text/plain": [
       "Task\n",
       "Image Classification                         2273\n",
       "Atari Games                                  1448\n",
       "Node Classification                          1113\n",
       "Object Detection                             1001\n",
       "Video Retrieval                               997\n",
       "Link Prediction                               941\n",
       "Semantic Segmentation                         901\n",
       "Semi-Supervised Video Object Segmentation     890\n",
       "3D Human Pose Estimation                      889\n",
       "Question Answering                            866\n",
       "Image Super-Resolution                        669\n",
       "Person Re-Identification                      548\n",
       "Image Generation                              510\n",
       "Visual Question Answering (VQA)               500\n",
       "Neural Architecture Search                    488\n",
       "Monocular Depth Estimation                    485\n",
       "Anomaly Detection                             474\n",
       "Video Super-Resolution                        467\n",
       "Node Property Prediction                      447\n",
       "3D Object Detection                           416\n",
       "Name: id, dtype: int64"
      ]
     },
     "execution_count": 29,
     "metadata": {},
     "output_type": "execute_result"
    }
   ],
   "source": [
    "# Tasks\n",
    "tasks = df_entries.groupby(\"Task\").count()[\"id\"].sort_values(ascending=False)\n",
    "print(len(tasks))\n",
    "\n",
    "# Top 20\n",
    "tasks[:20]"
   ]
  },
  {
   "cell_type": "code",
   "execution_count": null,
   "metadata": {},
   "outputs": [
    {
     "name": "stdout",
     "output_type": "stream",
     "text": [
      "4808\n"
     ]
    },
    {
     "data": {
      "text/plain": [
       "Dataset\n",
       "ImageNet                                      1603\n",
       "COCO test-dev                                  792\n",
       "Human3.6M                                      624\n",
       "CIFAR-10                                       585\n",
       "COCO minival                                   310\n",
       "YouTube-VOS 2018                               295\n",
       "CIFAR-100                                      252\n",
       "MSR-VTT-1kA                                    247\n",
       "FB15k-237                                      244\n",
       "MSU Super-Resolution for Video Compression     225\n",
       "DAVIS 2017 (val)                               222\n",
       "ChEBI-20                                       220\n",
       "WN18RR                                         212\n",
       "Kinetics-400                                   212\n",
       "DAVIS 2016                                     211\n",
       "3DPW                                           197\n",
       "Winoground                                     196\n",
       "COCO                                           192\n",
       "MPI-INF-3DHP                                   189\n",
       "IconQA                                         188\n",
       "Name: id, dtype: int64"
      ]
     },
     "execution_count": 30,
     "metadata": {},
     "output_type": "execute_result"
    }
   ],
   "source": [
    "# Dataset\n",
    "dataset = df_entries.groupby(\"Dataset\").count()[\"id\"].sort_values(ascending=False)\n",
    "print(len(dataset))\n",
    "\n",
    "# Top 20\n",
    "dataset[:20]"
   ]
  },
  {
   "cell_type": "code",
   "execution_count": null,
   "metadata": {},
   "outputs": [
    {
     "name": "stdout",
     "output_type": "stream",
     "text": [
      "2874\n"
     ]
    },
    {
     "data": {
      "text/plain": [
       "Metric\n",
       "Accuracy              4362\n",
       "Score                 1515\n",
       "F1                    1384\n",
       "PSNR                  1144\n",
       "mAP                    829\n",
       "mIoU                   817\n",
       "SSIM                   799\n",
       "Top 1 Accuracy         789\n",
       "1:1 Accuracy           787\n",
       "Number of params       701\n",
       "FID                    616\n",
       "AP                     586\n",
       "Mean IoU               562\n",
       "MAE                    541\n",
       "Top-1 Accuracy         483\n",
       "AUC                    447\n",
       "Percentage correct     345\n",
       "Accuracy (%)           337\n",
       "Rank-1                 329\n",
       "MRR                    314\n",
       "Name: id, dtype: int64"
      ]
     },
     "execution_count": 31,
     "metadata": {},
     "output_type": "execute_result"
    }
   ],
   "source": [
    "# Metric\n",
    "metric = df_entries.groupby(\"Metric\").count()[\"id\"].sort_values(ascending=False)\n",
    "print(len(metric))\n",
    "\n",
    "# Top 20\n",
    "metric[:20]"
   ]
  },
  {
   "cell_type": "markdown",
   "metadata": {},
   "source": [
    "# Which entries can be found in the text?"
   ]
  },
  {
   "cell_type": "code",
   "execution_count": null,
   "metadata": {},
   "outputs": [],
   "source": [
    "def is_in_tex(item, tex):\n",
    "    return str(item).lower() in str(tex).lower()"
   ]
  },
  {
   "cell_type": "code",
   "execution_count": null,
   "metadata": {},
   "outputs": [
    {
     "data": {
      "text/html": [
       "<div>\n",
       "<style scoped>\n",
       "    .dataframe tbody tr th:only-of-type {\n",
       "        vertical-align: middle;\n",
       "    }\n",
       "\n",
       "    .dataframe tbody tr th {\n",
       "        vertical-align: top;\n",
       "    }\n",
       "\n",
       "    .dataframe thead th {\n",
       "        text-align: right;\n",
       "    }\n",
       "</style>\n",
       "<table border=\"1\" class=\"dataframe\">\n",
       "  <thead>\n",
       "    <tr style=\"text-align: right;\">\n",
       "      <th></th>\n",
       "      <th>id</th>\n",
       "      <th>jsn</th>\n",
       "      <th>Task</th>\n",
       "      <th>Dataset</th>\n",
       "      <th>Metric</th>\n",
       "      <th>Score</th>\n",
       "      <th>tex</th>\n",
       "    </tr>\n",
       "  </thead>\n",
       "  <tbody>\n",
       "    <tr>\n",
       "      <th>0</th>\n",
       "      <td>2205.07139v1</td>\n",
       "      <td>{'Task': 'Thoracic Disease Classification', 'D...</td>\n",
       "      <td>Thoracic Disease Classification</td>\n",
       "      <td>ChestX-ray14</td>\n",
       "      <td>AUROC</td>\n",
       "      <td>78.33</td>\n",
       "      <td>\\documentclass[runningheads]{llncs}\\n\\usepacka...</td>\n",
       "    </tr>\n",
       "    <tr>\n",
       "      <th>1</th>\n",
       "      <td>1908.04531v2</td>\n",
       "      <td>{'Task': 'Hate Speech Detection', 'Dataset': '...</td>\n",
       "      <td>Hate Speech Detection</td>\n",
       "      <td>DKhate</td>\n",
       "      <td>F1</td>\n",
       "      <td>0.70</td>\n",
       "      <td>\\documentclass{article}\\n\\n\\n\\usepackage{arxiv...</td>\n",
       "    </tr>\n",
       "    <tr>\n",
       "      <th>2</th>\n",
       "      <td>1911.04127v1</td>\n",
       "      <td>{'Task': 'Temporal Action Localization', 'Data...</td>\n",
       "      <td>Temporal Action Localization</td>\n",
       "      <td>FineAction</td>\n",
       "      <td>mAP</td>\n",
       "      <td>6.75</td>\n",
       "      <td>\\def\\year{2020}\\relax\\n\\documentclass[letterpa...</td>\n",
       "    </tr>\n",
       "    <tr>\n",
       "      <th>3</th>\n",
       "      <td>1911.04127v1</td>\n",
       "      <td>{'Task': 'Temporal Action Localization', 'Data...</td>\n",
       "      <td>Temporal Action Localization</td>\n",
       "      <td>FineAction</td>\n",
       "      <td>mAP IOU@0.5</td>\n",
       "      <td>10.65</td>\n",
       "      <td>\\def\\year{2020}\\relax\\n\\documentclass[letterpa...</td>\n",
       "    </tr>\n",
       "    <tr>\n",
       "      <th>4</th>\n",
       "      <td>1911.04127v1</td>\n",
       "      <td>{'Task': 'Temporal Action Localization', 'Data...</td>\n",
       "      <td>Temporal Action Localization</td>\n",
       "      <td>FineAction</td>\n",
       "      <td>mAP IOU@0.75</td>\n",
       "      <td>6.43</td>\n",
       "      <td>\\def\\year{2020}\\relax\\n\\documentclass[letterpa...</td>\n",
       "    </tr>\n",
       "    <tr>\n",
       "      <th>...</th>\n",
       "      <td>...</td>\n",
       "      <td>...</td>\n",
       "      <td>...</td>\n",
       "      <td>...</td>\n",
       "      <td>...</td>\n",
       "      <td>...</td>\n",
       "      <td>...</td>\n",
       "    </tr>\n",
       "    <tr>\n",
       "      <th>54967</th>\n",
       "      <td>1903.11059v2</td>\n",
       "      <td>{'Task': 'Neural Architecture Search', 'Datase...</td>\n",
       "      <td>Neural Architecture Search</td>\n",
       "      <td>ImageNet</td>\n",
       "      <td>Accuracy</td>\n",
       "      <td>75.5</td>\n",
       "      <td>\\documentclass[10pt,twocolumn,letterpaper]{art...</td>\n",
       "    </tr>\n",
       "    <tr>\n",
       "      <th>54968</th>\n",
       "      <td>1903.11059v2</td>\n",
       "      <td>{'Task': 'Neural Architecture Search', 'Datase...</td>\n",
       "      <td>Neural Architecture Search</td>\n",
       "      <td>ImageNet</td>\n",
       "      <td>Params</td>\n",
       "      <td>5.4M</td>\n",
       "      <td>\\documentclass[10pt,twocolumn,letterpaper]{art...</td>\n",
       "    </tr>\n",
       "    <tr>\n",
       "      <th>54969</th>\n",
       "      <td>1903.11059v2</td>\n",
       "      <td>{'Task': 'Neural Architecture Search', 'Datase...</td>\n",
       "      <td>Neural Architecture Search</td>\n",
       "      <td>CIFAR-10</td>\n",
       "      <td>Top-1 Error Rate</td>\n",
       "      <td>2.82%</td>\n",
       "      <td>\\documentclass[10pt,twocolumn,letterpaper]{art...</td>\n",
       "    </tr>\n",
       "    <tr>\n",
       "      <th>54970</th>\n",
       "      <td>1903.11059v2</td>\n",
       "      <td>{'Task': 'Neural Architecture Search', 'Datase...</td>\n",
       "      <td>Neural Architecture Search</td>\n",
       "      <td>CIFAR-10</td>\n",
       "      <td>Search Time (GPU days)</td>\n",
       "      <td>224</td>\n",
       "      <td>\\documentclass[10pt,twocolumn,letterpaper]{art...</td>\n",
       "    </tr>\n",
       "    <tr>\n",
       "      <th>54971</th>\n",
       "      <td>1903.11059v2</td>\n",
       "      <td>{'Task': 'Neural Architecture Search', 'Datase...</td>\n",
       "      <td>Neural Architecture Search</td>\n",
       "      <td>CIFAR-10 Image Classification</td>\n",
       "      <td>Params</td>\n",
       "      <td>3.59M</td>\n",
       "      <td>\\documentclass[10pt,twocolumn,letterpaper]{art...</td>\n",
       "    </tr>\n",
       "  </tbody>\n",
       "</table>\n",
       "<p>54972 rows × 7 columns</p>\n",
       "</div>"
      ],
      "text/plain": [
       "                 id                                                jsn  \\\n",
       "0      2205.07139v1  {'Task': 'Thoracic Disease Classification', 'D...   \n",
       "1      1908.04531v2  {'Task': 'Hate Speech Detection', 'Dataset': '...   \n",
       "2      1911.04127v1  {'Task': 'Temporal Action Localization', 'Data...   \n",
       "3      1911.04127v1  {'Task': 'Temporal Action Localization', 'Data...   \n",
       "4      1911.04127v1  {'Task': 'Temporal Action Localization', 'Data...   \n",
       "...             ...                                                ...   \n",
       "54967  1903.11059v2  {'Task': 'Neural Architecture Search', 'Datase...   \n",
       "54968  1903.11059v2  {'Task': 'Neural Architecture Search', 'Datase...   \n",
       "54969  1903.11059v2  {'Task': 'Neural Architecture Search', 'Datase...   \n",
       "54970  1903.11059v2  {'Task': 'Neural Architecture Search', 'Datase...   \n",
       "54971  1903.11059v2  {'Task': 'Neural Architecture Search', 'Datase...   \n",
       "\n",
       "                                  Task                        Dataset  \\\n",
       "0      Thoracic Disease Classification                   ChestX-ray14   \n",
       "1                Hate Speech Detection                         DKhate   \n",
       "2         Temporal Action Localization                     FineAction   \n",
       "3         Temporal Action Localization                     FineAction   \n",
       "4         Temporal Action Localization                     FineAction   \n",
       "...                                ...                            ...   \n",
       "54967       Neural Architecture Search                       ImageNet   \n",
       "54968       Neural Architecture Search                       ImageNet   \n",
       "54969       Neural Architecture Search                       CIFAR-10   \n",
       "54970       Neural Architecture Search                       CIFAR-10   \n",
       "54971       Neural Architecture Search  CIFAR-10 Image Classification   \n",
       "\n",
       "                       Metric  Score  \\\n",
       "0                       AUROC  78.33   \n",
       "1                          F1   0.70   \n",
       "2                         mAP   6.75   \n",
       "3                 mAP IOU@0.5  10.65   \n",
       "4                mAP IOU@0.75   6.43   \n",
       "...                       ...    ...   \n",
       "54967                Accuracy   75.5   \n",
       "54968                  Params   5.4M   \n",
       "54969        Top-1 Error Rate  2.82%   \n",
       "54970  Search Time (GPU days)    224   \n",
       "54971                  Params  3.59M   \n",
       "\n",
       "                                                     tex  \n",
       "0      \\documentclass[runningheads]{llncs}\\n\\usepacka...  \n",
       "1      \\documentclass{article}\\n\\n\\n\\usepackage{arxiv...  \n",
       "2      \\def\\year{2020}\\relax\\n\\documentclass[letterpa...  \n",
       "3      \\def\\year{2020}\\relax\\n\\documentclass[letterpa...  \n",
       "4      \\def\\year{2020}\\relax\\n\\documentclass[letterpa...  \n",
       "...                                                  ...  \n",
       "54967  \\documentclass[10pt,twocolumn,letterpaper]{art...  \n",
       "54968  \\documentclass[10pt,twocolumn,letterpaper]{art...  \n",
       "54969  \\documentclass[10pt,twocolumn,letterpaper]{art...  \n",
       "54970  \\documentclass[10pt,twocolumn,letterpaper]{art...  \n",
       "54971  \\documentclass[10pt,twocolumn,letterpaper]{art...  \n",
       "\n",
       "[54972 rows x 7 columns]"
      ]
     },
     "execution_count": 38,
     "metadata": {},
     "output_type": "execute_result"
    }
   ],
   "source": [
    "df_combined"
   ]
  },
  {
   "cell_type": "code",
   "execution_count": null,
   "metadata": {},
   "outputs": [],
   "source": [
    "df_combined = df_entries.merge(df[[\"id\", \"tex\"]],on=\"id\")\n",
    "df_combined[\"Task_found\"] = df_combined.apply(lambda row: str(row[\"Task\"]) in str(row[\"tex\"]), axis=1)\n",
    "df_combined[\"Dataset_found\"] = df_combined.apply(lambda row: str(row[\"Dataset\"]) in str(row[\"tex\"]), axis=1)\n",
    "df_combined[\"Metric_found\"] = df_combined.apply(lambda row: str(row[\"Metric\"]) in str(row[\"tex\"]), axis=1)\n",
    "df_combined[\"Score_found\"] = df_combined.apply(lambda row: str(row[\"Score\"]) in str(row[\"tex\"]), axis=1)"
   ]
  },
  {
   "cell_type": "code",
   "execution_count": null,
   "metadata": {},
   "outputs": [
    {
     "data": {
      "text/plain": [
       "id               object\n",
       "jsn              object\n",
       "Task             object\n",
       "Dataset          object\n",
       "Metric           object\n",
       "Score            object\n",
       "tex              object\n",
       "Task_found         bool\n",
       "Dataset_found      bool\n",
       "Metric_found       bool\n",
       "Score_found        bool\n",
       "dtype: object"
      ]
     },
     "execution_count": 45,
     "metadata": {},
     "output_type": "execute_result"
    }
   ],
   "source": [
    "df_combined.dtypes"
   ]
  },
  {
   "cell_type": "code",
   "execution_count": null,
   "metadata": {},
   "outputs": [
    {
     "data": {
      "text/plain": [
       "20431"
      ]
     },
     "execution_count": 48,
     "metadata": {},
     "output_type": "execute_result"
    }
   ],
   "source": [
    "len(df_combined[df_combined['Task_found']])"
   ]
  },
  {
   "cell_type": "code",
   "execution_count": null,
   "metadata": {},
   "outputs": [
    {
     "data": {
      "text/plain": [
       "26052"
      ]
     },
     "execution_count": 49,
     "metadata": {},
     "output_type": "execute_result"
    }
   ],
   "source": [
    "len(df_combined[df_combined['Dataset_found']])"
   ]
  },
  {
   "cell_type": "code",
   "execution_count": null,
   "metadata": {},
   "outputs": [
    {
     "data": {
      "text/plain": [
       "20591"
      ]
     },
     "execution_count": 50,
     "metadata": {},
     "output_type": "execute_result"
    }
   ],
   "source": [
    "len(df_combined[df_combined['Metric_found']])"
   ]
  },
  {
   "cell_type": "code",
   "execution_count": null,
   "metadata": {},
   "outputs": [
    {
     "data": {
      "text/plain": [
       "32381"
      ]
     },
     "execution_count": 51,
     "metadata": {},
     "output_type": "execute_result"
    }
   ],
   "source": [
    "len(df_combined[df_combined['Score_found']])"
   ]
  },
  {
   "cell_type": "code",
   "execution_count": null,
   "metadata": {},
   "outputs": [
    {
     "name": "stdout",
     "output_type": "stream",
     "text": [
      "total TDMS: 54972\n",
      "Task found: 20431 -> 0.371661936986102\n",
      "Dataset found: 26052 -> 0.47391399257803973\n",
      "Metric found: 20591 -> 0.3745725096412719\n",
      "Score found: 32381 -> 0.5890453321691043\n"
     ]
    }
   ],
   "source": [
    "tot = len(df_combined)\n",
    "t_found = len(df_combined[df_combined['Task_found']])\n",
    "ds_found = len(df_combined[df_combined['Dataset_found']])\n",
    "metric_found = len(df_combined[df_combined['Metric_found']])\n",
    "score_found = len(df_combined[df_combined['Score_found']])\n",
    "print(f\"total TDMS: {len(df_combined)}\")\n",
    "print(f\"Task found: {t_found} -> {t_found/tot}\")\n",
    "print(f\"Dataset found: {ds_found} -> {ds_found/tot}\")\n",
    "print(f\"Metric found: {metric_found} -> {metric_found/tot}\")\n",
    "print(f\"Score found: {score_found} -> {score_found/tot}\")"
   ]
  },
  {
   "cell_type": "code",
   "execution_count": null,
   "metadata": {},
   "outputs": [
    {
     "data": {
      "text/html": [
       "<div>\n",
       "<style scoped>\n",
       "    .dataframe tbody tr th:only-of-type {\n",
       "        vertical-align: middle;\n",
       "    }\n",
       "\n",
       "    .dataframe tbody tr th {\n",
       "        vertical-align: top;\n",
       "    }\n",
       "\n",
       "    .dataframe thead th {\n",
       "        text-align: right;\n",
       "    }\n",
       "</style>\n",
       "<table border=\"1\" class=\"dataframe\">\n",
       "  <thead>\n",
       "    <tr style=\"text-align: right;\">\n",
       "      <th></th>\n",
       "      <th>id</th>\n",
       "      <th>jsn</th>\n",
       "      <th>Task</th>\n",
       "      <th>Dataset</th>\n",
       "      <th>Metric</th>\n",
       "      <th>Score</th>\n",
       "      <th>tex</th>\n",
       "      <th>Task_found</th>\n",
       "      <th>Dataset_found</th>\n",
       "      <th>Metric_found</th>\n",
       "      <th>Score_found</th>\n",
       "    </tr>\n",
       "  </thead>\n",
       "  <tbody>\n",
       "    <tr>\n",
       "      <th>0</th>\n",
       "      <td>2205.07139v1</td>\n",
       "      <td>{'Task': 'Thoracic Disease Classification', 'D...</td>\n",
       "      <td>Thoracic Disease Classification</td>\n",
       "      <td>ChestX-ray14</td>\n",
       "      <td>AUROC</td>\n",
       "      <td>78.33</td>\n",
       "      <td>\\documentclass[runningheads]{llncs}\\n\\usepacka...</td>\n",
       "      <td>False</td>\n",
       "      <td>True</td>\n",
       "      <td>True</td>\n",
       "      <td>True</td>\n",
       "    </tr>\n",
       "    <tr>\n",
       "      <th>1</th>\n",
       "      <td>1908.04531v2</td>\n",
       "      <td>{'Task': 'Hate Speech Detection', 'Dataset': '...</td>\n",
       "      <td>Hate Speech Detection</td>\n",
       "      <td>DKhate</td>\n",
       "      <td>F1</td>\n",
       "      <td>0.70</td>\n",
       "      <td>\\documentclass{article}\\n\\n\\n\\usepackage{arxiv...</td>\n",
       "      <td>True</td>\n",
       "      <td>False</td>\n",
       "      <td>True</td>\n",
       "      <td>True</td>\n",
       "    </tr>\n",
       "    <tr>\n",
       "      <th>2</th>\n",
       "      <td>1911.04127v1</td>\n",
       "      <td>{'Task': 'Temporal Action Localization', 'Data...</td>\n",
       "      <td>Temporal Action Localization</td>\n",
       "      <td>FineAction</td>\n",
       "      <td>mAP</td>\n",
       "      <td>6.75</td>\n",
       "      <td>\\def\\year{2020}\\relax\\n\\documentclass[letterpa...</td>\n",
       "      <td>False</td>\n",
       "      <td>False</td>\n",
       "      <td>False</td>\n",
       "      <td>True</td>\n",
       "    </tr>\n",
       "    <tr>\n",
       "      <th>3</th>\n",
       "      <td>1911.04127v1</td>\n",
       "      <td>{'Task': 'Temporal Action Localization', 'Data...</td>\n",
       "      <td>Temporal Action Localization</td>\n",
       "      <td>FineAction</td>\n",
       "      <td>mAP IOU@0.5</td>\n",
       "      <td>10.65</td>\n",
       "      <td>\\def\\year{2020}\\relax\\n\\documentclass[letterpa...</td>\n",
       "      <td>False</td>\n",
       "      <td>False</td>\n",
       "      <td>False</td>\n",
       "      <td>False</td>\n",
       "    </tr>\n",
       "    <tr>\n",
       "      <th>4</th>\n",
       "      <td>1911.04127v1</td>\n",
       "      <td>{'Task': 'Temporal Action Localization', 'Data...</td>\n",
       "      <td>Temporal Action Localization</td>\n",
       "      <td>FineAction</td>\n",
       "      <td>mAP IOU@0.75</td>\n",
       "      <td>6.43</td>\n",
       "      <td>\\def\\year{2020}\\relax\\n\\documentclass[letterpa...</td>\n",
       "      <td>False</td>\n",
       "      <td>False</td>\n",
       "      <td>False</td>\n",
       "      <td>True</td>\n",
       "    </tr>\n",
       "    <tr>\n",
       "      <th>...</th>\n",
       "      <td>...</td>\n",
       "      <td>...</td>\n",
       "      <td>...</td>\n",
       "      <td>...</td>\n",
       "      <td>...</td>\n",
       "      <td>...</td>\n",
       "      <td>...</td>\n",
       "      <td>...</td>\n",
       "      <td>...</td>\n",
       "      <td>...</td>\n",
       "      <td>...</td>\n",
       "    </tr>\n",
       "    <tr>\n",
       "      <th>54967</th>\n",
       "      <td>1903.11059v2</td>\n",
       "      <td>{'Task': 'Neural Architecture Search', 'Datase...</td>\n",
       "      <td>Neural Architecture Search</td>\n",
       "      <td>ImageNet</td>\n",
       "      <td>Accuracy</td>\n",
       "      <td>75.5</td>\n",
       "      <td>\\documentclass[10pt,twocolumn,letterpaper]{art...</td>\n",
       "      <td>True</td>\n",
       "      <td>True</td>\n",
       "      <td>True</td>\n",
       "      <td>True</td>\n",
       "    </tr>\n",
       "    <tr>\n",
       "      <th>54968</th>\n",
       "      <td>1903.11059v2</td>\n",
       "      <td>{'Task': 'Neural Architecture Search', 'Datase...</td>\n",
       "      <td>Neural Architecture Search</td>\n",
       "      <td>ImageNet</td>\n",
       "      <td>Params</td>\n",
       "      <td>5.4M</td>\n",
       "      <td>\\documentclass[10pt,twocolumn,letterpaper]{art...</td>\n",
       "      <td>True</td>\n",
       "      <td>True</td>\n",
       "      <td>True</td>\n",
       "      <td>True</td>\n",
       "    </tr>\n",
       "    <tr>\n",
       "      <th>54969</th>\n",
       "      <td>1903.11059v2</td>\n",
       "      <td>{'Task': 'Neural Architecture Search', 'Datase...</td>\n",
       "      <td>Neural Architecture Search</td>\n",
       "      <td>CIFAR-10</td>\n",
       "      <td>Top-1 Error Rate</td>\n",
       "      <td>2.82%</td>\n",
       "      <td>\\documentclass[10pt,twocolumn,letterpaper]{art...</td>\n",
       "      <td>True</td>\n",
       "      <td>True</td>\n",
       "      <td>False</td>\n",
       "      <td>False</td>\n",
       "    </tr>\n",
       "    <tr>\n",
       "      <th>54970</th>\n",
       "      <td>1903.11059v2</td>\n",
       "      <td>{'Task': 'Neural Architecture Search', 'Datase...</td>\n",
       "      <td>Neural Architecture Search</td>\n",
       "      <td>CIFAR-10</td>\n",
       "      <td>Search Time (GPU days)</td>\n",
       "      <td>224</td>\n",
       "      <td>\\documentclass[10pt,twocolumn,letterpaper]{art...</td>\n",
       "      <td>True</td>\n",
       "      <td>True</td>\n",
       "      <td>False</td>\n",
       "      <td>True</td>\n",
       "    </tr>\n",
       "    <tr>\n",
       "      <th>54971</th>\n",
       "      <td>1903.11059v2</td>\n",
       "      <td>{'Task': 'Neural Architecture Search', 'Datase...</td>\n",
       "      <td>Neural Architecture Search</td>\n",
       "      <td>CIFAR-10 Image Classification</td>\n",
       "      <td>Params</td>\n",
       "      <td>3.59M</td>\n",
       "      <td>\\documentclass[10pt,twocolumn,letterpaper]{art...</td>\n",
       "      <td>True</td>\n",
       "      <td>False</td>\n",
       "      <td>True</td>\n",
       "      <td>False</td>\n",
       "    </tr>\n",
       "  </tbody>\n",
       "</table>\n",
       "<p>54972 rows × 11 columns</p>\n",
       "</div>"
      ],
      "text/plain": [
       "                 id                                                jsn  \\\n",
       "0      2205.07139v1  {'Task': 'Thoracic Disease Classification', 'D...   \n",
       "1      1908.04531v2  {'Task': 'Hate Speech Detection', 'Dataset': '...   \n",
       "2      1911.04127v1  {'Task': 'Temporal Action Localization', 'Data...   \n",
       "3      1911.04127v1  {'Task': 'Temporal Action Localization', 'Data...   \n",
       "4      1911.04127v1  {'Task': 'Temporal Action Localization', 'Data...   \n",
       "...             ...                                                ...   \n",
       "54967  1903.11059v2  {'Task': 'Neural Architecture Search', 'Datase...   \n",
       "54968  1903.11059v2  {'Task': 'Neural Architecture Search', 'Datase...   \n",
       "54969  1903.11059v2  {'Task': 'Neural Architecture Search', 'Datase...   \n",
       "54970  1903.11059v2  {'Task': 'Neural Architecture Search', 'Datase...   \n",
       "54971  1903.11059v2  {'Task': 'Neural Architecture Search', 'Datase...   \n",
       "\n",
       "                                  Task                        Dataset  \\\n",
       "0      Thoracic Disease Classification                   ChestX-ray14   \n",
       "1                Hate Speech Detection                         DKhate   \n",
       "2         Temporal Action Localization                     FineAction   \n",
       "3         Temporal Action Localization                     FineAction   \n",
       "4         Temporal Action Localization                     FineAction   \n",
       "...                                ...                            ...   \n",
       "54967       Neural Architecture Search                       ImageNet   \n",
       "54968       Neural Architecture Search                       ImageNet   \n",
       "54969       Neural Architecture Search                       CIFAR-10   \n",
       "54970       Neural Architecture Search                       CIFAR-10   \n",
       "54971       Neural Architecture Search  CIFAR-10 Image Classification   \n",
       "\n",
       "                       Metric  Score  \\\n",
       "0                       AUROC  78.33   \n",
       "1                          F1   0.70   \n",
       "2                         mAP   6.75   \n",
       "3                 mAP IOU@0.5  10.65   \n",
       "4                mAP IOU@0.75   6.43   \n",
       "...                       ...    ...   \n",
       "54967                Accuracy   75.5   \n",
       "54968                  Params   5.4M   \n",
       "54969        Top-1 Error Rate  2.82%   \n",
       "54970  Search Time (GPU days)    224   \n",
       "54971                  Params  3.59M   \n",
       "\n",
       "                                                     tex  Task_found  \\\n",
       "0      \\documentclass[runningheads]{llncs}\\n\\usepacka...       False   \n",
       "1      \\documentclass{article}\\n\\n\\n\\usepackage{arxiv...        True   \n",
       "2      \\def\\year{2020}\\relax\\n\\documentclass[letterpa...       False   \n",
       "3      \\def\\year{2020}\\relax\\n\\documentclass[letterpa...       False   \n",
       "4      \\def\\year{2020}\\relax\\n\\documentclass[letterpa...       False   \n",
       "...                                                  ...         ...   \n",
       "54967  \\documentclass[10pt,twocolumn,letterpaper]{art...        True   \n",
       "54968  \\documentclass[10pt,twocolumn,letterpaper]{art...        True   \n",
       "54969  \\documentclass[10pt,twocolumn,letterpaper]{art...        True   \n",
       "54970  \\documentclass[10pt,twocolumn,letterpaper]{art...        True   \n",
       "54971  \\documentclass[10pt,twocolumn,letterpaper]{art...        True   \n",
       "\n",
       "       Dataset_found  Metric_found  Score_found  \n",
       "0               True          True         True  \n",
       "1              False          True         True  \n",
       "2              False         False         True  \n",
       "3              False         False        False  \n",
       "4              False         False         True  \n",
       "...              ...           ...          ...  \n",
       "54967           True          True         True  \n",
       "54968           True          True         True  \n",
       "54969           True         False        False  \n",
       "54970           True         False         True  \n",
       "54971          False          True        False  \n",
       "\n",
       "[54972 rows x 11 columns]"
      ]
     },
     "execution_count": 54,
     "metadata": {},
     "output_type": "execute_result"
    }
   ],
   "source": [
    "df_combined"
   ]
  },
  {
   "cell_type": "markdown",
   "metadata": {},
   "source": [
    "# Partial hits?"
   ]
  },
  {
   "cell_type": "code",
   "execution_count": null,
   "metadata": {},
   "outputs": [
    {
     "data": {
      "text/plain": [
       "1"
      ]
     },
     "execution_count": 55,
     "metadata": {},
     "output_type": "execute_result"
    }
   ],
   "source": [
    "int(True)"
   ]
  },
  {
   "cell_type": "code",
   "execution_count": null,
   "metadata": {},
   "outputs": [],
   "source": [
    "def partial_hit(row):\n",
    "    return f'{int(row[\"Task_found\"])}{int(row[\"Dataset_found\"])}{int(row[\"Metric_found\"])}{int(row[\"Score_found\"])}'"
   ]
  },
  {
   "cell_type": "code",
   "execution_count": null,
   "metadata": {},
   "outputs": [
    {
     "data": {
      "text/plain": [
       "id                                                    2306.11341v1\n",
       "jsn              {'Task': 'Text to Video Retrieval', 'Dataset':...\n",
       "Task                                       Text to Video Retrieval\n",
       "Dataset                                            MSVD-Indonesian\n",
       "Metric                                                        R@10\n",
       "Score                                                         74.9\n",
       "tex              \\documentclass{article}\\n\\n\\n\\usepackage{PRIME...\n",
       "Task_found                                                   False\n",
       "Dataset_found                                                 True\n",
       "Metric_found                                                  True\n",
       "Score_found                                                   True\n",
       "Name: 100, dtype: object"
      ]
     },
     "execution_count": 63,
     "metadata": {},
     "output_type": "execute_result"
    }
   ],
   "source": [
    "df_combined.loc[100]"
   ]
  },
  {
   "cell_type": "code",
   "execution_count": null,
   "metadata": {},
   "outputs": [],
   "source": [
    "df_combined[\"partials\"] = df_combined.apply(partial_hit, axis=1)"
   ]
  },
  {
   "cell_type": "code",
   "execution_count": null,
   "metadata": {},
   "outputs": [
    {
     "data": {
      "text/plain": [
       "partials\n",
       "0000    7941\n",
       "0001    5252\n",
       "0010    2091\n",
       "0011    3718\n",
       "0100    4069\n",
       "0101    5840\n",
       "0110    1864\n",
       "0111    3766\n",
       "1000    2120\n",
       "1001    3105\n",
       "1010    1332\n",
       "1011    3361\n",
       "1100    1975\n",
       "1101    4079\n",
       "1110    1199\n",
       "1111    3260\n",
       "Name: id, dtype: int64"
      ]
     },
     "execution_count": 65,
     "metadata": {},
     "output_type": "execute_result"
    }
   ],
   "source": [
    "df_partials = df_combined.groupby(\"partials\")[\"id\"].count()\n",
    "\n",
    "df_partials"
   ]
  },
  {
   "cell_type": "code",
   "execution_count": null,
   "metadata": {},
   "outputs": [],
   "source": []
  },
  {
   "cell_type": "markdown",
   "metadata": {},
   "source": [
    "0000    7003 -> k\n",
    "0001    4772 -> no\n",
    "0010    1870 -> no\n",
    "0011    3465 -> no, some metric on some score\n",
    "0100    3739 -> no\n",
    "0101    4877 -> metric and task are implied maybe?\n",
    "0110    1426 -> no score no point\n",
    "0111    3388 -> definitily yes\n",
    "1000    1975 -> no\n",
    "1001    2845 -> no\n",
    "1010    1186 -> no\n",
    "1011    2935 -> dataset implied in task?\n",
    "1100    1776 -> no\n",
    "1101    3669 -> metric implied?\n",
    "1110    1054 -> no\n",
    "1111    2940 -> yes\n",
    "\n",
    "= 17809 usable quadruples"
   ]
  },
  {
   "cell_type": "code",
   "execution_count": null,
   "metadata": {},
   "outputs": [],
   "source": [
    "usable_partials = [\"0101\", \"0111\", \"1011\", \"1101\", \"1111\"]\n",
    "\n",
    "df_combined[\"is_usable\"] = df_combined[\"partials\"].isin(usable_partials)"
   ]
  },
  {
   "cell_type": "code",
   "execution_count": null,
   "metadata": {},
   "outputs": [
    {
     "data": {
      "text/html": [
       "<div>\n",
       "<style scoped>\n",
       "    .dataframe tbody tr th:only-of-type {\n",
       "        vertical-align: middle;\n",
       "    }\n",
       "\n",
       "    .dataframe tbody tr th {\n",
       "        vertical-align: top;\n",
       "    }\n",
       "\n",
       "    .dataframe thead th {\n",
       "        text-align: right;\n",
       "    }\n",
       "</style>\n",
       "<table border=\"1\" class=\"dataframe\">\n",
       "  <thead>\n",
       "    <tr style=\"text-align: right;\">\n",
       "      <th></th>\n",
       "      <th>id</th>\n",
       "      <th>jsn</th>\n",
       "      <th>Task</th>\n",
       "      <th>Dataset</th>\n",
       "      <th>Metric</th>\n",
       "      <th>Score</th>\n",
       "      <th>tex</th>\n",
       "      <th>Task_found</th>\n",
       "      <th>Dataset_found</th>\n",
       "      <th>Metric_found</th>\n",
       "      <th>Score_found</th>\n",
       "      <th>partials</th>\n",
       "      <th>is_usable</th>\n",
       "    </tr>\n",
       "  </thead>\n",
       "  <tbody>\n",
       "    <tr>\n",
       "      <th>0</th>\n",
       "      <td>2205.07139v1</td>\n",
       "      <td>{'Task': 'Thoracic Disease Classification', 'D...</td>\n",
       "      <td>Thoracic Disease Classification</td>\n",
       "      <td>ChestX-ray14</td>\n",
       "      <td>AUROC</td>\n",
       "      <td>78.33</td>\n",
       "      <td>\\documentclass[runningheads]{llncs}\\n\\usepacka...</td>\n",
       "      <td>False</td>\n",
       "      <td>True</td>\n",
       "      <td>True</td>\n",
       "      <td>True</td>\n",
       "      <td>0111</td>\n",
       "      <td>True</td>\n",
       "    </tr>\n",
       "    <tr>\n",
       "      <th>1</th>\n",
       "      <td>1908.04531v2</td>\n",
       "      <td>{'Task': 'Hate Speech Detection', 'Dataset': '...</td>\n",
       "      <td>Hate Speech Detection</td>\n",
       "      <td>DKhate</td>\n",
       "      <td>F1</td>\n",
       "      <td>0.70</td>\n",
       "      <td>\\documentclass{article}\\n\\n\\n\\usepackage{arxiv...</td>\n",
       "      <td>True</td>\n",
       "      <td>False</td>\n",
       "      <td>True</td>\n",
       "      <td>True</td>\n",
       "      <td>1011</td>\n",
       "      <td>True</td>\n",
       "    </tr>\n",
       "    <tr>\n",
       "      <th>7</th>\n",
       "      <td>2311.15769v1</td>\n",
       "      <td>{'Task': 'Action Classification', 'Dataset': '...</td>\n",
       "      <td>Action Classification</td>\n",
       "      <td>Kinetics-400</td>\n",
       "      <td>Acc@1</td>\n",
       "      <td>88.6</td>\n",
       "      <td>\\n\\n\\documentclass[10pt,twocolumn,letterpaper]...</td>\n",
       "      <td>False</td>\n",
       "      <td>True</td>\n",
       "      <td>False</td>\n",
       "      <td>True</td>\n",
       "      <td>0101</td>\n",
       "      <td>True</td>\n",
       "    </tr>\n",
       "    <tr>\n",
       "      <th>8</th>\n",
       "      <td>2311.15769v1</td>\n",
       "      <td>{'Task': 'Action Classification', 'Dataset': '...</td>\n",
       "      <td>Action Classification</td>\n",
       "      <td>Kinetics-400</td>\n",
       "      <td>Acc@5</td>\n",
       "      <td>98.2</td>\n",
       "      <td>\\n\\n\\documentclass[10pt,twocolumn,letterpaper]...</td>\n",
       "      <td>False</td>\n",
       "      <td>True</td>\n",
       "      <td>False</td>\n",
       "      <td>True</td>\n",
       "      <td>0101</td>\n",
       "      <td>True</td>\n",
       "    </tr>\n",
       "    <tr>\n",
       "      <th>14</th>\n",
       "      <td>2311.15769v1</td>\n",
       "      <td>{'Task': 'Video Retrieval', 'Dataset': 'VATEX'...</td>\n",
       "      <td>Video Retrieval</td>\n",
       "      <td>VATEX</td>\n",
       "      <td>text-to-video R@1</td>\n",
       "      <td>68.8</td>\n",
       "      <td>\\n\\n\\documentclass[10pt,twocolumn,letterpaper]...</td>\n",
       "      <td>True</td>\n",
       "      <td>True</td>\n",
       "      <td>False</td>\n",
       "      <td>True</td>\n",
       "      <td>1101</td>\n",
       "      <td>True</td>\n",
       "    </tr>\n",
       "    <tr>\n",
       "      <th>...</th>\n",
       "      <td>...</td>\n",
       "      <td>...</td>\n",
       "      <td>...</td>\n",
       "      <td>...</td>\n",
       "      <td>...</td>\n",
       "      <td>...</td>\n",
       "      <td>...</td>\n",
       "      <td>...</td>\n",
       "      <td>...</td>\n",
       "      <td>...</td>\n",
       "      <td>...</td>\n",
       "      <td>...</td>\n",
       "      <td>...</td>\n",
       "    </tr>\n",
       "    <tr>\n",
       "      <th>54965</th>\n",
       "      <td>1611.06067v1</td>\n",
       "      <td>{'Task': 'Skeleton Based Action Recognition', ...</td>\n",
       "      <td>Skeleton Based Action Recognition</td>\n",
       "      <td>NTU RGB+D</td>\n",
       "      <td>Accuracy (CS)</td>\n",
       "      <td>73.4</td>\n",
       "      <td>\\def\\year{2017}\\relax\\n\\documentclass[letterpa...</td>\n",
       "      <td>False</td>\n",
       "      <td>True</td>\n",
       "      <td>False</td>\n",
       "      <td>True</td>\n",
       "      <td>0101</td>\n",
       "      <td>True</td>\n",
       "    </tr>\n",
       "    <tr>\n",
       "      <th>54966</th>\n",
       "      <td>1903.11059v2</td>\n",
       "      <td>{'Task': 'Neural Architecture Search', 'Datase...</td>\n",
       "      <td>Neural Architecture Search</td>\n",
       "      <td>ImageNet</td>\n",
       "      <td>Top-1 Error Rate</td>\n",
       "      <td>24.5</td>\n",
       "      <td>\\documentclass[10pt,twocolumn,letterpaper]{art...</td>\n",
       "      <td>True</td>\n",
       "      <td>True</td>\n",
       "      <td>False</td>\n",
       "      <td>True</td>\n",
       "      <td>1101</td>\n",
       "      <td>True</td>\n",
       "    </tr>\n",
       "    <tr>\n",
       "      <th>54967</th>\n",
       "      <td>1903.11059v2</td>\n",
       "      <td>{'Task': 'Neural Architecture Search', 'Datase...</td>\n",
       "      <td>Neural Architecture Search</td>\n",
       "      <td>ImageNet</td>\n",
       "      <td>Accuracy</td>\n",
       "      <td>75.5</td>\n",
       "      <td>\\documentclass[10pt,twocolumn,letterpaper]{art...</td>\n",
       "      <td>True</td>\n",
       "      <td>True</td>\n",
       "      <td>True</td>\n",
       "      <td>True</td>\n",
       "      <td>1111</td>\n",
       "      <td>True</td>\n",
       "    </tr>\n",
       "    <tr>\n",
       "      <th>54968</th>\n",
       "      <td>1903.11059v2</td>\n",
       "      <td>{'Task': 'Neural Architecture Search', 'Datase...</td>\n",
       "      <td>Neural Architecture Search</td>\n",
       "      <td>ImageNet</td>\n",
       "      <td>Params</td>\n",
       "      <td>5.4M</td>\n",
       "      <td>\\documentclass[10pt,twocolumn,letterpaper]{art...</td>\n",
       "      <td>True</td>\n",
       "      <td>True</td>\n",
       "      <td>True</td>\n",
       "      <td>True</td>\n",
       "      <td>1111</td>\n",
       "      <td>True</td>\n",
       "    </tr>\n",
       "    <tr>\n",
       "      <th>54970</th>\n",
       "      <td>1903.11059v2</td>\n",
       "      <td>{'Task': 'Neural Architecture Search', 'Datase...</td>\n",
       "      <td>Neural Architecture Search</td>\n",
       "      <td>CIFAR-10</td>\n",
       "      <td>Search Time (GPU days)</td>\n",
       "      <td>224</td>\n",
       "      <td>\\documentclass[10pt,twocolumn,letterpaper]{art...</td>\n",
       "      <td>True</td>\n",
       "      <td>True</td>\n",
       "      <td>False</td>\n",
       "      <td>True</td>\n",
       "      <td>1101</td>\n",
       "      <td>True</td>\n",
       "    </tr>\n",
       "  </tbody>\n",
       "</table>\n",
       "<p>20306 rows × 13 columns</p>\n",
       "</div>"
      ],
      "text/plain": [
       "                 id                                                jsn  \\\n",
       "0      2205.07139v1  {'Task': 'Thoracic Disease Classification', 'D...   \n",
       "1      1908.04531v2  {'Task': 'Hate Speech Detection', 'Dataset': '...   \n",
       "7      2311.15769v1  {'Task': 'Action Classification', 'Dataset': '...   \n",
       "8      2311.15769v1  {'Task': 'Action Classification', 'Dataset': '...   \n",
       "14     2311.15769v1  {'Task': 'Video Retrieval', 'Dataset': 'VATEX'...   \n",
       "...             ...                                                ...   \n",
       "54965  1611.06067v1  {'Task': 'Skeleton Based Action Recognition', ...   \n",
       "54966  1903.11059v2  {'Task': 'Neural Architecture Search', 'Datase...   \n",
       "54967  1903.11059v2  {'Task': 'Neural Architecture Search', 'Datase...   \n",
       "54968  1903.11059v2  {'Task': 'Neural Architecture Search', 'Datase...   \n",
       "54970  1903.11059v2  {'Task': 'Neural Architecture Search', 'Datase...   \n",
       "\n",
       "                                    Task       Dataset  \\\n",
       "0        Thoracic Disease Classification  ChestX-ray14   \n",
       "1                  Hate Speech Detection        DKhate   \n",
       "7                  Action Classification  Kinetics-400   \n",
       "8                  Action Classification  Kinetics-400   \n",
       "14                       Video Retrieval         VATEX   \n",
       "...                                  ...           ...   \n",
       "54965  Skeleton Based Action Recognition     NTU RGB+D   \n",
       "54966         Neural Architecture Search      ImageNet   \n",
       "54967         Neural Architecture Search      ImageNet   \n",
       "54968         Neural Architecture Search      ImageNet   \n",
       "54970         Neural Architecture Search      CIFAR-10   \n",
       "\n",
       "                       Metric  Score  \\\n",
       "0                       AUROC  78.33   \n",
       "1                          F1   0.70   \n",
       "7                       Acc@1   88.6   \n",
       "8                       Acc@5   98.2   \n",
       "14          text-to-video R@1   68.8   \n",
       "...                       ...    ...   \n",
       "54965           Accuracy (CS)   73.4   \n",
       "54966        Top-1 Error Rate   24.5   \n",
       "54967                Accuracy   75.5   \n",
       "54968                  Params   5.4M   \n",
       "54970  Search Time (GPU days)    224   \n",
       "\n",
       "                                                     tex  Task_found  \\\n",
       "0      \\documentclass[runningheads]{llncs}\\n\\usepacka...       False   \n",
       "1      \\documentclass{article}\\n\\n\\n\\usepackage{arxiv...        True   \n",
       "7      \\n\\n\\documentclass[10pt,twocolumn,letterpaper]...       False   \n",
       "8      \\n\\n\\documentclass[10pt,twocolumn,letterpaper]...       False   \n",
       "14     \\n\\n\\documentclass[10pt,twocolumn,letterpaper]...        True   \n",
       "...                                                  ...         ...   \n",
       "54965  \\def\\year{2017}\\relax\\n\\documentclass[letterpa...       False   \n",
       "54966  \\documentclass[10pt,twocolumn,letterpaper]{art...        True   \n",
       "54967  \\documentclass[10pt,twocolumn,letterpaper]{art...        True   \n",
       "54968  \\documentclass[10pt,twocolumn,letterpaper]{art...        True   \n",
       "54970  \\documentclass[10pt,twocolumn,letterpaper]{art...        True   \n",
       "\n",
       "       Dataset_found  Metric_found  Score_found partials  is_usable  \n",
       "0               True          True         True     0111       True  \n",
       "1              False          True         True     1011       True  \n",
       "7               True         False         True     0101       True  \n",
       "8               True         False         True     0101       True  \n",
       "14              True         False         True     1101       True  \n",
       "...              ...           ...          ...      ...        ...  \n",
       "54965           True         False         True     0101       True  \n",
       "54966           True         False         True     1101       True  \n",
       "54967           True          True         True     1111       True  \n",
       "54968           True          True         True     1111       True  \n",
       "54970           True         False         True     1101       True  \n",
       "\n",
       "[20306 rows x 13 columns]"
      ]
     },
     "execution_count": 67,
     "metadata": {},
     "output_type": "execute_result"
    }
   ],
   "source": [
    "df_combined[df_combined[\"is_usable\"]]"
   ]
  },
  {
   "cell_type": "code",
   "execution_count": null,
   "metadata": {},
   "outputs": [
    {
     "data": {
      "text/html": [
       "<div>\n",
       "<style scoped>\n",
       "    .dataframe tbody tr th:only-of-type {\n",
       "        vertical-align: middle;\n",
       "    }\n",
       "\n",
       "    .dataframe tbody tr th {\n",
       "        vertical-align: top;\n",
       "    }\n",
       "\n",
       "    .dataframe thead th {\n",
       "        text-align: right;\n",
       "    }\n",
       "</style>\n",
       "<table border=\"1\" class=\"dataframe\">\n",
       "  <thead>\n",
       "    <tr style=\"text-align: right;\">\n",
       "      <th></th>\n",
       "      <th>id</th>\n",
       "      <th>jsn</th>\n",
       "      <th>Task</th>\n",
       "      <th>Dataset</th>\n",
       "      <th>Metric</th>\n",
       "      <th>Score</th>\n",
       "      <th>tex</th>\n",
       "      <th>Task_found</th>\n",
       "      <th>Dataset_found</th>\n",
       "      <th>Metric_found</th>\n",
       "      <th>Score_found</th>\n",
       "      <th>partials</th>\n",
       "      <th>is_usable</th>\n",
       "    </tr>\n",
       "  </thead>\n",
       "  <tbody>\n",
       "    <tr>\n",
       "      <th>0</th>\n",
       "      <td>2205.07139v1</td>\n",
       "      <td>{'Task': 'Thoracic Disease Classification', 'D...</td>\n",
       "      <td>Thoracic Disease Classification</td>\n",
       "      <td>ChestX-ray14</td>\n",
       "      <td>AUROC</td>\n",
       "      <td>78.33</td>\n",
       "      <td>\\documentclass[runningheads]{llncs}\\n\\usepacka...</td>\n",
       "      <td>False</td>\n",
       "      <td>True</td>\n",
       "      <td>True</td>\n",
       "      <td>True</td>\n",
       "      <td>0111</td>\n",
       "      <td>True</td>\n",
       "    </tr>\n",
       "    <tr>\n",
       "      <th>1</th>\n",
       "      <td>1908.04531v2</td>\n",
       "      <td>{'Task': 'Hate Speech Detection', 'Dataset': '...</td>\n",
       "      <td>Hate Speech Detection</td>\n",
       "      <td>DKhate</td>\n",
       "      <td>F1</td>\n",
       "      <td>0.70</td>\n",
       "      <td>\\documentclass{article}\\n\\n\\n\\usepackage{arxiv...</td>\n",
       "      <td>True</td>\n",
       "      <td>False</td>\n",
       "      <td>True</td>\n",
       "      <td>True</td>\n",
       "      <td>1011</td>\n",
       "      <td>True</td>\n",
       "    </tr>\n",
       "    <tr>\n",
       "      <th>2</th>\n",
       "      <td>1911.04127v1</td>\n",
       "      <td>{'Task': 'Temporal Action Localization', 'Data...</td>\n",
       "      <td>Temporal Action Localization</td>\n",
       "      <td>FineAction</td>\n",
       "      <td>mAP</td>\n",
       "      <td>6.75</td>\n",
       "      <td>\\def\\year{2020}\\relax\\n\\documentclass[letterpa...</td>\n",
       "      <td>False</td>\n",
       "      <td>False</td>\n",
       "      <td>False</td>\n",
       "      <td>True</td>\n",
       "      <td>0001</td>\n",
       "      <td>False</td>\n",
       "    </tr>\n",
       "    <tr>\n",
       "      <th>3</th>\n",
       "      <td>1911.04127v1</td>\n",
       "      <td>{'Task': 'Temporal Action Localization', 'Data...</td>\n",
       "      <td>Temporal Action Localization</td>\n",
       "      <td>FineAction</td>\n",
       "      <td>mAP IOU@0.5</td>\n",
       "      <td>10.65</td>\n",
       "      <td>\\def\\year{2020}\\relax\\n\\documentclass[letterpa...</td>\n",
       "      <td>False</td>\n",
       "      <td>False</td>\n",
       "      <td>False</td>\n",
       "      <td>False</td>\n",
       "      <td>0000</td>\n",
       "      <td>False</td>\n",
       "    </tr>\n",
       "    <tr>\n",
       "      <th>4</th>\n",
       "      <td>1911.04127v1</td>\n",
       "      <td>{'Task': 'Temporal Action Localization', 'Data...</td>\n",
       "      <td>Temporal Action Localization</td>\n",
       "      <td>FineAction</td>\n",
       "      <td>mAP IOU@0.75</td>\n",
       "      <td>6.43</td>\n",
       "      <td>\\def\\year{2020}\\relax\\n\\documentclass[letterpa...</td>\n",
       "      <td>False</td>\n",
       "      <td>False</td>\n",
       "      <td>False</td>\n",
       "      <td>True</td>\n",
       "      <td>0001</td>\n",
       "      <td>False</td>\n",
       "    </tr>\n",
       "    <tr>\n",
       "      <th>...</th>\n",
       "      <td>...</td>\n",
       "      <td>...</td>\n",
       "      <td>...</td>\n",
       "      <td>...</td>\n",
       "      <td>...</td>\n",
       "      <td>...</td>\n",
       "      <td>...</td>\n",
       "      <td>...</td>\n",
       "      <td>...</td>\n",
       "      <td>...</td>\n",
       "      <td>...</td>\n",
       "      <td>...</td>\n",
       "      <td>...</td>\n",
       "    </tr>\n",
       "    <tr>\n",
       "      <th>54967</th>\n",
       "      <td>1903.11059v2</td>\n",
       "      <td>{'Task': 'Neural Architecture Search', 'Datase...</td>\n",
       "      <td>Neural Architecture Search</td>\n",
       "      <td>ImageNet</td>\n",
       "      <td>Accuracy</td>\n",
       "      <td>75.5</td>\n",
       "      <td>\\documentclass[10pt,twocolumn,letterpaper]{art...</td>\n",
       "      <td>True</td>\n",
       "      <td>True</td>\n",
       "      <td>True</td>\n",
       "      <td>True</td>\n",
       "      <td>1111</td>\n",
       "      <td>True</td>\n",
       "    </tr>\n",
       "    <tr>\n",
       "      <th>54968</th>\n",
       "      <td>1903.11059v2</td>\n",
       "      <td>{'Task': 'Neural Architecture Search', 'Datase...</td>\n",
       "      <td>Neural Architecture Search</td>\n",
       "      <td>ImageNet</td>\n",
       "      <td>Params</td>\n",
       "      <td>5.4M</td>\n",
       "      <td>\\documentclass[10pt,twocolumn,letterpaper]{art...</td>\n",
       "      <td>True</td>\n",
       "      <td>True</td>\n",
       "      <td>True</td>\n",
       "      <td>True</td>\n",
       "      <td>1111</td>\n",
       "      <td>True</td>\n",
       "    </tr>\n",
       "    <tr>\n",
       "      <th>54969</th>\n",
       "      <td>1903.11059v2</td>\n",
       "      <td>{'Task': 'Neural Architecture Search', 'Datase...</td>\n",
       "      <td>Neural Architecture Search</td>\n",
       "      <td>CIFAR-10</td>\n",
       "      <td>Top-1 Error Rate</td>\n",
       "      <td>2.82%</td>\n",
       "      <td>\\documentclass[10pt,twocolumn,letterpaper]{art...</td>\n",
       "      <td>True</td>\n",
       "      <td>True</td>\n",
       "      <td>False</td>\n",
       "      <td>False</td>\n",
       "      <td>1100</td>\n",
       "      <td>False</td>\n",
       "    </tr>\n",
       "    <tr>\n",
       "      <th>54970</th>\n",
       "      <td>1903.11059v2</td>\n",
       "      <td>{'Task': 'Neural Architecture Search', 'Datase...</td>\n",
       "      <td>Neural Architecture Search</td>\n",
       "      <td>CIFAR-10</td>\n",
       "      <td>Search Time (GPU days)</td>\n",
       "      <td>224</td>\n",
       "      <td>\\documentclass[10pt,twocolumn,letterpaper]{art...</td>\n",
       "      <td>True</td>\n",
       "      <td>True</td>\n",
       "      <td>False</td>\n",
       "      <td>True</td>\n",
       "      <td>1101</td>\n",
       "      <td>True</td>\n",
       "    </tr>\n",
       "    <tr>\n",
       "      <th>54971</th>\n",
       "      <td>1903.11059v2</td>\n",
       "      <td>{'Task': 'Neural Architecture Search', 'Datase...</td>\n",
       "      <td>Neural Architecture Search</td>\n",
       "      <td>CIFAR-10 Image Classification</td>\n",
       "      <td>Params</td>\n",
       "      <td>3.59M</td>\n",
       "      <td>\\documentclass[10pt,twocolumn,letterpaper]{art...</td>\n",
       "      <td>True</td>\n",
       "      <td>False</td>\n",
       "      <td>True</td>\n",
       "      <td>False</td>\n",
       "      <td>1010</td>\n",
       "      <td>False</td>\n",
       "    </tr>\n",
       "  </tbody>\n",
       "</table>\n",
       "<p>54972 rows × 13 columns</p>\n",
       "</div>"
      ],
      "text/plain": [
       "                 id                                                jsn  \\\n",
       "0      2205.07139v1  {'Task': 'Thoracic Disease Classification', 'D...   \n",
       "1      1908.04531v2  {'Task': 'Hate Speech Detection', 'Dataset': '...   \n",
       "2      1911.04127v1  {'Task': 'Temporal Action Localization', 'Data...   \n",
       "3      1911.04127v1  {'Task': 'Temporal Action Localization', 'Data...   \n",
       "4      1911.04127v1  {'Task': 'Temporal Action Localization', 'Data...   \n",
       "...             ...                                                ...   \n",
       "54967  1903.11059v2  {'Task': 'Neural Architecture Search', 'Datase...   \n",
       "54968  1903.11059v2  {'Task': 'Neural Architecture Search', 'Datase...   \n",
       "54969  1903.11059v2  {'Task': 'Neural Architecture Search', 'Datase...   \n",
       "54970  1903.11059v2  {'Task': 'Neural Architecture Search', 'Datase...   \n",
       "54971  1903.11059v2  {'Task': 'Neural Architecture Search', 'Datase...   \n",
       "\n",
       "                                  Task                        Dataset  \\\n",
       "0      Thoracic Disease Classification                   ChestX-ray14   \n",
       "1                Hate Speech Detection                         DKhate   \n",
       "2         Temporal Action Localization                     FineAction   \n",
       "3         Temporal Action Localization                     FineAction   \n",
       "4         Temporal Action Localization                     FineAction   \n",
       "...                                ...                            ...   \n",
       "54967       Neural Architecture Search                       ImageNet   \n",
       "54968       Neural Architecture Search                       ImageNet   \n",
       "54969       Neural Architecture Search                       CIFAR-10   \n",
       "54970       Neural Architecture Search                       CIFAR-10   \n",
       "54971       Neural Architecture Search  CIFAR-10 Image Classification   \n",
       "\n",
       "                       Metric  Score  \\\n",
       "0                       AUROC  78.33   \n",
       "1                          F1   0.70   \n",
       "2                         mAP   6.75   \n",
       "3                 mAP IOU@0.5  10.65   \n",
       "4                mAP IOU@0.75   6.43   \n",
       "...                       ...    ...   \n",
       "54967                Accuracy   75.5   \n",
       "54968                  Params   5.4M   \n",
       "54969        Top-1 Error Rate  2.82%   \n",
       "54970  Search Time (GPU days)    224   \n",
       "54971                  Params  3.59M   \n",
       "\n",
       "                                                     tex  Task_found  \\\n",
       "0      \\documentclass[runningheads]{llncs}\\n\\usepacka...       False   \n",
       "1      \\documentclass{article}\\n\\n\\n\\usepackage{arxiv...        True   \n",
       "2      \\def\\year{2020}\\relax\\n\\documentclass[letterpa...       False   \n",
       "3      \\def\\year{2020}\\relax\\n\\documentclass[letterpa...       False   \n",
       "4      \\def\\year{2020}\\relax\\n\\documentclass[letterpa...       False   \n",
       "...                                                  ...         ...   \n",
       "54967  \\documentclass[10pt,twocolumn,letterpaper]{art...        True   \n",
       "54968  \\documentclass[10pt,twocolumn,letterpaper]{art...        True   \n",
       "54969  \\documentclass[10pt,twocolumn,letterpaper]{art...        True   \n",
       "54970  \\documentclass[10pt,twocolumn,letterpaper]{art...        True   \n",
       "54971  \\documentclass[10pt,twocolumn,letterpaper]{art...        True   \n",
       "\n",
       "       Dataset_found  Metric_found  Score_found partials  is_usable  \n",
       "0               True          True         True     0111       True  \n",
       "1              False          True         True     1011       True  \n",
       "2              False         False         True     0001      False  \n",
       "3              False         False        False     0000      False  \n",
       "4              False         False         True     0001      False  \n",
       "...              ...           ...          ...      ...        ...  \n",
       "54967           True          True         True     1111       True  \n",
       "54968           True          True         True     1111       True  \n",
       "54969           True         False        False     1100      False  \n",
       "54970           True         False         True     1101       True  \n",
       "54971          False          True        False     1010      False  \n",
       "\n",
       "[54972 rows x 13 columns]"
      ]
     },
     "execution_count": 68,
     "metadata": {},
     "output_type": "execute_result"
    }
   ],
   "source": [
    "df_combined"
   ]
  }
 ],
 "metadata": {
  "kernelspec": {
   "display_name": "Python 3 (ipykernel)",
   "language": "python",
   "name": "python3"
  },
  "language_info": {
   "codemirror_mode": {
    "name": "ipython",
    "version": 3
   },
   "file_extension": ".py",
   "mimetype": "text/x-python",
   "name": "python",
   "nbconvert_exporter": "python",
   "pygments_lexer": "ipython3",
   "version": "3.10.14"
  }
 },
 "nbformat": 4,
 "nbformat_minor": 2
}
