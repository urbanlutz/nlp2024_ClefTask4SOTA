{
 "cells": [
  {
   "cell_type": "markdown",
   "metadata": {},
   "source": [
    "Task Website: https://sites.google.com/view/simpletext-sota/home\n",
    "Competition: https://codalab.lisn.upsaclay.fr/competitions/16616\n",
    "\n",
    "Dataset: https://github.com/jd-coderepos/sota/tree/master\n",
    "\n"
   ]
  },
  {
   "cell_type": "code",
   "execution_count": 181,
   "metadata": {},
   "outputs": [],
   "source": [
    "NOT_FOUND = \"unanswerable\\n\""
   ]
  },
  {
   "cell_type": "code",
   "execution_count": 182,
   "metadata": {},
   "outputs": [],
   "source": [
    "\n",
    "import glob\n",
    "import os\n",
    "import json\n",
    "\n",
    "TRAIN_PATH = \"./data/train\"\n",
    "\n",
    "\n",
    "def path_join(*args):\n",
    "    return os.path.join(*args).replace('\\\\', '/') \n",
    "\n",
    "def find(extension, *args):\n",
    "    p = path_join(*args)\n",
    "    res = list(filter(lambda x: x.endswith(extension), os.listdir(p)))\n",
    "    if res:\n",
    "        return path_join(p, res[0])\n",
    "    else:\n",
    "        return None\n",
    "\n",
    "all_paths = [(p, find(\"tex\", TRAIN_PATH, p), find(\"json\", TRAIN_PATH, p)) for p in os.listdir(TRAIN_PATH)]\n",
    "\n",
    "def read(i):\n",
    "    # print(i)\n",
    "    tex = None\n",
    "    jsn = None\n",
    "    try:\n",
    "        i, tex_path, jsn_path = all_paths[i]\n",
    "    except Exception as ex:\n",
    "        print(i)\n",
    "        raise ex\n",
    "    try:\n",
    "        with open(tex_path) as f:\n",
    "            tex = f.read()\n",
    "\n",
    "        try:\n",
    "            with open(jsn_path) as f:\n",
    "                jsn = json.load(f)\n",
    "                print(\"loaded json\")\n",
    "        except:\n",
    "            with open(jsn_path) as f:\n",
    "                jsn = f.read()\n",
    "                jsn = eval(jsn)\n",
    "        return i, tex, jsn\n",
    "    except:\n",
    "        return i, tex, jsn"
   ]
  },
  {
   "cell_type": "code",
   "execution_count": 183,
   "metadata": {},
   "outputs": [],
   "source": [
    "import pandas as pd\n",
    "\n",
    "n = len(all_paths)\n",
    "data = []\n",
    "for i, t, j in [read(i) for i in range(n)]:\n",
    "    # if j and j != 'unanswerable\\n':\n",
    "    data.append((i, t, j))\n",
    "\n"
   ]
  },
  {
   "cell_type": "code",
   "execution_count": 184,
   "metadata": {},
   "outputs": [
    {
     "data": {
      "text/html": [
       "<div>\n",
       "<style scoped>\n",
       "    .dataframe tbody tr th:only-of-type {\n",
       "        vertical-align: middle;\n",
       "    }\n",
       "\n",
       "    .dataframe tbody tr th {\n",
       "        vertical-align: top;\n",
       "    }\n",
       "\n",
       "    .dataframe thead th {\n",
       "        text-align: right;\n",
       "    }\n",
       "</style>\n",
       "<table border=\"1\" class=\"dataframe\">\n",
       "  <thead>\n",
       "    <tr style=\"text-align: right;\">\n",
       "      <th></th>\n",
       "      <th>id</th>\n",
       "      <th>tex</th>\n",
       "      <th>jsn</th>\n",
       "    </tr>\n",
       "  </thead>\n",
       "  <tbody>\n",
       "    <tr>\n",
       "      <th>0</th>\n",
       "      <td>2205.07139v1</td>\n",
       "      <td>\\documentclass[runningheads]{llncs}\\n\\usepacka...</td>\n",
       "      <td>[{'LEADERBOARD': {'Task': 'Thoracic Disease Cl...</td>\n",
       "    </tr>\n",
       "    <tr>\n",
       "      <th>1</th>\n",
       "      <td>1908.04531v2</td>\n",
       "      <td>\\documentclass{article}\\n\\n\\n\\usepackage{arxiv...</td>\n",
       "      <td>[{'LEADERBOARD': {'Task': 'Hate Speech Detecti...</td>\n",
       "    </tr>\n",
       "    <tr>\n",
       "      <th>2</th>\n",
       "      <td>1007.3769</td>\n",
       "      <td>\\documentclass{LMCS}\\n\\n\\mathcode`:=\"003A  \\ma...</td>\n",
       "      <td>unanswerable\\n</td>\n",
       "    </tr>\n",
       "    <tr>\n",
       "      <th>3</th>\n",
       "      <td>1408.5825</td>\n",
       "      <td>\\n\\n\\n\\n\\n\\documentclass[10pt,draftcls,onecolu...</td>\n",
       "      <td>unanswerable\\n</td>\n",
       "    </tr>\n",
       "    <tr>\n",
       "      <th>4</th>\n",
       "      <td>2104.08663v2</td>\n",
       "      <td>\\pdfoutput=1\\n\\n\\n\\documentclass[11pt]{article...</td>\n",
       "      <td>unanswerable\\n</td>\n",
       "    </tr>\n",
       "    <tr>\n",
       "      <th>...</th>\n",
       "      <td>...</td>\n",
       "      <td>...</td>\n",
       "      <td>...</td>\n",
       "    </tr>\n",
       "    <tr>\n",
       "      <th>12283</th>\n",
       "      <td>0907.0649</td>\n",
       "      <td>\\n\\n\\documentclass[twoside]{article}\\n\\usepack...</td>\n",
       "      <td>unanswerable\\n</td>\n",
       "    </tr>\n",
       "    <tr>\n",
       "      <th>12284</th>\n",
       "      <td>2207.07922v1</td>\n",
       "      <td>\\n\\n\\documentclass[runningheads]{llncs}\\n\\usep...</td>\n",
       "      <td>[{'LEADERBOARD': {'Task': 'Semi-Supervised Vid...</td>\n",
       "    </tr>\n",
       "    <tr>\n",
       "      <th>12285</th>\n",
       "      <td>2204.14047v2</td>\n",
       "      <td>\\documentclass[sigconf]{acmart}\\n\\n\\usepackage...</td>\n",
       "      <td>[{'LEADERBOARD': {'Task': 'Video Quality Asses...</td>\n",
       "    </tr>\n",
       "    <tr>\n",
       "      <th>12286</th>\n",
       "      <td>1611.06067v1</td>\n",
       "      <td>\\def\\year{2017}\\relax\\n\\documentclass[letterpa...</td>\n",
       "      <td>[{'LEADERBOARD': {'Task': 'Skeleton Based Acti...</td>\n",
       "    </tr>\n",
       "    <tr>\n",
       "      <th>12287</th>\n",
       "      <td>1903.11059v2</td>\n",
       "      <td>\\documentclass[10pt,twocolumn,letterpaper]{art...</td>\n",
       "      <td>[{'LEADERBOARD': {'Task': 'Neural Architecture...</td>\n",
       "    </tr>\n",
       "  </tbody>\n",
       "</table>\n",
       "<p>12288 rows × 3 columns</p>\n",
       "</div>"
      ],
      "text/plain": [
       "                 id                                                tex  \\\n",
       "0      2205.07139v1  \\documentclass[runningheads]{llncs}\\n\\usepacka...   \n",
       "1      1908.04531v2  \\documentclass{article}\\n\\n\\n\\usepackage{arxiv...   \n",
       "2         1007.3769  \\documentclass{LMCS}\\n\\n\\mathcode`:=\"003A  \\ma...   \n",
       "3         1408.5825  \\n\\n\\n\\n\\n\\documentclass[10pt,draftcls,onecolu...   \n",
       "4      2104.08663v2  \\pdfoutput=1\\n\\n\\n\\documentclass[11pt]{article...   \n",
       "...             ...                                                ...   \n",
       "12283     0907.0649  \\n\\n\\documentclass[twoside]{article}\\n\\usepack...   \n",
       "12284  2207.07922v1  \\n\\n\\documentclass[runningheads]{llncs}\\n\\usep...   \n",
       "12285  2204.14047v2  \\documentclass[sigconf]{acmart}\\n\\n\\usepackage...   \n",
       "12286  1611.06067v1  \\def\\year{2017}\\relax\\n\\documentclass[letterpa...   \n",
       "12287  1903.11059v2  \\documentclass[10pt,twocolumn,letterpaper]{art...   \n",
       "\n",
       "                                                     jsn  \n",
       "0      [{'LEADERBOARD': {'Task': 'Thoracic Disease Cl...  \n",
       "1      [{'LEADERBOARD': {'Task': 'Hate Speech Detecti...  \n",
       "2                                         unanswerable\\n  \n",
       "3                                         unanswerable\\n  \n",
       "4                                         unanswerable\\n  \n",
       "...                                                  ...  \n",
       "12283                                     unanswerable\\n  \n",
       "12284  [{'LEADERBOARD': {'Task': 'Semi-Supervised Vid...  \n",
       "12285  [{'LEADERBOARD': {'Task': 'Video Quality Asses...  \n",
       "12286  [{'LEADERBOARD': {'Task': 'Skeleton Based Acti...  \n",
       "12287  [{'LEADERBOARD': {'Task': 'Neural Architecture...  \n",
       "\n",
       "[12288 rows x 3 columns]"
      ]
     },
     "execution_count": 184,
     "metadata": {},
     "output_type": "execute_result"
    }
   ],
   "source": [
    "df_raw = pd.DataFrame(data)\n",
    "df_raw = df_raw.rename({0: \"id\", 1: \"tex\", 2: \"jsn\"}, axis=1)\n",
    "df_raw"
   ]
  },
  {
   "cell_type": "code",
   "execution_count": 185,
   "metadata": {},
   "outputs": [
    {
     "name": "stdout",
     "output_type": "stream",
     "text": [
      "12288\n",
      "12288\n"
     ]
    }
   ],
   "source": [
    "# is \"id\" unique?\n",
    "\n",
    "total_ids = len(df_raw[\"id\"])\n",
    "nonduplicate_ids = len(df_raw[\"id\"].drop_duplicates())\n",
    "print(total_ids)\n",
    "print(nonduplicate_ids)\n",
    "# -> yes"
   ]
  },
  {
   "cell_type": "markdown",
   "metadata": {},
   "source": [
    "# How many are Null / Unanswerable?"
   ]
  },
  {
   "cell_type": "code",
   "execution_count": 186,
   "metadata": {},
   "outputs": [
    {
     "name": "stdout",
     "output_type": "stream",
     "text": [
      "total len: 12288\n",
      "None: 368\n",
      "Unanswerable: 4013\n"
     ]
    }
   ],
   "source": [
    "df = df_raw\n",
    "\n",
    "\n",
    "df[\"isUnanswerable\"] = df[\"jsn\"] == NOT_FOUND\n",
    "df[\"isNone\"] = df[\"jsn\"].isnull()\n",
    "\n",
    "print(f\"total len: {len(df)}\")\n",
    "print(f\"None: {len(df[df['isNone']])}\")\n",
    "print(f\"Unanswerable: {len(df[df['isUnanswerable']])}\")\n",
    "\n"
   ]
  },
  {
   "cell_type": "markdown",
   "metadata": {},
   "source": [
    "# Leaderboard details"
   ]
  },
  {
   "cell_type": "code",
   "execution_count": 187,
   "metadata": {},
   "outputs": [
    {
     "name": "stdout",
     "output_type": "stream",
     "text": [
      "= 0: 4381\n",
      "> 0: 7907\n",
      "> 5: 2908\n",
      "> 10: 1294\n",
      "> 40: 122\n",
      "> 100: 17\n",
      "> 200: 1\n"
     ]
    }
   ],
   "source": [
    "df[\"numLeaderboards\"] = df[\"jsn\"].apply(lambda c: len(c) if c and c != NOT_FOUND else 0)\n",
    "df[\"hasLeaderboards\"] = df[\"numLeaderboards\"] > 0\n",
    "\n",
    "print(f\"= 0: {len(df[df['numLeaderboards'] == 0])}\")\n",
    "print(f\"> 0: {len(df[df['numLeaderboards'] > 0])}\")\n",
    "print(f\"> 5: {len(df[df['numLeaderboards'] > 5])}\")\n",
    "print(f\"> 10: {len(df[df['numLeaderboards'] > 10])}\")\n",
    "print(f\"> 40: {len(df[df['numLeaderboards'] > 40])}\")\n",
    "print(f\"> 100: {len(df[df['numLeaderboards'] > 100])}\")\n",
    "print(f\"> 200: {len(df[df['numLeaderboards'] > 200])}\")\n",
    "\n",
    "df_lt40 = df[df[\"numLeaderboards\"] < 40]"
   ]
  },
  {
   "cell_type": "code",
   "execution_count": 188,
   "metadata": {},
   "outputs": [
    {
     "data": {
      "text/plain": [
       "0.5540660174528899"
      ]
     },
     "execution_count": 188,
     "metadata": {},
     "output_type": "execute_result"
    }
   ],
   "source": [
    "pct_hasLeaderboard =  len(df[df[\"hasLeaderboards\"] == False]) / len(df[df[\"hasLeaderboards\"] == True])\n",
    "pct_hasLeaderboard"
   ]
  },
  {
   "cell_type": "code",
   "execution_count": 189,
   "metadata": {},
   "outputs": [
    {
     "data": {
      "text/plain": [
       "<seaborn.axisgrid.FacetGrid at 0x7f073ef56bf0>"
      ]
     },
     "execution_count": 189,
     "metadata": {},
     "output_type": "execute_result"
    },
    {
     "data": {
      "image/png": "[encoded data removed]",
      "text/plain": [
       "<Figure size 500x500 with 1 Axes>"
      ]
     },
     "metadata": {},
     "output_type": "display_data"
    }
   ],
   "source": [
    "import seaborn as sns\n",
    "\n",
    "sns.displot(df_lt40[\"numLeaderboards\"], kind=\"ecdf\")"
   ]
  },
  {
   "cell_type": "code",
   "execution_count": 190,
   "metadata": {},
   "outputs": [
    {
     "data": {
      "text/plain": [
       "<Axes: xlabel='numLeaderboards', ylabel='Count'>"
      ]
     },
     "execution_count": 190,
     "metadata": {},
     "output_type": "execute_result"
    },
    {
     "data": {
      "image/png": "[encoded data removed]",
      "text/plain": [
       "<Figure size 640x480 with 1 Axes>"
      ]
     },
     "metadata": {},
     "output_type": "display_data"
    }
   ],
   "source": [
    "sns.histplot(df_lt40[\"numLeaderboards\"], bins=40)"
   ]
  },
  {
   "cell_type": "code",
   "execution_count": 191,
   "metadata": {},
   "outputs": [
    {
     "data": {
      "text/html": [
       "<div>\n",
       "<style scoped>\n",
       "    .dataframe tbody tr th:only-of-type {\n",
       "        vertical-align: middle;\n",
       "    }\n",
       "\n",
       "    .dataframe tbody tr th {\n",
       "        vertical-align: top;\n",
       "    }\n",
       "\n",
       "    .dataframe thead th {\n",
       "        text-align: right;\n",
       "    }\n",
       "</style>\n",
       "<table border=\"1\" class=\"dataframe\">\n",
       "  <thead>\n",
       "    <tr style=\"text-align: right;\">\n",
       "      <th></th>\n",
       "      <th>id</th>\n",
       "      <th>jsn</th>\n",
       "      <th>Task</th>\n",
       "      <th>Dataset</th>\n",
       "      <th>Metric</th>\n",
       "      <th>Score</th>\n",
       "    </tr>\n",
       "  </thead>\n",
       "  <tbody>\n",
       "    <tr>\n",
       "      <th>0</th>\n",
       "      <td>2205.07139v1</td>\n",
       "      <td>{'Task': 'Thoracic Disease Classification', 'D...</td>\n",
       "      <td>Thoracic Disease Classification</td>\n",
       "      <td>ChestX-ray14</td>\n",
       "      <td>AUROC</td>\n",
       "      <td>78.33</td>\n",
       "    </tr>\n",
       "    <tr>\n",
       "      <th>1</th>\n",
       "      <td>1908.04531v2</td>\n",
       "      <td>{'Task': 'Hate Speech Detection', 'Dataset': '...</td>\n",
       "      <td>Hate Speech Detection</td>\n",
       "      <td>DKhate</td>\n",
       "      <td>F1</td>\n",
       "      <td>0.70</td>\n",
       "    </tr>\n",
       "    <tr>\n",
       "      <th>5</th>\n",
       "      <td>1911.04127v1</td>\n",
       "      <td>{'Task': 'Temporal Action Localization', 'Data...</td>\n",
       "      <td>Temporal Action Localization</td>\n",
       "      <td>FineAction</td>\n",
       "      <td>mAP</td>\n",
       "      <td>6.75</td>\n",
       "    </tr>\n",
       "    <tr>\n",
       "      <th>5</th>\n",
       "      <td>1911.04127v1</td>\n",
       "      <td>{'Task': 'Temporal Action Localization', 'Data...</td>\n",
       "      <td>Temporal Action Localization</td>\n",
       "      <td>FineAction</td>\n",
       "      <td>mAP IOU@0.5</td>\n",
       "      <td>10.65</td>\n",
       "    </tr>\n",
       "    <tr>\n",
       "      <th>5</th>\n",
       "      <td>1911.04127v1</td>\n",
       "      <td>{'Task': 'Temporal Action Localization', 'Data...</td>\n",
       "      <td>Temporal Action Localization</td>\n",
       "      <td>FineAction</td>\n",
       "      <td>mAP IOU@0.75</td>\n",
       "      <td>6.43</td>\n",
       "    </tr>\n",
       "    <tr>\n",
       "      <th>...</th>\n",
       "      <td>...</td>\n",
       "      <td>...</td>\n",
       "      <td>...</td>\n",
       "      <td>...</td>\n",
       "      <td>...</td>\n",
       "      <td>...</td>\n",
       "    </tr>\n",
       "    <tr>\n",
       "      <th>12287</th>\n",
       "      <td>1903.11059v2</td>\n",
       "      <td>{'Task': 'Neural Architecture Search', 'Datase...</td>\n",
       "      <td>Neural Architecture Search</td>\n",
       "      <td>ImageNet</td>\n",
       "      <td>Accuracy</td>\n",
       "      <td>75.5</td>\n",
       "    </tr>\n",
       "    <tr>\n",
       "      <th>12287</th>\n",
       "      <td>1903.11059v2</td>\n",
       "      <td>{'Task': 'Neural Architecture Search', 'Datase...</td>\n",
       "      <td>Neural Architecture Search</td>\n",
       "      <td>ImageNet</td>\n",
       "      <td>Params</td>\n",
       "      <td>5.4M</td>\n",
       "    </tr>\n",
       "    <tr>\n",
       "      <th>12287</th>\n",
       "      <td>1903.11059v2</td>\n",
       "      <td>{'Task': 'Neural Architecture Search', 'Datase...</td>\n",
       "      <td>Neural Architecture Search</td>\n",
       "      <td>CIFAR-10</td>\n",
       "      <td>Top-1 Error Rate</td>\n",
       "      <td>2.82%</td>\n",
       "    </tr>\n",
       "    <tr>\n",
       "      <th>12287</th>\n",
       "      <td>1903.11059v2</td>\n",
       "      <td>{'Task': 'Neural Architecture Search', 'Datase...</td>\n",
       "      <td>Neural Architecture Search</td>\n",
       "      <td>CIFAR-10</td>\n",
       "      <td>Search Time (GPU days)</td>\n",
       "      <td>224</td>\n",
       "    </tr>\n",
       "    <tr>\n",
       "      <th>12287</th>\n",
       "      <td>1903.11059v2</td>\n",
       "      <td>{'Task': 'Neural Architecture Search', 'Datase...</td>\n",
       "      <td>Neural Architecture Search</td>\n",
       "      <td>CIFAR-10 Image Classification</td>\n",
       "      <td>Params</td>\n",
       "      <td>3.59M</td>\n",
       "    </tr>\n",
       "  </tbody>\n",
       "</table>\n",
       "<p>54840 rows × 6 columns</p>\n",
       "</div>"
      ],
      "text/plain": [
       "                 id                                                jsn  \\\n",
       "0      2205.07139v1  {'Task': 'Thoracic Disease Classification', 'D...   \n",
       "1      1908.04531v2  {'Task': 'Hate Speech Detection', 'Dataset': '...   \n",
       "5      1911.04127v1  {'Task': 'Temporal Action Localization', 'Data...   \n",
       "5      1911.04127v1  {'Task': 'Temporal Action Localization', 'Data...   \n",
       "5      1911.04127v1  {'Task': 'Temporal Action Localization', 'Data...   \n",
       "...             ...                                                ...   \n",
       "12287  1903.11059v2  {'Task': 'Neural Architecture Search', 'Datase...   \n",
       "12287  1903.11059v2  {'Task': 'Neural Architecture Search', 'Datase...   \n",
       "12287  1903.11059v2  {'Task': 'Neural Architecture Search', 'Datase...   \n",
       "12287  1903.11059v2  {'Task': 'Neural Architecture Search', 'Datase...   \n",
       "12287  1903.11059v2  {'Task': 'Neural Architecture Search', 'Datase...   \n",
       "\n",
       "                                  Task                        Dataset  \\\n",
       "0      Thoracic Disease Classification                   ChestX-ray14   \n",
       "1                Hate Speech Detection                         DKhate   \n",
       "5         Temporal Action Localization                     FineAction   \n",
       "5         Temporal Action Localization                     FineAction   \n",
       "5         Temporal Action Localization                     FineAction   \n",
       "...                                ...                            ...   \n",
       "12287       Neural Architecture Search                       ImageNet   \n",
       "12287       Neural Architecture Search                       ImageNet   \n",
       "12287       Neural Architecture Search                       CIFAR-10   \n",
       "12287       Neural Architecture Search                       CIFAR-10   \n",
       "12287       Neural Architecture Search  CIFAR-10 Image Classification   \n",
       "\n",
       "                       Metric  Score  \n",
       "0                       AUROC  78.33  \n",
       "1                          F1   0.70  \n",
       "5                         mAP   6.75  \n",
       "5                 mAP IOU@0.5  10.65  \n",
       "5                mAP IOU@0.75   6.43  \n",
       "...                       ...    ...  \n",
       "12287                Accuracy   75.5  \n",
       "12287                  Params   5.4M  \n",
       "12287        Top-1 Error Rate  2.82%  \n",
       "12287  Search Time (GPU days)    224  \n",
       "12287                  Params  3.59M  \n",
       "\n",
       "[54840 rows x 6 columns]"
      ]
     },
     "execution_count": 191,
     "metadata": {},
     "output_type": "execute_result"
    }
   ],
   "source": [
    "# Split dataframes into paper & leaderboard entries\n",
    "\n",
    "df_entries = df[[\"id\", \"jsn\"]]\n",
    "\n",
    "df_entries = df_entries.explode(\"jsn\")\n",
    "\n",
    "df_entries[\"jsn\"] = df_entries[\"jsn\"].apply(lambda c: None if not c or c == NOT_FOUND else c[\"LEADERBOARD\"])\n",
    "df_entries = df_entries.dropna()\n",
    "\n",
    "df_entries = pd.concat([df_entries, df_entries[\"jsn\"].apply(pd.Series)], axis=1)\n",
    "df_entries"
   ]
  },
  {
   "cell_type": "code",
   "execution_count": 192,
   "metadata": {},
   "outputs": [
    {
     "name": "stdout",
     "output_type": "stream",
     "text": [
      "1370\n"
     ]
    },
    {
     "data": {
      "text/plain": [
       "Task\n",
       "Image Classification                         2270\n",
       "Atari Games                                  1443\n",
       "Node Classification                          1113\n",
       "Video Retrieval                               997\n",
       "Object Detection                              997\n",
       "Link Prediction                               941\n",
       "Semantic Segmentation                         900\n",
       "Semi-Supervised Video Object Segmentation     890\n",
       "3D Human Pose Estimation                      889\n",
       "Question Answering                            866\n",
       "Image Super-Resolution                        643\n",
       "Person Re-Identification                      548\n",
       "Image Generation                              510\n",
       "Visual Question Answering (VQA)               500\n",
       "Neural Architecture Search                    488\n",
       "Monocular Depth Estimation                    484\n",
       "Anomaly Detection                             474\n",
       "Video Super-Resolution                        459\n",
       "Node Property Prediction                      447\n",
       "3D Object Detection                           416\n",
       "Name: id, dtype: int64"
      ]
     },
     "execution_count": 192,
     "metadata": {},
     "output_type": "execute_result"
    }
   ],
   "source": [
    "# Tasks\n",
    "tasks = df_entries.groupby(\"Task\").count()[\"id\"].sort_values(ascending=False)\n",
    "print(len(tasks))\n",
    "\n",
    "# Top 20\n",
    "tasks[:20]"
   ]
  },
  {
   "cell_type": "code",
   "execution_count": 193,
   "metadata": {},
   "outputs": [
    {
     "name": "stdout",
     "output_type": "stream",
     "text": [
      "4802\n"
     ]
    },
    {
     "data": {
      "text/plain": [
       "Dataset\n",
       "ImageNet                                      1603\n",
       "COCO test-dev                                  792\n",
       "Human3.6M                                      624\n",
       "CIFAR-10                                       585\n",
       "COCO minival                                   310\n",
       "YouTube-VOS 2018                               291\n",
       "CIFAR-100                                      252\n",
       "MSR-VTT-1kA                                    247\n",
       "FB15k-237                                      244\n",
       "MSU Super-Resolution for Video Compression     225\n",
       "DAVIS 2017 (val)                               222\n",
       "ChEBI-20                                       220\n",
       "WN18RR                                         212\n",
       "Kinetics-400                                   212\n",
       "DAVIS 2016                                     211\n",
       "3DPW                                           197\n",
       "Winoground                                     196\n",
       "COCO                                           192\n",
       "MPI-INF-3DHP                                   189\n",
       "IconQA                                         188\n",
       "Name: id, dtype: int64"
      ]
     },
     "execution_count": 193,
     "metadata": {},
     "output_type": "execute_result"
    }
   ],
   "source": [
    "# Dataset\n",
    "dataset = df_entries.groupby(\"Dataset\").count()[\"id\"].sort_values(ascending=False)\n",
    "print(len(dataset))\n",
    "\n",
    "# Top 20\n",
    "dataset[:20]"
   ]
  },
  {
   "cell_type": "code",
   "execution_count": 194,
   "metadata": {},
   "outputs": [
    {
     "name": "stdout",
     "output_type": "stream",
     "text": [
      "2870\n"
     ]
    },
    {
     "data": {
      "text/plain": [
       "Metric\n",
       "Accuracy              4357\n",
       "Score                 1510\n",
       "F1                    1358\n",
       "PSNR                  1131\n",
       "mAP                    820\n",
       "mIoU                   816\n",
       "Top 1 Accuracy         789\n",
       "1:1 Accuracy           787\n",
       "SSIM                   786\n",
       "Number of params       701\n",
       "FID                    614\n",
       "AP                     586\n",
       "Mean IoU               562\n",
       "MAE                    541\n",
       "Top-1 Accuracy         483\n",
       "AUC                    447\n",
       "Percentage correct     344\n",
       "Accuracy (%)           337\n",
       "Rank-1                 329\n",
       "MRR                    314\n",
       "Name: id, dtype: int64"
      ]
     },
     "execution_count": 194,
     "metadata": {},
     "output_type": "execute_result"
    }
   ],
   "source": [
    "# Metric\n",
    "metric = df_entries.groupby(\"Metric\").count()[\"id\"].sort_values(ascending=False)\n",
    "print(len(metric))\n",
    "\n",
    "# Top 20\n",
    "metric[:20]"
   ]
  },
  {
   "cell_type": "markdown",
   "metadata": {},
   "source": [
    "# Which entries can be found in the text?"
   ]
  },
  {
   "cell_type": "code",
   "execution_count": 195,
   "metadata": {},
   "outputs": [],
   "source": [
    "def is_in_tex(item, tex):\n",
    "    return item in tex"
   ]
  },
  {
   "cell_type": "code",
   "execution_count": 199,
   "metadata": {},
   "outputs": [],
   "source": [
    "df_combined = df_entries.merge(df[[\"id\", \"tex\"]],on=\"id\")\n",
    "df_combined[\"Dataset_found\"] = df_combined.apply(lambda row: row[\"Dataset\"] in row[\"tex\"], axis=1)\n",
    "df_combined[\"Metric_found\"] = df_combined.apply(lambda row: row[\"Metric\"] in row[\"tex\"], axis=1)"
   ]
  },
  {
   "cell_type": "code",
   "execution_count": 197,
   "metadata": {},
   "outputs": [
    {
     "name": "stdout",
     "output_type": "stream",
     "text": [
      "total TDMS: 54840\n",
      "Dataset found: 26052 -> 0.475054704595186\n",
      "Metric found: 20591 -> 0.37547410649161195\n"
     ]
    }
   ],
   "source": [
    "tot = len(df_combined)\n",
    "ds_found = len(df_combined[df_combined['Dataset_found']])\n",
    "metric_found = len(df_combined[df_combined['Metric_found']])\n",
    "print(f\"total TDMS: {len(df_combined)}\")\n",
    "print(f\"Dataset found: {ds_found} -> {ds_found/tot}\")\n",
    "print(f\"Metric found: {metric_found} -> {metric_found/tot}\")"
   ]
  },
  {
   "cell_type": "code",
   "execution_count": 200,
   "metadata": {},
   "outputs": [
    {
     "data": {
      "text/html": [
       "<div>\n",
       "<style scoped>\n",
       "    .dataframe tbody tr th:only-of-type {\n",
       "        vertical-align: middle;\n",
       "    }\n",
       "\n",
       "    .dataframe tbody tr th {\n",
       "        vertical-align: top;\n",
       "    }\n",
       "\n",
       "    .dataframe thead th {\n",
       "        text-align: right;\n",
       "    }\n",
       "</style>\n",
       "<table border=\"1\" class=\"dataframe\">\n",
       "  <thead>\n",
       "    <tr style=\"text-align: right;\">\n",
       "      <th></th>\n",
       "      <th>id</th>\n",
       "      <th>jsn</th>\n",
       "      <th>Task</th>\n",
       "      <th>Dataset</th>\n",
       "      <th>Metric</th>\n",
       "      <th>Score</th>\n",
       "      <th>tex</th>\n",
       "      <th>Dataset_found</th>\n",
       "      <th>Metric_found</th>\n",
       "    </tr>\n",
       "  </thead>\n",
       "  <tbody>\n",
       "    <tr>\n",
       "      <th>0</th>\n",
       "      <td>2205.07139v1</td>\n",
       "      <td>{'Task': 'Thoracic Disease Classification', 'D...</td>\n",
       "      <td>Thoracic Disease Classification</td>\n",
       "      <td>ChestX-ray14</td>\n",
       "      <td>AUROC</td>\n",
       "      <td>78.33</td>\n",
       "      <td>\\documentclass[runningheads]{llncs}\\n\\usepacka...</td>\n",
       "      <td>True</td>\n",
       "      <td>True</td>\n",
       "    </tr>\n",
       "    <tr>\n",
       "      <th>1</th>\n",
       "      <td>1908.04531v2</td>\n",
       "      <td>{'Task': 'Hate Speech Detection', 'Dataset': '...</td>\n",
       "      <td>Hate Speech Detection</td>\n",
       "      <td>DKhate</td>\n",
       "      <td>F1</td>\n",
       "      <td>0.70</td>\n",
       "      <td>\\documentclass{article}\\n\\n\\n\\usepackage{arxiv...</td>\n",
       "      <td>False</td>\n",
       "      <td>True</td>\n",
       "    </tr>\n",
       "    <tr>\n",
       "      <th>2</th>\n",
       "      <td>1911.04127v1</td>\n",
       "      <td>{'Task': 'Temporal Action Localization', 'Data...</td>\n",
       "      <td>Temporal Action Localization</td>\n",
       "      <td>FineAction</td>\n",
       "      <td>mAP</td>\n",
       "      <td>6.75</td>\n",
       "      <td>\\def\\year{2020}\\relax\\n\\documentclass[letterpa...</td>\n",
       "      <td>False</td>\n",
       "      <td>False</td>\n",
       "    </tr>\n",
       "    <tr>\n",
       "      <th>3</th>\n",
       "      <td>1911.04127v1</td>\n",
       "      <td>{'Task': 'Temporal Action Localization', 'Data...</td>\n",
       "      <td>Temporal Action Localization</td>\n",
       "      <td>FineAction</td>\n",
       "      <td>mAP IOU@0.5</td>\n",
       "      <td>10.65</td>\n",
       "      <td>\\def\\year{2020}\\relax\\n\\documentclass[letterpa...</td>\n",
       "      <td>False</td>\n",
       "      <td>False</td>\n",
       "    </tr>\n",
       "    <tr>\n",
       "      <th>4</th>\n",
       "      <td>1911.04127v1</td>\n",
       "      <td>{'Task': 'Temporal Action Localization', 'Data...</td>\n",
       "      <td>Temporal Action Localization</td>\n",
       "      <td>FineAction</td>\n",
       "      <td>mAP IOU@0.75</td>\n",
       "      <td>6.43</td>\n",
       "      <td>\\def\\year{2020}\\relax\\n\\documentclass[letterpa...</td>\n",
       "      <td>False</td>\n",
       "      <td>False</td>\n",
       "    </tr>\n",
       "    <tr>\n",
       "      <th>...</th>\n",
       "      <td>...</td>\n",
       "      <td>...</td>\n",
       "      <td>...</td>\n",
       "      <td>...</td>\n",
       "      <td>...</td>\n",
       "      <td>...</td>\n",
       "      <td>...</td>\n",
       "      <td>...</td>\n",
       "      <td>...</td>\n",
       "    </tr>\n",
       "    <tr>\n",
       "      <th>54835</th>\n",
       "      <td>1903.11059v2</td>\n",
       "      <td>{'Task': 'Neural Architecture Search', 'Datase...</td>\n",
       "      <td>Neural Architecture Search</td>\n",
       "      <td>ImageNet</td>\n",
       "      <td>Accuracy</td>\n",
       "      <td>75.5</td>\n",
       "      <td>\\documentclass[10pt,twocolumn,letterpaper]{art...</td>\n",
       "      <td>True</td>\n",
       "      <td>True</td>\n",
       "    </tr>\n",
       "    <tr>\n",
       "      <th>54836</th>\n",
       "      <td>1903.11059v2</td>\n",
       "      <td>{'Task': 'Neural Architecture Search', 'Datase...</td>\n",
       "      <td>Neural Architecture Search</td>\n",
       "      <td>ImageNet</td>\n",
       "      <td>Params</td>\n",
       "      <td>5.4M</td>\n",
       "      <td>\\documentclass[10pt,twocolumn,letterpaper]{art...</td>\n",
       "      <td>True</td>\n",
       "      <td>True</td>\n",
       "    </tr>\n",
       "    <tr>\n",
       "      <th>54837</th>\n",
       "      <td>1903.11059v2</td>\n",
       "      <td>{'Task': 'Neural Architecture Search', 'Datase...</td>\n",
       "      <td>Neural Architecture Search</td>\n",
       "      <td>CIFAR-10</td>\n",
       "      <td>Top-1 Error Rate</td>\n",
       "      <td>2.82%</td>\n",
       "      <td>\\documentclass[10pt,twocolumn,letterpaper]{art...</td>\n",
       "      <td>True</td>\n",
       "      <td>False</td>\n",
       "    </tr>\n",
       "    <tr>\n",
       "      <th>54838</th>\n",
       "      <td>1903.11059v2</td>\n",
       "      <td>{'Task': 'Neural Architecture Search', 'Datase...</td>\n",
       "      <td>Neural Architecture Search</td>\n",
       "      <td>CIFAR-10</td>\n",
       "      <td>Search Time (GPU days)</td>\n",
       "      <td>224</td>\n",
       "      <td>\\documentclass[10pt,twocolumn,letterpaper]{art...</td>\n",
       "      <td>True</td>\n",
       "      <td>False</td>\n",
       "    </tr>\n",
       "    <tr>\n",
       "      <th>54839</th>\n",
       "      <td>1903.11059v2</td>\n",
       "      <td>{'Task': 'Neural Architecture Search', 'Datase...</td>\n",
       "      <td>Neural Architecture Search</td>\n",
       "      <td>CIFAR-10 Image Classification</td>\n",
       "      <td>Params</td>\n",
       "      <td>3.59M</td>\n",
       "      <td>\\documentclass[10pt,twocolumn,letterpaper]{art...</td>\n",
       "      <td>False</td>\n",
       "      <td>True</td>\n",
       "    </tr>\n",
       "  </tbody>\n",
       "</table>\n",
       "<p>54840 rows × 9 columns</p>\n",
       "</div>"
      ],
      "text/plain": [
       "                 id                                                jsn  \\\n",
       "0      2205.07139v1  {'Task': 'Thoracic Disease Classification', 'D...   \n",
       "1      1908.04531v2  {'Task': 'Hate Speech Detection', 'Dataset': '...   \n",
       "2      1911.04127v1  {'Task': 'Temporal Action Localization', 'Data...   \n",
       "3      1911.04127v1  {'Task': 'Temporal Action Localization', 'Data...   \n",
       "4      1911.04127v1  {'Task': 'Temporal Action Localization', 'Data...   \n",
       "...             ...                                                ...   \n",
       "54835  1903.11059v2  {'Task': 'Neural Architecture Search', 'Datase...   \n",
       "54836  1903.11059v2  {'Task': 'Neural Architecture Search', 'Datase...   \n",
       "54837  1903.11059v2  {'Task': 'Neural Architecture Search', 'Datase...   \n",
       "54838  1903.11059v2  {'Task': 'Neural Architecture Search', 'Datase...   \n",
       "54839  1903.11059v2  {'Task': 'Neural Architecture Search', 'Datase...   \n",
       "\n",
       "                                  Task                        Dataset  \\\n",
       "0      Thoracic Disease Classification                   ChestX-ray14   \n",
       "1                Hate Speech Detection                         DKhate   \n",
       "2         Temporal Action Localization                     FineAction   \n",
       "3         Temporal Action Localization                     FineAction   \n",
       "4         Temporal Action Localization                     FineAction   \n",
       "...                                ...                            ...   \n",
       "54835       Neural Architecture Search                       ImageNet   \n",
       "54836       Neural Architecture Search                       ImageNet   \n",
       "54837       Neural Architecture Search                       CIFAR-10   \n",
       "54838       Neural Architecture Search                       CIFAR-10   \n",
       "54839       Neural Architecture Search  CIFAR-10 Image Classification   \n",
       "\n",
       "                       Metric  Score  \\\n",
       "0                       AUROC  78.33   \n",
       "1                          F1   0.70   \n",
       "2                         mAP   6.75   \n",
       "3                 mAP IOU@0.5  10.65   \n",
       "4                mAP IOU@0.75   6.43   \n",
       "...                       ...    ...   \n",
       "54835                Accuracy   75.5   \n",
       "54836                  Params   5.4M   \n",
       "54837        Top-1 Error Rate  2.82%   \n",
       "54838  Search Time (GPU days)    224   \n",
       "54839                  Params  3.59M   \n",
       "\n",
       "                                                     tex  Dataset_found  \\\n",
       "0      \\documentclass[runningheads]{llncs}\\n\\usepacka...           True   \n",
       "1      \\documentclass{article}\\n\\n\\n\\usepackage{arxiv...          False   \n",
       "2      \\def\\year{2020}\\relax\\n\\documentclass[letterpa...          False   \n",
       "3      \\def\\year{2020}\\relax\\n\\documentclass[letterpa...          False   \n",
       "4      \\def\\year{2020}\\relax\\n\\documentclass[letterpa...          False   \n",
       "...                                                  ...            ...   \n",
       "54835  \\documentclass[10pt,twocolumn,letterpaper]{art...           True   \n",
       "54836  \\documentclass[10pt,twocolumn,letterpaper]{art...           True   \n",
       "54837  \\documentclass[10pt,twocolumn,letterpaper]{art...           True   \n",
       "54838  \\documentclass[10pt,twocolumn,letterpaper]{art...           True   \n",
       "54839  \\documentclass[10pt,twocolumn,letterpaper]{art...          False   \n",
       "\n",
       "       Metric_found  \n",
       "0              True  \n",
       "1              True  \n",
       "2             False  \n",
       "3             False  \n",
       "4             False  \n",
       "...             ...  \n",
       "54835          True  \n",
       "54836          True  \n",
       "54837         False  \n",
       "54838         False  \n",
       "54839          True  \n",
       "\n",
       "[54840 rows x 9 columns]"
      ]
     },
     "execution_count": 200,
     "metadata": {},
     "output_type": "execute_result"
    }
   ],
   "source": [
    "df_combined"
   ]
  },
  {
   "cell_type": "code",
   "execution_count": null,
   "metadata": {},
   "outputs": [],
   "source": []
  }
 ],
 "metadata": {
  "kernelspec": {
   "display_name": "Python 3 (ipykernel)",
   "language": "python",
   "name": "python3"
  },
  "language_info": {
   "codemirror_mode": {
    "name": "ipython",
    "version": 3
   },
   "file_extension": ".py",
   "mimetype": "text/x-python",
   "name": "python",
   "nbconvert_exporter": "python",
   "pygments_lexer": "ipython3",
   "version": "3.10.14"
  }
 },
 "nbformat": 4,
 "nbformat_minor": 2
}
