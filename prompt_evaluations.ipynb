{
 "cells": [
  {
   "cell_type": "code",
   "execution_count": 42,
   "metadata": {},
   "outputs": [
    {
     "name": "stdout",
     "output_type": "stream",
     "text": [
      "The autoreload extension is already loaded. To reload it, use:\n",
      "  %reload_ext autoreload\n"
     ]
    }
   ],
   "source": [
    "import os\n",
    "if os.getcwd() == '/home/user/code':\n",
    "    os.chdir('/home/user/code/nlp2024_ClefTask4SOTA')\n",
    "\n",
    "%load_ext autoreload\n",
    "%autoreload 2"
   ]
  },
  {
   "cell_type": "code",
   "execution_count": 63,
   "metadata": {},
   "outputs": [
    {
     "name": "stderr",
     "output_type": "stream",
     "text": [
      " 14%|██████                                     | 14/100 [01:07<09:10,  6.40s/it]"
     ]
    }
   ],
   "source": [
    "from src.dataset import PATH\n",
    "from src.experiment_runner import Experiment, run\n",
    "from src.models import OllamaModel\n",
    "\n",
    "from src.prompt_templates import (\n",
    "    zero_shot_template_initial,\n",
    "    few_shot_template_initial,\n",
    "    zero_shot_template_optimized01,\n",
    "    few_shot_template_optimized01,\n",
    "    zero_shot_template_optimized02,\n",
    "    few_shot_template_optimized02\n",
    ")\n",
    "\n",
    "from src.content_extraction import naive_doctaet, parse_response\n",
    "\n",
    "def cut_tex(tex):\n",
    "    num_chars_allowed = 23256\n",
    "    return tex[:min(len(tex), num_chars_allowed)]\n",
    "\n",
    "def extract_doctaet(model, prompt_template, tex):\n",
    "    doctaet = naive_doctaet(tex)\n",
    "    cut_doctaet = cut_tex(doctaet)\n",
    "    prompt = prompt_template(cut_doctaet)\n",
    "    response = model.generate(prompt)\n",
    "    parsed =  parse_response(response)\n",
    "    return parsed\n",
    "\n",
    "\n",
    "llama3_8b = OllamaModel(\"llama3:8b\")\n",
    "exps = [\n",
    "    Experiment(llama3_8b, zero_shot_template_initial, extract_doctaet, \"llama3_8b_zero_shot_template_initial\"),\n",
    "    Experiment(llama3_8b, few_shot_template_initial, extract_doctaet, \"llama3_8b_few_shot_template_initial\"),\n",
    "    Experiment(llama3_8b, zero_shot_template_optimized01, extract_doctaet, \"llama3_8b_zero_shot_template_optimized01\"),\n",
    "    Experiment(llama3_8b, few_shot_template_optimized01, extract_doctaet, \"llama3_8b_few_shot_template_optimized01\"),\n",
    "    Experiment(llama3_8b, zero_shot_template_optimized02, extract_doctaet, \"llama3_8b_zero_shot_template_optimized02\"),\n",
    "    Experiment(llama3_8b, few_shot_template_optimized02, extract_doctaet, \"llama3_8b_few_shot_template_optimized02\"),\n",
    "]\n",
    "\n",
    "dfs = []\n",
    "for exp in exps:\n",
    "    df = run(exp, PATH.VAL, 100)\n",
    "    dfs.append(df)"
   ]
  },
  {
   "cell_type": "code",
   "execution_count": 61,
   "metadata": {},
   "outputs": [],
   "source": [
    "from src.evaluate import evaluate\n",
    "import pandas as pd\n",
    "results = []\n",
    "for df in dfs:\n",
    "    res = evaluate(df).reset_index().rename({\"index\": \"metric\"}, axis=1)\n",
    "    res[\"run\"] = df[\"run\"][0]\n",
    "    results.append(res)\n",
    "\n",
    "\n",
    "results = pd.concat(results)"
   ]
  }
 ],
 "metadata": {
  "kernelspec": {
   "display_name": "Python 3 (ipykernel)",
   "language": "python",
   "name": "python3"
  },
  "language_info": {
   "codemirror_mode": {
    "name": "ipython",
    "version": 3
   },
   "file_extension": ".py",
   "mimetype": "text/x-python",
   "name": "python",
   "nbconvert_exporter": "python",
   "pygments_lexer": "ipython3",
   "version": "3.10.14"
  }
 },
 "nbformat": 4,
 "nbformat_minor": 2
}
