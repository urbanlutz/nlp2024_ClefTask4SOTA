{
 "cells": [
  {
   "cell_type": "code",
   "execution_count": 18,
   "metadata": {},
   "outputs": [
    {
     "name": "stdout",
     "output_type": "stream",
     "text": [
      "The autoreload extension is already loaded. To reload it, use:\n",
      "  %reload_ext autoreload\n"
     ]
    }
   ],
   "source": [
    "import os\n",
    "if os.getcwd() == '/home/user/code':\n",
    "    os.chdir('/home/user/code/nlp2024_ClefTask4SOTA')\n",
    "\n",
    "%load_ext autoreload\n",
    "%autoreload 2"
   ]
  },
  {
   "cell_type": "code",
   "execution_count": 14,
   "metadata": {},
   "outputs": [
    {
     "name": "stderr",
     "output_type": "stream",
     "text": [
      "100%|██████████████████████████████████████████████| 1/1 [00:07<00:00,  7.44s/it]\n",
      "100%|██████████████████████████████████████████████| 1/1 [00:02<00:00,  2.89s/it]\n",
      "100%|██████████████████████████████████████████████| 1/1 [00:01<00:00,  1.81s/it]\n"
     ]
    },
    {
     "name": "stdout",
     "output_type": "stream",
     "text": [
      "Expecting value: line 1 column 2 (char 1)\n"
     ]
    },
    {
     "name": "stderr",
     "output_type": "stream",
     "text": [
      "100%|██████████████████████████████████████████████| 1/1 [00:02<00:00,  2.14s/it]\n",
      "100%|██████████████████████████████████████████████| 1/1 [00:01<00:00,  1.82s/it]\n",
      "100%|██████████████████████████████████████████████| 1/1 [00:02<00:00,  2.54s/it]\n"
     ]
    }
   ],
   "source": [
    "from src.dataset import PATH\n",
    "from src.experiment_runner import Experiment, run\n",
    "from src.models import OllamaModel\n",
    "\n",
    "from src.prompt_templates import (\n",
    "    zero_shot_template_initial,\n",
    "    few_shot_template_initial,\n",
    "    zero_shot_template_optimized01,\n",
    "    few_shot_template_optimized01,\n",
    "    zero_shot_template_optimized02,\n",
    "    few_shot_template_optimized02\n",
    ")\n",
    "\n",
    "from src.content_extraction import naive_doctaet, parse_response\n",
    "\n",
    "def cut_tex(tex):\n",
    "    num_chars_allowed = 23256\n",
    "    return tex[:min(len(tex), num_chars_allowed)]\n",
    "\n",
    "def extract_doctaet(model, prompt_template, tex):\n",
    "    response = model.generate(prompt_template(cut_tex(naive_doctaet(tex))))\n",
    "    return parse_response(response)\n",
    "\n",
    "\n",
    "llama3_8b = OllamaModel(\"llama3:8b\")\n",
    "exps = [\n",
    "    Experiment(llama3_8b, zero_shot_template_initial, extract_doctaet, \"llama3_8b_zero_shot_template_initial\"),\n",
    "    Experiment(llama3_8b, few_shot_template_initial, extract_doctaet, \"llama3_8b_few_shot_template_initial\"),\n",
    "    Experiment(llama3_8b, zero_shot_template_optimized01, extract_doctaet, \"llama3_8b_zero_shot_template_optimized01\"),\n",
    "    Experiment(llama3_8b, few_shot_template_optimized01, extract_doctaet, \"llama3_8b_few_shot_template_optimized01\"),\n",
    "    Experiment(llama3_8b, zero_shot_template_optimized02, extract_doctaet, \"llama3_8b_zero_shot_template_optimized02\"),\n",
    "    Experiment(llama3_8b, few_shot_template_optimized02, extract_doctaet, \"llama3_8b_few_shot_template_optimized02\"),\n",
    "]\n",
    "\n",
    "dfs = []\n",
    "for exp in exps:\n",
    "    df = run(exp, PATH.VAL, 1)\n",
    "    dfs.append(df)"
   ]
  },
  {
   "cell_type": "code",
   "execution_count": 19,
   "metadata": {},
   "outputs": [
    {
     "ename": "ModuleNotFoundError",
     "evalue": "No module named 'src.evaluate'",
     "output_type": "error",
     "traceback": [
      "\u001b[0;31m---------------------------------------------------------------------------\u001b[0m",
      "\u001b[0;31mModuleNotFoundError\u001b[0m                       Traceback (most recent call last)",
      "Cell \u001b[0;32mIn[19], line 1\u001b[0m\n\u001b[0;32m----> 1\u001b[0m \u001b[38;5;28;01mfrom\u001b[39;00m \u001b[38;5;21;01msrc\u001b[39;00m\u001b[38;5;21;01m.\u001b[39;00m\u001b[38;5;21;01mevaluate\u001b[39;00m \u001b[38;5;28;01mimport\u001b[39;00m evaluate\n\u001b[1;32m      3\u001b[0m results \u001b[38;5;241m=\u001b[39m []\n\u001b[1;32m      4\u001b[0m \u001b[38;5;28;01mfor\u001b[39;00m df \u001b[38;5;129;01min\u001b[39;00m dfs:\n",
      "\u001b[0;31mModuleNotFoundError\u001b[0m: No module named 'src.evaluate'"
     ]
    }
   ],
   "source": [
    "from src.evaluate import evaluate\n",
    "\n",
    "results = []\n",
    "for df in dfs:\n",
    "    results.append(evaluate(df))\n"
   ]
  }
 ],
 "metadata": {
  "kernelspec": {
   "display_name": "Python 3 (ipykernel)",
   "language": "python",
   "name": "python3"
  },
  "language_info": {
   "codemirror_mode": {
    "name": "ipython",
    "version": 3
   },
   "file_extension": ".py",
   "mimetype": "text/x-python",
   "name": "python",
   "nbconvert_exporter": "python",
   "pygments_lexer": "ipython3",
   "version": "3.10.14"
  }
 },
 "nbformat": 4,
 "nbformat_minor": 2
}
