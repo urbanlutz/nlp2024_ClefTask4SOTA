{
 "cells": [
  {
   "cell_type": "code",
   "execution_count": 4,
   "metadata": {},
   "outputs": [],
   "source": [
    "import os\n",
    "if os.getcwd() == '/home/user/code':\n",
    "    os.chdir('/home/user/code/nlp2024_ClefTask4SOTA')"
   ]
  },
  {
   "cell_type": "code",
   "execution_count": null,
   "metadata": {},
   "outputs": [],
   "source": [
    "\n"
   ]
  },
  {
   "cell_type": "code",
   "execution_count": 5,
   "metadata": {},
   "outputs": [
    {
     "name": "stderr",
     "output_type": "stream",
     "text": [
      "<>:5: SyntaxWarning: invalid escape sequence '\\s'\n",
      "<>:5: SyntaxWarning: invalid escape sequence '\\s'\n",
      "C:\\Users\\urban\\AppData\\Local\\Temp\\ipykernel_145896\\3670686320.py:5: SyntaxWarning: invalid escape sequence '\\s'\n",
      "  return [match.group(1) for match in re.finditer(\"\\\\\\section\\{(.*)\\}\", tex)]\n"
     ]
    }
   ],
   "source": [
    "from TexSoup import TexSoup\n",
    "import re\n",
    "\n",
    "def find_sections(tex):\n",
    "    return [match.group(1) for match in re.finditer(\"\\\\\\section\\{(.*)\\}\", tex)]\n",
    "\n",
    "\n",
    "def extract_content(node, name):\n",
    "    if node:\n",
    "        return ((name, node.contents[0]))\n",
    "\n",
    "\n",
    "def section_split(tex):\n",
    "    \"\"\"returns: List of tuples (section_name, section_text)\"\"\"\n",
    "    doc_text = tex\n",
    "    sections = []\n",
    "    # parsing with TexSoup\n",
    "    # TODO: get rid of this and use regex only (brittle)\n",
    "    try:\n",
    "        soup = TexSoup(tex, tolerance=1)\n",
    "        if title:=extract_content(soup.title, \"title\"):\n",
    "            sections.append(title)\n",
    "        if abstract:=extract_content(soup.abstract, \"abstract\"):\n",
    "            sections.append(abstract)\n",
    "        sections.append((\"tables\", \"\\n\".join([str(node) for node in soup.find_all(\"table\")]))) if soup.find_all(\"table\") else None\n",
    "    except:\n",
    "        pass # could not parse tex\n",
    "\n",
    "    # extract latex sections and corresponding text\n",
    "    prev_section = \"pre\"\n",
    "\n",
    "    for section in find_sections(tex):\n",
    "        section_text, doc_text = doc_text.split(f\"\\\\section{{{section}}}\", 1)\n",
    "        sections.append((prev_section, section_text))\n",
    "        prev_section = section\n",
    "    sections.append((prev_section, doc_text))\n",
    "    return sections\n",
    "    # except:\n",
    "    #     return ((\"full\", tex))\n",
    "    \n"
   ]
  },
  {
   "cell_type": "code",
   "execution_count": 6,
   "metadata": {},
   "outputs": [],
   "source": [
    "import ollama\n",
    "\n",
    "\n",
    "def pass_to_ollama(prompt, model):\n",
    "    try:\n",
    "        res = ollama.generate(model=model, prompt=prompt, options={\"temperature\": 0})\n",
    "        return res[\"response\"]\n",
    "    except Exception as ex:\n",
    "        print(ex)\n",
    "        return f\"ollama error: {ex}\"\n"
   ]
  },
  {
   "cell_type": "code",
   "execution_count": 7,
   "metadata": {},
   "outputs": [],
   "source": [
    "import json\n",
    "\n",
    "from src.dataset import UNANSWERABLE\n",
    "\n",
    "\n",
    "# prompt template\n",
    "def extract_tdms(tex, few_shot=True):\n",
    "    match model:\n",
    "            case \"llama3:8b\", \"llama3:70b\":\n",
    "                if few_shot:\n",
    "                    return f\"\"\"If the text reports benchmark leaderboard results, extract the reported Tasks, Datasets, Metrics and corresponding Scores.\n",
    "                    \n",
    "                    Text: {tex}\n",
    "                    \n",
    "                    Return the tasks, datasets, metrics and scores as reported in the text in a JSON array. Do not include precision information in the reported score.\n",
    "                    Here the formating structure of the JSON. Please use exactly this formating in your answer.\n",
    "                    [\n",
    "                        {{\"Task\": \"example Task 1\", \"Dataset\": \"example Dataset 1\", \"Metric\": example metric 1\", \"Score\": \"score\"}}, \n",
    "                        {{\"Task\": \"example Task 1\", \"Dataset\": \"example Dataset 2\", \"Metric\": example metric 2\", \"Score\": \"score\"}}\n",
    "                    ]\n",
    "                    \n",
    "                    Lets make an example for you: Template-Based Automatic Search of Compact Semantic Segmentation Architectures... One discovered architecture achieves 63.2% mean IoU on CamVid and 67.8% on CityScapes having only 270K parameters... evaluation.\n",
    "                    \n",
    "                    The expected answer of you is:\n",
    "                    [\n",
    "                        {{\"Task\": \"Compact Sementic Segmentation\", \"Dataset\": \"CamVid\", \"Metric\": Mean IoU\", \"Score\": \"63.2\"}}, \n",
    "                        {{\"Task\": \"Compact Sementic Segmentation\", \"Dataset\": \"CityScapes\", \"Metric\": Mean IoU\", \"Score\": \"67.8\"}}\n",
    "                    ]\n",
    "                    \n",
    "                    \"\"\"\n",
    "                else:\n",
    "                    return f\"\"\"If the text reports benchmark leaderboard results, extract the reported Tasks, Datasets, Metrics and corresponding Scores.\n",
    "                    \n",
    "                    Text: {tex}\n",
    "                    \n",
    "                    Return the tasks, datasets, metrics and scores as reported in the text in a JSON array. Do not include precision information in the reported score.\n",
    "                    Here the formating structure of the JSON. Please use exactly this formating in your answer.\n",
    "                    [\n",
    "                        {{\"Task\": \"example Task 1\", \"Dataset\": \"example Dataset 1\", \"Metric\": example metric 1\", \"Score\": \"score\"}}, \n",
    "                        {{\"Task\": \"example Task 1\", \"Dataset\": \"example Dataset 2\", \"Metric\": example metric 2\", \"Score\": \"score\"}}\n",
    "                    ]\n",
    "                    \n",
    "                    \"\"\"\n",
    "            case default:\n",
    "                \"Hi there. Please just say that something went wrong with the prompt since I could not make it up by the time.\"\n",
    "\n",
    "zero_shot_template = lambda tex: extract_tdms(tex, False)\n",
    "few_shot_template = lambda tex: extract_tdms(tex, True)\n",
    "\n",
    "def convert_tdms_to_tuple(model_output_parsed):\n",
    "    tuples = []\n",
    "    for item in model_output_parsed:\n",
    "        try:\n",
    "            t = ((item[\"Task\"], item[\"Dataset\"],item[\"Metric\"],item[\"Score\"]))\n",
    "            tuples.append(t)\n",
    "        except:\n",
    "            # parse error, ignore instance\n",
    "            pass\n",
    "    return tuples\n",
    "\n",
    "def format_tdms(tuples):\n",
    "    \"\"\"make unique, format as string\"\"\"\n",
    "    unique = set(tuples)\n",
    "    dicts = [{\"LEADERBOARD\": {\n",
    "        \"Task\": t,\n",
    "        \"Dataset\":d,\n",
    "        \"Metric\":m,\n",
    "        \"Score\":s\n",
    "    }} for t,d,m,s in unique]\n",
    "    return str(dicts)\n",
    "\n",
    "model = \"llama3:70b\"\n",
    "\n",
    "def section_wise_extraction(tex, prompt_template):\n",
    "    \"\"\"takes a tex file, returns an annotation\"\"\"\n",
    "    found_tdms = []\n",
    "    sections = section_split(str(tex))\n",
    "    for section_name, section_text in sections:\n",
    "        prompt = extract_tdms(section_text)\n",
    "        response = pass_to_ollama(prompt, model)\n",
    "\n",
    "        try:\n",
    "            response = json.loads(response)\n",
    "            parsed = convert_tdms_to_tuple(response)\n",
    "            found_tdms= [*found_tdms, *parsed]\n",
    "        except:\n",
    "            pass # no tuples found in section\n",
    "\n",
    "    # print(found_tdms)\n",
    "    if not found_tdms:\n",
    "        annotation = UNANSWERABLE # found_tdms are empty -> unanswerable\n",
    "    else:\n",
    "        # dedupe and format\n",
    "        annotation = format_tdms(found_tdms)\n",
    "    return annotation"
   ]
  },
  {
   "cell_type": "code",
   "execution_count": 8,
   "metadata": {},
   "outputs": [
    {
     "name": "stderr",
     "output_type": "stream",
     "text": [
      "  0%|          | 1/789 [00:02<38:05,  2.90s/it]"
     ]
    },
    {
     "name": "stdout",
     "output_type": "stream",
     "text": [
      "model 'llama3:70b' not found, try pulling it first\n",
      "model 'llama3:70b' not found, try pulling it first\n",
      "model 'llama3:70b' not found, try pulling it first\n",
      "model 'llama3:70b' not found, try pulling it first\n",
      "model 'llama3:70b' not found, try pulling it first\n",
      "model 'llama3:70b' not found, try pulling it first\n",
      "model 'llama3:70b' not found, try pulling it first\n",
      "model 'llama3:70b' not found, try pulling it first\n",
      "model 'llama3:70b' not found, try pulling it first\n",
      "model 'llama3:70b' not found, try pulling it first\n",
      "model 'llama3:70b' not found, try pulling it first\n",
      "model 'llama3:70b' not found, try pulling it first\n"
     ]
    },
    {
     "name": "stderr",
     "output_type": "stream",
     "text": [
      "  0%|          | 2/789 [00:04<31:22,  2.39s/it]"
     ]
    },
    {
     "name": "stdout",
     "output_type": "stream",
     "text": [
      "model 'llama3:70b' not found, try pulling it first\n",
      "model 'llama3:70b' not found, try pulling it first\n",
      "model 'llama3:70b' not found, try pulling it first\n",
      "model 'llama3:70b' not found, try pulling it first\n",
      "model 'llama3:70b' not found, try pulling it first\n",
      "model 'llama3:70b' not found, try pulling it first\n",
      "model 'llama3:70b' not found, try pulling it first\n"
     ]
    },
    {
     "name": "stderr",
     "output_type": "stream",
     "text": [
      "  0%|          | 3/789 [00:06<23:52,  1.82s/it]"
     ]
    },
    {
     "name": "stdout",
     "output_type": "stream",
     "text": [
      "model 'llama3:70b' not found, try pulling it first\n",
      "model 'llama3:70b' not found, try pulling it first\n",
      "model 'llama3:70b' not found, try pulling it first\n",
      "model 'llama3:70b' not found, try pulling it first\n",
      "model 'llama3:70b' not found, try pulling it first\n",
      "model 'llama3:70b' not found, try pulling it first\n",
      "model 'llama3:70b' not found, try pulling it first\n",
      "model 'llama3:70b' not found, try pulling it first\n",
      "model 'llama3:70b' not found, try pulling it first\n",
      "model 'llama3:70b' not found, try pulling it first\n"
     ]
    },
    {
     "name": "stderr",
     "output_type": "stream",
     "text": [
      "  1%|          | 4/789 [00:07<20:26,  1.56s/it]"
     ]
    },
    {
     "name": "stdout",
     "output_type": "stream",
     "text": [
      "model 'llama3:70b' not found, try pulling it first\n",
      "model 'llama3:70b' not found, try pulling it first\n",
      "model 'llama3:70b' not found, try pulling it first\n",
      "model 'llama3:70b' not found, try pulling it first\n",
      "model 'llama3:70b' not found, try pulling it first\n",
      "model 'llama3:70b' not found, try pulling it first\n",
      "model 'llama3:70b' not found, try pulling it first\n",
      "model 'llama3:70b' not found, try pulling it first\n",
      "model 'llama3:70b' not found, try pulling it first\n",
      "model 'llama3:70b' not found, try pulling it first\n",
      "model 'llama3:70b' not found, try pulling it first\n",
      "model 'llama3:70b' not found, try pulling it first\n"
     ]
    },
    {
     "name": "stderr",
     "output_type": "stream",
     "text": [
      "  1%|          | 5/789 [00:08<17:17,  1.32s/it]"
     ]
    },
    {
     "name": "stdout",
     "output_type": "stream",
     "text": [
      "model 'llama3:70b' not found, try pulling it first\n",
      "model 'llama3:70b' not found, try pulling it first\n",
      "model 'llama3:70b' not found, try pulling it first\n",
      "model 'llama3:70b' not found, try pulling it first\n",
      "model 'llama3:70b' not found, try pulling it first\n",
      "model 'llama3:70b' not found, try pulling it first\n",
      "model 'llama3:70b' not found, try pulling it first\n",
      "model 'llama3:70b' not found, try pulling it first\n"
     ]
    },
    {
     "name": "stderr",
     "output_type": "stream",
     "text": [
      "  1%|          | 6/789 [00:08<14:09,  1.09s/it]"
     ]
    },
    {
     "name": "stdout",
     "output_type": "stream",
     "text": [
      "model 'llama3:70b' not found, try pulling it first\n",
      "model 'llama3:70b' not found, try pulling it first\n",
      "model 'llama3:70b' not found, try pulling it first\n",
      "model 'llama3:70b' not found, try pulling it first\n",
      "model 'llama3:70b' not found, try pulling it first\n",
      "model 'llama3:70b' not found, try pulling it first\n",
      "model 'llama3:70b' not found, try pulling it first\n",
      "model 'llama3:70b' not found, try pulling it first\n",
      "model 'llama3:70b' not found, try pulling it first\n",
      "model 'llama3:70b' not found, try pulling it first\n"
     ]
    },
    {
     "name": "stderr",
     "output_type": "stream",
     "text": [
      "  1%|          | 7/789 [00:09<11:00,  1.18it/s]"
     ]
    },
    {
     "name": "stdout",
     "output_type": "stream",
     "text": [
      "model 'llama3:70b' not found, try pulling it first\n",
      "model 'llama3:70b' not found, try pulling it first\n",
      "model 'llama3:70b' not found, try pulling it first\n",
      "model 'llama3:70b' not found, try pulling it first\n",
      "model 'llama3:70b' not found, try pulling it first\n",
      "model 'llama3:70b' not found, try pulling it first\n",
      "model 'llama3:70b' not found, try pulling it first\n",
      "model 'llama3:70b' not found, try pulling it first\n"
     ]
    },
    {
     "name": "stderr",
     "output_type": "stream",
     "text": [
      "  1%|          | 8/789 [00:10<14:54,  1.15s/it]"
     ]
    },
    {
     "name": "stdout",
     "output_type": "stream",
     "text": [
      "model 'llama3:70b' not found, try pulling it first\n",
      "model 'llama3:70b' not found, try pulling it first\n",
      "model 'llama3:70b' not found, try pulling it first\n",
      "model 'llama3:70b' not found, try pulling it first\n",
      "model 'llama3:70b' not found, try pulling it first\n",
      "model 'llama3:70b' not found, try pulling it first\n",
      "model 'llama3:70b' not found, try pulling it first\n",
      "model 'llama3:70b' not found, try pulling it first\n",
      "model 'llama3:70b' not found, try pulling it first\n",
      "model 'llama3:70b' not found, try pulling it first\n",
      "model 'llama3:70b' not found, try pulling it first\n"
     ]
    },
    {
     "name": "stderr",
     "output_type": "stream",
     "text": [
      "  1%|          | 9/789 [00:11<13:49,  1.06s/it]"
     ]
    },
    {
     "name": "stdout",
     "output_type": "stream",
     "text": [
      "model 'llama3:70b' not found, try pulling it first\n",
      "model 'llama3:70b' not found, try pulling it first\n",
      "model 'llama3:70b' not found, try pulling it first\n",
      "model 'llama3:70b' not found, try pulling it first\n",
      "model 'llama3:70b' not found, try pulling it first\n",
      "model 'llama3:70b' not found, try pulling it first\n",
      "model 'llama3:70b' not found, try pulling it first\n"
     ]
    },
    {
     "name": "stderr",
     "output_type": "stream",
     "text": [
      "  1%|▏         | 10/789 [00:13<18:14,  1.40s/it]"
     ]
    },
    {
     "name": "stdout",
     "output_type": "stream",
     "text": [
      "model 'llama3:70b' not found, try pulling it first\n",
      "model 'llama3:70b' not found, try pulling it first\n",
      "model 'llama3:70b' not found, try pulling it first\n",
      "model 'llama3:70b' not found, try pulling it first\n",
      "model 'llama3:70b' not found, try pulling it first\n",
      "model 'llama3:70b' not found, try pulling it first\n",
      "model 'llama3:70b' not found, try pulling it first\n",
      "model 'llama3:70b' not found, try pulling it first\n",
      "model 'llama3:70b' not found, try pulling it first\n",
      "model 'llama3:70b' not found, try pulling it first\n",
      "model 'llama3:70b' not found, try pulling it first\n",
      "model 'llama3:70b' not found, try pulling it first\n",
      "model 'llama3:70b' not found, try pulling it first\n",
      "model 'llama3:70b' not found, try pulling it first\n",
      "model 'llama3:70b' not found, try pulling it first\n",
      "model 'llama3:70b' not found, try pulling it first\n",
      "model 'llama3:70b' not found, try pulling it first\n"
     ]
    },
    {
     "name": "stderr",
     "output_type": "stream",
     "text": [
      "  1%|▏         | 11/789 [00:14<16:05,  1.24s/it]"
     ]
    },
    {
     "name": "stdout",
     "output_type": "stream",
     "text": [
      "model 'llama3:70b' not found, try pulling it first\n",
      "model 'llama3:70b' not found, try pulling it first\n",
      "model 'llama3:70b' not found, try pulling it first\n",
      "model 'llama3:70b' not found, try pulling it first\n",
      "model 'llama3:70b' not found, try pulling it first\n",
      "model 'llama3:70b' not found, try pulling it first\n"
     ]
    },
    {
     "name": "stderr",
     "output_type": "stream",
     "text": [
      "  2%|▏         | 12/789 [00:15<15:38,  1.21s/it]"
     ]
    },
    {
     "name": "stdout",
     "output_type": "stream",
     "text": [
      "model 'llama3:70b' not found, try pulling it first\n",
      "model 'llama3:70b' not found, try pulling it first\n",
      "model 'llama3:70b' not found, try pulling it first\n",
      "model 'llama3:70b' not found, try pulling it first\n",
      "model 'llama3:70b' not found, try pulling it first\n",
      "model 'llama3:70b' not found, try pulling it first\n",
      "model 'llama3:70b' not found, try pulling it first\n"
     ]
    },
    {
     "name": "stderr",
     "output_type": "stream",
     "text": [
      "  2%|▏         | 13/789 [00:16<14:50,  1.15s/it]"
     ]
    },
    {
     "name": "stdout",
     "output_type": "stream",
     "text": [
      "model 'llama3:70b' not found, try pulling it first\n",
      "model 'llama3:70b' not found, try pulling it first\n",
      "model 'llama3:70b' not found, try pulling it first\n"
     ]
    },
    {
     "name": "stderr",
     "output_type": "stream",
     "text": [
      "  2%|▏         | 14/789 [00:17<12:57,  1.00s/it]"
     ]
    },
    {
     "name": "stdout",
     "output_type": "stream",
     "text": [
      "model 'llama3:70b' not found, try pulling it first\n",
      "model 'llama3:70b' not found, try pulling it first\n",
      "model 'llama3:70b' not found, try pulling it first\n",
      "model 'llama3:70b' not found, try pulling it first\n",
      "model 'llama3:70b' not found, try pulling it first\n",
      "model 'llama3:70b' not found, try pulling it first\n",
      "model 'llama3:70b' not found, try pulling it first\n"
     ]
    },
    {
     "name": "stderr",
     "output_type": "stream",
     "text": [
      "  2%|▏         | 15/789 [00:18<11:45,  1.10it/s]"
     ]
    },
    {
     "name": "stdout",
     "output_type": "stream",
     "text": [
      "model 'llama3:70b' not found, try pulling it first\n",
      "model 'llama3:70b' not found, try pulling it first\n",
      "model 'llama3:70b' not found, try pulling it first\n",
      "model 'llama3:70b' not found, try pulling it first\n",
      "model 'llama3:70b' not found, try pulling it first\n",
      "model 'llama3:70b' not found, try pulling it first\n"
     ]
    },
    {
     "name": "stderr",
     "output_type": "stream",
     "text": [
      "  2%|▏         | 17/789 [00:18<07:16,  1.77it/s]"
     ]
    },
    {
     "name": "stdout",
     "output_type": "stream",
     "text": [
      "model 'llama3:70b' not found, try pulling it first\n",
      "model 'llama3:70b' not found, try pulling it first\n",
      "model 'llama3:70b' not found, try pulling it first\n",
      "model 'llama3:70b' not found, try pulling it first\n",
      "model 'llama3:70b' not found, try pulling it first\n",
      "model 'llama3:70b' not found, try pulling it first\n"
     ]
    },
    {
     "name": "stderr",
     "output_type": "stream",
     "text": [
      "  2%|▏         | 18/789 [00:19<07:05,  1.81it/s]"
     ]
    },
    {
     "name": "stdout",
     "output_type": "stream",
     "text": [
      "model 'llama3:70b' not found, try pulling it first\n",
      "model 'llama3:70b' not found, try pulling it first\n"
     ]
    },
    {
     "name": "stderr",
     "output_type": "stream",
     "text": [
      "  2%|▏         | 19/789 [00:20<09:07,  1.41it/s]"
     ]
    },
    {
     "name": "stdout",
     "output_type": "stream",
     "text": [
      "model 'llama3:70b' not found, try pulling it first\n",
      "model 'llama3:70b' not found, try pulling it first\n",
      "model 'llama3:70b' not found, try pulling it first\n",
      "model 'llama3:70b' not found, try pulling it first\n",
      "model 'llama3:70b' not found, try pulling it first\n",
      "model 'llama3:70b' not found, try pulling it first\n",
      "model 'llama3:70b' not found, try pulling it first\n",
      "model 'llama3:70b' not found, try pulling it first\n",
      "model 'llama3:70b' not found, try pulling it first\n"
     ]
    },
    {
     "name": "stderr",
     "output_type": "stream",
     "text": [
      "  3%|▎         | 20/789 [00:21<09:16,  1.38it/s]"
     ]
    },
    {
     "name": "stdout",
     "output_type": "stream",
     "text": [
      "model 'llama3:70b' not found, try pulling it first\n",
      "model 'llama3:70b' not found, try pulling it first\n",
      "model 'llama3:70b' not found, try pulling it first\n",
      "model 'llama3:70b' not found, try pulling it first\n",
      "model 'llama3:70b' not found, try pulling it first\n",
      "model 'llama3:70b' not found, try pulling it first\n",
      "model 'llama3:70b' not found, try pulling it first\n",
      "model 'llama3:70b' not found, try pulling it first\n",
      "model 'llama3:70b' not found, try pulling it first\n",
      "model 'llama3:70b' not found, try pulling it first\n"
     ]
    }
   ],
   "source": [
    "from src.dataset import PATH\n",
    "from src.experiment_runner import run\n",
    "\n",
    "# Run on Test\n",
    "df_test = run(lambda tex: section_wise_extraction(tex, zero_shot_template), PATH.TEST, \"llama3_70b_zeroshot\")\n",
    "df_test = run(lambda tex: section_wise_extraction(tex, few_shot_template), PATH.TEST, \"llama3_70b_fewshot\")\n"
   ]
  }
 ],
 "metadata": {
  "kernelspec": {
   "display_name": "Python 3 (ipykernel)",
   "language": "python",
   "name": "python3"
  },
  "language_info": {
   "codemirror_mode": {
    "name": "ipython",
    "version": 3
   },
   "file_extension": ".py",
   "mimetype": "text/x-python",
   "name": "python",
   "nbconvert_exporter": "python",
   "pygments_lexer": "ipython3",
   "version": "3.12.2"
  }
 },
 "nbformat": 4,
 "nbformat_minor": 4
}
