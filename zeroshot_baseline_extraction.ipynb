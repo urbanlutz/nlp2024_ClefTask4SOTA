{
 "cells": [
  {
   "cell_type": "code",
   "execution_count": 1,
   "metadata": {
    "ExecuteTime": {
     "end_time": "2024-05-29T11:30:58.237348Z",
     "start_time": "2024-05-29T11:30:58.230029Z"
    }
   },
   "outputs": [],
   "source": [
    "import os\n",
    "if os.getcwd() == '/home/user/code':\n",
    "    os.chdir('/home/user/code/nlp2024_ClefTask4SOTA')"
   ]
  },
  {
   "cell_type": "code",
   "execution_count": 2,
   "metadata": {
    "ExecuteTime": {
     "end_time": "2024-05-29T11:30:58.328235Z",
     "start_time": "2024-05-29T11:30:58.270590Z"
    }
   },
   "outputs": [
    {
     "name": "stderr",
     "output_type": "stream",
     "text": [
      "<>:8: SyntaxWarning: invalid escape sequence '\\s'\n",
      "<>:8: SyntaxWarning: invalid escape sequence '\\s'\n",
      "C:\\Users\\urban\\AppData\\Local\\Temp\\ipykernel_190968\\2148200690.py:8: SyntaxWarning: invalid escape sequence '\\s'\n",
      "  return [match.group(1) for match in re.finditer(\"\\\\\\section\\{(.*)\\}\", tex)]\n"
     ]
    }
   ],
   "source": [
    "from TexSoup import TexSoup\n",
    "import re\n",
    "from src.dataset import PATH, UNANSWERABLE\n",
    "from src.models import Model\n",
    "import json\n",
    "\n",
    "def find_sections(tex):\n",
    "    return [match.group(1) for match in re.finditer(\"\\\\\\section\\{(.*)\\}\", tex)]\n",
    "\n",
    "\n",
    "def extract_content(node, name):\n",
    "    if node:\n",
    "        return ((name, node.contents[0]))\n",
    "\n",
    "def section_split(tex):\n",
    "    \"\"\"returns: List of tuples (section_name, section_text)\"\"\"\n",
    "    doc_text = tex\n",
    "    sections = []\n",
    "    # parsing with TexSoup\n",
    "    # TODO: get rid of this and use regex only (brittle)\n",
    "    try:\n",
    "        soup = TexSoup(tex, tolerance=1)\n",
    "        if title:=extract_content(soup.title, \"title\"):\n",
    "            sections.append(title)\n",
    "        if abstract:=extract_content(soup.abstract, \"abstract\"):\n",
    "            sections.append(abstract)\n",
    "        sections.append((\"tables\", \"\\n\".join([str(node) for node in soup.find_all(\"table\")]))) if soup.find_all(\"table\") else None\n",
    "    except:\n",
    "        pass # could not parse tex\n",
    "\n",
    "    # extract latex sections and corresponding text\n",
    "    prev_section = \"pre\"\n",
    "\n",
    "    for section in find_sections(tex):\n",
    "        section_text, doc_text = doc_text.split(f\"\\\\section{{{section}}}\", 1)\n",
    "        sections.append((prev_section, section_text))\n",
    "        prev_section = section\n",
    "    sections.append((prev_section, doc_text))\n",
    "    return sections\n",
    "    # except:\n",
    "    #     return ((\"full\", tex))\n",
    "    \n",
    "\n",
    "def convert_tdms_to_tuple(model_output_parsed):\n",
    "    tuples = []\n",
    "    for item in model_output_parsed:\n",
    "        try:\n",
    "            t = ((item[\"Task\"], item[\"Dataset\"],item[\"Metric\"],item[\"Score\"]))\n",
    "            tuples.append(t)\n",
    "        except:\n",
    "            # parse error, ignore instance\n",
    "            pass\n",
    "    return tuples\n",
    "\n",
    "def format_tdms(tuples):\n",
    "    \"\"\"make unique, format as string\"\"\"\n",
    "    unique = set(tuples)\n",
    "    dicts = [{\"LEADERBOARD\": {\n",
    "        \"Task\": t,\n",
    "        \"Dataset\":d,\n",
    "        \"Metric\":m,\n",
    "        \"Score\":s\n",
    "    }} for t,d,m,s in unique]\n",
    "    return str(dicts)\n",
    "\n",
    "\n",
    "def section_wise_extraction(model: Model, prompt_template, tex):\n",
    "    \"\"\"takes a tex file, returns an annotation\"\"\"\n",
    "    found_tdms = []\n",
    "    sections = section_split(str(tex))\n",
    "    for section_name, section_text in sections:\n",
    "        prompt = prompt_template(section_text)\n",
    "        response = model.generate(prompt)\n",
    "        response = \"[\"+ response.split('[', 1)[-1].rsplit(']', 1)[0] + \"]\"\n",
    "        try:\n",
    "            response = json.loads(response)\n",
    "            parsed = convert_tdms_to_tuple(response)\n",
    "            found_tdms= [*found_tdms, *parsed]\n",
    "        except:\n",
    "            pass # no tuples found in section\n",
    "\n",
    "    # print(found_tdms)\n",
    "    if not found_tdms:\n",
    "        annotation = UNANSWERABLE # found_tdms are empty -> unanswerable\n",
    "    else:\n",
    "        # dedupe and format\n",
    "        annotation = format_tdms(found_tdms)\n",
    "    return annotation"
   ]
  },
  {
   "cell_type": "code",
   "execution_count": 3,
   "metadata": {
    "ExecuteTime": {
     "end_time": "2024-05-29T11:31:19.535135Z",
     "start_time": "2024-05-29T11:31:19.224134Z"
    }
   },
   "outputs": [],
   "source": [
    "from src.dataset import PATH\n",
    "from src.experiment_runner import Experiment, run\n",
    "from src.models import LLama\n",
    "\n",
    "from src.prompt_templates import few_shot_template_initial\n",
    "\n",
    "llama3_8b = LLama(\"llama3:8b\")\n",
    "exp = Experiment(llama3_8b, few_shot_template_initial, section_wise_extraction, \"llama3_8b_fewshot_initial\")\n",
    "\n",
    "# # Run on Test\n",
    "# df_test = run(lambda tex: section_wise_extraction(tex, zero_shot_template_initial, model), PATH.TEST, \"llama3_70b_zeroshot_initial\")\n",
    "# df_test = run(lambda tex: section_wise_extraction(tex, few_shot_template_initial, model), PATH.TEST, \"llama3_70b_fewshot_initial\")\n",
    "# df_test = run(lambda tex: section_wise_extraction(tex, zero_shot_template_optimized01, model), PATH.TEST, \"llama3_70b_zeroshot_optimized01\")\n",
    "# df_test = run(lambda tex: section_wise_extraction(tex, few_shot_template_optimized01, model), PATH.TEST, \"llama3_70b_fewshot_optimized01\")\n",
    "# df_test = run(lambda tex: section_wise_extraction(tex, zero_shot_template_optimized02, model), PATH.TEST, \"llama3_70b_zeroshot_optimized02\")\n",
    "# df_test = run(lambda tex: section_wise_extraction(tex, few_shot_template_optimized02, model), PATH.TEST, \"llama3_70b_fewshot_optimized02\")\n"
   ]
  },
  {
   "cell_type": "code",
   "execution_count": 5,
   "metadata": {},
   "outputs": [
    {
     "name": "stderr",
     "output_type": "stream",
     "text": [
      "  0%|          | 0/1 [00:00<?, ?it/s]"
     ]
    }
   ],
   "source": [
    "df = run(exp, PATH.TEST, 1)"
   ]
  }
 ],
 "metadata": {
  "kernelspec": {
   "display_name": "Python 3 (ipykernel)",
   "language": "python",
   "name": "python3"
  },
  "language_info": {
   "codemirror_mode": {
    "name": "ipython",
    "version": 3
   },
   "file_extension": ".py",
   "mimetype": "text/x-python",
   "name": "python",
   "nbconvert_exporter": "python",
   "pygments_lexer": "ipython3",
   "version": "3.12.2"
  }
 },
 "nbformat": 4,
 "nbformat_minor": 4
}
