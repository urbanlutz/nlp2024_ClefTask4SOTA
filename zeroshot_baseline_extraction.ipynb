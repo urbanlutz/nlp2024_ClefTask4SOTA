{
 "cells": [
  {
   "cell_type": "code",
   "execution_count": null,
   "metadata": {
    "ExecuteTime": {
     "end_time": "2024-05-29T11:30:58.237348Z",
     "start_time": "2024-05-29T11:30:58.230029Z"
    }
   },
   "outputs": [],
   "source": [
    "import os\n",
    "if os.getcwd() == '/home/user/code':\n",
    "    os.chdir('/home/user/code/nlp2024_ClefTask4SOTA')"
   ]
  },
  {
   "cell_type": "code",
   "execution_count": null,
   "metadata": {
    "ExecuteTime": {
     "end_time": "2024-05-29T11:30:58.328235Z",
     "start_time": "2024-05-29T11:30:58.270590Z"
    }
   },
   "outputs": [],
   "source": [
    "from TexSoup import TexSoup\n",
    "import re\n",
    "from src.dataset import PATH, UNANSWERABLE\n",
    "from src.models import Model\n",
    "import json\n",
    "from src.content_extraction import all_sections\n",
    "\n",
    "def convert_tdms_to_tuple(model_output_parsed):\n",
    "    tuples = []\n",
    "    for item in model_output_parsed:\n",
    "        try:\n",
    "            t = ((item[\"Task\"], item[\"Dataset\"],item[\"Metric\"],item[\"Score\"]))\n",
    "            tuples.append(t)\n",
    "        except:\n",
    "            # parse error, ignore instance\n",
    "            pass\n",
    "    return tuples\n",
    "\n",
    "def format_tdms(tuples):\n",
    "    \"\"\"make unique, format as string\"\"\"\n",
    "    unique = set(tuples)\n",
    "    dicts = [{\"LEADERBOARD\": {\n",
    "        \"Task\": t,\n",
    "        \"Dataset\":d,\n",
    "        \"Metric\":m,\n",
    "        \"Score\":s\n",
    "    }} for t,d,m,s in unique]\n",
    "    return str(dicts)\n",
    "\n",
    "\n",
    "def section_wise_extraction(model: Model, prompt_template, tex):\n",
    "    \"\"\"takes a tex file, returns an annotation\"\"\"\n",
    "    found_tdms = []\n",
    "    sections = all_sections(str(tex))\n",
    "    for section_name, section_text in sections:\n",
    "        prompt = prompt_template(section_text)\n",
    "        response = model.generate(prompt)\n",
    "        response = \"[\"+ response.split('[', 1)[-1].rsplit(']', 1)[0] + \"]\"\n",
    "        try:\n",
    "            response = json.loads(response)\n",
    "            parsed = convert_tdms_to_tuple(response)\n",
    "            found_tdms= [*found_tdms, *parsed]\n",
    "        except:\n",
    "            pass # no tuples found in section\n",
    "\n",
    "    # print(found_tdms)\n",
    "    if not found_tdms:\n",
    "        annotation = UNANSWERABLE # found_tdms are empty -> unanswerable\n",
    "    else:\n",
    "        # dedupe and format\n",
    "        annotation = format_tdms(found_tdms)\n",
    "    return annotation"
   ]
  },
  {
   "cell_type": "code",
   "execution_count": null,
   "metadata": {
    "ExecuteTime": {
     "end_time": "2024-05-29T11:31:19.535135Z",
     "start_time": "2024-05-29T11:31:19.224134Z"
    }
   },
   "outputs": [],
   "source": [
    "from src.dataset import PATH\n",
    "from src.experiment_runner import Experiment, run\n",
    "from src.models import LLama\n",
    "\n",
    "from src.prompt_templates import few_shot_template_initial\n",
    "\n",
    "llama3_8b = LLama(\"llama3:8b\")\n",
    "exp = Experiment(llama3_8b, few_shot_template_initial, section_wise_extraction, \"llama3_8b_fewshot_initial\")\n",
    "\n",
    "# # Run on Test\n",
    "# df_test = run(lambda tex: section_wise_extraction(tex, zero_shot_template_initial, model), PATH.TEST, \"llama3_70b_zeroshot_initial\")\n",
    "# df_test = run(lambda tex: section_wise_extraction(tex, few_shot_template_initial, model), PATH.TEST, \"llama3_70b_fewshot_initial\")\n",
    "# df_test = run(lambda tex: section_wise_extraction(tex, zero_shot_template_optimized01, model), PATH.TEST, \"llama3_70b_zeroshot_optimized01\")\n",
    "# df_test = run(lambda tex: section_wise_extraction(tex, few_shot_template_optimized01, model), PATH.TEST, \"llama3_70b_fewshot_optimized01\")\n",
    "# df_test = run(lambda tex: section_wise_extraction(tex, zero_shot_template_optimized02, model), PATH.TEST, \"llama3_70b_zeroshot_optimized02\")\n",
    "# df_test = run(lambda tex: section_wise_extraction(tex, few_shot_template_optimized02, model), PATH.TEST, \"llama3_70b_fewshot_optimized02\")\n"
   ]
  },
  {
   "cell_type": "code",
   "execution_count": 5,
   "metadata": {},
   "outputs": [],
   "source": [
    "df = run(exp, PATH.TEST, 1)"
   ]
  }
 ],
 "metadata": {
  "kernelspec": {
   "display_name": "Python 3 (ipykernel)",
   "language": "python",
   "name": "python3"
  },
  "language_info": {
   "codemirror_mode": {
    "name": "ipython",
    "version": 3
   },
   "file_extension": ".py",
   "mimetype": "text/x-python",
   "name": "python",
   "nbconvert_exporter": "python",
   "pygments_lexer": "ipython3",
   "version": "3.12.2"
  }
 },
 "nbformat": 4,
 "nbformat_minor": 4
}
