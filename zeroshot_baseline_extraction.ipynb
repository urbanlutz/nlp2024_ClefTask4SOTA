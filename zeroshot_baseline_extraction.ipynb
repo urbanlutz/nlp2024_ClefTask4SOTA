{
 "cells": [
  {
   "cell_type": "code",
   "execution_count": 4,
   "metadata": {},
   "outputs": [],
   "source": [
    "import os\n",
    "if os.getcwd() == '/home/user/code':\n",
    "    os.chdir('/home/user/code/nlp2024_ClefTask4SOTA')"
   ]
  },
  {
   "cell_type": "code",
   "execution_count": null,
   "metadata": {},
   "outputs": [],
   "source": [
    "\n"
   ]
  },
  {
   "cell_type": "code",
   "execution_count": 5,
   "metadata": {},
   "outputs": [
    {
     "name": "stderr",
     "output_type": "stream",
     "text": [
      "<>:5: SyntaxWarning: invalid escape sequence '\\s'\n",
      "<>:5: SyntaxWarning: invalid escape sequence '\\s'\n",
      "C:\\Users\\urban\\AppData\\Local\\Temp\\ipykernel_145896\\3670686320.py:5: SyntaxWarning: invalid escape sequence '\\s'\n",
      "  return [match.group(1) for match in re.finditer(\"\\\\\\section\\{(.*)\\}\", tex)]\n"
     ]
    }
   ],
   "source": [
    "from TexSoup import TexSoup\n",
    "import re\n",
    "\n",
    "def find_sections(tex):\n",
    "    return [match.group(1) for match in re.finditer(\"\\\\\\section\\{(.*)\\}\", tex)]\n",
    "\n",
    "\n",
    "def extract_content(node, name):\n",
    "    if node:\n",
    "        return ((name, node.contents[0]))\n",
    "\n",
    "\n",
    "def section_split(tex):\n",
    "    \"\"\"returns: List of tuples (section_name, section_text)\"\"\"\n",
    "    doc_text = tex\n",
    "    sections = []\n",
    "    # parsing with TexSoup\n",
    "    # TODO: get rid of this and use regex only (brittle)\n",
    "    try:\n",
    "        soup = TexSoup(tex, tolerance=1)\n",
    "        if title:=extract_content(soup.title, \"title\"):\n",
    "            sections.append(title)\n",
    "        if abstract:=extract_content(soup.abstract, \"abstract\"):\n",
    "            sections.append(abstract)\n",
    "        sections.append((\"tables\", \"\\n\".join([str(node) for node in soup.find_all(\"table\")]))) if soup.find_all(\"table\") else None\n",
    "    except:\n",
    "        pass # could not parse tex\n",
    "\n",
    "    # extract latex sections and corresponding text\n",
    "    prev_section = \"pre\"\n",
    "\n",
    "    for section in find_sections(tex):\n",
    "        section_text, doc_text = doc_text.split(f\"\\\\section{{{section}}}\", 1)\n",
    "        sections.append((prev_section, section_text))\n",
    "        prev_section = section\n",
    "    sections.append((prev_section, doc_text))\n",
    "    return sections\n",
    "    # except:\n",
    "    #     return ((\"full\", tex))\n",
    "    \n"
   ]
  },
  {
   "cell_type": "code",
   "metadata": {
    "ExecuteTime": {
     "end_time": "2024-05-28T21:24:42.743959Z",
     "start_time": "2024-05-28T21:24:42.245703Z"
    }
   },
   "source": [
    "import ollama\n",
    "\n",
    "\n",
    "def pass_to_ollama(prompt, model):\n",
    "    try:\n",
    "        res = ollama.generate(model=model, prompt=prompt, options={\"temperature\": 0})\n",
    "        return res[\"response\"]\n",
    "    except Exception as ex:\n",
    "        print(ex)\n",
    "        return f\"ollama error: {ex}\"\n"
   ],
   "outputs": [],
   "execution_count": 1
  },
  {
   "cell_type": "code",
   "execution_count": 7,
   "metadata": {},
   "outputs": [],
   "source": [
    "import json\n",
    "\n",
    "from src.dataset import UNANSWERABLE\n",
    "\n",
    "\n",
    "# prompt template\n",
    "def extract_tdms(tex, few_shot=True):\n",
    "    if few_shot:\n",
    "        return f\"\"\"If the text reports benchmark leaderboard results, extract the reported Tasks, Datasets, Metrics and corresponding Scores.\n",
    "        \n",
    "        Text: {tex}\n",
    "        \n",
    "        Return the tasks, datasets, metrics and scores as reported in the text in a JSON array. Do not include precision information in the reported score.\n",
    "        Here the formating structure of the JSON. Please use exactly this formating in your answer.\n",
    "        [\n",
    "            {{\"Task\": \"example Task 1\", \"Dataset\": \"example Dataset 1\", \"Metric\": example metric 1\", \"Score\": \"score\"}}, \n",
    "            {{\"Task\": \"example Task 1\", \"Dataset\": \"example Dataset 2\", \"Metric\": example metric 2\", \"Score\": \"score\"}}\n",
    "        ]\n",
    "        \n",
    "        Lets make an example for you: Template-Based Automatic Search of Compact Semantic Segmentation Architectures... One discovered architecture achieves 63.2% mean IoU on CamVid and 67.8% on CityScapes having only 270K parameters... evaluation.\n",
    "        \n",
    "        The expected answer of you is:\n",
    "        [\n",
    "            {{\"Task\": \"Compact Sementic Segmentation\", \"Dataset\": \"CamVid\", \"Metric\": Mean IoU\", \"Score\": \"63.2\"}}, \n",
    "            {{\"Task\": \"Compact Sementic Segmentation\", \"Dataset\": \"CityScapes\", \"Metric\": Mean IoU\", \"Score\": \"67.8\"}}\n",
    "        ]\n",
    "        \n",
    "        \"\"\"\n",
    "    else:\n",
    "        return f\"\"\"If the text reports benchmark leaderboard results, extract the reported Tasks, Datasets, Metrics and corresponding Scores.\n",
    "        \n",
    "        Text: {tex}\n",
    "        \n",
    "        Return the tasks, datasets, metrics and scores as reported in the text in a JSON array. Do not include precision information in the reported score.\n",
    "        Here the formating structure of the JSON. Please use exactly this formating in your answer.\n",
    "        [\n",
    "            {{\"Task\": \"example Task 1\", \"Dataset\": \"example Dataset 1\", \"Metric\": example metric 1\", \"Score\": \"score\"}}, \n",
    "            {{\"Task\": \"example Task 1\", \"Dataset\": \"example Dataset 2\", \"Metric\": example metric 2\", \"Score\": \"score\"}}\n",
    "        ]\n",
    "        \n",
    "        \"\"\"\n",
    "\n",
    "zero_shot_template = lambda tex: extract_tdms(tex, False)\n",
    "few_shot_template = lambda tex: extract_tdms(tex, True)\n",
    "\n",
    "def convert_tdms_to_tuple(model_output_parsed):\n",
    "    tuples = []\n",
    "    for item in model_output_parsed:\n",
    "        try:\n",
    "            t = ((item[\"Task\"], item[\"Dataset\"],item[\"Metric\"],item[\"Score\"]))\n",
    "            tuples.append(t)\n",
    "        except:\n",
    "            # parse error, ignore instance\n",
    "            pass\n",
    "    return tuples\n",
    "\n",
    "def format_tdms(tuples):\n",
    "    \"\"\"make unique, format as string\"\"\"\n",
    "    unique = set(tuples)\n",
    "    dicts = [{\"LEADERBOARD\": {\n",
    "        \"Task\": t,\n",
    "        \"Dataset\":d,\n",
    "        \"Metric\":m,\n",
    "        \"Score\":s\n",
    "    }} for t,d,m,s in unique]\n",
    "    return str(dicts)\n",
    "\n",
    "\n",
    "def section_wise_extraction(tex, prompt_template, model):\n",
    "    \"\"\"takes a tex file, returns an annotation\"\"\"\n",
    "    found_tdms = []\n",
    "    sections = section_split(str(tex))\n",
    "    for section_name, section_text in sections:\n",
    "        prompt = prompt_template\n",
    "        response = pass_to_ollama(prompt, model)\n",
    "\n",
    "        try:\n",
    "            response = json.loads(response)\n",
    "            parsed = convert_tdms_to_tuple(response)\n",
    "            found_tdms= [*found_tdms, *parsed]\n",
    "        except:\n",
    "            pass # no tuples found in section\n",
    "\n",
    "    # print(found_tdms)\n",
    "    if not found_tdms:\n",
    "        annotation = UNANSWERABLE # found_tdms are empty -> unanswerable\n",
    "    else:\n",
    "        # dedupe and format\n",
    "        annotation = format_tdms(found_tdms)\n",
    "    return annotation"
   ]
  },
  {
   "cell_type": "code",
   "metadata": {
    "ExecuteTime": {
     "end_time": "2024-05-28T21:26:15.332803Z",
     "start_time": "2024-05-28T21:25:55.904381Z"
    }
   },
   "source": [
    "from src.dataset import PATH\n",
    "from src.experiment_runner import run\n",
    "from src.helper import get_file_content_as_string\n",
    "from src.helper import model_name_existing\n",
    "\n",
    "#Create Model\n",
    "model_list = ollama.list()\n",
    "model_name=\"llama3:8b\"\n",
    "if model_name_existing(model_list, model_name):\n",
    "    model = model_name\n",
    "else:\n",
    "    ollama.create(model=\"llama3:8b\", modelfile=get_file_content_as_string(\"src/modelfile_llama3_8b\"))\n",
    "\n",
    "# Run on Test\n",
    "df_test = run(lambda tex: section_wise_extraction(tex, zero_shot_template, model), PATH.TEST, \"llama3_70b_zeroshot\")\n",
    "df_test = run(lambda tex: section_wise_extraction(tex, few_shot_template, model), PATH.TEST, \"llama3_70b_fewshot\")\n"
   ],
   "outputs": [
    {
     "ename": "KeyboardInterrupt",
     "evalue": "",
     "output_type": "error",
     "traceback": [
      "\u001B[1;31m---------------------------------------------------------------------------\u001B[0m",
      "\u001B[1;31mKeyboardInterrupt\u001B[0m                         Traceback (most recent call last)",
      "Cell \u001B[1;32mIn[3], line 15\u001B[0m\n\u001B[0;32m     12\u001B[0m     ollama\u001B[38;5;241m.\u001B[39mcreate(model\u001B[38;5;241m=\u001B[39m\u001B[38;5;124m\"\u001B[39m\u001B[38;5;124mllama3:8b\u001B[39m\u001B[38;5;124m\"\u001B[39m, modelfile\u001B[38;5;241m=\u001B[39mget_file_content_as_string(\u001B[38;5;124m\"\u001B[39m\u001B[38;5;124msrc/modelfile_llama3_8b\u001B[39m\u001B[38;5;124m\"\u001B[39m))\n\u001B[0;32m     14\u001B[0m \u001B[38;5;66;03m# Run on Test\u001B[39;00m\n\u001B[1;32m---> 15\u001B[0m df_test \u001B[38;5;241m=\u001B[39m run(\u001B[38;5;28;01mlambda\u001B[39;00m tex: section_wise_extraction(tex, zero_shot_template, model), PATH\u001B[38;5;241m.\u001B[39mTEST, \u001B[38;5;124m\"\u001B[39m\u001B[38;5;124mllama3_70b_zeroshot\u001B[39m\u001B[38;5;124m\"\u001B[39m)\n\u001B[0;32m     16\u001B[0m df_test \u001B[38;5;241m=\u001B[39m run(\u001B[38;5;28;01mlambda\u001B[39;00m tex: section_wise_extraction(tex, few_shot_template, model), PATH\u001B[38;5;241m.\u001B[39mTEST, \u001B[38;5;124m\"\u001B[39m\u001B[38;5;124mllama3_70b_fewshot\u001B[39m\u001B[38;5;124m\"\u001B[39m)\n",
      "File \u001B[1;32m_pydevd_bundle\\\\pydevd_cython_win32_312_64.pyx:1187\u001B[0m, in \u001B[0;36m_pydevd_bundle.pydevd_cython_win32_312_64.SafeCallWrapper.__call__\u001B[1;34m()\u001B[0m\n",
      "File \u001B[1;32m_pydevd_bundle\\\\pydevd_cython_win32_312_64.pyx:627\u001B[0m, in \u001B[0;36m_pydevd_bundle.pydevd_cython_win32_312_64.PyDBFrame.trace_dispatch\u001B[1;34m()\u001B[0m\n",
      "File \u001B[1;32m_pydevd_bundle\\\\pydevd_cython_win32_312_64.pyx:1103\u001B[0m, in \u001B[0;36m_pydevd_bundle.pydevd_cython_win32_312_64.PyDBFrame.trace_dispatch\u001B[1;34m()\u001B[0m\n",
      "File \u001B[1;32m_pydevd_bundle\\\\pydevd_cython_win32_312_64.pyx:1061\u001B[0m, in \u001B[0;36m_pydevd_bundle.pydevd_cython_win32_312_64.PyDBFrame.trace_dispatch\u001B[1;34m()\u001B[0m\n",
      "File \u001B[1;32mC:\\Program Files\\JetBrains\\PyCharm 2024.1.1\\plugins\\python\\helpers-pro\\jupyter_debug\\pydev_jupyter_plugin.py:169\u001B[0m, in \u001B[0;36mstop\u001B[1;34m(plugin, pydb, frame, event, args, stop_info, arg, step_cmd)\u001B[0m\n\u001B[0;32m    167\u001B[0m     frame \u001B[38;5;241m=\u001B[39m suspend_jupyter(main_debugger, thread, frame, step_cmd)\n\u001B[0;32m    168\u001B[0m     \u001B[38;5;28;01mif\u001B[39;00m frame:\n\u001B[1;32m--> 169\u001B[0m         \u001B[43mmain_debugger\u001B[49m\u001B[38;5;241;43m.\u001B[39;49m\u001B[43mdo_wait_suspend\u001B[49m\u001B[43m(\u001B[49m\u001B[43mthread\u001B[49m\u001B[43m,\u001B[49m\u001B[43m \u001B[49m\u001B[43mframe\u001B[49m\u001B[43m,\u001B[49m\u001B[43m \u001B[49m\u001B[43mevent\u001B[49m\u001B[43m,\u001B[49m\u001B[43m \u001B[49m\u001B[43marg\u001B[49m\u001B[43m)\u001B[49m\n\u001B[0;32m    170\u001B[0m         \u001B[38;5;28;01mreturn\u001B[39;00m \u001B[38;5;28;01mTrue\u001B[39;00m\n\u001B[0;32m    171\u001B[0m \u001B[38;5;28;01mreturn\u001B[39;00m \u001B[38;5;28;01mFalse\u001B[39;00m\n",
      "File \u001B[1;32mC:\\Program Files\\JetBrains\\PyCharm 2024.1.1\\plugins\\python\\helpers\\pydev\\pydevd.py:1185\u001B[0m, in \u001B[0;36mPyDB.do_wait_suspend\u001B[1;34m(self, thread, frame, event, arg, send_suspend_message, is_unhandled_exception)\u001B[0m\n\u001B[0;32m   1182\u001B[0m         from_this_thread\u001B[38;5;241m.\u001B[39mappend(frame_id)\n\u001B[0;32m   1184\u001B[0m \u001B[38;5;28;01mwith\u001B[39;00m \u001B[38;5;28mself\u001B[39m\u001B[38;5;241m.\u001B[39m_threads_suspended_single_notification\u001B[38;5;241m.\u001B[39mnotify_thread_suspended(thread_id, stop_reason):\n\u001B[1;32m-> 1185\u001B[0m     \u001B[38;5;28;43mself\u001B[39;49m\u001B[38;5;241;43m.\u001B[39;49m\u001B[43m_do_wait_suspend\u001B[49m\u001B[43m(\u001B[49m\u001B[43mthread\u001B[49m\u001B[43m,\u001B[49m\u001B[43m \u001B[49m\u001B[43mframe\u001B[49m\u001B[43m,\u001B[49m\u001B[43m \u001B[49m\u001B[43mevent\u001B[49m\u001B[43m,\u001B[49m\u001B[43m \u001B[49m\u001B[43marg\u001B[49m\u001B[43m,\u001B[49m\u001B[43m \u001B[49m\u001B[43msuspend_type\u001B[49m\u001B[43m,\u001B[49m\u001B[43m \u001B[49m\u001B[43mfrom_this_thread\u001B[49m\u001B[43m)\u001B[49m\n",
      "File \u001B[1;32mC:\\Program Files\\JetBrains\\PyCharm 2024.1.1\\plugins\\python\\helpers\\pydev\\pydevd.py:1200\u001B[0m, in \u001B[0;36mPyDB._do_wait_suspend\u001B[1;34m(self, thread, frame, event, arg, suspend_type, from_this_thread)\u001B[0m\n\u001B[0;32m   1197\u001B[0m             \u001B[38;5;28mself\u001B[39m\u001B[38;5;241m.\u001B[39m_call_mpl_hook()\n\u001B[0;32m   1199\u001B[0m         \u001B[38;5;28mself\u001B[39m\u001B[38;5;241m.\u001B[39mprocess_internal_commands()\n\u001B[1;32m-> 1200\u001B[0m         \u001B[43mtime\u001B[49m\u001B[38;5;241;43m.\u001B[39;49m\u001B[43msleep\u001B[49m\u001B[43m(\u001B[49m\u001B[38;5;241;43m0.01\u001B[39;49m\u001B[43m)\u001B[49m\n\u001B[0;32m   1202\u001B[0m \u001B[38;5;28mself\u001B[39m\u001B[38;5;241m.\u001B[39mcancel_async_evaluation(get_current_thread_id(thread), \u001B[38;5;28mstr\u001B[39m(\u001B[38;5;28mid\u001B[39m(frame)))\n\u001B[0;32m   1204\u001B[0m \u001B[38;5;66;03m# process any stepping instructions\u001B[39;00m\n",
      "\u001B[1;31mKeyboardInterrupt\u001B[0m: "
     ]
    }
   ],
   "execution_count": 3
  }
 ],
 "metadata": {
  "kernelspec": {
   "display_name": "Python 3 (ipykernel)",
   "language": "python",
   "name": "python3"
  },
  "language_info": {
   "codemirror_mode": {
    "name": "ipython",
    "version": 3
   },
   "file_extension": ".py",
   "mimetype": "text/x-python",
   "name": "python",
   "nbconvert_exporter": "python",
   "pygments_lexer": "ipython3",
   "version": "3.12.2"
  }
 },
 "nbformat": 4,
 "nbformat_minor": 4
}
